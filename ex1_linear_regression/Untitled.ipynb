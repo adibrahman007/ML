{
 "cells": [
  {
   "cell_type": "code",
   "execution_count": null,
   "metadata": {
    "collapsed": false
   },
   "outputs": [],
   "source": [
    "#Before starting on any task, it is often useful to understand the data by visualizing it, two ways shown  below.\n",
    "\n",
    "##importing data and plotting it (without pandas)\n",
    "#import matplotlib.pyplot as plt\n",
    "#import csv\n",
    "\n",
    "#x=[]\n",
    "#y=[]\n",
    "\n",
    "#with open('ex1data1.txt','r') as csvfile:\n",
    "#    plots=csv.reader(csvfile, delimiter=',')\n",
    "#    for row in plots:\n",
    "#        x.append(float(row[0]))\n",
    "#        y.append(float(row[1]))\n",
    "\n",
    "# plt.scatter(x,y, label='Loaded from file!')\n",
    "# plt.xlabel('x')\n",
    "# plt.ylabel('y')\n",
    "# plt.title('imported withoud pandas \\nCheck it out')\n",
    "# plt.legend()\n",
    "#plt.show()\n",
    "########\n",
    "\n",
    "##import data and plot it (using pandas)\n",
    "import pandas as pd\n",
    "import matplotlib.pyplot as plt\n",
    "df=pd.read_csv('ex1data1.txt')\n",
    "\n",
    "plt.scatter(df['population'],df['profit'], label='Loaded from file!')\n",
    "plt.xlabel('x')\n",
    "plt.ylabel('y')\n",
    "plt.title('regression in one varibel \\n by use of batch gradient descent ')\n",
    "#plt.legend()\n",
    "#plt.show()\n",
    "#######\n",
    "\n",
    "\n",
    "\n",
    "###start implementing batch gradient descent. OLS in one variable\n",
    "def least_squares(df, theta0=0, theta1=0, alpha=0.01, iterations=1500):\n",
    "    x=df.population\n",
    "    y=df.profit\n",
    "    m=len(x)\n",
    "    #luckily x and y behaves as vectors, so summing becomes easy\n",
    "    cost=(1/(2*m))*sum((theta0 +theta1*x-y)**2)\n",
    "    cost_list=[]\n",
    "\n",
    "\n",
    "    for i in range(0, iterations):\n",
    "        theta0=theta0-alpha*sum(theta0+theta1*x-y)/m\n",
    "        theta1=theta1-alpha*sum((theta0+theta1*x-y)*x)/m\n",
    "        cost=(1/(2*m))*sum((theta0 +theta1*x-y)**2)\n",
    "        cost_list.append(cost)\n",
    "    return theta0,theta1, range(0, iterations), cost_list\n",
    "\n",
    "\n",
    "\n",
    "theta0, theta1, iterations_array, cost_list=least_squares(df)\n",
    "\n",
    "x=range(0, 25)\n",
    "y=[]\n",
    "for i in x:\n",
    "    y.append(theta0+theta1*i)\n",
    "\n",
    "plt.plot(x,y, label='regression')\n",
    "plt.legend()\n",
    "plt.show()\n",
    "\n",
    "plt.plot(iterations_array, cost_list, label='cost function against iterations')\n",
    "plt.title(\"the cost function is monotonically decreasing with iterations\")\n",
    "plt.xlabel('iterations')\n",
    "plt.ylabel('cost function')\n",
    "plt.legend()\n",
    "plt.show()\n"
   ]
  },
  {
   "cell_type": "code",
   "execution_count": null,
   "metadata": {
    "collapsed": false
   },
   "outputs": [],
   "source": [
    "import pandas as pd\n",
    "import matplotlib.pyplot as plt\n",
    "df=pd.read_csv('ex1data1.txt')\n",
    "\n",
    "plt.scatter(df['population'],df['profit'], label='Loaded from file!')\n",
    "plt.xlabel('x')\n",
    "plt.ylabel('y')\n",
    "plt.title('regression in one varibel \\n by use of batch gradient descent ')\n",
    "#plt.legend()\n",
    "#plt.show()\n",
    "#######\n",
    "\n",
    "\n",
    "\n",
    "###start implementing batch gradient descent. OLS in one variable\n",
    "def least_squares(df, theta0=0, theta1=0, alpha=0.01, iterations=1500):\n",
    "    x=df.population\n",
    "    y=df.profit\n",
    "    m=len(x)\n",
    "    #luckily x and y behaves as vectors, so summing becomes easy\n",
    "    cost=(1/(2*m))*sum((theta0 +theta1*x-y)**2)\n",
    "    cost_list=[]\n",
    "    theta0_list=[]\n",
    "    theta1_list=[]\n",
    "\n",
    "\n",
    "    for i in range(0, iterations):\n",
    "        theta0=theta0-alpha*sum(theta0+theta1*x-y)/m\n",
    "        theta1=theta1-alpha*sum((theta0+theta1*x-y)*x)/m\n",
    "        cost=(1/(2*m))*sum((theta0 +theta1*x-y)**2)\n",
    "        cost_list.append(cost)\n",
    "        theta0_list.append(theta0)\n",
    "        theta1_list.append(theta1)\n",
    "    return theta0,theta1, range(0, iterations), cost_list, theta0_list, theta1_list\n",
    "\n",
    "\n",
    "\n",
    "theta0, theta1, iterations_array, cost_list, theta0_list, theta1_list=least_squares(df)\n",
    "\n",
    "x=range(0, 25)\n",
    "y=[]\n",
    "for i in x:\n",
    "    y.append(theta0+theta1*i)\n",
    "\n",
    "#regression plot\n",
    "plt.plot(x,y, label='regression')\n",
    "plt.legend()\n",
    "plt.show()\n",
    "#\n",
    "# costfunction against iterations plot \n",
    "plt.plot(iterations_array, cost_list, label='cost function against iterations')\n",
    "plt.title(\"the cost function is monotonically decreasing with iterations\")\n",
    "plt.xlabel('iterations')\n",
    "plt.ylabel('cost function')\n",
    "plt.legend()\n",
    "plt.show()\n",
    "#\n",
    "#3d plot (shows tha descent that the algoritm has taken) - does not show the entire surface\n",
    "\n",
    "from mpl_toolkits.mplot3d import axes3d\n",
    "from matplotlib import style\n",
    "\n",
    "style.use('ggplot')\n",
    "fig = plt.figure()\n",
    "ax1 = fig.add_subplot(111, projection='3d')\n",
    "ax1.scatter(theta0_list, theta1_list, cost_list, c='g', marker='o')\n",
    "ax1.set_xlabel('theta0')\n",
    "ax1.set_ylabel('theta1')\n",
    "ax1.set_zlabel('costfunction')\n",
    "\n",
    "plt.show()"
   ]
  },
  {
   "cell_type": "code",
   "execution_count": null,
   "metadata": {
    "collapsed": false
   },
   "outputs": [],
   "source": [
    "style.use('ggplot')\n",
    "fig = plt.figure()\n",
    "ax1 = fig.add_subplot(111, projection='3d')\n",
    "ax1.plot_wireframe(theta0_list, theta1_list, cost_list)\n",
    "ax1.set_xlabel('theta0')\n",
    "ax1.set_ylabel('theta1')\n",
    "ax1.set_zlabel('costfunction')\n",
    "\n",
    "plt.show()"
   ]
  },
  {
   "cell_type": "code",
   "execution_count": null,
   "metadata": {
    "collapsed": false
   },
   "outputs": [],
   "source": [
    "df[1]"
   ]
  },
  {
   "cell_type": "code",
   "execution_count": null,
   "metadata": {
    "collapsed": false
   },
   "outputs": [],
   "source": [
    "df1=pd.read_csv('ex1data2.txt')\n"
   ]
  },
  {
   "cell_type": "code",
   "execution_count": null,
   "metadata": {
    "collapsed": true
   },
   "outputs": [],
   "source": [
    "import pandas as pd"
   ]
  },
  {
   "cell_type": "code",
   "execution_count": null,
   "metadata": {
    "collapsed": false
   },
   "outputs": [],
   "source": [
    "df1.size"
   ]
  },
  {
   "cell_type": "code",
   "execution_count": null,
   "metadata": {
    "collapsed": false
   },
   "outputs": [],
   "source": [
    "df1.price"
   ]
  },
  {
   "cell_type": "code",
   "execution_count": null,
   "metadata": {
    "collapsed": false
   },
   "outputs": [],
   "source": [
    "df1.size"
   ]
  },
  {
   "cell_type": "code",
   "execution_count": null,
   "metadata": {
    "collapsed": false
   },
   "outputs": [],
   "source": [
    "df1"
   ]
  },
  {
   "cell_type": "code",
   "execution_count": null,
   "metadata": {
    "collapsed": false
   },
   "outputs": [],
   "source": [
    "df1.size(feet)"
   ]
  },
  {
   "cell_type": "code",
   "execution_count": null,
   "metadata": {
    "collapsed": false
   },
   "outputs": [],
   "source": [
    "df1['size(feet)']"
   ]
  },
  {
   "cell_type": "code",
   "execution_count": null,
   "metadata": {
    "collapsed": false
   },
   "outputs": [],
   "source": [
    "df1"
   ]
  },
  {
   "cell_type": "code",
   "execution_count": null,
   "metadata": {
    "collapsed": false
   },
   "outputs": [],
   "source": [
    "df1['size'].std()"
   ]
  },
  {
   "cell_type": "code",
   "execution_count": null,
   "metadata": {
    "collapsed": false
   },
   "outputs": [],
   "source": [
    "df1_normalized=pd.DataFrame((df1['size']-df1['size'].mean())/df1['size'].std(),(df1['#bedrooms']-df1['#bedrooms'].mean())/df1['#bedrooms'].std(),(df1['price']-df1['price'].mean())/df1['price'].std())"
   ]
  },
  {
   "cell_type": "code",
   "execution_count": null,
   "metadata": {
    "collapsed": false
   },
   "outputs": [],
   "source": [
    "df1_normalized"
   ]
  },
  {
   "cell_type": "code",
   "execution_count": null,
   "metadata": {
    "collapsed": true
   },
   "outputs": [],
   "source": [
    "df1_normalized=pd.DataFrame((df1['size']-df1['size'].mean())/df1['size'].std())"
   ]
  },
  {
   "cell_type": "code",
   "execution_count": null,
   "metadata": {
    "collapsed": false
   },
   "outputs": [],
   "source": [
    "df1_normalized"
   ]
  },
  {
   "cell_type": "code",
   "execution_count": null,
   "metadata": {
    "collapsed": true
   },
   "outputs": [],
   "source": [
    "df1_normalized=pd.DataFrame((df1['#bedrooms']-df1['#bedrooms'].mean())/df1['#bedrooms'].std())"
   ]
  },
  {
   "cell_type": "code",
   "execution_count": null,
   "metadata": {
    "collapsed": false
   },
   "outputs": [],
   "source": [
    "df1_normalized"
   ]
  },
  {
   "cell_type": "code",
   "execution_count": null,
   "metadata": {
    "collapsed": true
   },
   "outputs": [],
   "source": [
    "size_series=(df1['size']-df1['size'].mean())/df1['size'].std()"
   ]
  },
  {
   "cell_type": "code",
   "execution_count": null,
   "metadata": {
    "collapsed": false
   },
   "outputs": [],
   "source": [
    "size_series"
   ]
  },
  {
   "cell_type": "code",
   "execution_count": null,
   "metadata": {
    "collapsed": false
   },
   "outputs": [],
   "source": [
    "type(size_series)"
   ]
  },
  {
   "cell_type": "code",
   "execution_count": null,
   "metadata": {
    "collapsed": true
   },
   "outputs": [],
   "source": [
    "bedroom_series=(df1['#bedrooms']-df1['#bedrooms'].mean())/df1['#bedrooms'].std()"
   ]
  },
  {
   "cell_type": "code",
   "execution_count": null,
   "metadata": {
    "collapsed": false
   },
   "outputs": [],
   "source": [
    "bedroom_series"
   ]
  },
  {
   "cell_type": "code",
   "execution_count": null,
   "metadata": {
    "collapsed": true
   },
   "outputs": [],
   "source": [
    "test=pd.DataFrame(size_series, bedroom_series)"
   ]
  },
  {
   "cell_type": "code",
   "execution_count": null,
   "metadata": {
    "collapsed": false
   },
   "outputs": [],
   "source": [
    "array(size_series)"
   ]
  },
  {
   "cell_type": "code",
   "execution_count": null,
   "metadata": {
    "collapsed": false
   },
   "outputs": [],
   "source": [
    "test=pd.concat([size_series.to_frame, bedroom_series.to_frame])"
   ]
  },
  {
   "cell_type": "code",
   "execution_count": null,
   "metadata": {
    "collapsed": false
   },
   "outputs": [],
   "source": [
    "size_series"
   ]
  },
  {
   "cell_type": "code",
   "execution_count": null,
   "metadata": {
    "collapsed": false
   },
   "outputs": [],
   "source": [
    "type(bedroom_series)"
   ]
  },
  {
   "cell_type": "code",
   "execution_count": null,
   "metadata": {
    "collapsed": false
   },
   "outputs": [],
   "source": [
    "test=pd.concat([size_series.to_frame, bedroom_series.to_frame])"
   ]
  },
  {
   "cell_type": "code",
   "execution_count": null,
   "metadata": {
    "collapsed": true
   },
   "outputs": [],
   "source": [
    "f1_normalized=pd.DataFrame((df1['#bedrooms']-df1['#bedrooms'].mean())/df1['#bedrooms'].std())\n"
   ]
  },
  {
   "cell_type": "code",
   "execution_count": null,
   "metadata": {
    "collapsed": false
   },
   "outputs": [],
   "source": [
    "f1_normalized.append(size_series.transpose, ignore_index=True)"
   ]
  },
  {
   "cell_type": "code",
   "execution_count": null,
   "metadata": {
    "collapsed": false
   },
   "outputs": [],
   "source": [
    "f1"
   ]
  },
  {
   "cell_type": "code",
   "execution_count": null,
   "metadata": {
    "collapsed": false
   },
   "outputs": [],
   "source": [
    "f1_normalized\n"
   ]
  },
  {
   "cell_type": "code",
   "execution_count": null,
   "metadata": {
    "collapsed": false
   },
   "outputs": [],
   "source": [
    "size_series.to_frame"
   ]
  },
  {
   "cell_type": "code",
   "execution_count": null,
   "metadata": {
    "collapsed": true
   },
   "outputs": [],
   "source": [
    "test=pd.concat([size_series.to_frame(), bedroom_series.to_frame()])"
   ]
  },
  {
   "cell_type": "code",
   "execution_count": null,
   "metadata": {
    "collapsed": false
   },
   "outputs": [],
   "source": [
    "test"
   ]
  },
  {
   "cell_type": "code",
   "execution_count": null,
   "metadata": {
    "collapsed": false
   },
   "outputs": [],
   "source": [
    "bedroom_series.to_frame()"
   ]
  },
  {
   "cell_type": "code",
   "execution_count": null,
   "metadata": {
    "collapsed": false
   },
   "outputs": [],
   "source": [
    "df1['#bedrooms']=(df1['#bedrooms']-df1['#bedrooms'].mean())/df1['#bedrooms'].std()\n"
   ]
  },
  {
   "cell_type": "code",
   "execution_count": null,
   "metadata": {
    "collapsed": false
   },
   "outputs": [],
   "source": [
    "df1"
   ]
  },
  {
   "cell_type": "code",
   "execution_count": null,
   "metadata": {
    "collapsed": true
   },
   "outputs": [],
   "source": [
    "import pandas as pd\n",
    "df1=pd.read_csv('ex1data2.txt')\n",
    "\n",
    "size_series=(df1['size']-df1['size'].mean())/df1['size'].std()\n",
    "bedrooms_series=(df1['#bedrooms']-df1['#bedrooms'].mean())/df1['#bedrooms'].std()\n",
    "price_series=(df1['price']-df1['price'].mean())/df1['price'].std()\n",
    "\n",
    "df1['size']=size_series\n",
    "df1['#bedrooms']=bedrooms_series\n",
    "df1['price']=price_series"
   ]
  },
  {
   "cell_type": "code",
   "execution_count": null,
   "metadata": {
    "collapsed": false
   },
   "outputs": [],
   "source": [
    "df1"
   ]
  },
  {
   "cell_type": "code",
   "execution_count": null,
   "metadata": {
    "collapsed": false
   },
   "outputs": [],
   "source": [
    "len(df1.columns)"
   ]
  },
  {
   "cell_type": "code",
   "execution_count": null,
   "metadata": {
    "collapsed": false
   },
   "outputs": [],
   "source": [
    "type(df1.columns[0])"
   ]
  },
  {
   "cell_type": "code",
   "execution_count": null,
   "metadata": {
    "collapsed": true
   },
   "outputs": [],
   "source": [
    "import pandas as pd\n",
    "df1=pd.read_csv('ex1data2.txt')"
   ]
  },
  {
   "cell_type": "code",
   "execution_count": null,
   "metadata": {
    "collapsed": false
   },
   "outputs": [],
   "source": [
    "def multivariate_regression(df, theta0=0, theta1=0, alpha=0.01, iterations=1500):\n",
    "\n",
    "    column_names=df.columns\n",
    "    for i in range(0,len(column_names)):\n",
    "        column_name=column_names[i]\n",
    "        df[column_name]=(df1[column_name]-df1[column_name].mean())/df1[column_name].std()"
   ]
  },
  {
   "cell_type": "code",
   "execution_count": null,
   "metadata": {
    "collapsed": false
   },
   "outputs": [],
   "source": [
    "df1"
   ]
  },
  {
   "cell_type": "code",
   "execution_count": null,
   "metadata": {
    "collapsed": true
   },
   "outputs": [],
   "source": [
    "multivariate_regression(df1)"
   ]
  },
  {
   "cell_type": "code",
   "execution_count": null,
   "metadata": {
    "collapsed": false
   },
   "outputs": [],
   "source": [
    "df1"
   ]
  },
  {
   "cell_type": "code",
   "execution_count": null,
   "metadata": {
    "collapsed": true
   },
   "outputs": [],
   "source": [
    "df1['intercept']=1\n"
   ]
  },
  {
   "cell_type": "code",
   "execution_count": null,
   "metadata": {
    "collapsed": false
   },
   "outputs": [],
   "source": [
    "df1"
   ]
  },
  {
   "cell_type": "code",
   "execution_count": null,
   "metadata": {
    "collapsed": true
   },
   "outputs": [],
   "source": [
    "col=df1.columns.tolist()"
   ]
  },
  {
   "cell_type": "code",
   "execution_count": null,
   "metadata": {
    "collapsed": false
   },
   "outputs": [],
   "source": [
    "col"
   ]
  },
  {
   "cell_type": "code",
   "execution_count": null,
   "metadata": {
    "collapsed": false
   },
   "outputs": [],
   "source": [
    "df1=df1[col[-1:] + col[:-1]]"
   ]
  },
  {
   "cell_type": "code",
   "execution_count": null,
   "metadata": {
    "collapsed": false
   },
   "outputs": [],
   "source": [
    "col[:-1]"
   ]
  },
  {
   "cell_type": "code",
   "execution_count": null,
   "metadata": {
    "collapsed": false
   },
   "outputs": [],
   "source": [
    "df1"
   ]
  },
  {
   "cell_type": "code",
   "execution_count": null,
   "metadata": {
    "collapsed": true
   },
   "outputs": [],
   "source": [
    "import pandas as pd\n",
    "df1=pd.read_csv('ex1data2.txt')\n",
    "def multivariate_regression(df, theta0=0, theta1=0, alpha=0.01, iterations=1500):\n",
    "\n",
    "    column_names=df.columns.tolist()\n",
    "    #mean normalization\n",
    "    for i in range(0,len(column_names)):\n",
    "        column_name=column_names[i]\n",
    "        df[column_name]=(df1[column_name]-df1[column_name].mean())/df1[column_name].std()\n",
    "\n",
    "    #intercept with 1's\n",
    "    df['intercept']=1\n",
    "    column_names=column_names[-1:]+ column_names[:-1]\n",
    "    print(column_names)\n",
    "    df1=df[column_names]    "
   ]
  },
  {
   "cell_type": "code",
   "execution_count": null,
   "metadata": {
    "collapsed": false
   },
   "outputs": [],
   "source": [
    "multivariate_regression(df1)"
   ]
  },
  {
   "cell_type": "code",
   "execution_count": null,
   "metadata": {
    "collapsed": false
   },
   "outputs": [],
   "source": [
    "import pandas as pd\n",
    "df1=pd.read_csv('ex1data2.txt')\n",
    "def multivariate_regression(df, theta0=0, theta1=0, alpha=0.01, iterations=1500):\n",
    "\n",
    "    column_names=df.columns.tolist()\n",
    "    #mean normalization\n",
    "    for i in range(0,len(column_names)):\n",
    "        column_name=column_names[i]\n",
    "        df[column_name]=(df1[column_name]-df[column_name].mean())/df[column_name].std()\n",
    "\n",
    "    #intercept with 1's\n",
    "    df['intercept']=1\n",
    "    column_names=column_names[-1:]+ column_names[:-1]\n",
    "    print(column_names)\n",
    "    df=df[column_names]"
   ]
  },
  {
   "cell_type": "code",
   "execution_count": null,
   "metadata": {
    "collapsed": false
   },
   "outputs": [],
   "source": [
    "multivariate_regression(df1)"
   ]
  },
  {
   "cell_type": "code",
   "execution_count": null,
   "metadata": {
    "collapsed": false
   },
   "outputs": [],
   "source": [
    "df=pd.read_csv('ex1data2.txt')"
   ]
  },
  {
   "cell_type": "code",
   "execution_count": null,
   "metadata": {
    "collapsed": true
   },
   "outputs": [],
   "source": [
    "multivariate_regression(df)"
   ]
  },
  {
   "cell_type": "code",
   "execution_count": null,
   "metadata": {
    "collapsed": false
   },
   "outputs": [],
   "source": [
    "df"
   ]
  },
  {
   "cell_type": "code",
   "execution_count": null,
   "metadata": {
    "collapsed": true
   },
   "outputs": [],
   "source": [
    "import pandas as pd\n",
    "df1=pd.read_csv('ex1data2.txt')\n",
    "def multivariate_regression(df, theta0=0, theta1=0, alpha=0.01, iterations=1500):\n",
    "\n",
    "    column_names=df.columns.tolist()\n",
    "    #mean normalization\n",
    "    for i in range(0,len(column_names)):\n",
    "        column_name=column_names[i]\n",
    "        df[column_name]=(df1[column_name]-df[column_name].mean())/df[column_name].std()\n",
    "\n",
    "    #intercept with 1's\n",
    "    df['intercept']=1\n",
    "    column_names=['intercept']+ column_names\n",
    "    print(column_names)\n",
    "    df=df[column_names]\n",
    "    return df"
   ]
  },
  {
   "cell_type": "code",
   "execution_count": null,
   "metadata": {
    "collapsed": false
   },
   "outputs": [],
   "source": [
    "multivariate_regression(df1)"
   ]
  },
  {
   "cell_type": "code",
   "execution_count": null,
   "metadata": {
    "collapsed": false
   },
   "outputs": [],
   "source": [
    "df1[['intercept', 'size', '#bedrooms', 'price']]"
   ]
  },
  {
   "cell_type": "code",
   "execution_count": null,
   "metadata": {
    "collapsed": false
   },
   "outputs": [],
   "source": [
    "df"
   ]
  },
  {
   "cell_type": "code",
   "execution_count": null,
   "metadata": {
    "collapsed": false
   },
   "outputs": [],
   "source": [
    "len(df1.intercept)"
   ]
  },
  {
   "cell_type": "code",
   "execution_count": null,
   "metadata": {
    "collapsed": true
   },
   "outputs": [],
   "source": [
    "a=pd.Series(range(0,12))"
   ]
  },
  {
   "cell_type": "code",
   "execution_count": null,
   "metadata": {
    "collapsed": false
   },
   "outputs": [],
   "source": [
    "a"
   ]
  },
  {
   "cell_type": "code",
   "execution_count": null,
   "metadata": {
    "collapsed": false
   },
   "outputs": [],
   "source": [
    "type(df1.price)"
   ]
  },
  {
   "cell_type": "code",
   "execution_count": null,
   "metadata": {
    "collapsed": false
   },
   "outputs": [],
   "source": [
    "['intercept','price']+['price']"
   ]
  },
  {
   "cell_type": "code",
   "execution_count": null,
   "metadata": {
    "collapsed": true
   },
   "outputs": [],
   "source": [
    "import pandas as pd\n",
    "df1=pd.read_csv('ex1data2.txt')\n",
    "def multivariate_regression(df, alpha=0.01, iterations=1500,Y_name='price'):\n",
    "\n",
    "\n",
    "    column_names=df.columns.tolist()\n",
    "    #mean normalization\n",
    "    for i in range(0,len(column_names)):\n",
    "        column_name=column_names[i]\n",
    "        df[column_name]=(df1[column_name]-df[column_name].mean())/df[column_name].std()\n",
    "\n",
    "    #filll X with intercept with 1's so that we can smoothtly use matrix algebra\n",
    "    df['intercept']=1\n",
    "    column_names=['intercept']+ column_names\n",
    "    column_names.remove(Y_name)\n",
    "    X_df=df[column_names]\n",
    "    Y_series=df[Y_name]\n",
    "\n",
    "\n",
    "    m=len(df['intercept'])\n",
    "    #initialize thetas\n",
    "    theta_list=[]\n",
    "    for i in column_names:\n",
    "        theta_list.append(0)\n",
    "\n",
    "    theta_series=pd.Series(theta_list)\n",
    "\n",
    "    print(X_df)\n",
    "    print(Y_series)\n",
    "    print(theta_series)"
   ]
  },
  {
   "cell_type": "code",
   "execution_count": null,
   "metadata": {
    "collapsed": false
   },
   "outputs": [],
   "source": [
    "multivariate_regression(df1)"
   ]
  },
  {
   "cell_type": "code",
   "execution_count": null,
   "metadata": {
    "collapsed": false
   },
   "outputs": [],
   "source": [
    "pd.Series(df1.price)"
   ]
  },
  {
   "cell_type": "code",
   "execution_count": null,
   "metadata": {
    "collapsed": false
   },
   "outputs": [],
   "source": [
    "df1"
   ]
  },
  {
   "cell_type": "code",
   "execution_count": null,
   "metadata": {
    "collapsed": true
   },
   "outputs": [],
   "source": [
    "import pandas as pd\n",
    "df1=pd.read_csv('ex1data2.txt')\n",
    "def multivariate_regression(df, alpha=0.01, iterations=1500,Y_name='price'):\n",
    "    df1=df\n",
    "\n",
    "    column_names=df1.columns.tolist()\n",
    "    #mean normalization\n",
    "    for i in range(0,len(column_names)):\n",
    "        column_name=column_names[i]\n",
    "        df1[column_name]=(df1[column_name]-df1[column_name].mean())/df1[column_name].std()\n",
    "\n",
    "    #filll X with intercept with 1's so that we can smoothtly use matrix algebra\n",
    "    df1['intercept']=1\n",
    "    column_names=['intercept']+ column_names\n",
    "    #split the data into a X dataFrame and a y series\n",
    "    column_names.remove(Y_name)\n",
    "    X_df=df[column_names]\n",
    "    Y_series=df[Y_name]\n",
    "\n",
    "\n",
    "    m=len(df['intercept'])\n",
    "    #initialize thetas\n",
    "    theta_list=[]\n",
    "    for i in column_names:\n",
    "        theta_list.append(0)\n",
    "\n",
    "    theta_series=pd.Series(theta_list)\n",
    "\n",
    "    print(X_df)\n",
    "    #print(Y_series)\n",
    "    print(theta_series)\n",
    "    import pdb; pdb.set_trace()\n",
    "    return X_df.dot(theta_series)\n"
   ]
  },
  {
   "cell_type": "code",
   "execution_count": null,
   "metadata": {
    "collapsed": false
   },
   "outputs": [],
   "source": [
    "multivariate_regression(df1)"
   ]
  },
  {
   "cell_type": "code",
   "execution_count": null,
   "metadata": {
    "collapsed": true
   },
   "outputs": [],
   "source": [
    "test=pd.Series([0,0,0])"
   ]
  },
  {
   "cell_type": "code",
   "execution_count": null,
   "metadata": {
    "collapsed": false
   },
   "outputs": [],
   "source": [
    "test"
   ]
  },
  {
   "cell_type": "code",
   "execution_count": null,
   "metadata": {
    "collapsed": false
   },
   "outputs": [],
   "source": [
    "test.transpose()==test"
   ]
  },
  {
   "cell_type": "code",
   "execution_count": null,
   "metadata": {
    "collapsed": false
   },
   "outputs": [],
   "source": [
    "X_df"
   ]
  },
  {
   "cell_type": "code",
   "execution_count": null,
   "metadata": {
    "collapsed": true
   },
   "outputs": [],
   "source": [
    "import pandas as pd\n",
    "df1=pd.read_csv('ex1data2.txt')\n",
    "def multivariate_regression(df, alpha=0.01, iterations=1500,Y_name='price'):\n",
    "    df1=df\n",
    "\n",
    "    column_names=df1.columns.tolist()\n",
    "    #mean normalization\n",
    "    for i in range(0,len(column_names)):\n",
    "        column_name=column_names[i]\n",
    "        df1[column_name]=(df1[column_name]-df1[column_name].mean())/df1[column_name].std()\n",
    "\n",
    "    #filll X with intercept with 1's so that we can smoothtly use matrix algebra\n",
    "    df1['intercept']=1\n",
    "    column_names=['intercept']+ column_names\n",
    "    #split the data into a X dataFrame and a y series\n",
    "    column_names.remove(Y_name)\n",
    "    X_df=df[column_names]\n",
    "    Y_series=df[Y_name]\n",
    "\n",
    "\n",
    "    m=len(df['intercept'])\n",
    "    #initialize thetas\n",
    "    theta_list=[]\n",
    "    for i in column_names:\n",
    "        theta_list.append(0)\n",
    "\n",
    "    theta_series=pd.Series(theta_list)\n",
    "\n",
    "    print(X_df)\n",
    "    #print(Y_series)\n",
    "    print(theta_series)\n",
    "    import pdb; pdb.set_trace()\n",
    "    return X_df.dot(theta_series)"
   ]
  },
  {
   "cell_type": "code",
   "execution_count": null,
   "metadata": {
    "collapsed": false
   },
   "outputs": [],
   "source": [
    "multivariate_regression(df1)"
   ]
  },
  {
   "cell_type": "code",
   "execution_count": null,
   "metadata": {
    "collapsed": true
   },
   "outputs": [],
   "source": [
    "import pandas as pd\n",
    "df1=pd.read_csv('ex1data2.txt')\n",
    "def multivariate_regression(df, alpha=0.01, iterations=1500,Y_name='price'):\n",
    "    df1=df\n",
    "\n",
    "    column_names=df1.columns.tolist()\n",
    "    #mean normalization\n",
    "    for i in range(0,len(column_names)):\n",
    "        column_name=column_names[i]\n",
    "        df1[column_name]=(df1[column_name]-df1[column_name].mean())/df1[column_name].std()\n",
    "\n",
    "    #filll X with intercept with 1's so that we can smoothtly use matrix algebra\n",
    "    df1['intercept']=1\n",
    "    column_names=['intercept']+ column_names\n",
    "    #split the data into a X dataFrame and a y series\n",
    "    column_names.remove(Y_name)\n",
    "    X_df=df[column_names]\n",
    "    Y_series=df[Y_name]\n",
    "\n",
    "\n",
    "    m=len(df['intercept'])\n",
    "    #initialize thetas\n",
    "    theta_list=[]\n",
    "    for i in column_names:\n",
    "        theta_list.append(0)\n",
    "\n",
    "    theta_series=pd.Series(theta_list)\n",
    "\n",
    "    #as_matrix has to be done on the series becuse othervise the .dot method does not work!!!!\n",
    "    import pdb; pdb.set_trace()\n",
    "    common_vector=(X_df.dot(theta_series.as_matrix)-Y_series)/m\n",
    "    derivatives=[]\n",
    "    for column_name in column_names:\n",
    "        derivative=common_vector.dot(X.df[column_name].as_matrix)\n",
    "\n",
    "    return derivatives    "
   ]
  },
  {
   "cell_type": "code",
   "execution_count": null,
   "metadata": {
    "collapsed": false
   },
   "outputs": [],
   "source": [
    "multivariate_regression(df1)"
   ]
  },
  {
   "cell_type": "code",
   "execution_count": null,
   "metadata": {
    "collapsed": true
   },
   "outputs": [],
   "source": [
    "import pandas as pd\n",
    "df1=pd.read_csv('ex1data2.txt')\n",
    "def multivariate_regression(df, alpha=0.01, iterations=1500,Y_name='price'):\n",
    "    df1=df\n",
    "\n",
    "    column_names=df1.columns.tolist()\n",
    "    #mean normalization\n",
    "    for i in range(0,len(column_names)):\n",
    "        column_name=column_names[i]\n",
    "        df1[column_name]=(df1[column_name]-df1[column_name].mean())/df1[column_name].std()\n",
    "\n",
    "    #filll X with intercept with 1's so that we can smoothtly use matrix algebra\n",
    "    df1['intercept']=1\n",
    "    column_names=['intercept']+ column_names\n",
    "    #split the data into a X dataFrame and a y series\n",
    "    column_names.remove(Y_name)\n",
    "    X_df=df[column_names]\n",
    "    Y_series=df[Y_name]\n",
    "\n",
    "\n",
    "    m=len(df['intercept'])\n",
    "    #initialize thetas\n",
    "    theta_list=[]\n",
    "    for i in column_names:\n",
    "        theta_list.append(0)\n",
    "\n",
    "    theta_series=pd.Series(theta_list)\n",
    "\n",
    "    #as_matrix has to be done on the series becuse othervise the .dot method does not work!!!!\n",
    "    import pdb; pdb.set_trace()\n",
    "    common_vector=(X_df.dot(theta_series.as_matrix)-Y_series)/m\n",
    "    derivatives=[]\n",
    "    for column_name in column_names:\n",
    "        derivative=common_vector.dot(X.df[column_name].as_matrix)\n",
    "\n",
    "    return derivatives    "
   ]
  },
  {
   "cell_type": "code",
   "execution_count": null,
   "metadata": {
    "collapsed": false
   },
   "outputs": [],
   "source": [
    "multivariate_regression(df1)"
   ]
  },
  {
   "cell_type": "code",
   "execution_count": null,
   "metadata": {
    "collapsed": true
   },
   "outputs": [],
   "source": [
    "X_dfs"
   ]
  },
  {
   "cell_type": "code",
   "execution_count": null,
   "metadata": {
    "collapsed": true
   },
   "outputs": [],
   "source": []
  },
  {
   "cell_type": "code",
   "execution_count": null,
   "metadata": {
    "collapsed": true
   },
   "outputs": [],
   "source": [
    "import pandas as pd\n",
    "df1=pd.read_csv('ex1data2.txt')\n",
    "def multivariate_regression(df, alpha=0.01, iterations=1500,Y_name='price'):\n",
    "    df1=df\n",
    "\n",
    "    column_names=df1.columns.tolist()\n",
    "    #mean normalization\n",
    "    for i in range(0,len(column_names)):\n",
    "        column_name=column_names[i]\n",
    "        df1[column_name]=(df1[column_name]-df1[column_name].mean())/df1[column_name].std()\n",
    "\n",
    "    #filll X with intercept with 1's so that we can smoothtly use matrix algebra\n",
    "    df1['intercept']=1\n",
    "    column_names=['intercept']+ column_names\n",
    "    #split the data into a X dataFrame and a y series\n",
    "    column_names.remove(Y_name)\n",
    "    X_df=df[column_names]\n",
    "    Y_series=df[Y_name]\n",
    "\n",
    "\n",
    "    m=len(df['intercept'])\n",
    "    #initialize thetas\n",
    "    theta_list=[]\n",
    "    for i in column_names:\n",
    "        theta_list.append(0)\n",
    "\n",
    "    theta_series=pd.Series(theta_list)\n",
    "\n",
    "    #as_matrix has to be done on the series becuse othervise the .dot method does not work!!!!\n",
    "\n",
    "    common_vector=(X_df.dot(theta_series.as_matrix())-Y_series)/m\n",
    "    derivatives=[]\n",
    "    for column_name in column_names:\n",
    "        derivative=common_vector.dot(X_df[column_name].as_matrix())\n",
    "        derivatives.append(derivative)\n",
    "    return derivatives"
   ]
  },
  {
   "cell_type": "code",
   "execution_count": null,
   "metadata": {
    "collapsed": false
   },
   "outputs": [],
   "source": [
    "multivariate_regression(df1)"
   ]
  },
  {
   "cell_type": "code",
   "execution_count": null,
   "metadata": {
    "collapsed": true
   },
   "outputs": [],
   "source": [
    "import pandas as pd\n",
    "df1=pd.read_csv('ex1data2.txt')\n",
    "def multivariate_regression(df, alpha=0.01, iterations=1500,Y_name='price'):\n",
    "    df1=df\n",
    "\n",
    "    column_names=df1.columns.tolist()\n",
    "    #mean normalization\n",
    "    for i in range(0,len(column_names)):\n",
    "        column_name=column_names[i]\n",
    "        df1[column_name]=(df1[column_name]-df1[column_name].mean())/df1[column_name].std()\n",
    "\n",
    "    #filll X with intercept with 1's so that we can smoothtly use matrix algebra\n",
    "    df1['intercept']=1\n",
    "    column_names=['intercept']+ column_names\n",
    "    #split the data into a X dataFrame and a y series\n",
    "    column_names.remove(Y_name)\n",
    "    X_df=df[column_names]\n",
    "    Y_series=df[Y_name]\n",
    "\n",
    "\n",
    "    m=len(df['intercept'])\n",
    "    #initialize thetas\n",
    "    theta_list=[]\n",
    "    for i in column_names:\n",
    "        theta_list.append(0)\n",
    "\n",
    "    theta_series=pd.Series(theta_list)\n",
    "\n",
    "    #as_matrix has to be done on the series becuse othervise the .dot method does not work!!!!\n",
    "\n",
    "    common_vector=(X_df.dot(theta_series.as_matrix())-Y_series)/m\n",
    "    cost=sum((common_vector**2)/2)\n",
    "    derivatives=[]\n",
    "    for column_name in column_names:\n",
    "        derivative=common_vector.dot(X_df[column_name].as_matrix())\n",
    "        derivatives.append(derivative)\n",
    "    return cost    "
   ]
  },
  {
   "cell_type": "code",
   "execution_count": null,
   "metadata": {
    "collapsed": false
   },
   "outputs": [],
   "source": [
    "multivariate_regression(df1)"
   ]
  },
  {
   "cell_type": "code",
   "execution_count": null,
   "metadata": {
    "collapsed": true
   },
   "outputs": [],
   "source": [
    "import pandas as pd\n",
    "df1=pd.read_csv('ex1data2.txt')\n",
    "def multivariate_regression(df, alpha=0.01, iterations=1500,Y_name='price'):\n",
    "    df1=df\n",
    "\n",
    "    column_names=df1.columns.tolist()\n",
    "    #mean normalization\n",
    "    for i in range(0,len(column_names)):\n",
    "        column_name=column_names[i]\n",
    "        df1[column_name]=(df1[column_name]-df1[column_name].mean())/df1[column_name].std()\n",
    "\n",
    "    #filll X with intercept with 1's so that we can smoothtly use matrix algebra\n",
    "    df1['intercept']=1\n",
    "    column_names=['intercept']+ column_names\n",
    "    #split the data into a X dataFrame and a y series\n",
    "    column_names.remove(Y_name)\n",
    "    X_df=df[column_names]\n",
    "    Y_series=df[Y_name]\n",
    "\n",
    "\n",
    "    m=len(df['intercept'])\n",
    "    #initialize thetas\n",
    "    theta_list=[]\n",
    "    for i in column_names:\n",
    "        theta_list.append(0)\n",
    "\n",
    "    theta_series=pd.Series(theta_list)\n",
    "\n",
    "    #as_matrix has to be done on the series becuse othervise the .dot method does not work!!!!\n",
    "\n",
    "    common_vector=(X_df.dot(theta_series.as_matrix())-Y_series)/m\n",
    "    cost=sum((common_vector**2)/2)\n",
    "    derivatives=[]\n",
    "    for column_name in column_names:\n",
    "        derivative=common_vector.dot(X_df[column_name].as_matrix())\n",
    "        derivatives.append(derivative)\n",
    "\n",
    "    #so inital derivatives calculated\n",
    "    #todo: compute inital cost function       , updating rule, stopping condition\n",
    "\n",
    "    import pdb; pdb.set_trace()\n",
    "    for i in range(0,iterations):\n",
    "        print(theta_series)\n",
    "        for j in range(0, len(theta_series)):\n",
    "            theta_series[j]=theta_series[j]-alpha*derivatives[j]\n",
    "    \n",
    "    return theta_series"
   ]
  },
  {
   "cell_type": "code",
   "execution_count": null,
   "metadata": {
    "collapsed": false
   },
   "outputs": [],
   "source": [
    "multivariate_regression(df1)"
   ]
  },
  {
   "cell_type": "code",
   "execution_count": null,
   "metadata": {
    "collapsed": true
   },
   "outputs": [],
   "source": [
    "import pandas as pd\n",
    "df1=pd.read_csv('ex1data2.txt')\n",
    "\n",
    "def multivariate_regression(df, alpha=0.01, iterations=1500,Y_name='price'):\n",
    "    df1=df\n",
    "\n",
    "    column_names=df1.columns.tolist()\n",
    "    #mean normalization\n",
    "    for i in range(0,len(column_names)):\n",
    "        column_name=column_names[i]\n",
    "        df1[column_name]=(df1[column_name]-df1[column_name].mean())/df1[column_name].std()\n",
    "\n",
    "    #filll X with intercept with 1's so that we can smoothly use matrix algebra\n",
    "    df1['intercept']=1\n",
    "    column_names=['intercept']+ column_names\n",
    "    #split the data into a X dataFrame and a y series\n",
    "    column_names.remove(Y_name)\n",
    "    X_df=df[column_names]\n",
    "    Y_series=df[Y_name]\n",
    "\n",
    "    #m -training examples\n",
    "    m=len(df['intercept'])\n",
    "    #initialize thetas with 0's\n",
    "    theta_list=[]\n",
    "    for i in column_names:\n",
    "        theta_list.append(0)\n",
    "\n",
    "    theta_series=pd.Series(theta_list)\n",
    "\n",
    "    #as_matrix has to be done on the series becuse othervise the .dot method does not work!!!!\n",
    "\n",
    "    common_vector=(X_df.dot(theta_series.as_matrix())-Y_series)/m\n",
    "\n",
    "    cost=sum(X_df.dot(theta_series.as_matrix())-Y_series)/(m*2)\n",
    "    print(\"sum is {x}\".format(cost))\n",
    "    derivatives=[]\n",
    "    for column_name in column_names:\n",
    "        derivative=common_vector.dot(X_df[column_name].as_matrix())\n",
    "        derivatives.append(derivative)\n",
    "\n",
    "    #so inital derivatives calculated\n",
    "    #todo: compute inital cost function       , updating rule, stopping condition\n",
    "\n",
    "    #import pdb; pdb.set_trace()\n",
    "    for i in iterations:\n",
    "        for j in range(0, len(theta_series)):\n",
    "            theta_series[j]=theta_series[j]-alpha*derivatives[j]\n",
    "\n",
    "    return theta_series"
   ]
  },
  {
   "cell_type": "code",
   "execution_count": null,
   "metadata": {
    "collapsed": false
   },
   "outputs": [],
   "source": [
    "multivariable_regression(df1)"
   ]
  },
  {
   "cell_type": "code",
   "execution_count": null,
   "metadata": {
    "collapsed": false
   },
   "outputs": [],
   "source": [
    "multivariate_regression(df1)"
   ]
  },
  {
   "cell_type": "code",
   "execution_count": null,
   "metadata": {
    "collapsed": true
   },
   "outputs": [],
   "source": [
    "import pandas as pd\n",
    "df1=pd.read_csv('ex1data2.txt')\n",
    "\n",
    "def multivariate_regression(df, alpha=0.01, iterations=1500,Y_name='price'):\n",
    "    df1=df\n",
    "\n",
    "    column_names=df1.columns.tolist()\n",
    "    #mean normalization\n",
    "    for i in range(0,len(column_names)):\n",
    "        column_name=column_names[i]\n",
    "        df1[column_name]=(df1[column_name]-df1[column_name].mean())/df1[column_name].std()\n",
    "\n",
    "    #filll X with intercept with 1's so that we can smoothly use matrix algebra\n",
    "    df1['intercept']=1\n",
    "    column_names=['intercept']+ column_names\n",
    "    #split the data into a X dataFrame and a y series\n",
    "    column_names.remove(Y_name)\n",
    "    X_df=df[column_names]\n",
    "    Y_series=df[Y_name]\n",
    "\n",
    "    #m -training examples\n",
    "    m=len(df['intercept'])\n",
    "    #initialize thetas with 0's\n",
    "    theta_list=[]\n",
    "    for i in column_names:\n",
    "        theta_list.append(0)\n",
    "\n",
    "    theta_series=pd.Series(theta_list)\n",
    "\n",
    "    #as_matrix has to be done on the series becuse othervise the .dot method does not work!!!!\n",
    "\n",
    "    common_vector=(X_df.dot(theta_series.as_matrix())-Y_series)/m\n",
    "    import pdb; pdb.set_trace()\n",
    "    cost=sum(X_df.dot(theta_series.as_matrix())-Y_series)/(m*2)\n",
    "    print(cost)\n",
    "    print('>>>')\n",
    "    derivatives=[]\n",
    "    for column_name in column_names:\n",
    "        derivative=common_vector.dot(X_df[column_name].as_matrix())\n",
    "        derivatives.append(derivative)\n",
    "\n",
    "    #so inital derivatives calculated\n",
    "    #todo: compute inital cost function       , updating rule, stopping condition\n",
    "\n",
    "    #import pdb; pdb.set_trace()\n",
    "    for i in iterations:\n",
    "        for j in range(0, len(theta_series)):\n",
    "            theta_series[j]=theta_series[j]-alpha*derivatives[j]\n",
    "\n",
    "    return theta_series"
   ]
  },
  {
   "cell_type": "code",
   "execution_count": null,
   "metadata": {
    "collapsed": false
   },
   "outputs": [],
   "source": [
    "mulivariate_regression(df1)"
   ]
  },
  {
   "cell_type": "code",
   "execution_count": null,
   "metadata": {
    "collapsed": false
   },
   "outputs": [],
   "source": [
    "multivariate_regression(df1)"
   ]
  },
  {
   "cell_type": "code",
   "execution_count": null,
   "metadata": {
    "collapsed": true
   },
   "outputs": [],
   "source": [
    "import pandas as pd\n",
    "df1=pd.read_csv('ex1data2.txt')\n",
    "def multivariate_regression(df, alpha=0.01, iterations=1500,Y_name='price'):\n",
    "    df1=df\n",
    "\n",
    "    column_names=df1.columns.tolist()\n",
    "    #mean normalization\n",
    "    for i in range(0,len(column_names)):\n",
    "        column_name=column_names[i]\n",
    "        df1[column_name]=(df1[column_name]-df1[column_name].mean())/df1[column_name].std()\n",
    "\n",
    "    #filll X with intercept with 1's so that we can smoothly use matrix algebra\n",
    "    df1['intercept']=1\n",
    "    column_names=['intercept']+ column_names\n",
    "    #split the data into a X dataFrame and a y series\n",
    "    column_names.remove(Y_name)\n",
    "    X_df=df[column_names]\n",
    "    Y_series=df[Y_name]\n",
    "\n",
    "    #m -training examples\n",
    "    m=len(df['intercept'])\n",
    "    #initialize thetas with 0's\n",
    "    theta_list=[]\n",
    "    for i in column_names:\n",
    "        theta_list.append(0)\n",
    "\n",
    "    theta_series=pd.Series(theta_list)\n",
    "\n",
    "    #as_matrix has to be done on the series becuse othervise the .dot method does not work!!!!\n",
    "\n",
    "    common_vector=(X_df.dot(theta_series.as_matrix())-Y_series)/m\n",
    "\n",
    "    cost=sum((X_df.dot(theta_series.as_matrix())-Y_series)**2)/(m*2)\n",
    "    import pdb; pdb.set_trace()\n",
    "    print(cost)\n",
    "    derivatives=[]\n",
    "    for column_name in column_names:\n",
    "        derivative=common_vector.dot(X_df[column_name].as_matrix())\n",
    "        derivatives.append(derivative)\n",
    "\n",
    "    #so inital derivatives calculated\n",
    "    #todo: compute inital cost function       , updating rule, stopping condition\n",
    "\n",
    "    #import pdb; pdb.set_trace()\n",
    "    for i in iterations:\n",
    "        for j in range(0, len(theta_series)):\n",
    "            theta_series[j]=theta_series[j]-alpha*derivatives[j]\n",
    "\n",
    "    return theta_series"
   ]
  },
  {
   "cell_type": "code",
   "execution_count": null,
   "metadata": {
    "collapsed": false
   },
   "outputs": [],
   "source": [
    "multivariate_regression(df1)"
   ]
  },
  {
   "cell_type": "code",
   "execution_count": null,
   "metadata": {
    "collapsed": true
   },
   "outputs": [],
   "source": [
    "import pandas as pd\n",
    "df1=pd.read_csv('ex1data2.txt')\n",
    "def multivariate_regression(df, alpha=0.01, iterations=1500,Y_name='price'):\n",
    "    df1=df\n",
    "\n",
    "    column_names=df1.columns.tolist()\n",
    "\n",
    "    #split the data into a X dataFrame and a y series\n",
    "    column_names.remove(Y_name)\n",
    "    X_df=df1[column_names]\n",
    "    Y_series=df1[Y_name]\n",
    "\n",
    "    #mean normalization\n",
    "    for column_name in column_names:\n",
    "        df1[column_name]=(df1[column_name]-df1[column_name].mean())/df1[column_name].std()\n",
    "\n",
    "\n",
    "    #filll X with intercept with 1's so that we can smoothly use matrix algebra AND update column_names\n",
    "    df1['intercept']=1\n",
    "    column_names=['intercept']+ column_names\n",
    "\n",
    "\n",
    "    #m -training examples\n",
    "    m=len(df['intercept'])\n",
    "    #initialize thetas with 0's\n",
    "    theta_list=[]\n",
    "    for i in column_names:\n",
    "        theta_list.append(0)\n",
    "\n",
    "    theta_series=pd.Series(theta_list)\n",
    "\n",
    "    #as_matrix has to be done on the series becuse othervise the .dot method does not work!!!!\n",
    "\n",
    "    common_vector=(X_df.dot(theta_series.as_matrix())-Y_series)/m\n",
    "\n",
    "    cost=sum((X_df.dot(theta_series.as_matrix())-Y_series)**2)/(m*2)\n",
    "    print(cost)\n",
    "    derivatives=[]\n",
    "    for column_name in column_names:\n",
    "        derivative=common_vector.dot(X_df[column_name].as_matrix())\n",
    "        derivatives.append(derivative)\n",
    "\n",
    "    #so inital derivatives calculated\n",
    "    #todo: compute inital cost function       , updating rule, stopping condition\n",
    "\n",
    "    #import pdb; pdb.set_trace()\n",
    "    for i in iterations:\n",
    "        for j in range(0, len(theta_series)):\n",
    "            theta_series[j]=theta_series[j]-alpha*derivatives[j]\n",
    "\n",
    "    return theta_series"
   ]
  },
  {
   "cell_type": "code",
   "execution_count": null,
   "metadata": {
    "collapsed": false
   },
   "outputs": [],
   "source": [
    "multivariate_regression(df1)"
   ]
  },
  {
   "cell_type": "code",
   "execution_count": null,
   "metadata": {
    "collapsed": true
   },
   "outputs": [],
   "source": [
    "import pandas as pd\n",
    "df1=pd.read_csv('ex1data2.txt')\n",
    "def multivariate_regression(df, alpha=0.01, iterations=1500,Y_name='price'):\n",
    "    df1=df\n",
    "\n",
    "    column_names=df1.columns.tolist()\n",
    "\n",
    "    #split the data into a X dataFrame and a y series\n",
    "    column_names.remove(Y_name)\n",
    "    X_df=df1[column_names]\n",
    "    Y_series=df1[Y_name]\n",
    "\n",
    "    #mean normalization\n",
    "    for column_name in column_names:\n",
    "        X_df[column_name]=(X_df[column_name]-X_df[column_name].mean())/X_df[column_name].std()\n",
    "\n",
    "\n",
    "    #filll X with intercept with 1's so that we can smoothly use matrix algebra AND update column_names\n",
    "    X_df['intercept']=1\n",
    "    column_names=['intercept']+ column_names\n",
    "\n",
    "\n",
    "    #m -training examples\n",
    "    m=len(df['intercept'])\n",
    "    #initialize thetas with 0's\n",
    "    theta_list=[]\n",
    "    for i in column_names:\n",
    "        theta_list.append(0)\n",
    "\n",
    "    theta_series=pd.Series(theta_list)\n",
    "\n",
    "    #as_matrix has to be done on the series becuse othervise the .dot method does not work!!!!\n",
    "\n",
    "    common_vector=(X_df.dot(theta_series.as_matrix())-Y_series)/m\n",
    "\n",
    "    cost=sum((X_df.dot(theta_series.as_matrix())-Y_series)**2)/(m*2)\n",
    "    print(cost)\n",
    "    derivatives=[]\n",
    "    for column_name in column_names:\n",
    "        derivative=common_vector.dot(X_df[column_name].as_matrix())\n",
    "        derivatives.append(derivative)\n",
    "\n",
    "    #so inital derivatives calculated\n",
    "    #todo: compute inital cost function       , updating rule, stopping condition\n",
    "\n",
    "    #import pdb; pdb.set_trace()\n",
    "    for i in iterations:\n",
    "        for j in range(0, len(theta_series)):\n",
    "            theta_series[j]=theta_series[j]-alpha*derivatives[j]\n",
    "\n",
    "    return theta_series"
   ]
  },
  {
   "cell_type": "code",
   "execution_count": null,
   "metadata": {
    "collapsed": false
   },
   "outputs": [],
   "source": [
    "multivariate_regression(df1)"
   ]
  },
  {
   "cell_type": "code",
   "execution_count": null,
   "metadata": {
    "collapsed": true
   },
   "outputs": [],
   "source": [
    "import pandas as pd\n",
    "df1=pd.read_csv('ex1data2.txt')\n",
    "def multivariate_regression(df, alpha=0.01, iterations=1500,Y_name='price'):\n",
    "    df1=df\n",
    "\n",
    "    column_names=df1.columns.tolist()\n",
    "\n",
    "    #split the data into a X dataFrame and a y series\n",
    "    column_names.remove(Y_name)\n",
    "    X_df=df1[column_names]\n",
    "    Y_series=df1[Y_name]\n",
    "\n",
    "    #mean normalization\n",
    "    for column_name in column_names:\n",
    "        X_df[column_name]=(X_df[column_name]-X_df[column_name].mean())/X_df[column_name].std()\n",
    "\n",
    "\n",
    "    #filll X with intercept with 1's so that we can smoothly use matrix algebra AND update column_names\n",
    "    X_df['intercept']=1\n",
    "    column_names=['intercept']+ column_names\n",
    "\n",
    "\n",
    "    #m -training examples\n",
    "    m=len(X_df['intercept'])\n",
    "    #initialize thetas with 0's\n",
    "    theta_list=[]\n",
    "    for i in column_names:\n",
    "        theta_list.append(0)\n",
    "\n",
    "    theta_series=pd.Series(theta_list)\n",
    "\n",
    "    #as_matrix has to be done on the series becuse othervise the .dot method does not work!!!!\n",
    "\n",
    "    common_vector=(X_df.dot(theta_series.as_matrix())-Y_series)/m\n",
    "\n",
    "    cost=sum((X_df.dot(theta_series.as_matrix())-Y_series)**2)/(m*2)\n",
    "    print(cost)\n",
    "    derivatives=[]\n",
    "    for column_name in column_names:\n",
    "        derivative=common_vector.dot(X_df[column_name].as_matrix())\n",
    "        derivatives.append(derivative)\n",
    "\n",
    "    #so inital derivatives calculated\n",
    "    #todo: compute inital cost function       , updating rule, stopping condition\n",
    "\n",
    "    #import pdb; pdb.set_trace()\n",
    "    for i in iterations:\n",
    "        for j in range(0, len(theta_series)):\n",
    "            theta_series[j]=theta_series[j]-alpha*derivatives[j]\n",
    "\n",
    "    return theta_series"
   ]
  },
  {
   "cell_type": "code",
   "execution_count": null,
   "metadata": {
    "collapsed": false
   },
   "outputs": [],
   "source": [
    "multivariate_regression(df1) "
   ]
  },
  {
   "cell_type": "code",
   "execution_count": null,
   "metadata": {
    "collapsed": true
   },
   "outputs": [],
   "source": [
    "import pandas as pd\n",
    "df1=pd.read_csv('ex1data2.txt')\n",
    "def multivariate_regression(df, alpha=0.01, iterations=1500,Y_name='price'):\n",
    "    df1=df\n",
    "\n",
    "    column_names=df1.columns.tolist()\n",
    "\n",
    "    #split the data into a X dataFrame and a y series\n",
    "    column_names.remove(Y_name)\n",
    "    X_df=df1[column_names]\n",
    "    Y_series=df1[Y_name]\n",
    "\n",
    "    #mean normalization\n",
    "    for column_name in column_names:\n",
    "        X_df[column_name]=(X_df[column_name]-X_df[column_name].mean())/X_df[column_name].std()\n",
    "\n",
    "\n",
    "    #filll X with intercept with 1's so that we can smoothly use matrix algebra AND update column_names\n",
    "    X_df['intercept']=1\n",
    "    column_names=['intercept']+ column_names\n",
    "\n",
    "\n",
    "    #m -training examples\n",
    "    m=len(X_df['intercept'])\n",
    "    #initialize thetas with 0's\n",
    "    theta_list=[]\n",
    "    for i in column_names:\n",
    "        theta_list.append(0)\n",
    "\n",
    "    theta_series=pd.Series(theta_list)\n",
    "\n",
    "    #as_matrix has to be done on the series becuse othervise the .dot method does not work!!!!\n",
    "\n",
    "    common_vector=(X_df.dot(theta_series.as_matrix())-Y_series)/m\n",
    "\n",
    "    cost=sum((X_df.dot(theta_series.as_matrix())-Y_series)**2)/(m*2)\n",
    "    \n",
    "    derivatives=[]\n",
    "    for column_name in column_names:\n",
    "        derivative=common_vector.dot(X_df[column_name].as_matrix())\n",
    "        derivatives.append(derivative)\n",
    "\n",
    "    #so inital derivatives calculated\n",
    "    #todo: compute inital cost function       , updating rule, stopping condition\n",
    "\n",
    "    #import pdb; pdb.set_trace()\n",
    "    for i in iterations:\n",
    "        for j in range(0, len(theta_series)):\n",
    "            theta_series[j]=theta_series[j]-alpha*derivatives[j]\n",
    "\n",
    "    return theta_series"
   ]
  },
  {
   "cell_type": "code",
   "execution_count": null,
   "metadata": {
    "collapsed": false
   },
   "outputs": [],
   "source": [
    "multivariate_regression(df1)"
   ]
  },
  {
   "cell_type": "code",
   "execution_count": null,
   "metadata": {
    "collapsed": true
   },
   "outputs": [],
   "source": [
    "import pandas as pd\n",
    "df1=pd.read_csv('ex1data2.txt')\n",
    "def multivariate_regression(df, alpha=0.01, iterations=1500,Y_name='price'):\n",
    "    df1=df\n",
    "\n",
    "    column_names=df1.columns.tolist()\n",
    "\n",
    "    #split the data into a X dataFrame and a y series\n",
    "    column_names.remove(Y_name)\n",
    "    X_df=df1[column_names]\n",
    "    Y_series=df1[Y_name]\n",
    "\n",
    "    #mean normalization\n",
    "    for column_name in column_names:\n",
    "        X_df[column_name]=(X_df[column_name]-X_df[column_name].mean())/X_df[column_name].std()\n",
    "\n",
    "\n",
    "    #filll X with intercept with 1's so that we can smoothly use matrix algebra AND update column_names\n",
    "    X_df['intercept']=1\n",
    "    column_names=['intercept']+ column_names\n",
    "\n",
    "\n",
    "    #m -training examples\n",
    "    m=len(X_df['intercept'])\n",
    "    #initialize thetas with 0's\n",
    "    theta_list=[]\n",
    "    for i in column_names:\n",
    "        theta_list.append(0)\n",
    "\n",
    "    theta_series=pd.Series(theta_list)\n",
    "\n",
    "    #as_matrix has to be done on the series becuse othervise the .dot method does not work!!!!\n",
    "\n",
    "    common_vector=(X_df.dot(theta_series.as_matrix())-Y_series)/m\n",
    "\n",
    "    cost=sum((X_df.dot(theta_series.as_matrix())-Y_series)**2)/(m*2)\n",
    "\n",
    "    derivatives=[]\n",
    "    for column_name in column_names:\n",
    "        derivative=common_vector.dot(X_df[column_name].as_matrix())\n",
    "        derivatives.append(derivative)\n",
    "\n",
    "    #so inital derivatives calculated\n",
    "    #todo: compute inital cost function       , updating rule, stopping condition\n",
    "\n",
    "    #import pdb; pdb.set_trace()\n",
    "    for i in range(0,iterations):\n",
    "        for theta in theta_series:\n",
    "            theta_series[theta]=theta_series[theta]-alpha*derivatives[theta]\n",
    "\n",
    "    return theta_series"
   ]
  },
  {
   "cell_type": "code",
   "execution_count": null,
   "metadata": {
    "collapsed": false
   },
   "outputs": [],
   "source": [
    "multivariate_regression(df1)"
   ]
  },
  {
   "cell_type": "code",
   "execution_count": null,
   "metadata": {
    "collapsed": true
   },
   "outputs": [],
   "source": [
    "import pandas as pd\n",
    "df1=pd.read_csv('ex1data2.txt')\n",
    "def multivariate_regression(df, alpha=0.01, iterations=1500,Y_name='price'):\n",
    "    df1=df\n",
    "\n",
    "    column_names=df1.columns.tolist()\n",
    "\n",
    "    #split the data into a X dataFrame and a y series\n",
    "    column_names.remove(Y_name)\n",
    "    X_df=df1[column_names]\n",
    "    Y_series=df1[Y_name]\n",
    "\n",
    "    #mean normalization\n",
    "    for column_name in column_names:\n",
    "        X_df[column_name]=(X_df[column_name]-X_df[column_name].mean())/X_df[column_name].std()\n",
    "\n",
    "\n",
    "    #filll X with intercept with 1's so that we can smoothly use matrix algebra AND update column_names\n",
    "    X_df['intercept']=1\n",
    "    column_names=['intercept']+ column_names\n",
    "\n",
    "\n",
    "    #m -training examples\n",
    "    m=len(X_df['intercept'])\n",
    "    #initialize thetas with 0's\n",
    "    theta_list=[]\n",
    "    for i in column_names:\n",
    "        theta_list.append(0)\n",
    "\n",
    "    theta_series=pd.Series(theta_list)\n",
    "\n",
    "    #as_matrix has to be done on the series becuse othervise the .dot method does not work!!!!\n",
    "\n",
    "    common_vector=(X_df.dot(theta_series.as_matrix())-Y_series)/m\n",
    "\n",
    "    cost=sum((X_df.dot(theta_series.as_matrix())-Y_series)**2)/(m*2)\n",
    "\n",
    "    derivatives=[]\n",
    "    for column_name in column_names:\n",
    "        derivative=common_vector.dot(X_df[column_name].as_matrix())\n",
    "        derivatives.append(derivative)\n",
    "\n",
    "    #so inital derivatives calculated\n",
    "    #todo: compute inital cost function       , updating rule, stopping condition\n",
    "\n",
    "    #import pdb; pdb.set_trace()\n",
    "    for i in range(0,iterations):\n",
    "        for j in range(0, len(theta_series)):\n",
    "            theta_series[j]=theta_series[j]-alpha*derivatives[j]\n",
    "\n",
    "    return theta_series.as_matrix()"
   ]
  },
  {
   "cell_type": "code",
   "execution_count": null,
   "metadata": {
    "collapsed": false
   },
   "outputs": [],
   "source": [
    "multivariate_regression(df1)"
   ]
  },
  {
   "cell_type": "code",
   "execution_count": null,
   "metadata": {
    "collapsed": false
   },
   "outputs": [],
   "source": [
    "test=multivariate_regression(df1)"
   ]
  },
  {
   "cell_type": "code",
   "execution_count": null,
   "metadata": {
    "collapsed": false
   },
   "outputs": [],
   "source": [
    "test[0]"
   ]
  },
  {
   "cell_type": "code",
   "execution_count": null,
   "metadata": {
    "collapsed": true
   },
   "outputs": [],
   "source": [
    "def f(*args):\n",
    "    return args"
   ]
  },
  {
   "cell_type": "code",
   "execution_count": null,
   "metadata": {
    "collapsed": false
   },
   "outputs": [],
   "source": [
    "f(1,2,3,4)"
   ]
  },
  {
   "cell_type": "code",
   "execution_count": null,
   "metadata": {
    "collapsed": false
   },
   "outputs": [],
   "source": [
    "a=f(1,2,3,4)"
   ]
  },
  {
   "cell_type": "code",
   "execution_count": null,
   "metadata": {
    "collapsed": false
   },
   "outputs": [],
   "source": [
    "type(a)"
   ]
  },
  {
   "cell_type": "code",
   "execution_count": null,
   "metadata": {
    "collapsed": false
   },
   "outputs": [],
   "source": [
    "len(a)"
   ]
  },
  {
   "cell_type": "code",
   "execution_count": null,
   "metadata": {
    "collapsed": false
   },
   "outputs": [],
   "source": [
    "a.prepend(2)\n"
   ]
  },
  {
   "cell_type": "code",
   "execution_count": null,
   "metadata": {
    "collapsed": true
   },
   "outputs": [],
   "source": [
    "b=list(a)"
   ]
  },
  {
   "cell_type": "code",
   "execution_count": null,
   "metadata": {
    "collapsed": false
   },
   "outputs": [],
   "source": [
    "b.prepend(1)"
   ]
  },
  {
   "cell_type": "code",
   "execution_count": null,
   "metadata": {
    "collapsed": false
   },
   "outputs": [],
   "source": [
    "b.inser(0,2)"
   ]
  },
  {
   "cell_type": "code",
   "execution_count": null,
   "metadata": {
    "collapsed": true
   },
   "outputs": [],
   "source": [
    "b.insert(0,3)"
   ]
  },
  {
   "cell_type": "code",
   "execution_count": null,
   "metadata": {
    "collapsed": false
   },
   "outputs": [],
   "source": [
    "b"
   ]
  },
  {
   "cell_type": "code",
   "execution_count": null,
   "metadata": {
    "collapsed": true
   },
   "outputs": [],
   "source": [
    "def multivariate_predictor(siz,bedrooms):\n",
    "        \n",
    "        siz_normal=(siz-df1['size'].mean())/df1['size'].std()\n",
    "        bedrooms_normal=(bedrooms-df1['#bedrooms'].mean())/df1['#bedrooms'].std()\n",
    "        \n",
    "        arguments_array=np.array([1, siz_normal, bedrooms_normal])\n",
    "        \n",
    "        theta_series=multivariate_regression(df1)\n",
    "        \n",
    "        return np.dot(arguments_array,theta_series.T)"
   ]
  },
  {
   "cell_type": "code",
   "execution_count": null,
   "metadata": {
    "collapsed": false
   },
   "outputs": [],
   "source": [
    "multivariate_predictor(1650,3)"
   ]
  },
  {
   "cell_type": "code",
   "execution_count": null,
   "metadata": {
    "collapsed": true
   },
   "outputs": [],
   "source": [
    "import numpy as np"
   ]
  },
  {
   "cell_type": "code",
   "execution_count": null,
   "metadata": {
    "collapsed": true
   },
   "outputs": [],
   "source": [
    "import pandas as pd\n",
    "import numpy as np\n",
    "df1=pd.read_csv('ex1data2.txt')\n",
    "\n",
    "# size_series=(df1['size']-df1['size'].mean())/df1['size'].std()\n",
    "# bedrooms_series=(df1['#bedrooms']-df1['#bedrooms'].mean())/df1['#bedrooms'].std()\n",
    "#\n",
    "# df1['size']=size_series\n",
    "# df1['#bedrooms']=bedrooms_series\n",
    "\n",
    "\n",
    "#below is general, including the mean normalization\n",
    "def multivariate_regression(df, alpha=0.01, iterations=1500,Y_name='price'):\n",
    "    df1=df\n",
    "\n",
    "    column_names=df1.columns.tolist()\n",
    "\n",
    "    #split the data into a X dataFrame and a y series\n",
    "    column_names.remove(Y_name)\n",
    "    X_df=df1[column_names]\n",
    "    Y_series=df1[Y_name]\n",
    "\n",
    "    #mean normalization\n",
    "    for column_name in column_names:\n",
    "        X_df[column_name]=(X_df[column_name]-X_df[column_name].mean())/X_df[column_name].std()\n",
    "\n",
    "\n",
    "    #filll X with intercept with 1's so that we can smoothly use matrix algebra AND update column_names\n",
    "    X_df['intercept']=1\n",
    "    column_names=['intercept']+ column_names\n",
    "\n",
    "\n",
    "    #m -training examples\n",
    "    m=len(X_df['intercept'])\n",
    "    #initialize thetas with 0's\n",
    "    theta_list=[]\n",
    "    for i in column_names:\n",
    "        theta_list.append(0)\n",
    "\n",
    "    theta_series=pd.Series(theta_list)\n",
    "\n",
    "    #as_matrix has to be done on the series becuse othervise the .dot method does not work!!!!\n",
    "\n",
    "    common_vector=(X_df.dot(theta_series.as_matrix())-Y_series)/m\n",
    "\n",
    "    cost=sum((X_df.dot(theta_series.as_matrix())-Y_series)**2)/(m*2)\n",
    "\n",
    "    derivatives=[]\n",
    "    for column_name in column_names:\n",
    "        derivative=common_vector.dot(X_df[column_name].as_matrix())\n",
    "        derivatives.append(derivative)\n",
    "\n",
    "    #so inital derivatives calculated\n",
    "    #todo: compute inital cost function       , updating rule, stopping condition\n",
    "\n",
    "    #import pdb; pdb.set_trace()\n",
    "    for i in range(0,iterations):\n",
    "        for j in range(0, len(theta_series)):\n",
    "            theta_series[j]=theta_series[j]-alpha*derivatives[j]\n",
    "\n",
    "    return theta_series.as_matrix()\n",
    "\n",
    "        #outputs 0    5106000\n",
    "#1    1569000\n",
    "#2     811500\n",
    "#dtype: int64\n",
    "#now, is reasonable at a first glance. almost done, but need to verify more.\n",
    "\n",
    "###lesson: load with pandas, but when doing the matrix operations convert it first.\n",
    "    def multivariate_predictor(siz,bedrooms):\n",
    "\n",
    "        siz_normal=(siz-df1['size'].mean())/df1['size'].std()\n",
    "        bedrooms_normal=(bedrooms-df1['#bedrooms'].mean())/df1['#bedrooms'].std()\n",
    "\n",
    "        arguments_array=np.array([1, siz_normal, bedrooms_normal])\n",
    "\n",
    "        theta_series=multivariate_regression(df1)\n",
    "\n",
    "        return np.dot(arguments_array,theta_series.T)\n"
   ]
  },
  {
   "cell_type": "code",
   "execution_count": null,
   "metadata": {
    "collapsed": false
   },
   "outputs": [],
   "source": [
    "multivariate_predictor(1650,3)"
   ]
  },
  {
   "cell_type": "code",
   "execution_count": null,
   "metadata": {
    "collapsed": false
   },
   "outputs": [],
   "source": [
    "df1"
   ]
  },
  {
   "cell_type": "code",
   "execution_count": null,
   "metadata": {
    "collapsed": false
   },
   "outputs": [],
   "source": [
    "multivariate_predictor(1650,3)"
   ]
  },
  {
   "cell_type": "code",
   "execution_count": null,
   "metadata": {
    "collapsed": true
   },
   "outputs": [],
   "source": [
    "def multivariate_regression(df, alpha=0.01, iterations=1500,Y_name='price'):\n",
    "    df1=df\n",
    "\n",
    "    column_names=df1.columns.tolist()\n",
    "\n",
    "    #split the data into a X dataFrame and a y series\n",
    "    column_names.remove(Y_name)\n",
    "    X_df=df1[column_names]\n",
    "    Y_series=df1[Y_name]\n",
    "\n",
    "    #mean normalization\n",
    "    for column_name in column_names:\n",
    "        X_df[column_name]=(X_df[column_name]-X_df[column_name].mean())/X_df[column_name].std()\n",
    "\n",
    "\n",
    "    #filll X with intercept with 1's so that we can smoothly use matrix algebra AND update column_names\n",
    "    X_df['intercept']=1\n",
    "    column_names=['intercept']+ column_names\n",
    "\n",
    "\n",
    "    #m -training examples\n",
    "    m=len(X_df['intercept'])\n",
    "    #initialize thetas with 0's\n",
    "    theta_list=[]\n",
    "    for i in column_names:\n",
    "        theta_list.append(0)\n",
    "\n",
    "    theta_series=pd.Series(theta_list)\n",
    "\n",
    "    #as_matrix has to be done on the series becuse othervise the .dot method does not work!!!!\n",
    "\n",
    "    common_vector=(X_df.dot(theta_series.as_matrix())-Y_series)/m\n",
    "\n",
    "    cost=sum((X_df.dot(theta_series.as_matrix())-Y_series)**2)/(m*2)\n",
    "\n",
    "    derivatives=[]\n",
    "    for column_name in column_names:\n",
    "        derivative=common_vector.dot(X_df[column_name].as_matrix())\n",
    "        derivatives.append(derivative)\n",
    "\n",
    "    #so inital derivatives calculated\n",
    "    #todo: compute inital cost function       , updating rule, stopping condition\n",
    "\n",
    "    #import pdb; pdb.set_trace()\n",
    "    for i in range(0,iterations):\n",
    "        for j in range(0, len(theta_series)):\n",
    "            theta_series[j]=theta_series[j]-alpha*derivatives[j]\n",
    "\n",
    "    return theta_series.as_matrix()\n",
    "\n",
    "        #outputs 0    5106000\n",
    "#1    1569000\n",
    "#2     811500\n",
    "#dtype: int64\n",
    "#now, is reasonable at a first glance. almost done, but need to verify more.\n",
    "\n",
    "###lesson: load with pandas, but when doing the matrix operations convert it first.\n",
    "def multivariate_predictor(siz,bedrooms):\n",
    "\n",
    "    siz_normal=(siz-df1['size'].mean())/df1['size'].std()\n",
    "    bedrooms_normal=(bedrooms-df1['#bedrooms'].mean())/df1['#bedrooms'].std()\n",
    "\n",
    "    arguments_array=np.array([1, siz_normal, bedrooms_normal])\n",
    "\n",
    "    theta_series=multivariate_regression(df1)\n",
    "\n",
    "    return np.dot(arguments_array,theta_series.T)"
   ]
  },
  {
   "cell_type": "code",
   "execution_count": null,
   "metadata": {
    "collapsed": false
   },
   "outputs": [],
   "source": [
    "multivariate_predictor(1650,3)"
   ]
  },
  {
   "cell_type": "code",
   "execution_count": null,
   "metadata": {
    "collapsed": true
   },
   "outputs": [],
   "source": [
    "import pandas as pd\n",
    "import numpy as np\n",
    "df1=pd.read_csv('ex1data2.txt')\n",
    "\n",
    "# size_series=(df1['size']-df1['size'].mean())/df1['size'].std()\n",
    "# bedrooms_series=(df1['#bedrooms']-df1['#bedrooms'].mean())/df1['#bedrooms'].std()\n",
    "#\n",
    "# df1['size']=size_series\n",
    "# df1['#bedrooms']=bedrooms_series\n",
    "\n",
    "\n",
    "#below is general, including the mean normalization\n",
    "def multivariate_regression(df, alpha=0.01, iterations=50000,Y_name='price'):\n",
    "    df1=df\n",
    "\n",
    "    column_names=df1.columns.tolist()\n",
    "\n",
    "    #split the data into a X dataFrame and a y series\n",
    "    column_names.remove(Y_name)\n",
    "    X_df=df1[column_names]\n",
    "    Y_series=df1[Y_name]\n",
    "\n",
    "    #mean normalization\n",
    "    for column_name in column_names:\n",
    "        X_df[column_name]=(X_df[column_name]-X_df[column_name].mean())/X_df[column_name].std()\n",
    "\n",
    "\n",
    "    #filll X with intercept with 1's so that we can smoothly use matrix algebra AND update column_names\n",
    "    X_df['intercept']=1\n",
    "    column_names=['intercept']+ column_names\n",
    "\n",
    "\n",
    "    #m -training examples\n",
    "    m=len(X_df['intercept'])\n",
    "    #initialize thetas with 0's\n",
    "    theta_list=[]\n",
    "    for i in column_names:\n",
    "        theta_list.append(0)\n",
    "\n",
    "    theta_series=pd.Series(theta_list)\n",
    "\n",
    "    #as_matrix has to be done on the series becuse othervise the .dot method does not work!!!!\n",
    "\n",
    "    common_vector=(X_df.dot(theta_series.as_matrix())-Y_series)/m\n",
    "\n",
    "    cost=sum((X_df.dot(theta_series.as_matrix())-Y_series)**2)/(m*2)\n",
    "\n",
    "    derivatives=[]\n",
    "    for column_name in column_names:\n",
    "        derivative=common_vector.dot(X_df[column_name].as_matrix())\n",
    "        derivatives.append(derivative)\n",
    "\n",
    "    #so inital derivatives calculated\n",
    "    #todo: compute inital cost function       , updating rule, stopping condition\n",
    "\n",
    "    #import pdb; pdb.set_trace()\n",
    "    for i in range(0,iterations):\n",
    "        for j in range(0, len(theta_series)):\n",
    "            theta_series[j]=theta_series[j]-alpha*derivatives[j]\n",
    "\n",
    "    return theta_series.as_matrix()\n",
    "\n",
    "        #outputs 0    5106000\n",
    "#1    1569000\n",
    "#2     811500\n",
    "#dtype: int64\n",
    "#now, is reasonable at a first glance. almost done, but need to verify more.\n",
    "\n",
    "###lesson: load with pandas, but when doing the matrix operations convert it first.\n",
    "def multivariate_predictor(siz,bedrooms):\n",
    "\n",
    "    siz_normal=(siz-df1['size'].mean())/df1['size'].std()\n",
    "    bedrooms_normal=(bedrooms-df1['#bedrooms'].mean())/df1['#bedrooms'].std()\n",
    "\n",
    "    arguments_array=np.array([1, siz_normal, bedrooms_normal])\n",
    "\n",
    "    theta_series=multivariate_regression(df1)\n",
    "\n",
    "    return np.dot(arguments_array,theta_series.T)"
   ]
  },
  {
   "cell_type": "code",
   "execution_count": null,
   "metadata": {
    "collapsed": false
   },
   "outputs": [],
   "source": [
    "multivariate_predictor(1650,3)"
   ]
  },
  {
   "cell_type": "code",
   "execution_count": null,
   "metadata": {
    "collapsed": true
   },
   "outputs": [],
   "source": [
    "def multivariate_regression(df, alpha=0.01, iterations=5000,Y_name='price'):\n",
    "    df1=df\n",
    "\n",
    "    column_names=df1.columns.tolist()\n",
    "\n",
    "    #split the data into a X dataFrame and a y series\n",
    "    column_names.remove(Y_name)\n",
    "    X_df=df1[column_names]\n",
    "    Y_series=df1[Y_name]\n",
    "\n",
    "    #mean normalization\n",
    "    for column_name in column_names:\n",
    "        X_df[column_name]=(X_df[column_name]-X_df[column_name].mean())/X_df[column_name].std()\n",
    "\n",
    "\n",
    "    #filll X with intercept with 1's so that we can smoothly use matrix algebra AND update column_names\n",
    "    X_df['intercept']=1\n",
    "    column_names=['intercept']+ column_names\n",
    "\n",
    "\n",
    "    #m -training examples\n",
    "    m=len(X_df['intercept'])\n",
    "    #initialize thetas with 0's\n",
    "    theta_list=[]\n",
    "    for i in column_names:\n",
    "        theta_list.append(0)\n",
    "\n",
    "    theta_series=pd.Series(theta_list)\n",
    "\n",
    "    #as_matrix has to be done on the series becuse othervise the .dot method does not work!!!!\n",
    "\n",
    "    common_vector=(X_df.dot(theta_series.as_matrix())-Y_series)\n",
    "\n",
    "    cost=sum((X_df.dot(theta_series.as_matrix())-Y_series)**2)/(m*2)\n",
    "\n",
    "    derivatives=[]\n",
    "    for column_name in column_names:\n",
    "        derivative=common_vector.dot(X_df[column_name].as_matrix())/m\n",
    "        derivatives.append(derivative)\n",
    "\n",
    "    #so inital derivatives calculated\n",
    "    #todo: compute inital cost function       , updating rule, stopping condition\n",
    "\n",
    "    #import pdb; pdb.set_trace()\n",
    "    for i in range(0,iterations):\n",
    "        for j in range(0, len(theta_series)):\n",
    "            theta_series[j]=theta_series[j]-alpha*derivatives[j]\n",
    "\n",
    "    return theta_series.as_matrix()\n",
    "\n",
    "        #outputs 0    5106000\n",
    "#1    1569000\n",
    "#2     811500\n",
    "#dtype: int64\n",
    "#now, is reasonable at a first glance. almost done, but need to verify more.\n",
    "\n",
    "###lesson: load with pandas, but when doing the matrix operations convert it first.\n",
    "def multivariate_predictor(siz,bedrooms):\n",
    "\n",
    "    siz_normal=(siz-df1['size'].mean())/df1['size'].std()\n",
    "    bedrooms_normal=(bedrooms-df1['#bedrooms'].mean())/df1['#bedrooms'].std()\n",
    "\n",
    "    arguments_array=np.array([1, siz_normal, bedrooms_normal])\n",
    "\n",
    "    theta_series=multivariate_regression(df1)\n",
    "\n",
    "    return np.dot(arguments_array,theta_series.T)"
   ]
  },
  {
   "cell_type": "code",
   "execution_count": null,
   "metadata": {
    "collapsed": false
   },
   "outputs": [],
   "source": [
    "multivariate_predictor(1650,3)"
   ]
  },
  {
   "cell_type": "code",
   "execution_count": null,
   "metadata": {
    "collapsed": true
   },
   "outputs": [],
   "source": [
    "import pandas as pd\n",
    "import numpy as np\n",
    "df1=pd.read_csv('ex1data2.txt')\n",
    "\n",
    "# size_series=(df1['size']-df1['size'].mean())/df1['size'].std()\n",
    "# bedrooms_series=(df1['#bedrooms']-df1['#bedrooms'].mean())/df1['#bedrooms'].std()\n",
    "#\n",
    "# df1['size']=size_series\n",
    "# df1['#bedrooms']=bedrooms_series\n",
    "\n",
    "\n",
    "#below is general, including the mean normalization\n",
    "def multivariate_regression(df, alpha=0.01, iterations=5000,Y_name='price'):\n",
    "    df1=df\n",
    "\n",
    "    column_names=df1.columns.tolist()\n",
    "\n",
    "    #split the data into a X dataFrame and a y series\n",
    "    column_names.remove(Y_name)\n",
    "    X_df=df1[column_names]\n",
    "    Y_series=df1[Y_name]\n",
    "    print(column_names)\n",
    "    #mean normalization\n",
    "    for column_name in column_names:\n",
    "        X_df[column_name]=(X_df[column_name]-X_df[column_name].mean())/X_df[column_name].std()\n",
    "\n",
    "\n",
    "    #filll X with intercept with 1's so that we can smoothly use matrix algebra AND update column_names\n",
    "    X_df['intercept']=1\n",
    "    column_names=['intercept']+ column_names\n",
    "\n",
    "\n",
    "    #m -training examples\n",
    "    m=len(X_df['intercept'])\n",
    "    #initialize thetas with 0's\n",
    "    theta_list=[]\n",
    "    for i in column_names:\n",
    "        theta_list.append(0)\n",
    "\n",
    "    theta_series=pd.Series(theta_list)\n",
    "\n",
    "    #as_matrix has to be done on the series becuse othervise the .dot method does not work!!!!\n",
    "\n",
    "    common_vector=(X_df.dot(theta_series.as_matrix())-Y_series)\n",
    "\n",
    "    cost=sum((X_df.dot(theta_series.as_matrix())-Y_series)**2)/(m*2)\n",
    "\n",
    "    derivatives=[]\n",
    "    for column_name in column_names:\n",
    "        derivative=common_vector.dot(X_df[column_name].as_matrix())/m\n",
    "        derivatives.append(derivative)\n",
    "\n",
    "    #so inital derivatives calculated\n",
    "    #todo: compute inital cost function       , updating rule, stopping condition\n",
    "\n",
    "    #import pdb; pdb.set_trace()\n",
    "    for i in range(0,iterations):\n",
    "        for j in range(0, len(theta_series)):\n",
    "            theta_series[j]=theta_series[j]-alpha*derivatives[j]\n",
    "\n",
    "    return theta_series.as_matrix()\n",
    "\n",
    "        #outputs 0    5106000\n",
    "#1    1569000\n",
    "#2     811500\n",
    "#dtype: int64\n",
    "#now, is reasonable at a first glance. almost done, but need to verify more.\n",
    "\n",
    "###lesson: load with pandas, but when doing the matrix operations convert it first.\n",
    "def multivariate_predictor(siz,bedrooms):\n",
    "\n",
    "    siz_normal=(siz-df1['size'].mean())/df1['size'].std()\n",
    "    bedrooms_normal=(bedrooms-df1['#bedrooms'].mean())/df1['#bedrooms'].std()\n",
    "\n",
    "    arguments_array=np.array([1, siz_normal, bedrooms_normal])\n",
    "\n",
    "    theta_series=multivariate_regression(df1)\n",
    "\n",
    "    return np.dot(arguments_array,theta_series.T)\n"
   ]
  },
  {
   "cell_type": "code",
   "execution_count": null,
   "metadata": {
    "collapsed": false
   },
   "outputs": [],
   "source": [
    "multivariate_predicot(1650,3)"
   ]
  },
  {
   "cell_type": "code",
   "execution_count": null,
   "metadata": {
    "collapsed": false
   },
   "outputs": [],
   "source": [
    "multivariate_predictor(1650,3)"
   ]
  },
  {
   "cell_type": "code",
   "execution_count": null,
   "metadata": {
    "collapsed": true
   },
   "outputs": [],
   "source": [
    "def multivariate_regression(df, alpha=0.01, iterations=5000,Y_name='price'):\n",
    "    df1=df\n",
    "\n",
    "    column_names=df1.columns.tolist()\n",
    "\n",
    "    #split the data into a X dataFrame and a y series\n",
    "    column_names.remove(Y_name)\n",
    "    X_df=df1[column_names]\n",
    "    Y_series=df1[Y_name]\n",
    "\n",
    "    #mean normalization\n",
    "    for column_name in column_names:\n",
    "        X_df[column_name]=(X_df[column_name]-X_df[column_name].mean())/X_df[column_name].std()\n",
    "\n",
    "\n",
    "    #filll X with intercept with 1's so that we can smoothly use matrix algebra AND update column_names\n",
    "    X_df['intercept']=1\n",
    "    column_names=['intercept']+ column_names\n",
    "\n",
    "\n",
    "    #m -training examples\n",
    "    m=len(X_df['intercept'])\n",
    "    #initialize thetas with 0's\n",
    "    theta_list=[]\n",
    "    for i in column_names:\n",
    "        theta_list.append(0)\n",
    "\n",
    "    theta_series=pd.Series(theta_list)\n",
    "\n",
    "    #as_matrix has to be done on the series becuse othervise the .dot method does not work!!!!\n",
    "\n",
    "\n",
    "    cost=sum((X_df.dot(theta_series.as_matrix())-Y_series)**2)/(m*2)\n",
    "\n",
    "    #initalize derivatives\n",
    "    derivatives=[]\n",
    "    for column_name in column_names:\n",
    "        derivative=common_vector.dot(X_df[column_name].as_matrix())/m\n",
    "        derivatives.append(derivative)\n",
    "\n",
    "    #so inital derivatives calculated\n",
    "    #todo: compute inital cost function       , updating rule, stopping condition\n",
    "\n",
    "    #import pdb; pdb.set_trace()\n",
    "    for i in range(0,iterations):\n",
    "        common_vector=(X_df.dot(theta_series.as_matrix())-Y_series)\n",
    "\n",
    "\n",
    "        for j in range(0, len(theta_series)):\n",
    "            variable=column_names[j]\n",
    "            relevant_vector=X_df[variable]\n",
    "\n",
    "            derivatives[j]=common_vector.dot(relevant_vector)/m\n",
    "            theta_series[j]=theta_series[j]-alpha*derivatives[j]\n",
    "            #update derivaties\n",
    "\n",
    "    return theta_series.as_matrix()\n",
    "\n",
    "        #outputs 0    5106000\n",
    "#1    1569000\n",
    "#2     811500\n",
    "#dtype: int64\n",
    "#now, is reasonable at a first glance. almost done, but need to verify more.\n",
    "\n",
    "###lesson: load with pandas, but when doing the matrix operations convert it first.\n",
    "#make smaller function got damn it. the functions should follow SOLID. be well constructed.\n",
    "def multivariate_predictor(siz,bedrooms):\n",
    "\n",
    "    siz_normal=(siz-df1['size'].mean())/df1['size'].std()\n",
    "    bedrooms_normal=(bedrooms-df1['#bedrooms'].mean())/df1['#bedrooms'].std()\n",
    "\n",
    "    arguments_array=np.array([1, siz_normal, bedrooms_normal])\n",
    "\n",
    "    theta_series=multivariate_regression(df1)\n",
    "\n",
    "    return np.dot(arguments_array,theta_series.T)"
   ]
  },
  {
   "cell_type": "code",
   "execution_count": null,
   "metadata": {
    "collapsed": true
   },
   "outputs": [],
   "source": [
    "import pandas as pd\n",
    "import numpy as np\n",
    "df1=pd.read_csv('ex1data2.txt')"
   ]
  },
  {
   "cell_type": "code",
   "execution_count": null,
   "metadata": {
    "collapsed": false
   },
   "outputs": [],
   "source": [
    "multivariate_regression(df1)"
   ]
  },
  {
   "cell_type": "code",
   "execution_count": null,
   "metadata": {
    "collapsed": true
   },
   "outputs": [],
   "source": [
    "def multivariate_regression(df, alpha=0.01, iterations=5000,Y_name='price'):\n",
    "    df1=df\n",
    "\n",
    "    column_names=df1.columns.tolist()\n",
    "\n",
    "    #split the data into a X dataFrame and a y series\n",
    "    column_names.remove(Y_name)\n",
    "    X_df=df1[column_names]\n",
    "    Y_series=df1[Y_name]\n",
    "\n",
    "    #mean normalization\n",
    "    for column_name in column_names:\n",
    "        X_df[column_name]=(X_df[column_name]-X_df[column_name].mean())/X_df[column_name].std()\n",
    "\n",
    "\n",
    "    #filll X with intercept with 1's so that we can smoothly use matrix algebra AND update column_names\n",
    "    X_df['intercept']=1\n",
    "    column_names=['intercept']+ column_names\n",
    "\n",
    "\n",
    "    #m -training examples\n",
    "    m=len(X_df['intercept'])\n",
    "    #initialize thetas with 0's\n",
    "    theta_list=[]\n",
    "    for i in column_names:\n",
    "        theta_list.append(0)\n",
    "\n",
    "    theta_series=pd.Series(theta_list)\n",
    "\n",
    "    #as_matrix has to be done on the series becuse othervise the .dot method does not work!!!!\n",
    "\n",
    "\n",
    "    cost=sum((X_df.dot(theta_series.as_matrix())-Y_series)**2)/(m*2)\n",
    "\n",
    "    #initalize derivatives\n",
    "    derivatives=[]\n",
    "    common_vector=(X_df.dot(theta_series.as_matrix())-Y_series)\n",
    "    for column_name in column_names:\n",
    "        derivative=common_vector.dot(X_df[column_name].as_matrix())/m\n",
    "        derivatives.append(derivative)\n",
    "\n",
    "    #so inital derivatives calculated\n",
    "    #todo: compute inital cost function       , updating rule, stopping condition\n",
    "\n",
    "    #import pdb; pdb.set_trace()\n",
    "    for i in range(0,iterations):\n",
    "        #for every iteration need to update the derivatives. i do this by : for every iteration compute the common vector that is used for computing all derivatives. then, for every independent variable(incl intercept) update the derivatives.\n",
    "        common_vector=(X_df.dot(theta_series.as_matrix())-Y_series)\n",
    "        \n",
    "        for j in range(0, len(theta_series)):\n",
    "            variable=column_names[j]\n",
    "            relevant_vector=X_df[variable].as_matrix()\n",
    "\n",
    "            derivatives[j]=common_vector.dot(relevant_vector)/m\n",
    "            theta_series[j]=theta_series[j]-alpha*derivatives[j]\n",
    "            #update derivaties\n",
    "\n",
    "    return theta_series.as_matrix()\n",
    "\n",
    "        #outputs 0    5106000\n",
    "#1    1569000\n",
    "#2     811500\n",
    "#dtype: int64\n",
    "#now, is reasonable at a first glance. almost done, but need to verify more.\n",
    "\n",
    "###lesson: load with pandas, but when doing the matrix operations convert it first.\n",
    "#make smaller function got damn it. the functions should follow SOLID. be well constructed.\n",
    "def multivariate_predictor(siz,bedrooms):\n",
    "\n",
    "    siz_normal=(siz-df1['size'].mean())/df1['size'].std()\n",
    "    bedrooms_normal=(bedrooms-df1['#bedrooms'].mean())/df1['#bedrooms'].std()\n",
    "\n",
    "    arguments_array=np.array([1, siz_normal, bedrooms_normal])\n",
    "\n",
    "    theta_series=multivariate_regression(df1)\n",
    "\n",
    "    return np.dot(arguments_array,theta_series.T)"
   ]
  },
  {
   "cell_type": "code",
   "execution_count": null,
   "metadata": {
    "collapsed": false
   },
   "outputs": [],
   "source": [
    "multivariate_regression(df1)"
   ]
  },
  {
   "cell_type": "code",
   "execution_count": null,
   "metadata": {
    "collapsed": false
   },
   "outputs": [],
   "source": [
    "multivariate_predictor(1650,3)"
   ]
  },
  {
   "cell_type": "code",
   "execution_count": null,
   "metadata": {
    "collapsed": true
   },
   "outputs": [],
   "source": []
  }
 ],
 "metadata": {
  "anaconda-cloud": {},
  "kernelspec": {
   "display_name": "Python [conda root]",
   "language": "python",
   "name": "conda-root-py"
  },
  "language_info": {
   "codemirror_mode": {
    "name": "ipython",
    "version": 3
   },
   "file_extension": ".py",
   "mimetype": "text/x-python",
   "name": "python",
   "nbconvert_exporter": "python",
   "pygments_lexer": "ipython3",
   "version": "3.5.2"
  }
 },
 "nbformat": 4,
 "nbformat_minor": 1
}
