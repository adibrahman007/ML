{
 "cells": [
  {
   "cell_type": "code",
   "execution_count": 1,
   "metadata": {
    "collapsed": true
   },
   "outputs": [],
   "source": [
    "import numpy as np\n",
    "import matplotlib.pyplot as plt\n",
    "import pandas as pd\n",
    "import scipy.io \n",
    "import scipy.misc \n",
    "import matplotlib.cm as cm \n",
    "import random \n",
    "from scipy.special import expit as sigmoid\n",
    "#sigmoid will be vectorized"
   ]
  },
  {
   "cell_type": "code",
   "execution_count": 3,
   "metadata": {
    "collapsed": false
   },
   "outputs": [],
   "source": [
    "data = 'data/ex6data1.mat'\n",
    "mat = scipy.io.loadmat(data)\n",
    "\n",
    "X, Y= mat['X'], mat['y']"
   ]
  },
  {
   "cell_type": "code",
   "execution_count": 68,
   "metadata": {
    "collapsed": false
   },
   "outputs": [],
   "source": [
    "def plot(X,Y):\n",
    "    \n",
    "    #X_positive=[]\n",
    "    #X_negative=[]\n",
    "    \n",
    "    #for i in range(len(Y)):\n",
    "        \n",
    "    #    if Y[i][0]==1:\n",
    "    #        X_positive.append(list(X[i]))\n",
    "    #    else:\n",
    "    #        X_negative.append(list(X[i])\n",
    "     \n",
    "    data_frame=pd.DataFrame(X)  \n",
    "    data_frame['y']=Y\n",
    "    \n",
    "    X_df_pos=data_frame[data_frame.y==1]\n",
    "    X_df_neg=data_frame[data_frame.y==0]\n",
    "    \n",
    "        \n",
    "    plt.scatter(X_df_pos[0], X_df_pos[1], label='positive', color='blue')\n",
    "    plt.scatter(X_df_neg[0], X_df_neg[1], label='negative', color='red')\n",
    "    plt.legend()        \n",
    "    \n",
    "    plt.show()\n",
    "    \n",
    "   "
   ]
  },
  {
   "cell_type": "code",
   "execution_count": 69,
   "metadata": {
    "collapsed": false
   },
   "outputs": [
    {
     "data": {
      "image/png": "[encoded data removed]",
      "text/plain": [
       "<matplotlib.figure.Figure at 0x1180b8048>"
      ]
     },
     "metadata": {},
     "output_type": "display_data"
    }
   ],
   "source": [
    "plot(X,Y)"
   ]
  },
  {
   "cell_type": "code",
   "execution_count": null,
   "metadata": {
    "collapsed": false
   },
   "outputs": [],
   "source": []
  },
  {
   "cell_type": "code",
   "execution_count": null,
   "metadata": {
    "collapsed": false
   },
   "outputs": [],
   "source": []
  },
  {
   "cell_type": "code",
   "execution_count": null,
   "metadata": {
    "collapsed": false
   },
   "outputs": [],
   "source": []
  },
  {
   "cell_type": "code",
   "execution_count": null,
   "metadata": {
    "collapsed": false
   },
   "outputs": [],
   "source": []
  },
  {
   "cell_type": "code",
   "execution_count": null,
   "metadata": {
    "collapsed": false
   },
   "outputs": [],
   "source": []
  },
  {
   "cell_type": "code",
   "execution_count": null,
   "metadata": {
    "collapsed": true
   },
   "outputs": [],
   "source": []
  }
 ],
 "metadata": {
  "anaconda-cloud": {},
  "kernelspec": {
   "display_name": "Python [default]",
   "language": "python",
   "name": "python3"
  },
  "language_info": {
   "codemirror_mode": {
    "name": "ipython",
    "version": 3
   },
   "file_extension": ".py",
   "mimetype": "text/x-python",
   "name": "python",
   "nbconvert_exporter": "python",
   "pygments_lexer": "ipython3",
   "version": "3.5.2"
  }
 },
 "nbformat": 4,
 "nbformat_minor": 1
}
