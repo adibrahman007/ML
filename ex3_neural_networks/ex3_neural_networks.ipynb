{
 "cells": [
  {
   "cell_type": "code",
   "execution_count": 1,
   "metadata": {
    "collapsed": true
   },
   "outputs": [],
   "source": [
    "import numpy as np\n",
    "import matplotlib.pyplot as plt\n",
    "import pandas as pd\n",
    "import scipy.io #Used to load the OCTAVE *.mat files\n",
    "import scipy.misc #Used to show matrix as an image\n",
    "import matplotlib.cm as cm #Used to display images in a specific colormap\n",
    "import random #To pick random images to display\n",
    "from scipy.special import expit #Vectorized sigmoid function\n",
    "\n",
    "#how to work with .mat files in python.\n",
    "data = 'ex3data1.mat'\n",
    "mat = scipy.io.loadmat(data)"
   ]
  },
  {
   "cell_type": "code",
   "execution_count": 9,
   "metadata": {
    "collapsed": false
   },
   "outputs": [
    {
     "data": {
      "text/plain": [
       "{'X': array([[ 0.,  0.,  0., ...,  0.,  0.,  0.],\n",
       "        [ 0.,  0.,  0., ...,  0.,  0.,  0.],\n",
       "        [ 0.,  0.,  0., ...,  0.,  0.,  0.],\n",
       "        ..., \n",
       "        [ 0.,  0.,  0., ...,  0.,  0.,  0.],\n",
       "        [ 0.,  0.,  0., ...,  0.,  0.,  0.],\n",
       "        [ 0.,  0.,  0., ...,  0.,  0.,  0.]]),\n",
       " '__globals__': [],\n",
       " '__header__': b'MATLAB 5.0 MAT-file, Platform: GLNXA64, Created on: Sun Oct 16 13:09:09 2011',\n",
       " '__version__': '1.0',\n",
       " 'y': array([[10],\n",
       "        [10],\n",
       "        [10],\n",
       "        ..., \n",
       "        [ 9],\n",
       "        [ 9],\n",
       "        [ 9]], dtype=uint8)}"
      ]
     },
     "execution_count": 9,
     "metadata": {},
     "output_type": "execute_result"
    }
   ],
   "source": [
    "mat"
   ]
  },
  {
   "cell_type": "code",
   "execution_count": 12,
   "metadata": {
    "collapsed": false
   },
   "outputs": [],
   "source": [
    "X, Y= mat['X'], mat['y']"
   ]
  },
  {
   "cell_type": "code",
   "execution_count": 22,
   "metadata": {
    "collapsed": false
   },
   "outputs": [
    {
     "data": {
      "text/plain": [
       "(400,)"
      ]
     },
     "execution_count": 22,
     "metadata": {},
     "output_type": "execute_result"
    }
   ],
   "source": [
    "X[1][:].shape\n"
   ]
  },
  {
   "cell_type": "code",
   "execution_count": 19,
   "metadata": {
    "collapsed": false
   },
   "outputs": [
    {
     "data": {
      "text/plain": [
       "(5000, 400)"
      ]
     },
     "execution_count": 19,
     "metadata": {},
     "output_type": "execute_result"
    }
   ],
   "source": [
    "X.shape"
   ]
  },
  {
   "cell_type": "code",
   "execution_count": 15,
   "metadata": {
    "collapsed": false
   },
   "outputs": [
    {
     "data": {
      "text/plain": [
       "array([  0.00000000e+00,   0.00000000e+00,   0.00000000e+00,\n",
       "         0.00000000e+00,   0.00000000e+00,   0.00000000e+00,\n",
       "         0.00000000e+00,   0.00000000e+00,   0.00000000e+00,\n",
       "         0.00000000e+00,   0.00000000e+00,   0.00000000e+00,\n",
       "         0.00000000e+00,   0.00000000e+00,   0.00000000e+00,\n",
       "         0.00000000e+00,   0.00000000e+00,   0.00000000e+00,\n",
       "         0.00000000e+00,   0.00000000e+00,   0.00000000e+00,\n",
       "         0.00000000e+00,   0.00000000e+00,   0.00000000e+00,\n",
       "         0.00000000e+00,   0.00000000e+00,   0.00000000e+00,\n",
       "         0.00000000e+00,   0.00000000e+00,   0.00000000e+00,\n",
       "         0.00000000e+00,   0.00000000e+00,   0.00000000e+00,\n",
       "         0.00000000e+00,   0.00000000e+00,   0.00000000e+00,\n",
       "         0.00000000e+00,   0.00000000e+00,   0.00000000e+00,\n",
       "         0.00000000e+00,   0.00000000e+00,   0.00000000e+00,\n",
       "         0.00000000e+00,   0.00000000e+00,   0.00000000e+00,\n",
       "         0.00000000e+00,   0.00000000e+00,   0.00000000e+00,\n",
       "         0.00000000e+00,   0.00000000e+00,   0.00000000e+00,\n",
       "         0.00000000e+00,   0.00000000e+00,   0.00000000e+00,\n",
       "         0.00000000e+00,   0.00000000e+00,   0.00000000e+00,\n",
       "         0.00000000e+00,   0.00000000e+00,   0.00000000e+00,\n",
       "         0.00000000e+00,   0.00000000e+00,   0.00000000e+00,\n",
       "         0.00000000e+00,   0.00000000e+00,   1.78717320e-05,\n",
       "        -1.19995915e-04,  -6.98758713e-04,  -7.75965074e-03,\n",
       "        -2.77874796e-02,  -3.74992341e-02,  -3.71175449e-02,\n",
       "        -3.72432331e-02,  -3.52470895e-02,  -1.28583538e-02,\n",
       "         4.79881536e-04,   5.02450980e-05,   0.00000000e+00,\n",
       "         0.00000000e+00,   0.00000000e+00,   0.00000000e+00,\n",
       "         0.00000000e+00,   0.00000000e+00,   0.00000000e+00,\n",
       "         3.14338235e-04,  -1.17415577e-03,  -2.24728690e-02,\n",
       "        -3.20393074e-02,   7.47227328e-02,   4.31012544e-01,\n",
       "         6.07734937e-01,   6.00787241e-01,   6.03221604e-01,\n",
       "         5.66225388e-01,   1.68896514e-01,  -3.00833674e-02,\n",
       "         3.53349673e-05,   5.13635808e-05,   0.00000000e+00,\n",
       "         0.00000000e+00,   0.00000000e+00,   0.00000000e+00,\n",
       "         0.00000000e+00,   2.45098039e-04,  -4.78084150e-03,\n",
       "        -1.89058755e-02,   1.72836040e-01,   4.06654573e-01,\n",
       "         8.24665799e-01,   1.00734108e+00,   1.03292247e+00,\n",
       "         1.04440724e+00,   1.03464414e+00,   1.02917790e+00,\n",
       "         8.01140897e-01,   1.51504374e-01,  -2.69049564e-02,\n",
       "         5.98528393e-04,   7.65931373e-05,   0.00000000e+00,\n",
       "         0.00000000e+00,   0.00000000e+00,   2.28282581e-04,\n",
       "        -4.10522195e-03,   3.59909450e-03,   2.80295360e-01,\n",
       "         8.70165731e-01,   1.04285858e+00,   1.01214835e+00,\n",
       "         9.83427407e-01,   8.55948717e-01,   7.16846167e-01,\n",
       "         8.07043656e-01,   9.67742136e-01,   1.03209094e+00,\n",
       "         7.84775378e-01,   1.63999847e-01,  -1.37889813e-02,\n",
       "        -6.38276144e-04,   0.00000000e+00,   0.00000000e+00,\n",
       "         0.00000000e+00,  -1.09347831e-03,  -1.80794709e-02,\n",
       "         4.51630505e-01,   9.53912702e-01,   1.01197016e+00,\n",
       "         9.93849557e-01,   9.85959959e-01,   7.30606970e-01,\n",
       "         1.03193629e-01,   3.97518106e-02,   6.25331383e-02,\n",
       "         4.44309989e-01,   9.57748495e-01,   1.04459641e+00,\n",
       "         5.59517057e-01,  -7.74674261e-03,  -4.98841602e-03,\n",
       "         0.00000000e+00,   0.00000000e+00,   0.00000000e+00,\n",
       "        -1.42546166e-02,   9.20438113e-02,   7.92186343e-01,\n",
       "         1.02635189e+00,   9.91875000e-01,   1.03409003e+00,\n",
       "         7.21696912e-01,   7.62330304e-02,  -2.20282884e-02,\n",
       "        -1.06267021e-02,  -1.75937249e-02,  -1.34731584e-02,\n",
       "         5.46676590e-01,   1.03569931e+00,   8.37688913e-01,\n",
       "         1.18031589e-01,  -1.43758510e-02,   0.00000000e+00,\n",
       "         0.00000000e+00,   0.00000000e+00,  -3.89299254e-02,\n",
       "         3.23700980e-01,   9.78107996e-01,   9.99896378e-01,\n",
       "         1.00628877e+00,   9.62809880e-01,   3.48289318e-01,\n",
       "        -3.50931713e-02,  -5.58483115e-04,   3.57434641e-05,\n",
       "         3.66882720e-04,  -1.32526552e-02,   1.11752111e-01,\n",
       "         7.83635791e-01,   1.01929143e+00,   3.86637877e-01,\n",
       "        -2.03713916e-02,   0.00000000e+00,   0.00000000e+00,\n",
       "         0.00000000e+00,  -4.04895846e-02,   3.39147382e-01,\n",
       "         9.75111571e-01,   1.00363831e+00,   9.63277437e-01,\n",
       "         4.05844017e-01,  -1.84270153e-02,  -3.58898420e-04,\n",
       "         3.18627451e-05,   0.00000000e+00,   0.00000000e+00,\n",
       "        -3.87561275e-04,  -3.47697610e-02,   3.74049803e-01,\n",
       "         1.03753312e+00,   7.28783087e-01,  -2.07858456e-02,\n",
       "         0.00000000e+00,   0.00000000e+00,   0.00000000e+00,\n",
       "        -3.67127308e-03,  -3.89103350e-03,   6.50896208e-01,\n",
       "         1.03246220e+00,   8.54674037e-01,   8.63457972e-02,\n",
       "        -1.97322985e-02,   3.73468137e-04,   3.67647059e-06,\n",
       "         0.00000000e+00,   0.00000000e+00,   1.15400327e-04,\n",
       "        -3.66789386e-02,   2.47431968e-01,   1.03302759e+00,\n",
       "         8.68603519e-01,  -2.07084014e-02,   0.00000000e+00,\n",
       "         0.00000000e+00,   0.00000000e+00,   6.15081549e-04,\n",
       "        -4.35095899e-02,   6.07536145e-01,   1.01940679e+00,\n",
       "         9.96212870e-01,   4.08721571e-01,  -8.23541301e-03,\n",
       "        -1.03822714e-03,   0.00000000e+00,   0.00000000e+00,\n",
       "         0.00000000e+00,   5.18527577e-04,  -4.47056785e-02,\n",
       "         2.59370066e-01,   1.03283242e+00,   8.39363507e-01,\n",
       "        -2.07188523e-02,   0.00000000e+00,   0.00000000e+00,\n",
       "         0.00000000e+00,   0.00000000e+00,  -2.91539522e-02,\n",
       "         4.55475490e-01,   1.01286688e+00,   1.01252100e+00,\n",
       "         9.00246032e-01,   1.52150174e-01,  -5.07222052e-02,\n",
       "        -1.56537480e-02,  -2.34369894e-03,  -3.70801231e-03,\n",
       "        -2.73417075e-02,   5.89453636e-02,   6.57093052e-01,\n",
       "         1.03577638e+00,   5.27176175e-01,  -2.07800586e-02,\n",
       "         0.00000000e+00,   0.00000000e+00,   0.00000000e+00,\n",
       "         0.00000000e+00,  -8.57158905e-03,   9.16958401e-02,\n",
       "         7.85779735e-01,   1.02846870e+00,   1.00779898e+00,\n",
       "         6.63022740e-01,   5.05559845e-01,   2.15575504e-01,\n",
       "        -1.28941653e-02,   7.76335725e-03,   2.59128251e-01,\n",
       "         7.19692538e-01,   1.02157142e+00,   6.78616251e-01,\n",
       "         9.69014376e-02,  -1.07616762e-02,   0.00000000e+00,\n",
       "         0.00000000e+00,   0.00000000e+00,   0.00000000e+00,\n",
       "        -5.41258170e-06,  -1.46146174e-02,   1.06526025e-01,\n",
       "         5.59348907e-01,   7.50172401e-01,   9.32901637e-01,\n",
       "         1.04982613e+00,   8.95719431e-01,   6.24396633e-01,\n",
       "         7.04029561e-01,   1.00322978e+00,   9.91463678e-01,\n",
       "         5.59543284e-01,  -4.53405842e-03,  -1.23367372e-02,\n",
       "         1.30718954e-04,   0.00000000e+00,   0.00000000e+00,\n",
       "         0.00000000e+00,   0.00000000e+00,   5.02450980e-05,\n",
       "         1.72589869e-04,  -1.05664828e-02,  -2.49931747e-02,\n",
       "        -1.69481133e-02,   2.98888412e-01,   7.73731158e-01,\n",
       "         9.26706138e-01,   9.36280978e-01,   9.33240050e-01,\n",
       "         8.91720946e-01,   4.31707635e-01,  -1.99451083e-02,\n",
       "        -5.38785063e-03,  -1.69173699e-04,   4.90196078e-05,\n",
       "         0.00000000e+00,   0.00000000e+00,   0.00000000e+00,\n",
       "         0.00000000e+00,   0.00000000e+00,   0.00000000e+00,\n",
       "         1.22294240e-04,  -1.01096572e-03,  -5.66102833e-03,\n",
       "        -1.74667767e-02,   5.88544597e-02,   1.10567038e-01,\n",
       "         1.08544546e-01,   1.09852263e-01,   9.80205658e-02,\n",
       "         4.93931148e-03,  -6.32327463e-03,   1.39160654e-04,\n",
       "         9.76319920e-06,   0.00000000e+00,   0.00000000e+00,\n",
       "         0.00000000e+00,   0.00000000e+00,   0.00000000e+00,\n",
       "         0.00000000e+00,   0.00000000e+00,   0.00000000e+00,\n",
       "         0.00000000e+00,   2.28282581e-04,  -1.51790577e-03,\n",
       "        -1.18138957e-02,  -1.72657952e-02,  -1.70498026e-02,\n",
       "        -1.71687525e-02,  -1.59923066e-02,  -4.49942130e-03,\n",
       "         3.95390795e-04,   8.68055556e-06,   0.00000000e+00,\n",
       "         0.00000000e+00,   0.00000000e+00,   0.00000000e+00,\n",
       "         0.00000000e+00,   0.00000000e+00,   0.00000000e+00,\n",
       "         0.00000000e+00,   0.00000000e+00,   0.00000000e+00,\n",
       "         0.00000000e+00,   0.00000000e+00,   0.00000000e+00,\n",
       "         0.00000000e+00,   0.00000000e+00,   0.00000000e+00,\n",
       "         0.00000000e+00,   0.00000000e+00,   0.00000000e+00,\n",
       "         0.00000000e+00,   0.00000000e+00,   0.00000000e+00,\n",
       "         0.00000000e+00])"
      ]
     },
     "execution_count": 15,
     "metadata": {},
     "output_type": "execute_result"
    }
   ],
   "source": []
  },
  {
   "cell_type": "code",
   "execution_count": 23,
   "metadata": {
    "collapsed": false
   },
   "outputs": [
    {
     "data": {
      "text/plain": [
       "3"
      ]
     },
     "execution_count": 23,
     "metadata": {},
     "output_type": "execute_result"
    }
   ],
   "source": [
    "random.randint(0,4)"
   ]
  },
  {
   "cell_type": "code",
   "execution_count": 25,
   "metadata": {
    "collapsed": false
   },
   "outputs": [
    {
     "data": {
      "text/plain": [
       "5000"
      ]
     },
     "execution_count": 25,
     "metadata": {},
     "output_type": "execute_result"
    }
   ],
   "source": [
    "len(X)"
   ]
  },
  {
   "cell_type": "code",
   "execution_count": 26,
   "metadata": {
    "collapsed": false
   },
   "outputs": [
    {
     "ename": "AttributeError",
     "evalue": "module 'scipy.misc' has no attribute 'pilutil'",
     "output_type": "error",
     "traceback": [
      "\u001b[0;31m---------------------------------------------------------------------------\u001b[0m",
      "\u001b[0;31mAttributeError\u001b[0m                            Traceback (most recent call last)",
      "\u001b[0;32m<ipython-input-26-79eff494e277>\u001b[0m in \u001b[0;36m<module>\u001b[0;34m()\u001b[0m\n\u001b[1;32m      1\u001b[0m \u001b[0ma\u001b[0m \u001b[0;34m=\u001b[0m \u001b[0mnp\u001b[0m\u001b[0;34m.\u001b[0m\u001b[0mtile\u001b[0m\u001b[0;34m(\u001b[0m\u001b[0mnp\u001b[0m\u001b[0;34m.\u001b[0m\u001b[0marange\u001b[0m\u001b[0;34m(\u001b[0m\u001b[0;36m255\u001b[0m\u001b[0;34m)\u001b[0m\u001b[0;34m,\u001b[0m \u001b[0;34m(\u001b[0m\u001b[0;36m255\u001b[0m\u001b[0;34m,\u001b[0m\u001b[0;36m1\u001b[0m\u001b[0;34m)\u001b[0m\u001b[0;34m)\u001b[0m\u001b[0;34m\u001b[0m\u001b[0m\n\u001b[1;32m      2\u001b[0m \u001b[0;32mfrom\u001b[0m \u001b[0mscipy\u001b[0m \u001b[0;32mimport\u001b[0m \u001b[0mmisc\u001b[0m\u001b[0;34m\u001b[0m\u001b[0m\n\u001b[0;32m----> 3\u001b[0;31m \u001b[0mmisc\u001b[0m\u001b[0;34m.\u001b[0m\u001b[0mpilutil\u001b[0m\u001b[0;34m.\u001b[0m\u001b[0mimshow\u001b[0m\u001b[0;34m(\u001b[0m\u001b[0ma\u001b[0m\u001b[0;34m)\u001b[0m\u001b[0;34m\u001b[0m\u001b[0m\n\u001b[0m",
      "\u001b[0;31mAttributeError\u001b[0m: module 'scipy.misc' has no attribute 'pilutil'"
     ]
    }
   ],
   "source": [
    "a = np.tile(np.arange(255), (255,1))\n",
    "from scipy import misc\n",
    "misc.pilutil.imshow(a)"
   ]
  },
  {
   "cell_type": "code",
   "execution_count": 31,
   "metadata": {
    "collapsed": true
   },
   "outputs": [],
   "source": [
    " img = scipy.misc.toimage( a )"
   ]
  },
  {
   "cell_type": "code",
   "execution_count": 32,
   "metadata": {
    "collapsed": false
   },
   "outputs": [
    {
     "data": {
      "image/png": "[encoded data removed]",
      "text/plain": [
       "<PIL.Image.Image image mode=L size=255x255 at 0x1044840F0>"
      ]
     },
     "execution_count": 32,
     "metadata": {},
     "output_type": "execute_result"
    }
   ],
   "source": [
    "img"
   ]
  },
  {
   "cell_type": "code",
   "execution_count": 66,
   "metadata": {
    "collapsed": true
   },
   "outputs": [],
   "source": [
    "X_row=X[100,:]"
   ]
  },
  {
   "cell_type": "code",
   "execution_count": 41,
   "metadata": {
    "collapsed": false
   },
   "outputs": [
    {
     "data": {
      "text/plain": [
       "(400,)"
      ]
     },
     "execution_count": 41,
     "metadata": {},
     "output_type": "execute_result"
    }
   ],
   "source": [
    "X_row.shape"
   ]
  },
  {
   "cell_type": "code",
   "execution_count": 36,
   "metadata": {
    "collapsed": false
   },
   "outputs": [
    {
     "ename": "ValueError",
     "evalue": "total size of new array must be unchanged",
     "output_type": "error",
     "traceback": [
      "\u001b[0;31m---------------------------------------------------------------------------\u001b[0m",
      "\u001b[0;31mValueError\u001b[0m                                Traceback (most recent call last)",
      "\u001b[0;32m<ipython-input-36-dafe20142d64>\u001b[0m in \u001b[0;36m<module>\u001b[0;34m()\u001b[0m\n\u001b[0;32m----> 1\u001b[0;31m \u001b[0mX_row\u001b[0m\u001b[0;34m.\u001b[0m\u001b[0mreshape\u001b[0m\u001b[0;34m(\u001b[0m\u001b[0;36m20\u001b[0m\u001b[0;34m,\u001b[0m\u001b[0;36m20\u001b[0m\u001b[0;34m)\u001b[0m\u001b[0;34m\u001b[0m\u001b[0m\n\u001b[0m",
      "\u001b[0;31mValueError\u001b[0m: total size of new array must be unchanged"
     ]
    }
   ],
   "source": [
    "X_row.reshape(20,20)"
   ]
  },
  {
   "cell_type": "code",
   "execution_count": 67,
   "metadata": {
    "collapsed": false
   },
   "outputs": [],
   "source": [
    "X_row_matrix=np.reshape(X_row,(20,20))"
   ]
  },
  {
   "cell_type": "code",
   "execution_count": 51,
   "metadata": {
    "collapsed": false
   },
   "outputs": [
    {
     "data": {
      "text/plain": [
       "(20, 20)"
      ]
     },
     "execution_count": 51,
     "metadata": {},
     "output_type": "execute_result"
    }
   ],
   "source": [
    "X_row_matrix.shape"
   ]
  },
  {
   "cell_type": "code",
   "execution_count": 63,
   "metadata": {
    "collapsed": false
   },
   "outputs": [],
   "source": [
    "img=scipy.misc.toimage(X_row_matrix)"
   ]
  },
  {
   "cell_type": "code",
   "execution_count": 64,
   "metadata": {
    "collapsed": false
   },
   "outputs": [
    {
     "data": {
      "image/png": "[encoded data removed]",
      "text/plain": [
       "<PIL.Image.Image image mode=L size=20x20 at 0x10AB74FD0>"
      ]
     },
     "execution_count": 64,
     "metadata": {},
     "output_type": "execute_result"
    }
   ],
   "source": [
    "img"
   ]
  },
  {
   "cell_type": "code",
   "execution_count": null,
   "metadata": {
    "collapsed": true
   },
   "outputs": [],
   "source": []
  }
 ],
 "metadata": {
  "anaconda-cloud": {},
  "kernelspec": {
   "display_name": "Python [conda root]",
   "language": "python",
   "name": "conda-root-py"
  },
  "language_info": {
   "codemirror_mode": {
    "name": "ipython",
    "version": 3
   },
   "file_extension": ".py",
   "mimetype": "text/x-python",
   "name": "python",
   "nbconvert_exporter": "python",
   "pygments_lexer": "ipython3",
   "version": "3.5.2"
  }
 },
 "nbformat": 4,
 "nbformat_minor": 1
}
