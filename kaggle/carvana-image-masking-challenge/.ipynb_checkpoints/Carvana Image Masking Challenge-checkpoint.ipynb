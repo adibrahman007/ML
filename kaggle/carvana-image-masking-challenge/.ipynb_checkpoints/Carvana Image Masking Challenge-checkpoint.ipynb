{
 "cells": [
  {
   "cell_type": "markdown",
   "metadata": {},
   "source": [
    "# Carvana Image Masking Challenge\n",
    "https://www.kaggle.com/c/carvana-image-masking-challenge\n",
    "\n",
    "In this problem I thought I would take the time to learn more about Convolutional Neural Networks.\n",
    "\n",
    "I'll start by writting some code that produces a convolutional layer from a given tensor input. Theory: http://cs231n.github.io/convolutional-networks/\n",
    "https://youtu.be/vq2nnJ4g6N0?t=3650. "
   ]
  },
  {
   "cell_type": "code",
   "execution_count": 1,
   "metadata": {
    "collapsed": true
   },
   "outputs": [],
   "source": [
    "import numpy as np\n",
    "import pandas as pd"
   ]
  },
  {
   "cell_type": "code",
   "execution_count": 3,
   "metadata": {
    "collapsed": true
   },
   "outputs": [],
   "source": [
    "height = 4\n",
    "width = 4\n",
    "depth = 3\n",
    "\n",
    "#height and width correspond to # rows and # columns for matrices, respectively\n"
   ]
  },
  {
   "cell_type": "code",
   "execution_count": 16,
   "metadata": {},
   "outputs": [],
   "source": [
    "X_tensor = np.random.randint(5, size=(height, width, depth))"
   ]
  },
  {
   "cell_type": "markdown",
   "metadata": {},
   "source": [
    "X_tensor is a tensor ( height x width matrices, depth # of them )"
   ]
  },
  {
   "cell_type": "code",
   "execution_count": 17,
   "metadata": {},
   "outputs": [
    {
     "data": {
      "text/plain": [
       "array([[2, 4, 0, 1],\n",
       "       [3, 2, 3, 2],\n",
       "       [0, 0, 4, 1],\n",
       "       [3, 1, 0, 4]])"
      ]
     },
     "execution_count": 17,
     "metadata": {},
     "output_type": "execute_result"
    }
   ],
   "source": [
    "X_tensor[:,:,0] # first matrix"
   ]
  },
  {
   "cell_type": "code",
   "execution_count": 73,
   "metadata": {},
   "outputs": [],
   "source": [
    "filters_length = 2 #filters or kernels\n",
    "\n",
    "#I'll fill W with 1's so the weights represents a 'mean blur'. For a given depth slice, i'm fixing the weights (shared parameters) \n",
    "#reasons for this can be: \n",
    "W = np.ones((height, width, filters_length))"
   ]
  },
  {
   "cell_type": "code",
   "execution_count": 74,
   "metadata": {},
   "outputs": [],
   "source": [
    "def convolutional_layer(X_tensor, W, stride = 1, padding = 0, filter_size = 2):\n",
    "    \n",
    "    height, width, depth = X_tensor.shape\n",
    "    \n",
    "    \n",
    "    output_width = int(1 + (width - filter_size - 2 * padding) / stride) \n",
    "    output_height = int(1 + (height - filter_size - 2 * padding) / stride)\n",
    "    #output depth will be the same as number of filters\n",
    "    output_depth = W.shape[2]\n",
    "    \n",
    "    V = np.zeros((output_height, output_width, output_depth)) \n",
    "    #V = np.random.randint(5, size=output_height, output_width, output_depth))\n",
    "    \n",
    "    \n",
    "    for k in range(output_depth):\n",
    "        X_matrix = X_tensor[:,:,k]\n",
    "        #for a given matrix (given depth slice is more precise), the weights will be the same (the sharing params assumption),\n",
    "        # but i'll implement a  filter anyway, to practice doing the actual convolutions\n",
    "        print(\"X_matrix {k}: \\n {X_matrix}\".format(k=k, X_matrix=X_matrix))\n",
    "        \n",
    "        W_matrix = W[:, :, k]\n",
    "        \n",
    "        for i in range(output_width):\n",
    "            \n",
    "            for j in range(output_height):\n",
    "            # the way it will fill V is:    for a given depth k, for a given row i, fill in columns j=0 ..output_height \n",
    "            # has speed advantage to: for a given depth k, for a given column i, fill in rows j=0,..., output_width\n",
    "            \n",
    "                X_sub_matrix = X_matrix[i*stride : filter_size + i*stride , j*stride : filter_size + j*stride]\n",
    "                \n",
    "                W_sub_matrix = W_matrix[i*stride : filter_size + i*stride , j*stride : filter_size + j*stride]\n",
    "                \n",
    "                print(\"performing convolution operation with: \\n\")\n",
    "                print(\"X_sub_matrix: \\n\", X_sub_matrix)\n",
    "                print(\"W_sub_matrix (the filter): \\n\", W_sub_matrix)\n",
    "                \n",
    "                #note, this is not a matrix product with X_sub_matrix and W_sub_matrix\n",
    "                convolution_result = np.sum(X_sub_matrix * W_sub_matrix)\n",
    "                \n",
    "                print(\" \\n for activation map {k}, neuron {i},{j} , placing convolution_result {convolution_result}\".format(k=k, i=i, j=j, convolution_result=convolution_result))\n",
    "                \n",
    "                \n",
    "                V[i,j,k] = convolution_result\n",
    "                  \n",
    "                print(\">>>>>>>>>>>>>>>>>>>> \\n\")\n",
    "                \n",
    "        return V"
   ]
  },
  {
   "cell_type": "code",
   "execution_count": 75,
   "metadata": {},
   "outputs": [
    {
     "name": "stdout",
     "output_type": "stream",
     "text": [
      "X_matrix 0: \n",
      " [[2 4 0 1]\n",
      " [3 2 3 2]\n",
      " [0 0 4 1]\n",
      " [3 1 0 4]]\n",
      "performing convolution operation with: \n",
      "\n",
      "X_sub_matrix: \n",
      " [[2 4]\n",
      " [3 2]]\n",
      "W_sub_matrix (the filter): \n",
      " [[ 1.  1.]\n",
      " [ 1.  1.]]\n",
      " \n",
      " for activation map 0, neuron 0,0 , placing convolution_result 11.0\n",
      ">>>>>>>>>>>>>>>>>>>> \n",
      "\n",
      "performing convolution operation with: \n",
      "\n",
      "X_sub_matrix: \n",
      " [[4 0]\n",
      " [2 3]]\n",
      "W_sub_matrix (the filter): \n",
      " [[ 1.  1.]\n",
      " [ 1.  1.]]\n",
      " \n",
      " for activation map 0, neuron 0,1 , placing convolution_result 9.0\n",
      ">>>>>>>>>>>>>>>>>>>> \n",
      "\n",
      "performing convolution operation with: \n",
      "\n",
      "X_sub_matrix: \n",
      " [[0 1]\n",
      " [3 2]]\n",
      "W_sub_matrix (the filter): \n",
      " [[ 1.  1.]\n",
      " [ 1.  1.]]\n",
      " \n",
      " for activation map 0, neuron 0,2 , placing convolution_result 6.0\n",
      ">>>>>>>>>>>>>>>>>>>> \n",
      "\n",
      "performing convolution operation with: \n",
      "\n",
      "X_sub_matrix: \n",
      " [[3 2]\n",
      " [0 0]]\n",
      "W_sub_matrix (the filter): \n",
      " [[ 1.  1.]\n",
      " [ 1.  1.]]\n",
      " \n",
      " for activation map 0, neuron 1,0 , placing convolution_result 5.0\n",
      ">>>>>>>>>>>>>>>>>>>> \n",
      "\n",
      "performing convolution operation with: \n",
      "\n",
      "X_sub_matrix: \n",
      " [[2 3]\n",
      " [0 4]]\n",
      "W_sub_matrix (the filter): \n",
      " [[ 1.  1.]\n",
      " [ 1.  1.]]\n",
      " \n",
      " for activation map 0, neuron 1,1 , placing convolution_result 9.0\n",
      ">>>>>>>>>>>>>>>>>>>> \n",
      "\n",
      "performing convolution operation with: \n",
      "\n",
      "X_sub_matrix: \n",
      " [[3 2]\n",
      " [4 1]]\n",
      "W_sub_matrix (the filter): \n",
      " [[ 1.  1.]\n",
      " [ 1.  1.]]\n",
      " \n",
      " for activation map 0, neuron 1,2 , placing convolution_result 10.0\n",
      ">>>>>>>>>>>>>>>>>>>> \n",
      "\n",
      "performing convolution operation with: \n",
      "\n",
      "X_sub_matrix: \n",
      " [[0 0]\n",
      " [3 1]]\n",
      "W_sub_matrix (the filter): \n",
      " [[ 1.  1.]\n",
      " [ 1.  1.]]\n",
      " \n",
      " for activation map 0, neuron 2,0 , placing convolution_result 4.0\n",
      ">>>>>>>>>>>>>>>>>>>> \n",
      "\n",
      "performing convolution operation with: \n",
      "\n",
      "X_sub_matrix: \n",
      " [[0 4]\n",
      " [1 0]]\n",
      "W_sub_matrix (the filter): \n",
      " [[ 1.  1.]\n",
      " [ 1.  1.]]\n",
      " \n",
      " for activation map 0, neuron 2,1 , placing convolution_result 5.0\n",
      ">>>>>>>>>>>>>>>>>>>> \n",
      "\n",
      "performing convolution operation with: \n",
      "\n",
      "X_sub_matrix: \n",
      " [[4 1]\n",
      " [0 4]]\n",
      "W_sub_matrix (the filter): \n",
      " [[ 1.  1.]\n",
      " [ 1.  1.]]\n",
      " \n",
      " for activation map 0, neuron 2,2 , placing convolution_result 9.0\n",
      ">>>>>>>>>>>>>>>>>>>> \n",
      "\n"
     ]
    }
   ],
   "source": [
    "V = convolutional_layer(X_tensor,W)"
   ]
  },
  {
   "cell_type": "code",
   "execution_count": 76,
   "metadata": {},
   "outputs": [
    {
     "data": {
      "text/plain": [
       "array([[ 11.,   9.,   6.],\n",
       "       [  5.,   9.,  10.],\n",
       "       [  4.,   5.,   9.]])"
      ]
     },
     "execution_count": 76,
     "metadata": {},
     "output_type": "execute_result"
    }
   ],
   "source": [
    "V[:,:,0] # activation map generated from 0:th filter"
   ]
  },
  {
   "cell_type": "code",
   "execution_count": 77,
   "metadata": {},
   "outputs": [
    {
     "data": {
      "text/plain": [
       "array([[ 0.,  0.,  0.],\n",
       "       [ 0.,  0.,  0.],\n",
       "       [ 0.,  0.,  0.]])"
      ]
     },
     "execution_count": 77,
     "metadata": {},
     "output_type": "execute_result"
    }
   ],
   "source": [
    "V[:,:,1] # activation map generated from 0:th filter"
   ]
  },
  {
   "cell_type": "code",
   "execution_count": null,
   "metadata": {
    "collapsed": true
   },
   "outputs": [],
   "source": [
    "# V is called output volume, and it constitutes the actual convolutional layer"
   ]
  }
 ],
 "metadata": {
  "anaconda-cloud": {},
  "kernelspec": {
   "display_name": "Python [conda root]",
   "language": "python",
   "name": "conda-root-py"
  },
  "language_info": {
   "codemirror_mode": {
    "name": "ipython",
    "version": 3
   },
   "file_extension": ".py",
   "mimetype": "text/x-python",
   "name": "python",
   "nbconvert_exporter": "python",
   "pygments_lexer": "ipython3",
   "version": "3.5.2"
  }
 },
 "nbformat": 4,
 "nbformat_minor": 1
}
