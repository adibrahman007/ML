{
 "cells": [
  {
   "cell_type": "markdown",
   "metadata": {},
   "source": [
    "# Titanic with decision trees and random forests\n",
    "\n",
    "Here I intend to explore and learn more about decision trees and random forests by participating in the Kaggle competition https://www.kaggle.com/c/titanic. I am also learning more about general methods to improve classification performance such as K-fold cross validation, bagging and good practices on how to deal with missing data. My Kaggle profile is https://www.kaggle.com/gurbraj. This is a playground where I try to get a feel for the different components that goes in to a project of this sort. I am well aware that making many submissions is not good practice.   \n",
    "\n",
    "My workflow is: \n",
    "\n",
    "    -Study some theory of how these algorithms work \n",
    "        - Some of the sources I use: \n",
    "            https://www.youtube.com/watch?v=LDRbO9a6XPU\n",
    "            http://people.ischool.berkeley.edu/~hal/Papers/2013/ml.pdf\n",
    "        \n",
    "    -Implement algorithm without external library and consulting theory as little as possible \n",
    "        -this is meant more as a sketch to make sure I understand the underlying mechanisms of the algorithm.\n",
    "  \n",
    "    - Work with algorithm through scikit learn\n",
    "        - get to know the library\n",
    "    \n",
    "         \n",
    "      "
   ]
  },
  {
   "cell_type": "code",
   "execution_count": 4,
   "metadata": {
    "collapsed": true
   },
   "outputs": [],
   "source": [
    "#setup kaggle cli by using \n",
    "#kg config -g -u $USER -p $PASSWoRD -c titanic\n",
    "#kg download"
   ]
  },
  {
   "cell_type": "code",
   "execution_count": 5,
   "metadata": {
    "collapsed": true
   },
   "outputs": [],
   "source": [
    "import pandas as pd"
   ]
  },
  {
   "cell_type": "code",
   "execution_count": 6,
   "metadata": {
    "collapsed": true
   },
   "outputs": [],
   "source": [
    "data = pd.read_csv('data/train.csv')"
   ]
  },
  {
   "cell_type": "code",
   "execution_count": 7,
   "metadata": {},
   "outputs": [
    {
     "data": {
      "text/html": [
       "<div>\n",
       "<table border=\"1\" class=\"dataframe\">\n",
       "  <thead>\n",
       "    <tr style=\"text-align: right;\">\n",
       "      <th></th>\n",
       "      <th>PassengerId</th>\n",
       "      <th>Survived</th>\n",
       "      <th>Pclass</th>\n",
       "      <th>Name</th>\n",
       "      <th>Sex</th>\n",
       "      <th>Age</th>\n",
       "      <th>SibSp</th>\n",
       "      <th>Parch</th>\n",
       "      <th>Ticket</th>\n",
       "      <th>Fare</th>\n",
       "      <th>Cabin</th>\n",
       "      <th>Embarked</th>\n",
       "    </tr>\n",
       "  </thead>\n",
       "  <tbody>\n",
       "    <tr>\n",
       "      <th>0</th>\n",
       "      <td>1</td>\n",
       "      <td>0</td>\n",
       "      <td>3</td>\n",
       "      <td>Braund, Mr. Owen Harris</td>\n",
       "      <td>male</td>\n",
       "      <td>22.0</td>\n",
       "      <td>1</td>\n",
       "      <td>0</td>\n",
       "      <td>A/5 21171</td>\n",
       "      <td>7.2500</td>\n",
       "      <td>NaN</td>\n",
       "      <td>S</td>\n",
       "    </tr>\n",
       "    <tr>\n",
       "      <th>1</th>\n",
       "      <td>2</td>\n",
       "      <td>1</td>\n",
       "      <td>1</td>\n",
       "      <td>Cumings, Mrs. John Bradley (Florence Briggs Th...</td>\n",
       "      <td>female</td>\n",
       "      <td>38.0</td>\n",
       "      <td>1</td>\n",
       "      <td>0</td>\n",
       "      <td>PC 17599</td>\n",
       "      <td>71.2833</td>\n",
       "      <td>C85</td>\n",
       "      <td>C</td>\n",
       "    </tr>\n",
       "    <tr>\n",
       "      <th>2</th>\n",
       "      <td>3</td>\n",
       "      <td>1</td>\n",
       "      <td>3</td>\n",
       "      <td>Heikkinen, Miss. Laina</td>\n",
       "      <td>female</td>\n",
       "      <td>26.0</td>\n",
       "      <td>0</td>\n",
       "      <td>0</td>\n",
       "      <td>STON/O2. 3101282</td>\n",
       "      <td>7.9250</td>\n",
       "      <td>NaN</td>\n",
       "      <td>S</td>\n",
       "    </tr>\n",
       "    <tr>\n",
       "      <th>3</th>\n",
       "      <td>4</td>\n",
       "      <td>1</td>\n",
       "      <td>1</td>\n",
       "      <td>Futrelle, Mrs. Jacques Heath (Lily May Peel)</td>\n",
       "      <td>female</td>\n",
       "      <td>35.0</td>\n",
       "      <td>1</td>\n",
       "      <td>0</td>\n",
       "      <td>113803</td>\n",
       "      <td>53.1000</td>\n",
       "      <td>C123</td>\n",
       "      <td>S</td>\n",
       "    </tr>\n",
       "    <tr>\n",
       "      <th>4</th>\n",
       "      <td>5</td>\n",
       "      <td>0</td>\n",
       "      <td>3</td>\n",
       "      <td>Allen, Mr. William Henry</td>\n",
       "      <td>male</td>\n",
       "      <td>35.0</td>\n",
       "      <td>0</td>\n",
       "      <td>0</td>\n",
       "      <td>373450</td>\n",
       "      <td>8.0500</td>\n",
       "      <td>NaN</td>\n",
       "      <td>S</td>\n",
       "    </tr>\n",
       "  </tbody>\n",
       "</table>\n",
       "</div>"
      ],
      "text/plain": [
       "   PassengerId  Survived  Pclass  \\\n",
       "0            1         0       3   \n",
       "1            2         1       1   \n",
       "2            3         1       3   \n",
       "3            4         1       1   \n",
       "4            5         0       3   \n",
       "\n",
       "                                                Name     Sex   Age  SibSp  \\\n",
       "0                            Braund, Mr. Owen Harris    male  22.0      1   \n",
       "1  Cumings, Mrs. John Bradley (Florence Briggs Th...  female  38.0      1   \n",
       "2                             Heikkinen, Miss. Laina  female  26.0      0   \n",
       "3       Futrelle, Mrs. Jacques Heath (Lily May Peel)  female  35.0      1   \n",
       "4                           Allen, Mr. William Henry    male  35.0      0   \n",
       "\n",
       "   Parch            Ticket     Fare Cabin Embarked  \n",
       "0      0         A/5 21171   7.2500   NaN        S  \n",
       "1      0          PC 17599  71.2833   C85        C  \n",
       "2      0  STON/O2. 3101282   7.9250   NaN        S  \n",
       "3      0            113803  53.1000  C123        S  \n",
       "4      0            373450   8.0500   NaN        S  "
      ]
     },
     "execution_count": 7,
     "metadata": {},
     "output_type": "execute_result"
    }
   ],
   "source": [
    "data.head()"
   ]
  },
  {
   "cell_type": "markdown",
   "metadata": {},
   "source": [
    "I'll start by just using age and sex as features."
   ]
  },
  {
   "cell_type": "code",
   "execution_count": 8,
   "metadata": {
    "collapsed": true
   },
   "outputs": [],
   "source": [
    "X_df = data[['Age', 'Sex', 'PassengerId']]\n",
    "Y_df = data[ ['Survived', 'PassengerId']]"
   ]
  },
  {
   "cell_type": "code",
   "execution_count": 9,
   "metadata": {
    "collapsed": true
   },
   "outputs": [],
   "source": [
    "X_df = X_df.set_index('PassengerId')\n",
    "Y_df = Y_df.set_index('PassengerId')"
   ]
  },
  {
   "cell_type": "code",
   "execution_count": 10,
   "metadata": {},
   "outputs": [
    {
     "data": {
      "text/html": [
       "<div>\n",
       "<table border=\"1\" class=\"dataframe\">\n",
       "  <thead>\n",
       "    <tr style=\"text-align: right;\">\n",
       "      <th></th>\n",
       "      <th>Age</th>\n",
       "      <th>Sex</th>\n",
       "    </tr>\n",
       "    <tr>\n",
       "      <th>PassengerId</th>\n",
       "      <th></th>\n",
       "      <th></th>\n",
       "    </tr>\n",
       "  </thead>\n",
       "  <tbody>\n",
       "    <tr>\n",
       "      <th>1</th>\n",
       "      <td>22.0</td>\n",
       "      <td>male</td>\n",
       "    </tr>\n",
       "    <tr>\n",
       "      <th>2</th>\n",
       "      <td>38.0</td>\n",
       "      <td>female</td>\n",
       "    </tr>\n",
       "    <tr>\n",
       "      <th>3</th>\n",
       "      <td>26.0</td>\n",
       "      <td>female</td>\n",
       "    </tr>\n",
       "    <tr>\n",
       "      <th>4</th>\n",
       "      <td>35.0</td>\n",
       "      <td>female</td>\n",
       "    </tr>\n",
       "    <tr>\n",
       "      <th>5</th>\n",
       "      <td>35.0</td>\n",
       "      <td>male</td>\n",
       "    </tr>\n",
       "  </tbody>\n",
       "</table>\n",
       "</div>"
      ],
      "text/plain": [
       "              Age     Sex\n",
       "PassengerId              \n",
       "1            22.0    male\n",
       "2            38.0  female\n",
       "3            26.0  female\n",
       "4            35.0  female\n",
       "5            35.0    male"
      ]
     },
     "execution_count": 10,
     "metadata": {},
     "output_type": "execute_result"
    }
   ],
   "source": [
    "X_df.head()"
   ]
  },
  {
   "cell_type": "code",
   "execution_count": 11,
   "metadata": {},
   "outputs": [
    {
     "data": {
      "text/html": [
       "<div>\n",
       "<table border=\"1\" class=\"dataframe\">\n",
       "  <thead>\n",
       "    <tr style=\"text-align: right;\">\n",
       "      <th></th>\n",
       "      <th>Survived</th>\n",
       "    </tr>\n",
       "    <tr>\n",
       "      <th>PassengerId</th>\n",
       "      <th></th>\n",
       "    </tr>\n",
       "  </thead>\n",
       "  <tbody>\n",
       "    <tr>\n",
       "      <th>1</th>\n",
       "      <td>0</td>\n",
       "    </tr>\n",
       "    <tr>\n",
       "      <th>2</th>\n",
       "      <td>1</td>\n",
       "    </tr>\n",
       "    <tr>\n",
       "      <th>3</th>\n",
       "      <td>1</td>\n",
       "    </tr>\n",
       "    <tr>\n",
       "      <th>4</th>\n",
       "      <td>1</td>\n",
       "    </tr>\n",
       "    <tr>\n",
       "      <th>5</th>\n",
       "      <td>0</td>\n",
       "    </tr>\n",
       "  </tbody>\n",
       "</table>\n",
       "</div>"
      ],
      "text/plain": [
       "             Survived\n",
       "PassengerId          \n",
       "1                   0\n",
       "2                   1\n",
       "3                   1\n",
       "4                   1\n",
       "5                   0"
      ]
     },
     "execution_count": 11,
     "metadata": {},
     "output_type": "execute_result"
    }
   ],
   "source": [
    "Y_df.head()"
   ]
  },
  {
   "cell_type": "code",
   "execution_count": 12,
   "metadata": {
    "collapsed": true
   },
   "outputs": [],
   "source": [
    "class Question:\n",
    "\n",
    "    def __init__(self, question_type, value):\n",
    "        self.question_type = question_type\n",
    "       \n",
    "        self.value = value\n",
    "        \n",
    "\n",
    "    def __repr__(self):\n",
    "        \n",
    "        if self.question_type ==\"Age\" :\n",
    "            return \"Age >= {} ?\".format(self.value)\n",
    "        elif self.question_type == \"Sex\":\n",
    "            return \"Sex == {} ?\".format(self.value)\n",
    "        \n",
    "    def match(self, passenger):\n",
    "        #passenger will be a DataFrame row\n",
    "        if self.question_type ==\"Age\" :\n",
    "            return passenger.Age >= self.value\n",
    "        elif self.question_type == \"Sex\":\n",
    "            return self.value == passenger.Sex"
   ]
  },
  {
   "cell_type": "markdown",
   "metadata": {},
   "source": [
    "Some demos below to see that it works as intended."
   ]
  },
  {
   "cell_type": "code",
   "execution_count": 13,
   "metadata": {
    "collapsed": true
   },
   "outputs": [],
   "source": [
    "q_age = Question(\"Age\",1)"
   ]
  },
  {
   "cell_type": "code",
   "execution_count": 14,
   "metadata": {},
   "outputs": [
    {
     "data": {
      "text/plain": [
       "Age >= 1 ?"
      ]
     },
     "execution_count": 14,
     "metadata": {},
     "output_type": "execute_result"
    }
   ],
   "source": [
    "q_age"
   ]
  },
  {
   "cell_type": "code",
   "execution_count": 15,
   "metadata": {
    "collapsed": true
   },
   "outputs": [],
   "source": [
    "q_sexm = Question(\"Sex\", \"male\")"
   ]
  },
  {
   "cell_type": "code",
   "execution_count": 16,
   "metadata": {},
   "outputs": [
    {
     "data": {
      "text/plain": [
       "Sex == male ?"
      ]
     },
     "execution_count": 16,
     "metadata": {},
     "output_type": "execute_result"
    }
   ],
   "source": [
    "q_sexm"
   ]
  },
  {
   "cell_type": "code",
   "execution_count": 17,
   "metadata": {
    "collapsed": true
   },
   "outputs": [],
   "source": [
    "passenger_m22 = X_df.ix[1]"
   ]
  },
  {
   "cell_type": "code",
   "execution_count": 18,
   "metadata": {},
   "outputs": [
    {
     "data": {
      "text/plain": [
       "Age      22\n",
       "Sex    male\n",
       "Name: 1, dtype: object"
      ]
     },
     "execution_count": 18,
     "metadata": {},
     "output_type": "execute_result"
    }
   ],
   "source": [
    "passenger_m22"
   ]
  },
  {
   "cell_type": "code",
   "execution_count": 19,
   "metadata": {},
   "outputs": [
    {
     "data": {
      "text/plain": [
       "True"
      ]
     },
     "execution_count": 19,
     "metadata": {},
     "output_type": "execute_result"
    }
   ],
   "source": [
    "q_age.match(passenger_m22)"
   ]
  },
  {
   "cell_type": "code",
   "execution_count": 21,
   "metadata": {},
   "outputs": [
    {
     "data": {
      "text/plain": [
       "False"
      ]
     },
     "execution_count": 21,
     "metadata": {},
     "output_type": "execute_result"
    }
   ],
   "source": [
    "q_age23 = Question(\"Age\",23)\n",
    "q_age23.match(passenger_m22)"
   ]
  },
  {
   "cell_type": "code",
   "execution_count": 22,
   "metadata": {},
   "outputs": [
    {
     "data": {
      "text/plain": [
       "True"
      ]
     },
     "execution_count": 22,
     "metadata": {},
     "output_type": "execute_result"
    }
   ],
   "source": [
    "q_sexm.match(passenger_m22)"
   ]
  },
  {
   "cell_type": "markdown",
   "metadata": {},
   "source": [
    "Create measure of impurity "
   ]
  },
  {
   "cell_type": "code",
   "execution_count": 23,
   "metadata": {
    "collapsed": true
   },
   "outputs": [],
   "source": [
    "def gini_impurity_function(Y_df):\n",
    "    unique_values = Y_df.Survived.unique()\n",
    "    #will be 0 (died) or 1 (survived)  \n",
    "    died_count = Y_df[Y_df==0].count()\n",
    "    survived_count = Y_df[Y_df==1].count()\n",
    "    total_count = Y_df.count()\n",
    "    \n",
    "    result = 1 - (survived_count/total_count)**2 - (died_count/total_count)**2\n",
    "    return result[0]\n",
    "    "
   ]
  },
  {
   "cell_type": "code",
   "execution_count": 24,
   "metadata": {},
   "outputs": [
    {
     "data": {
      "text/plain": [
       "0.47301295786144276"
      ]
     },
     "execution_count": 24,
     "metadata": {},
     "output_type": "execute_result"
    }
   ],
   "source": [
    "gini_impurity_function(Y_df)"
   ]
  },
  {
   "cell_type": "code",
   "execution_count": 25,
   "metadata": {},
   "outputs": [
    {
     "data": {
      "text/plain": [
       "0.0"
      ]
     },
     "execution_count": 25,
     "metadata": {},
     "output_type": "execute_result"
    }
   ],
   "source": [
    "gini_impurity_function(Y_df[Y_df==1])"
   ]
  },
  {
   "cell_type": "markdown",
   "metadata": {},
   "source": [
    "Seems like it works."
   ]
  },
  {
   "cell_type": "markdown",
   "metadata": {},
   "source": [
    "Now, for a given question, find the passengers for which that question is true and then false"
   ]
  },
  {
   "cell_type": "code",
   "execution_count": 26,
   "metadata": {
    "collapsed": true
   },
   "outputs": [],
   "source": [
    "def partitioner(question, X_df):\n",
    "    \n",
    "    true_passengers = []\n",
    "    false_passengers = []\n",
    "    \n",
    "    \n",
    "    for passenger in X_df.itertuples():\n",
    "        if question.match(passenger):\n",
    "            true_passengers.append(passenger[0])\n",
    "            #print(question ,passenger)\n",
    "        else:\n",
    "            #print(\"did not match\", passenger)\n",
    "            false_passengers.append(passenger[0])\n",
    "            \n",
    "            \n",
    "    #turn arrays (that contain ID_s into DF's)        \n",
    "    true_passengers = pd.DataFrame(data={\"PassengerId\": true_passengers})        \n",
    "    false_passengers = pd.DataFrame(data={\"PassengerId\": false_passengers})\n",
    "    \n",
    "    true_passengers_df = X_df.merge(true_passengers, how='inner', left_index=True, right_on='PassengerId').set_index('PassengerId')\n",
    "    false_passengers_df = X_df.merge(false_passengers, how='inner', left_index=True, right_on='PassengerId').set_index('PassengerId')        \n",
    "    return true_passengers_df, false_passengers_df        "
   ]
  },
  {
   "cell_type": "code",
   "execution_count": 28,
   "metadata": {},
   "outputs": [],
   "source": [
    "true_passengers_df, false_passengers_df = partitioner(q_age23, X_df)"
   ]
  },
  {
   "cell_type": "code",
   "execution_count": 29,
   "metadata": {},
   "outputs": [
    {
     "data": {
      "text/html": [
       "<div>\n",
       "<table border=\"1\" class=\"dataframe\">\n",
       "  <thead>\n",
       "    <tr style=\"text-align: right;\">\n",
       "      <th></th>\n",
       "      <th>Age</th>\n",
       "      <th>Sex</th>\n",
       "    </tr>\n",
       "    <tr>\n",
       "      <th>PassengerId</th>\n",
       "      <th></th>\n",
       "      <th></th>\n",
       "    </tr>\n",
       "  </thead>\n",
       "  <tbody>\n",
       "    <tr>\n",
       "      <th>2</th>\n",
       "      <td>38.0</td>\n",
       "      <td>female</td>\n",
       "    </tr>\n",
       "    <tr>\n",
       "      <th>3</th>\n",
       "      <td>26.0</td>\n",
       "      <td>female</td>\n",
       "    </tr>\n",
       "    <tr>\n",
       "      <th>4</th>\n",
       "      <td>35.0</td>\n",
       "      <td>female</td>\n",
       "    </tr>\n",
       "    <tr>\n",
       "      <th>5</th>\n",
       "      <td>35.0</td>\n",
       "      <td>male</td>\n",
       "    </tr>\n",
       "    <tr>\n",
       "      <th>7</th>\n",
       "      <td>54.0</td>\n",
       "      <td>male</td>\n",
       "    </tr>\n",
       "  </tbody>\n",
       "</table>\n",
       "</div>"
      ],
      "text/plain": [
       "              Age     Sex\n",
       "PassengerId              \n",
       "2            38.0  female\n",
       "3            26.0  female\n",
       "4            35.0  female\n",
       "5            35.0    male\n",
       "7            54.0    male"
      ]
     },
     "execution_count": 29,
     "metadata": {},
     "output_type": "execute_result"
    }
   ],
   "source": [
    "true_passengers_df.head()"
   ]
  },
  {
   "cell_type": "markdown",
   "metadata": {},
   "source": [
    "plan for finding the best split: \n",
    "    1) ask all possible questions\n",
    "    2) find out which one gives the best information gain and pick that question."
   ]
  },
  {
   "cell_type": "code",
   "execution_count": 30,
   "metadata": {
    "collapsed": true
   },
   "outputs": [],
   "source": [
    "def find_best_split(X_df, Y_df ):\n",
    "    \n",
    "\n",
    "    \n",
    "    \n",
    "    ages = X_df.Age.unique()\n",
    "    sexes = X_df.Sex.unique()\n",
    "    \n",
    "    gini_impurity = gini_impurity_function(Y_df)\n",
    "    \n",
    "    information_gain_age_max = 0\n",
    "    information_gain_sex_max = 0\n",
    "    \n",
    "    age_question_max = ages[0]\n",
    "    sex_question_max = sexes[0]\n",
    "    \n",
    "    for age in ages:\n",
    "        age_question = Question(\"Age\", age)\n",
    "        \n",
    "        true_passengers_df, false_passengers_df = partitioner(age_question, X_df)\n",
    "        \n",
    "        if len(true_passengers_df)==0 or len(false_passengers_df) ==0 :\n",
    "            continue\n",
    "        \n",
    "        Y_df_of_true_passengers = Y_df.merge(true_passengers_df, how='inner', left_index=True, right_index=True)['Survived'].to_frame()\n",
    "        #now need to do\n",
    "        Y_df_of_false_passengers = Y_df.merge(false_passengers_df, how='inner', left_index=True, right_index=True)['Survived'].to_frame()\n",
    "        \n",
    "        true_passengers_fraction = len(true_passengers_df) / (len(true_passengers_df) + len(false_passengers_df))\n",
    "        \n",
    "        gini_impurity_post_split = true_passengers_fraction * gini_impurity_function(Y_df_of_true_passengers ) + (1 - true_passengers_fraction) * gini_impurity_function(Y_df_of_false_passengers )\n",
    "        \n",
    "        information_gain_age = gini_impurity - gini_impurity_post_split\n",
    "        \n",
    "        if  information_gain_age > information_gain_age_max:\n",
    "            information_gain_age_max = information_gain_age\n",
    "            age_question_max = age_question\n",
    "            \n",
    "    #for sex        \n",
    "    for sex in sexes:\n",
    "        sex_question = Question(\"Sex\", sex)\n",
    "        \n",
    "        true_passengers_df, false_passengers_df = partitioner(sex_question, X_df)\n",
    "        \n",
    "        if len(true_passengers_df)==0 or len(false_passengers_df) ==0 :\n",
    "            continue\n",
    "        \n",
    "        Y_df_of_true_passengers = Y_df.merge(true_passengers_df, how='inner', left_index=True, right_index=True)['Survived'].to_frame()\n",
    "        #now need to do\n",
    "        Y_df_of_false_passengers = Y_df.merge(false_passengers_df, how='inner', left_index=True, right_index=True)['Survived'].to_frame()\n",
    "        \n",
    "        true_passengers_fraction = len(true_passengers_df) / (len(true_passengers_df) + len(false_passengers_df))\n",
    "        \n",
    "        gini_impurity_post_split = true_passengers_fraction * gini_impurity_function(Y_df_of_true_passengers ) + (1 - true_passengers_fraction) * gini_impurity_function(Y_df_of_false_passengers )\n",
    "        \n",
    "        information_gain_sex = gini_impurity - gini_impurity_post_split\n",
    "        \n",
    "        if information_gain_sex > information_gain_sex_max:\n",
    "            information_gain_sex_max = information_gain_sex \n",
    "            sex_question_max = sex_question\n",
    "    \n",
    "    \n",
    "    #compare and return best question.\n",
    "    \n",
    "    if information_gain_sex_max > information_gain_age_max:\n",
    "        return information_gain_sex_max, sex_question_max\n",
    "    else: \n",
    "        return information_gain_age_max, age_question_max\n",
    "        "
   ]
  },
  {
   "cell_type": "code",
   "execution_count": 31,
   "metadata": {
    "collapsed": true
   },
   "outputs": [],
   "source": [
    "information_gain, question = find_best_split(X_df, Y_df)"
   ]
  },
  {
   "cell_type": "code",
   "execution_count": 32,
   "metadata": {},
   "outputs": [
    {
     "data": {
      "text/plain": [
       "Sex == male ?"
      ]
     },
     "execution_count": 32,
     "metadata": {},
     "output_type": "execute_result"
    }
   ],
   "source": [
    "question"
   ]
  },
  {
   "cell_type": "code",
   "execution_count": 33,
   "metadata": {},
   "outputs": [
    {
     "data": {
      "text/plain": [
       "0.13964795747285236"
      ]
     },
     "execution_count": 33,
     "metadata": {},
     "output_type": "execute_result"
    }
   ],
   "source": [
    "information_gain"
   ]
  },
  {
   "cell_type": "markdown",
   "metadata": {},
   "source": [
    "Since most information is gained from the sex question this question will be the first one asked.\n",
    "\n",
    "Also makes sense that sex should be a big contributor to who gets to live and who gets to die. No room for the disposable man on the life boats."
   ]
  },
  {
   "cell_type": "code",
   "execution_count": null,
   "metadata": {
    "collapsed": true
   },
   "outputs": [],
   "source": []
  },
  {
   "cell_type": "code",
   "execution_count": 34,
   "metadata": {
    "collapsed": true
   },
   "outputs": [],
   "source": [
    "class Leaf:\n",
    "\n",
    "    def __init__(self, question):\n",
    "        self.question = question"
   ]
  },
  {
   "cell_type": "code",
   "execution_count": 35,
   "metadata": {
    "collapsed": true
   },
   "outputs": [],
   "source": [
    "class Node:\n",
    "    # node will have a question, and the partition that arise from dividing on that question at that location.\n",
    "    def __init__(self, question, true_passengers, false_passengers):\n",
    "        self.question = question\n",
    "        self.true_passengers = true_passengers\n",
    "        self.false_passengers = false_passengers"
   ]
  },
  {
   "cell_type": "code",
   "execution_count": 36,
   "metadata": {
    "collapsed": true
   },
   "outputs": [],
   "source": [
    "def train_tree(X_df, Y_df):\n",
    "    \n",
    "    information_gain, question = find_best_split(X_df, Y_df)\n",
    "    print(question, information_gain)\n",
    "    \n",
    "    if information_gain == 0:\n",
    "         return Leaf(question)\n",
    "        \n",
    "        \n",
    "        \n",
    "    true_passengers_df, false_passengers_df = partitioner(question, X_df)\n",
    "    \n",
    "    Y_df_of_true_passengers = Y_df.merge(true_passengers_df, how='inner', left_index=True, right_index=True)['Survived'].to_frame()\n",
    "        \n",
    "    Y_df_of_false_passengers = Y_df.merge(false_passengers_df, how='inner', left_index=True, right_index=True)['Survived'].to_frame()\n",
    "    \n",
    "    train_tree(true_passengers_df, Y_df_of_true_passengers)\n",
    "    \n",
    "    train_tree(false_passengers_df, Y_df_of_false_passengers)\n",
    "    \n",
    "    return Node(question, true_passengers_df, false_passengers_df)"
   ]
  },
  {
   "cell_type": "code",
   "execution_count": 37,
   "metadata": {},
   "outputs": [
    {
     "name": "stdout",
     "output_type": "stream",
     "text": [
      "Sex == male ? 0.139647957473\n",
      "Age >= 80.0 ? 0.00228427082051\n",
      "80.0 0\n",
      "Age >= 0.42 ? 0.00187562446474\n",
      "Age >= 7.0 ? 0.0240545577551\n",
      "Age >= 25.0 ? 0.00269327692059\n",
      "Age >= 54.0 ? 0.00402639108571\n",
      "Age >= 64.0 ? 0.00694444444444\n",
      "66.0 0\n",
      "Age >= 56.0 ? 0.0128676470588\n",
      "Age >= 62.0 ? 0.0105453946284\n",
      "62.0 0\n",
      "Age >= 57.0 ? 0.0197897340754\n",
      "Age >= 60.0 ? 0.0137741046832\n",
      "Age >= 61.0 ? 0.0555555555556\n",
      "61.0 0\n",
      "60.0 0\n",
      "59.0 0\n",
      "56.0 0\n",
      "54.0 0\n",
      "Age >= 28.0 ? 0.00277561926008\n",
      "Age >= 48.0 ? 0.00434835849309\n",
      "Age >= 50.0 ? 0.0592592592593\n",
      "Age >= 52.0 ? 0.00181818181818\n",
      "52.0 0\n",
      "Age >= 51.0 ? 0.000550964187328\n",
      "51.0 0\n",
      "50.0 0\n",
      "Age >= 49.0 ? 0.00493827160494\n",
      "49.0 0\n",
      "48.0 0\n",
      "Age >= 45.5 ? 0.00472627474382\n",
      "46.0 0\n",
      "Age >= 31.0 ? 0.00409187758264\n",
      "Age >= 32.5 ? 0.0146022167021\n",
      "Age >= 34.0 ? 0.00731778759564\n",
      "Age >= 45.0 ? 0.00229645843051\n",
      "45.0 0\n",
      "Age >= 36.5 ? 0.00338735882137\n",
      "Age >= 42.0 ? 0.00312937181664\n",
      "Age >= 43.0 ? 0.0177900892582\n",
      "Age >= 44.0 ? 0.0123456790123\n",
      "44.0 0\n",
      "43.0 0\n",
      "42.0 0\n",
      "Age >= 40.5 ? 0.00493313292481\n",
      "40.5 0\n",
      "Age >= 37.0 ? 0.00168829798459\n",
      "Age >= 39.0 ? 0.00114757037834\n",
      "Age >= 40.0 ? 0.00015873015873\n",
      "40.0 0\n",
      "39.0 0\n",
      "Age >= 38.0 ? 0.000550964187328\n",
      "38.0 0\n",
      "37.0 0\n",
      "36.5 0\n",
      "Age >= 35.0 ? 0.00562941319698\n",
      "Age >= 36.0 ? 0.000533333333333\n",
      "36.0 0\n",
      "35.0 0\n",
      "Age >= 34.5 ? 0.00505050505051\n",
      "34.5 0\n",
      "34.0 0\n",
      "33.0 0\n",
      "Age >= 32.0 ? 0.0133333333333\n",
      "32.0 0\n",
      "31.0 0\n",
      "Age >= 30.0 ? 0.00309343434343\n",
      "Age >= 30.5 ? 0.000634920634921\n",
      "30.5 0\n",
      "30.0 0\n",
      "Age >= 29.0 ? 0.00816557180194\n",
      "29.0 0\n",
      "Age >= 28.5 ? 0.00222222222222\n",
      "28.5 0\n",
      "28.0 0\n",
      "Age >= 27.0 ? 0.0302517489838\n",
      "27.0 0\n",
      "Age >= 26.0 ? 3.55754778232e-05\n",
      "26.0 0\n",
      "25.0 0\n",
      "Age >= 14.0 ? 0.0142317984608\n",
      "Age >= 20.5 ? 0.00152437907601\n",
      "Age >= 21.0 ? 0.000158495874154\n",
      "Age >= 24.5 ? 0.000166885704153\n",
      "24.5 0\n",
      "Age >= 23.0 ? 0.00015081563558\n",
      "Age >= 23.5 ? 0.000533333333333\n",
      "Age >= 24.0 ? 0.000634920634921\n",
      "24.0 0\n",
      "23.5 0\n",
      "23.0 0\n",
      "Age >= 22.0 ? 3.0637254902e-05\n",
      "22.0 0\n",
      "21.0 0\n",
      "20.5 0\n",
      "Age >= 20.0 ? 0.00579881656805\n",
      "20.0 0\n",
      "Age >= 16.0 ? 0.00113210964859\n",
      "Age >= 19.0 ? 9.55396422338e-05\n",
      "19.0 0\n",
      "Age >= 18.0 ? 0.00056920764517\n",
      "18.0 0\n",
      "Age >= 17.0 ? 0.00128266794933\n",
      "17.0 0\n",
      "16.0 0\n",
      "15.0 0\n",
      "Age >= 12.0 ? 0.0631163708087\n",
      "12.0 0\n",
      "Age >= 8.0 ? 0.0444444444444\n",
      "Age >= 10.0 ? 0.03\n",
      "Age >= 11.0 ? 0.0416666666667\n",
      "11.0 0\n",
      "10.0 0\n",
      "9.0 0\n",
      "7.0 0\n",
      "Age >= 1.0 ? 0.0584795321637\n",
      "Age >= 3.0 ? 0.0325638658049\n",
      "Age >= 4.0 ? 0.12\n",
      "Age >= 6.0 ? 0.1\n",
      "6.0 0\n",
      "4.0 0\n",
      "3.0 0\n",
      "Age >= 2.0 ? 0.0604938271605\n",
      "2.0 0\n",
      "1.0 0\n",
      "0.83 0\n",
      "nan 0\n",
      "Age >= 13.0 ? 0.00669687540216\n",
      "Age >= 49.0 ? 0.00454832476854\n",
      "Age >= 58.0 ? 0.00571895424837\n",
      "58.0 0\n",
      "Age >= 57.0 ? 0.0973183391003\n",
      "57.0 0\n",
      "Age >= 51.0 ? 0.0100446428571\n",
      "55.0 0\n",
      "Age >= 50.0 ? 0.0163265306122\n",
      "50.0 0\n",
      "49.0 0\n",
      "Age >= 43.0 ? 0.00539645407443\n",
      "Age >= 48.0 ? 0.0161032738887\n",
      "48.0 0\n",
      "Age >= 45.0 ? 0.00473372781065\n",
      "47.0 0\n",
      "Age >= 44.0 ? 0.0133333333333\n",
      "44.0 0\n",
      "43.0 0\n",
      "Age >= 32.5 ? 0.00552565350784\n",
      "Age >= 37.0 ? 0.0391849288735\n",
      "Age >= 38.0 ? 0.0432\n",
      "Age >= 42.0 ? 0.0178571428571\n",
      "42.0 0\n",
      "Age >= 41.0 ? 0.0216086434574\n",
      "41.0 0\n",
      "Age >= 40.0 ? 0.00513788403062\n",
      "40.0 0\n",
      "Age >= 39.0 ? 0.00881542699725\n",
      "39.0 0\n",
      "38.0 0\n",
      "37.0 0\n",
      "35.0 0\n",
      "Age >= 25.0 ? 0.00333620302468\n",
      "Age >= 26.0 ? 0.0181795291452\n",
      "Age >= 30.5 ? 0.00462982015721\n",
      "Age >= 31.0 ? 0.0809917355372\n",
      "Age >= 32.0 ? 0.000952380952381\n",
      "32.0 0\n",
      "31.0 0\n",
      "30.5 0\n",
      "Age >= 27.0 ? 0.00725806451613\n",
      "Age >= 30.0 ? 0.00212846466749\n",
      "30.0 0\n",
      "Age >= 28.0 ? 0.00595238095238\n",
      "29.0 0\n",
      "27.0 0\n",
      "26.0 0\n",
      "25.0 0\n",
      "Age >= 22.0 ? 0.00658229890064\n",
      "Age >= 24.0 ? 0.00132339437152\n",
      "24.0 0\n",
      "Age >= 23.0 ? 0.000461361014994\n",
      "23.0 0\n",
      "22.0 0\n",
      "Age >= 20.0 ? 0.0343179976454\n",
      "Age >= 21.0 ? 0.112874779541\n",
      "21.0 0\n",
      "20.0 0\n",
      "Age >= 19.0 ? 0.0170362358031\n",
      "19.0 0\n",
      "Age >= 18.0 ? 0.0204849498328\n",
      "18.0 0\n",
      "Age >= 15.0 ? 0.0109370780448\n",
      "Age >= 16.0 ? 0.0104166666667\n",
      "17.0 0\n",
      "15.0 0\n",
      "Age >= 14.5 ? 0.170068027211\n",
      "14.5 0\n",
      "Age >= 14.0 ? 0.0277777777778\n",
      "14.0 0\n",
      "13.0 0\n",
      "Age >= 9.0 ? 0.063597739915\n",
      "9.0 0\n",
      "Age >= 4.0 ? 0.0111576934522\n",
      "Age >= 6.0 ? 0.0734693877551\n",
      "Age >= 8.0 ? 0.0133333333333\n",
      "8.0 0\n",
      "Age >= 7.0 ? 0.111111111111\n",
      "7.0 0\n",
      "6.0 0\n",
      "4.0 0\n",
      "Age >= 2.0 ? 0.023046818229\n",
      "Age >= 3.0 ? 0.0104166666667\n",
      "3.0 0\n",
      "2.0 0\n",
      "Age >= 0.75 ? 0.013426482459\n",
      "1.0 0\n",
      "nan 0\n"
     ]
    }
   ],
   "source": [
    "last_node = train_tree(X_df, Y_df)"
   ]
  },
  {
   "cell_type": "raw",
   "metadata": {},
   "source": []
  },
  {
   "cell_type": "code",
   "execution_count": null,
   "metadata": {},
   "outputs": [],
   "source": []
  },
  {
   "cell_type": "markdown",
   "metadata": {},
   "source": [
    "# Implementation using Sklearn \n",
    "\n",
    "I start by just using the features Sex and Age"
   ]
  },
  {
   "cell_type": "code",
   "execution_count": 39,
   "metadata": {
    "collapsed": true
   },
   "outputs": [],
   "source": [
    "from sklearn import tree\n",
    "import numpy as np"
   ]
  },
  {
   "cell_type": "markdown",
   "metadata": {},
   "source": [
    "For the SK-learn algo to work, I need to encode sex. Note that I'm working by modifying the already existent X_df"
   ]
  },
  {
   "cell_type": "code",
   "execution_count": 40,
   "metadata": {
    "collapsed": true
   },
   "outputs": [],
   "source": [
    "#X_df_copy = X_df.copy()\n",
    "X_df.Sex = X_df.Sex.apply(lambda sex: 1 if sex=='male' else 0)"
   ]
  },
  {
   "cell_type": "markdown",
   "metadata": {},
   "source": [
    "### Handle missing values\n",
    "\n",
    "One way of handling missing values is simply just to remove them. Another way is to use the mean (or mode if it is categorial, variable) conditional on the other features. \n",
    "\n",
    "EX: if sex is missing, but age is K then choose according to max(# females age K, # males age K)\n",
    "\n",
    "EX: if age is missing, but sex is male, then choose   age mean for the male population\n",
    "\n",
    "I'll choose the latter as data is scarce and i have no idea of why the data is missing. \n",
    "\n",
    "my (incomplete) thoughts around this are that:\n",
    "\n",
    "If the distribution of the conditional data is symmetric around the mean, using the mean makes sense, as the mean is most likely to appear from a random draw.\n",
    "\n",
    "If the distribution is not symmetric around the mean, using the mode makes sense.\n",
    "\n",
    "when it comes to how reason for why the data missing comes into play (contrived example):\n",
    "     maybe the passengers had to fill in a voluntary form of their age. one could argue that those that did not fill in the form are more careless than the others, and hence are not well represented by the conditional distributions"
   ]
  },
  {
   "cell_type": "code",
   "execution_count": 41,
   "metadata": {
    "collapsed": true
   },
   "outputs": [],
   "source": [
    "#X_df_copy = X_df_copy[np.isnan(X_df_copy.Age)==False]"
   ]
  },
  {
   "cell_type": "code",
   "execution_count": null,
   "metadata": {
    "collapsed": true
   },
   "outputs": [],
   "source": []
  },
  {
   "cell_type": "code",
   "execution_count": 42,
   "metadata": {},
   "outputs": [
    {
     "data": {
      "image/png": "[encoded data removed]",
      "text/plain": [
       "<matplotlib.figure.Figure at 0x11583b780>"
      ]
     },
     "metadata": {},
     "output_type": "display_data"
    }
   ],
   "source": [
    "import matplotlib.pyplot as plt\n",
    "\n",
    "X_df_group_sex = X_df.groupby(['Sex'])['Age']\n",
    "#   ;p\n",
    "X_df_group_sex.hist()\n",
    "plt.show()"
   ]
  },
  {
   "cell_type": "markdown",
   "metadata": {},
   "source": [
    "An visual inspection shows that it is roughly normal distributed (and hence symmetric around the mean)"
   ]
  },
  {
   "cell_type": "code",
   "execution_count": 43,
   "metadata": {
    "collapsed": true
   },
   "outputs": [],
   "source": [
    "X_df_group_sex = X_df_group_sex.mean().to_frame()\n",
    "X_df_group_sex.Age = X_df_group_sex.Age.apply(lambda age: round(age))"
   ]
  },
  {
   "cell_type": "code",
   "execution_count": 44,
   "metadata": {},
   "outputs": [
    {
     "data": {
      "text/html": [
       "<div>\n",
       "<table border=\"1\" class=\"dataframe\">\n",
       "  <thead>\n",
       "    <tr style=\"text-align: right;\">\n",
       "      <th></th>\n",
       "      <th>Age</th>\n",
       "    </tr>\n",
       "    <tr>\n",
       "      <th>Sex</th>\n",
       "      <th></th>\n",
       "    </tr>\n",
       "  </thead>\n",
       "  <tbody>\n",
       "    <tr>\n",
       "      <th>0</th>\n",
       "      <td>28</td>\n",
       "    </tr>\n",
       "    <tr>\n",
       "      <th>1</th>\n",
       "      <td>31</td>\n",
       "    </tr>\n",
       "  </tbody>\n",
       "</table>\n",
       "</div>"
      ],
      "text/plain": [
       "     Age\n",
       "Sex     \n",
       "0     28\n",
       "1     31"
      ]
     },
     "execution_count": 44,
     "metadata": {},
     "output_type": "execute_result"
    }
   ],
   "source": [
    "X_df_group_sex\n"
   ]
  },
  {
   "cell_type": "code",
   "execution_count": 45,
   "metadata": {
    "collapsed": true
   },
   "outputs": [],
   "source": [
    "def compensated_age_inner_join(X_df, c_d_on = ['Sex']):\n",
    "    X_df_group_sex = X_df.groupby(c_d_on)['Age']\n",
    "    X_df_group_sex = X_df_group_sex.mean().to_frame()\n",
    "    #print(X_df_group_sex)\n",
    "    X_df_group_sex.Age = X_df_group_sex.Age.apply(lambda age: round(age))\n",
    "    \n",
    "    compensated_age = pd.merge(X_df, X_df_group_sex, left_on=c_d_on, how=\"left\", right_index=True).Age_y\n",
    "    #print(compensated_age)\n",
    "    \n",
    "    return compensated_age\n",
    "    "
   ]
  },
  {
   "cell_type": "code",
   "execution_count": 46,
   "metadata": {
    "collapsed": true
   },
   "outputs": [],
   "source": [
    "compensated_age = compensated_age_inner_join(X_df)"
   ]
  },
  {
   "cell_type": "code",
   "execution_count": 47,
   "metadata": {
    "collapsed": true
   },
   "outputs": [],
   "source": [
    "#this will put the values of passenger_compensated_age in the places that miss value. sort of like a inner join of age, on NaN \n",
    "X_df.Age = X_df.Age.fillna(compensated_age)"
   ]
  },
  {
   "cell_type": "code",
   "execution_count": null,
   "metadata": {
    "collapsed": true
   },
   "outputs": [],
   "source": []
  },
  {
   "cell_type": "markdown",
   "metadata": {},
   "source": [
    "### Fitting and Interpretation"
   ]
  },
  {
   "cell_type": "markdown",
   "metadata": {},
   "source": [
    "Just as a first approach, I'm setting the max_depth equal to the number of features 1) to prevent overfitting, 2) to get an easy interpretation\n",
    "\n"
   ]
  },
  {
   "cell_type": "code",
   "execution_count": 48,
   "metadata": {
    "collapsed": true
   },
   "outputs": [],
   "source": [
    "clf = tree.DecisionTreeClassifier(max_depth = 2)\n",
    "#setting max_depth equal to the number of features. 1) to prevent overfitting, 2) to get a easy interpretation\n",
    "clf = clf.fit(X_df.values, Y_df.values)"
   ]
  },
  {
   "cell_type": "code",
   "execution_count": 49,
   "metadata": {},
   "outputs": [
    {
     "data": {
      "text/plain": [
       "'titanic.pdf'"
      ]
     },
     "execution_count": 49,
     "metadata": {},
     "output_type": "execute_result"
    }
   ],
   "source": [
    "import graphviz \n",
    "dot_data = tree.export_graphviz(clf, feature_names=[\"Age\", \"Sex\"], class_names=[\"Died\", \"Survived\"], filled=True ,out_file=None) \n",
    "graph = graphviz.Source(dot_data) \n",
    "graph.render(\"titanic\") \n"
   ]
  },
  {
   "cell_type": "code",
   "execution_count": null,
   "metadata": {
    "collapsed": true
   },
   "outputs": [],
   "source": []
  },
  {
   "cell_type": "code",
   "execution_count": 50,
   "metadata": {},
   "outputs": [
    {
     "data": {
      "image/svg+xml": [
       "<?xml version=\"1.0\" encoding=\"UTF-8\" standalone=\"no\"?>\n",
       "<!DOCTYPE svg PUBLIC \"-//W3C//DTD SVG 1.1//EN\"\n",
       " \"http://www.w3.org/Graphics/SVG/1.1/DTD/svg11.dtd\">\n",
       "<!-- Generated by graphviz version 2.38.0 (20140413.2041)\n",
       " -->\n",
       "<!-- Title: Tree Pages: 1 -->\n",
       "<svg width=\"509pt\" height=\"300pt\"\n",
       " viewBox=\"0.00 0.00 508.54 300.00\" xmlns=\"http://www.w3.org/2000/svg\" xmlns:xlink=\"http://www.w3.org/1999/xlink\">\n",
       "<g id=\"graph0\" class=\"graph\" transform=\"scale(1 1) rotate(0) translate(4 296)\">\n",
       "<title>Tree</title>\n",
       "<polygon fill=\"white\" stroke=\"none\" points=\"-4,4 -4,-296 504.537,-296 504.537,4 -4,4\"/>\n",
       "<!-- 0 -->\n",
       "<g id=\"node1\" class=\"node\"><title>0</title>\n",
       "<polygon fill=\"#e58139\" fill-opacity=\"0.376471\" stroke=\"black\" points=\"309.807,-292 190.731,-292 190.731,-214 309.807,-214 309.807,-292\"/>\n",
       "<text text-anchor=\"middle\" x=\"250.269\" y=\"-276.8\" font-family=\"Times,serif\" font-size=\"14.00\">Sex &lt;= 0.5</text>\n",
       "<text text-anchor=\"middle\" x=\"250.269\" y=\"-262.8\" font-family=\"Times,serif\" font-size=\"14.00\">gini = 0.473</text>\n",
       "<text text-anchor=\"middle\" x=\"250.269\" y=\"-248.8\" font-family=\"Times,serif\" font-size=\"14.00\">samples = 891</text>\n",
       "<text text-anchor=\"middle\" x=\"250.269\" y=\"-234.8\" font-family=\"Times,serif\" font-size=\"14.00\">value = [549, 342]</text>\n",
       "<text text-anchor=\"middle\" x=\"250.269\" y=\"-220.8\" font-family=\"Times,serif\" font-size=\"14.00\">class = Died</text>\n",
       "</g>\n",
       "<!-- 1 -->\n",
       "<g id=\"node2\" class=\"node\"><title>1</title>\n",
       "<polygon fill=\"#399de5\" fill-opacity=\"0.650980\" stroke=\"black\" points=\"239.307,-178 127.23,-178 127.23,-100 239.307,-100 239.307,-178\"/>\n",
       "<text text-anchor=\"middle\" x=\"183.269\" y=\"-162.8\" font-family=\"Times,serif\" font-size=\"14.00\">Age &lt;= 32.25</text>\n",
       "<text text-anchor=\"middle\" x=\"183.269\" y=\"-148.8\" font-family=\"Times,serif\" font-size=\"14.00\">gini = 0.3828</text>\n",
       "<text text-anchor=\"middle\" x=\"183.269\" y=\"-134.8\" font-family=\"Times,serif\" font-size=\"14.00\">samples = 314</text>\n",
       "<text text-anchor=\"middle\" x=\"183.269\" y=\"-120.8\" font-family=\"Times,serif\" font-size=\"14.00\">value = [81, 233]</text>\n",
       "<text text-anchor=\"middle\" x=\"183.269\" y=\"-106.8\" font-family=\"Times,serif\" font-size=\"14.00\">class = Survived</text>\n",
       "</g>\n",
       "<!-- 0&#45;&gt;1 -->\n",
       "<g id=\"edge1\" class=\"edge\"><title>0&#45;&gt;1</title>\n",
       "<path fill=\"none\" stroke=\"black\" d=\"M227.398,-213.769C222.224,-205.119 216.672,-195.838 211.311,-186.877\"/>\n",
       "<polygon fill=\"black\" stroke=\"black\" points=\"214.173,-184.843 206.036,-178.058 208.166,-188.437 214.173,-184.843\"/>\n",
       "<text text-anchor=\"middle\" x=\"199.94\" y=\"-198.104\" font-family=\"Times,serif\" font-size=\"14.00\">True</text>\n",
       "</g>\n",
       "<!-- 4 -->\n",
       "<g id=\"node5\" class=\"node\"><title>4</title>\n",
       "<polygon fill=\"#e58139\" fill-opacity=\"0.768627\" stroke=\"black\" points=\"376.807,-178 257.731,-178 257.731,-100 376.807,-100 376.807,-178\"/>\n",
       "<text text-anchor=\"middle\" x=\"317.269\" y=\"-162.8\" font-family=\"Times,serif\" font-size=\"14.00\">Age &lt;= 6.5</text>\n",
       "<text text-anchor=\"middle\" x=\"317.269\" y=\"-148.8\" font-family=\"Times,serif\" font-size=\"14.00\">gini = 0.3064</text>\n",
       "<text text-anchor=\"middle\" x=\"317.269\" y=\"-134.8\" font-family=\"Times,serif\" font-size=\"14.00\">samples = 577</text>\n",
       "<text text-anchor=\"middle\" x=\"317.269\" y=\"-120.8\" font-family=\"Times,serif\" font-size=\"14.00\">value = [468, 109]</text>\n",
       "<text text-anchor=\"middle\" x=\"317.269\" y=\"-106.8\" font-family=\"Times,serif\" font-size=\"14.00\">class = Died</text>\n",
       "</g>\n",
       "<!-- 0&#45;&gt;4 -->\n",
       "<g id=\"edge4\" class=\"edge\"><title>0&#45;&gt;4</title>\n",
       "<path fill=\"none\" stroke=\"black\" d=\"M273.139,-213.769C278.313,-205.119 283.865,-195.838 289.226,-186.877\"/>\n",
       "<polygon fill=\"black\" stroke=\"black\" points=\"292.371,-188.437 294.501,-178.058 286.364,-184.843 292.371,-188.437\"/>\n",
       "<text text-anchor=\"middle\" x=\"300.597\" y=\"-198.104\" font-family=\"Times,serif\" font-size=\"14.00\">False</text>\n",
       "</g>\n",
       "<!-- 2 -->\n",
       "<g id=\"node3\" class=\"node\"><title>2</title>\n",
       "<polygon fill=\"#399de5\" fill-opacity=\"0.584314\" stroke=\"black\" points=\"112.307,-64 0.230497,-64 0.230497,-0 112.307,-0 112.307,-64\"/>\n",
       "<text text-anchor=\"middle\" x=\"56.2686\" y=\"-48.8\" font-family=\"Times,serif\" font-size=\"14.00\">gini = 0.4141</text>\n",
       "<text text-anchor=\"middle\" x=\"56.2686\" y=\"-34.8\" font-family=\"Times,serif\" font-size=\"14.00\">samples = 222</text>\n",
       "<text text-anchor=\"middle\" x=\"56.2686\" y=\"-20.8\" font-family=\"Times,serif\" font-size=\"14.00\">value = [65, 157]</text>\n",
       "<text text-anchor=\"middle\" x=\"56.2686\" y=\"-6.8\" font-family=\"Times,serif\" font-size=\"14.00\">class = Survived</text>\n",
       "</g>\n",
       "<!-- 1&#45;&gt;2 -->\n",
       "<g id=\"edge2\" class=\"edge\"><title>1&#45;&gt;2</title>\n",
       "<path fill=\"none\" stroke=\"black\" d=\"M137.059,-99.7956C125.534,-90.2671 113.187,-80.0585 101.7,-70.5614\"/>\n",
       "<polygon fill=\"black\" stroke=\"black\" points=\"103.843,-67.7917 93.9055,-64.1172 99.3824,-73.1866 103.843,-67.7917\"/>\n",
       "</g>\n",
       "<!-- 3 -->\n",
       "<g id=\"node4\" class=\"node\"><title>3</title>\n",
       "<polygon fill=\"#399de5\" fill-opacity=\"0.788235\" stroke=\"black\" points=\"239.43,-64 131.107,-64 131.107,-0 239.43,-0 239.43,-64\"/>\n",
       "<text text-anchor=\"middle\" x=\"185.269\" y=\"-48.8\" font-family=\"Times,serif\" font-size=\"14.00\">gini = 0.2873</text>\n",
       "<text text-anchor=\"middle\" x=\"185.269\" y=\"-34.8\" font-family=\"Times,serif\" font-size=\"14.00\">samples = 92</text>\n",
       "<text text-anchor=\"middle\" x=\"185.269\" y=\"-20.8\" font-family=\"Times,serif\" font-size=\"14.00\">value = [16, 76]</text>\n",
       "<text text-anchor=\"middle\" x=\"185.269\" y=\"-6.8\" font-family=\"Times,serif\" font-size=\"14.00\">class = Survived</text>\n",
       "</g>\n",
       "<!-- 1&#45;&gt;3 -->\n",
       "<g id=\"edge3\" class=\"edge\"><title>1&#45;&gt;3</title>\n",
       "<path fill=\"none\" stroke=\"black\" d=\"M183.996,-99.7956C184.155,-91.4581 184.324,-82.6 184.485,-74.1534\"/>\n",
       "<polygon fill=\"black\" stroke=\"black\" points=\"187.985,-74.182 184.676,-64.1172 180.986,-74.0487 187.985,-74.182\"/>\n",
       "</g>\n",
       "<!-- 5 -->\n",
       "<g id=\"node6\" class=\"node\"><title>5</title>\n",
       "<polygon fill=\"#399de5\" fill-opacity=\"0.498039\" stroke=\"black\" points=\"369.43,-64 261.107,-64 261.107,-0 369.43,-0 369.43,-64\"/>\n",
       "<text text-anchor=\"middle\" x=\"315.269\" y=\"-48.8\" font-family=\"Times,serif\" font-size=\"14.00\">gini = 0.4444</text>\n",
       "<text text-anchor=\"middle\" x=\"315.269\" y=\"-34.8\" font-family=\"Times,serif\" font-size=\"14.00\">samples = 24</text>\n",
       "<text text-anchor=\"middle\" x=\"315.269\" y=\"-20.8\" font-family=\"Times,serif\" font-size=\"14.00\">value = [8, 16]</text>\n",
       "<text text-anchor=\"middle\" x=\"315.269\" y=\"-6.8\" font-family=\"Times,serif\" font-size=\"14.00\">class = Survived</text>\n",
       "</g>\n",
       "<!-- 4&#45;&gt;5 -->\n",
       "<g id=\"edge5\" class=\"edge\"><title>4&#45;&gt;5</title>\n",
       "<path fill=\"none\" stroke=\"black\" d=\"M316.541,-99.7956C316.382,-91.4581 316.213,-82.6 316.052,-74.1534\"/>\n",
       "<polygon fill=\"black\" stroke=\"black\" points=\"319.551,-74.0487 315.861,-64.1172 312.552,-74.182 319.551,-74.0487\"/>\n",
       "</g>\n",
       "<!-- 6 -->\n",
       "<g id=\"node7\" class=\"node\"><title>6</title>\n",
       "<polygon fill=\"#e58139\" fill-opacity=\"0.796078\" stroke=\"black\" points=\"500.307,-64 388.23,-64 388.23,-0 500.307,-0 500.307,-64\"/>\n",
       "<text text-anchor=\"middle\" x=\"444.269\" y=\"-48.8\" font-family=\"Times,serif\" font-size=\"14.00\">gini = 0.2798</text>\n",
       "<text text-anchor=\"middle\" x=\"444.269\" y=\"-34.8\" font-family=\"Times,serif\" font-size=\"14.00\">samples = 553</text>\n",
       "<text text-anchor=\"middle\" x=\"444.269\" y=\"-20.8\" font-family=\"Times,serif\" font-size=\"14.00\">value = [460, 93]</text>\n",
       "<text text-anchor=\"middle\" x=\"444.269\" y=\"-6.8\" font-family=\"Times,serif\" font-size=\"14.00\">class = Died</text>\n",
       "</g>\n",
       "<!-- 4&#45;&gt;6 -->\n",
       "<g id=\"edge6\" class=\"edge\"><title>4&#45;&gt;6</title>\n",
       "<path fill=\"none\" stroke=\"black\" d=\"M363.478,-99.7956C375.003,-90.2671 387.35,-80.0585 398.837,-70.5614\"/>\n",
       "<polygon fill=\"black\" stroke=\"black\" points=\"401.155,-73.1866 406.632,-64.1172 396.694,-67.7917 401.155,-73.1866\"/>\n",
       "</g>\n",
       "</g>\n",
       "</svg>\n"
      ],
      "text/plain": [
       "<graphviz.files.Source at 0x117d4bb70>"
      ]
     },
     "execution_count": 50,
     "metadata": {},
     "output_type": "execute_result"
    }
   ],
   "source": [
    "graph"
   ]
  },
  {
   "cell_type": "markdown",
   "metadata": {},
   "source": [
    "For Males it will predict: If age is under 6.5, then live, else die"
   ]
  },
  {
   "cell_type": "code",
   "execution_count": 51,
   "metadata": {},
   "outputs": [
    {
     "data": {
      "text/plain": [
       "array([1])"
      ]
     },
     "execution_count": 51,
     "metadata": {},
     "output_type": "execute_result"
    }
   ],
   "source": [
    "clf.predict([[6.5, 1]])"
   ]
  },
  {
   "cell_type": "code",
   "execution_count": 52,
   "metadata": {},
   "outputs": [
    {
     "data": {
      "text/plain": [
       "array([0])"
      ]
     },
     "execution_count": 52,
     "metadata": {},
     "output_type": "execute_result"
    }
   ],
   "source": [
    "clf.predict([[7, 1]])"
   ]
  },
  {
   "cell_type": "markdown",
   "metadata": {},
   "source": [
    "For Females it will predict: live, for all ages"
   ]
  },
  {
   "cell_type": "code",
   "execution_count": 53,
   "metadata": {},
   "outputs": [
    {
     "data": {
      "text/plain": [
       "array([1])"
      ]
     },
     "execution_count": 53,
     "metadata": {},
     "output_type": "execute_result"
    }
   ],
   "source": [
    "clf.predict([[12, 0]])"
   ]
  },
  {
   "cell_type": "code",
   "execution_count": 54,
   "metadata": {},
   "outputs": [
    {
     "data": {
      "text/plain": [
       "array([1])"
      ]
     },
     "execution_count": 54,
     "metadata": {},
     "output_type": "execute_result"
    }
   ],
   "source": [
    "clf.predict([[122, 0]])"
   ]
  },
  {
   "cell_type": "markdown",
   "metadata": {},
   "source": [
    "This makes sense as 'Women and children first' was a policy for access to the life boats (Only source I have for this is the movie).\n",
    "\n",
    "value represent the quantity of how many people died and lived, respectively, at each node of the tree.\n",
    "\n",
    "#### Submission\n",
    "\n",
    "I'll make one submission now with these settings, just to get one benchmark-score.\n",
    "\n"
   ]
  },
  {
   "cell_type": "markdown",
   "metadata": {},
   "source": [
    "    "
   ]
  },
  {
   "cell_type": "code",
   "execution_count": 55,
   "metadata": {
    "collapsed": true
   },
   "outputs": [],
   "source": [
    "def prepare_submission(version, features_and_id=['Age', 'Sex', 'PassengerId']):\n",
    "    \n",
    "    test_data = pd.read_csv('data/test.csv')\n",
    "\n",
    "    X_test_df = test_data[features_and_id]\n",
    "    X_test_df = X_test_df.set_index('PassengerId')\n",
    "\n",
    "    X_test_df.Sex = X_test_df.Sex.apply(lambda sex: 1 if sex=='male' else 0)\n",
    "    \n",
    "    compensated_age = compensated_age_inner_join(X_test_df)\n",
    "    X_test_df.Age = X_test_df.Age.fillna(compensated_age)\n",
    "    \n",
    "\n",
    "    X_test_df['Prediction'] = clf.predict(X_test_df.values)\n",
    "\n",
    "    X_test_df['Prediction'].to_csv('./data/gender_submission_{}.csv'.format(version), index_label=['PassengerId'] ,header=['Survived'])\n"
   ]
  },
  {
   "cell_type": "code",
   "execution_count": 56,
   "metadata": {
    "collapsed": true
   },
   "outputs": [],
   "source": [
    "prepare_submission(1)"
   ]
  },
  {
   "cell_type": "markdown",
   "metadata": {},
   "source": [
    "then on kaggle CLI:   kg submit gender_submission.csv -u $user -p $password -c titanic\n",
    "\n",
    "this submission gave a accuracy of 0.75598 and placement 6897 / 8368. Fairly decent accuracy I think on such a simple procedure. \n",
    "\n",
    "Next, I will proceed by doing more analysis and improvements, by experimenting.\n",
    "\n",
    "In order to this, it is necessary to create a cross validation set.\n",
    "\n",
    "discretization\n",
    "\n",
    "more stuff here.\n",
    "\n",
    "then random forest\n",
    "\n",
    "## More features\n",
    "\n"
   ]
  },
  {
   "cell_type": "code",
   "execution_count": 57,
   "metadata": {
    "collapsed": true
   },
   "outputs": [],
   "source": [
    "Y_df = data[ ['Survived', 'PassengerId']]\n",
    "Y_df = Y_df.set_index('PassengerId')"
   ]
  },
  {
   "cell_type": "code",
   "execution_count": 58,
   "metadata": {},
   "outputs": [
    {
     "data": {
      "text/plain": [
       "array(['PassengerId', 'Pclass', 'Name', 'Sex', 'Age', 'SibSp', 'Parch',\n",
       "       'Ticket', 'Fare', 'Cabin', 'Embarked'], dtype=object)"
      ]
     },
     "execution_count": 58,
     "metadata": {},
     "output_type": "execute_result"
    }
   ],
   "source": [
    "\n",
    "X_df_columns = data.columns.values \n",
    "#remove('Survived')\n",
    "X_df_columns = np.delete(X_df_columns, 1)\n",
    "X_df_columns"
   ]
  },
  {
   "cell_type": "markdown",
   "metadata": {},
   "source": [
    "Remove features I think are irrelevant. Description of the features below.\n",
    "\n",
    "\n",
    "\n",
    "pclass\tTicket class\t1 = 1st, 2 = 2nd, 3 = 3rd\n",
    "sex\tSex\t\n",
    "Age\tAge in years\t\n",
    "sibsp\t# of siblings / spouses aboard the Titanic\t\n",
    "parch\t# of parents / children aboard the Titanic\t\n",
    "ticket\tTicket number\t\n",
    "fare\tPassenger fare\t\n",
    "cabin\tCabin number\t\n",
    "embarked\tPort of Embarkation"
   ]
  },
  {
   "cell_type": "code",
   "execution_count": 59,
   "metadata": {},
   "outputs": [
    {
     "data": {
      "text/plain": [
       "array(['PassengerId', 'Pclass', 'Sex', 'Age', 'SibSp', 'Parch'], dtype=object)"
      ]
     },
     "execution_count": 59,
     "metadata": {},
     "output_type": "execute_result"
    }
   ],
   "source": [
    "#remove('Name')\n",
    "X_df_columns = np.delete(X_df_columns, 2)\n",
    "#remove('Ticket')\n",
    "X_df_columns = np.delete(X_df_columns, 6)\n",
    "#remove('Fare')\n",
    "X_df_columns = np.delete(X_df_columns, 6)\n",
    "#remove('Cabin')\n",
    "X_df_columns = np.delete(X_df_columns, 6)\n",
    "#remove('Embarked') \n",
    "X_df_columns = np.delete(X_df_columns, 6)\n",
    "X_df_columns"
   ]
  },
  {
   "cell_type": "markdown",
   "metadata": {},
   "source": [
    "I think that pclass will be an important feature.\n",
    "\n",
    "\n",
    "sibsp and parch are likely correlated. Is this a problem with decision trees?"
   ]
  },
  {
   "cell_type": "code",
   "execution_count": null,
   "metadata": {
    "collapsed": true
   },
   "outputs": [],
   "source": []
  },
  {
   "cell_type": "code",
   "execution_count": 60,
   "metadata": {
    "collapsed": true
   },
   "outputs": [],
   "source": [
    "X_df = data[X_df_columns]\n",
    "X_df = X_df.set_index('PassengerId')\n",
    "\n",
    "compensated_age = compensated_age_inner_join(X_df, ['Pclass', 'Sex','Parch'])\n",
    "\n",
    "X_df.Age = X_df.Age.fillna(compensated_age)"
   ]
  },
  {
   "cell_type": "markdown",
   "metadata": {},
   "source": [
    "Note here that the compensated age does not take  SibSp into account. The reason for this (I learned this the hard way...), is that there exists a female that has age NAN, but an unique value for SibSp, so the groupby operation will not be able to compute a compensated age for the female. In essence, the conditional distribution will not be defined for the unique value of SibSp.\n",
    "\n",
    "Lesson is that whenever I'm handling missing errors by this method, then use compensated values on the maximum number of column namnes that does not generate any NAN values. \n",
    "\n"
   ]
  },
  {
   "cell_type": "code",
   "execution_count": 61,
   "metadata": {
    "collapsed": true
   },
   "outputs": [],
   "source": [
    "X_df.Sex = X_df.Sex.apply(lambda sex: 1 if sex =='male' else 0)"
   ]
  },
  {
   "cell_type": "markdown",
   "metadata": {},
   "source": [
    "## Discretize values\n",
    "\n",
    "If there are a lot of unique values in the feature space, I have read that the decision tree can have a difficult time learning meaningful patterns. One way of mitigating this is to 'discretize' the values. I think of this as creating a histogram for each feature, and use the histogram-values instead of the feature values.  \n",
    "\n",
    "In this particular case, Age has a lot of unique values."
   ]
  },
  {
   "cell_type": "code",
   "execution_count": 62,
   "metadata": {},
   "outputs": [
    {
     "data": {
      "text/plain": [
       "88"
      ]
     },
     "execution_count": 62,
     "metadata": {},
     "output_type": "execute_result"
    }
   ],
   "source": [
    "len(X_df.Age.unique())"
   ]
  },
  {
   "cell_type": "code",
   "execution_count": null,
   "metadata": {
    "collapsed": true
   },
   "outputs": [],
   "source": []
  },
  {
   "cell_type": "code",
   "execution_count": 63,
   "metadata": {
    "collapsed": true
   },
   "outputs": [],
   "source": [
    "pd.qcut(X_df.Age, 10, retbins=True)[1]\n",
    "def quantiles(series, k):\n",
    "    #gives back the quantile values, k of them \n",
    "    return pd.qcut(series, k, retbins=True)[1]\n",
    "\n",
    "def discretize(series, bins):\n",
    "    return pd.cut(series, bins, labels=range(len(bins)-1), include_lowest=True)\n",
    "\n",
    "\n",
    "X_df.Age = discretize(X_df.Age, quantiles(X_df.Age, 10))"
   ]
  },
  {
   "cell_type": "code",
   "execution_count": 64,
   "metadata": {},
   "outputs": [
    {
     "data": {
      "text/plain": [
       "10"
      ]
     },
     "execution_count": 64,
     "metadata": {},
     "output_type": "execute_result"
    }
   ],
   "source": [
    "len(X_df.Age.unique())"
   ]
  },
  {
   "cell_type": "code",
   "execution_count": 65,
   "metadata": {},
   "outputs": [
    {
     "data": {
      "text/plain": [
       "Index(['Pclass', 'Sex', 'Age', 'SibSp', 'Parch'], dtype='object')"
      ]
     },
     "execution_count": 65,
     "metadata": {},
     "output_type": "execute_result"
    }
   ],
   "source": [
    "X_df.columns"
   ]
  },
  {
   "cell_type": "code",
   "execution_count": 66,
   "metadata": {
    "collapsed": true
   },
   "outputs": [],
   "source": [
    "clf = tree.DecisionTreeClassifier(max_depth = 3)\n",
    "#note this one has a larger max_depth\n",
    "clf = clf.fit(X_df.values, Y_df.values)"
   ]
  },
  {
   "cell_type": "code",
   "execution_count": 67,
   "metadata": {},
   "outputs": [
    {
     "data": {
      "image/svg+xml": [
       "<?xml version=\"1.0\" encoding=\"UTF-8\" standalone=\"no\"?>\n",
       "<!DOCTYPE svg PUBLIC \"-//W3C//DTD SVG 1.1//EN\"\n",
       " \"http://www.w3.org/Graphics/SVG/1.1/DTD/svg11.dtd\">\n",
       "<!-- Generated by graphviz version 2.38.0 (20140413.2041)\n",
       " -->\n",
       "<!-- Title: Tree Pages: 1 -->\n",
       "<svg width=\"993pt\" height=\"414pt\"\n",
       " viewBox=\"0.00 0.00 992.60 414.00\" xmlns=\"http://www.w3.org/2000/svg\" xmlns:xlink=\"http://www.w3.org/1999/xlink\">\n",
       "<g id=\"graph0\" class=\"graph\" transform=\"scale(1 1) rotate(0) translate(4 410)\">\n",
       "<title>Tree</title>\n",
       "<polygon fill=\"white\" stroke=\"none\" points=\"-4,4 -4,-410 988.599,-410 988.599,4 -4,4\"/>\n",
       "<!-- 0 -->\n",
       "<g id=\"node1\" class=\"node\"><title>0</title>\n",
       "<polygon fill=\"#e58139\" fill-opacity=\"0.376471\" stroke=\"black\" points=\"544.869,-406 425.793,-406 425.793,-328 544.869,-328 544.869,-406\"/>\n",
       "<text text-anchor=\"middle\" x=\"485.331\" y=\"-390.8\" font-family=\"Times,serif\" font-size=\"14.00\">Sex &lt;= 0.5</text>\n",
       "<text text-anchor=\"middle\" x=\"485.331\" y=\"-376.8\" font-family=\"Times,serif\" font-size=\"14.00\">gini = 0.473</text>\n",
       "<text text-anchor=\"middle\" x=\"485.331\" y=\"-362.8\" font-family=\"Times,serif\" font-size=\"14.00\">samples = 891</text>\n",
       "<text text-anchor=\"middle\" x=\"485.331\" y=\"-348.8\" font-family=\"Times,serif\" font-size=\"14.00\">value = [549, 342]</text>\n",
       "<text text-anchor=\"middle\" x=\"485.331\" y=\"-334.8\" font-family=\"Times,serif\" font-size=\"14.00\">class = Died</text>\n",
       "</g>\n",
       "<!-- 1 -->\n",
       "<g id=\"node2\" class=\"node\"><title>1</title>\n",
       "<polygon fill=\"#399de5\" fill-opacity=\"0.650980\" stroke=\"black\" points=\"419.369,-292 307.293,-292 307.293,-214 419.369,-214 419.369,-292\"/>\n",
       "<text text-anchor=\"middle\" x=\"363.331\" y=\"-276.8\" font-family=\"Times,serif\" font-size=\"14.00\">Pclass &lt;= 2.5</text>\n",
       "<text text-anchor=\"middle\" x=\"363.331\" y=\"-262.8\" font-family=\"Times,serif\" font-size=\"14.00\">gini = 0.3828</text>\n",
       "<text text-anchor=\"middle\" x=\"363.331\" y=\"-248.8\" font-family=\"Times,serif\" font-size=\"14.00\">samples = 314</text>\n",
       "<text text-anchor=\"middle\" x=\"363.331\" y=\"-234.8\" font-family=\"Times,serif\" font-size=\"14.00\">value = [81, 233]</text>\n",
       "<text text-anchor=\"middle\" x=\"363.331\" y=\"-220.8\" font-family=\"Times,serif\" font-size=\"14.00\">class = Survived</text>\n",
       "</g>\n",
       "<!-- 0&#45;&gt;1 -->\n",
       "<g id=\"edge1\" class=\"edge\"><title>0&#45;&gt;1</title>\n",
       "<path fill=\"none\" stroke=\"black\" d=\"M443.686,-327.769C433.577,-318.488 422.676,-308.481 412.264,-298.923\"/>\n",
       "<polygon fill=\"black\" stroke=\"black\" points=\"414.521,-296.243 404.787,-292.058 409.787,-301.4 414.521,-296.243\"/>\n",
       "<text text-anchor=\"middle\" x=\"405.855\" y=\"-312.836\" font-family=\"Times,serif\" font-size=\"14.00\">True</text>\n",
       "</g>\n",
       "<!-- 8 -->\n",
       "<g id=\"node9\" class=\"node\"><title>8</title>\n",
       "<polygon fill=\"#e58139\" fill-opacity=\"0.768627\" stroke=\"black\" points=\"672.869,-292 553.793,-292 553.793,-214 672.869,-214 672.869,-292\"/>\n",
       "<text text-anchor=\"middle\" x=\"613.331\" y=\"-276.8\" font-family=\"Times,serif\" font-size=\"14.00\">Pclass &lt;= 1.5</text>\n",
       "<text text-anchor=\"middle\" x=\"613.331\" y=\"-262.8\" font-family=\"Times,serif\" font-size=\"14.00\">gini = 0.3064</text>\n",
       "<text text-anchor=\"middle\" x=\"613.331\" y=\"-248.8\" font-family=\"Times,serif\" font-size=\"14.00\">samples = 577</text>\n",
       "<text text-anchor=\"middle\" x=\"613.331\" y=\"-234.8\" font-family=\"Times,serif\" font-size=\"14.00\">value = [468, 109]</text>\n",
       "<text text-anchor=\"middle\" x=\"613.331\" y=\"-220.8\" font-family=\"Times,serif\" font-size=\"14.00\">class = Died</text>\n",
       "</g>\n",
       "<!-- 0&#45;&gt;8 -->\n",
       "<g id=\"edge8\" class=\"edge\"><title>0&#45;&gt;8</title>\n",
       "<path fill=\"none\" stroke=\"black\" d=\"M529.023,-327.769C539.732,-318.398 551.288,-308.287 562.308,-298.644\"/>\n",
       "<polygon fill=\"black\" stroke=\"black\" points=\"564.614,-301.278 569.835,-292.058 560.005,-296.01 564.614,-301.278\"/>\n",
       "<text text-anchor=\"middle\" x=\"568.172\" y=\"-312.803\" font-family=\"Times,serif\" font-size=\"14.00\">False</text>\n",
       "</g>\n",
       "<!-- 2 -->\n",
       "<g id=\"node3\" class=\"node\"><title>2</title>\n",
       "<polygon fill=\"#399de5\" fill-opacity=\"0.945098\" stroke=\"black\" points=\"235.492,-178 127.169,-178 127.169,-100 235.492,-100 235.492,-178\"/>\n",
       "<text text-anchor=\"middle\" x=\"181.331\" y=\"-162.8\" font-family=\"Times,serif\" font-size=\"14.00\">Pclass &lt;= 1.5</text>\n",
       "<text text-anchor=\"middle\" x=\"181.331\" y=\"-148.8\" font-family=\"Times,serif\" font-size=\"14.00\">gini = 0.1003</text>\n",
       "<text text-anchor=\"middle\" x=\"181.331\" y=\"-134.8\" font-family=\"Times,serif\" font-size=\"14.00\">samples = 170</text>\n",
       "<text text-anchor=\"middle\" x=\"181.331\" y=\"-120.8\" font-family=\"Times,serif\" font-size=\"14.00\">value = [9, 161]</text>\n",
       "<text text-anchor=\"middle\" x=\"181.331\" y=\"-106.8\" font-family=\"Times,serif\" font-size=\"14.00\">class = Survived</text>\n",
       "</g>\n",
       "<!-- 1&#45;&gt;2 -->\n",
       "<g id=\"edge2\" class=\"edge\"><title>1&#45;&gt;2</title>\n",
       "<path fill=\"none\" stroke=\"black\" d=\"M307.24,-217.482C287.317,-205.222 264.762,-191.343 244.303,-178.752\"/>\n",
       "<polygon fill=\"black\" stroke=\"black\" points=\"246.028,-175.704 235.677,-173.444 242.359,-181.666 246.028,-175.704\"/>\n",
       "</g>\n",
       "<!-- 5 -->\n",
       "<g id=\"node6\" class=\"node\"><title>5</title>\n",
       "<polygon fill=\"none\" stroke=\"black\" points=\"415.869,-178 310.792,-178 310.792,-100 415.869,-100 415.869,-178\"/>\n",
       "<text text-anchor=\"middle\" x=\"363.331\" y=\"-162.8\" font-family=\"Times,serif\" font-size=\"14.00\">SibSp &lt;= 2.5</text>\n",
       "<text text-anchor=\"middle\" x=\"363.331\" y=\"-148.8\" font-family=\"Times,serif\" font-size=\"14.00\">gini = 0.5</text>\n",
       "<text text-anchor=\"middle\" x=\"363.331\" y=\"-134.8\" font-family=\"Times,serif\" font-size=\"14.00\">samples = 144</text>\n",
       "<text text-anchor=\"middle\" x=\"363.331\" y=\"-120.8\" font-family=\"Times,serif\" font-size=\"14.00\">value = [72, 72]</text>\n",
       "<text text-anchor=\"middle\" x=\"363.331\" y=\"-106.8\" font-family=\"Times,serif\" font-size=\"14.00\">class = Died</text>\n",
       "</g>\n",
       "<!-- 1&#45;&gt;5 -->\n",
       "<g id=\"edge5\" class=\"edge\"><title>1&#45;&gt;5</title>\n",
       "<path fill=\"none\" stroke=\"black\" d=\"M363.331,-213.769C363.331,-205.57 363.331,-196.803 363.331,-188.28\"/>\n",
       "<polygon fill=\"black\" stroke=\"black\" points=\"366.831,-188.058 363.331,-178.058 359.831,-188.059 366.831,-188.058\"/>\n",
       "</g>\n",
       "<!-- 3 -->\n",
       "<g id=\"node4\" class=\"node\"><title>3</title>\n",
       "<polygon fill=\"#399de5\" fill-opacity=\"0.968627\" stroke=\"black\" points=\"108.492,-64 0.168907,-64 0.168907,-0 108.492,-0 108.492,-64\"/>\n",
       "<text text-anchor=\"middle\" x=\"54.3306\" y=\"-48.8\" font-family=\"Times,serif\" font-size=\"14.00\">gini = 0.0618</text>\n",
       "<text text-anchor=\"middle\" x=\"54.3306\" y=\"-34.8\" font-family=\"Times,serif\" font-size=\"14.00\">samples = 94</text>\n",
       "<text text-anchor=\"middle\" x=\"54.3306\" y=\"-20.8\" font-family=\"Times,serif\" font-size=\"14.00\">value = [3, 91]</text>\n",
       "<text text-anchor=\"middle\" x=\"54.3306\" y=\"-6.8\" font-family=\"Times,serif\" font-size=\"14.00\">class = Survived</text>\n",
       "</g>\n",
       "<!-- 2&#45;&gt;3 -->\n",
       "<g id=\"edge3\" class=\"edge\"><title>2&#45;&gt;3</title>\n",
       "<path fill=\"none\" stroke=\"black\" d=\"M135.121,-99.7956C123.596,-90.2671 111.249,-80.0585 99.7619,-70.5614\"/>\n",
       "<polygon fill=\"black\" stroke=\"black\" points=\"101.905,-67.7917 91.9675,-64.1172 97.4444,-73.1866 101.905,-67.7917\"/>\n",
       "</g>\n",
       "<!-- 4 -->\n",
       "<g id=\"node5\" class=\"node\"><title>4</title>\n",
       "<polygon fill=\"#399de5\" fill-opacity=\"0.913725\" stroke=\"black\" points=\"235.492,-64 127.169,-64 127.169,-0 235.492,-0 235.492,-64\"/>\n",
       "<text text-anchor=\"middle\" x=\"181.331\" y=\"-48.8\" font-family=\"Times,serif\" font-size=\"14.00\">gini = 0.1454</text>\n",
       "<text text-anchor=\"middle\" x=\"181.331\" y=\"-34.8\" font-family=\"Times,serif\" font-size=\"14.00\">samples = 76</text>\n",
       "<text text-anchor=\"middle\" x=\"181.331\" y=\"-20.8\" font-family=\"Times,serif\" font-size=\"14.00\">value = [6, 70]</text>\n",
       "<text text-anchor=\"middle\" x=\"181.331\" y=\"-6.8\" font-family=\"Times,serif\" font-size=\"14.00\">class = Survived</text>\n",
       "</g>\n",
       "<!-- 2&#45;&gt;4 -->\n",
       "<g id=\"edge4\" class=\"edge\"><title>2&#45;&gt;4</title>\n",
       "<path fill=\"none\" stroke=\"black\" d=\"M181.331,-99.7956C181.331,-91.4581 181.331,-82.6 181.331,-74.1534\"/>\n",
       "<polygon fill=\"black\" stroke=\"black\" points=\"184.831,-74.1171 181.331,-64.1172 177.831,-74.1172 184.831,-74.1171\"/>\n",
       "</g>\n",
       "<!-- 6 -->\n",
       "<g id=\"node7\" class=\"node\"><title>6</title>\n",
       "<polygon fill=\"#399de5\" fill-opacity=\"0.172549\" stroke=\"black\" points=\"362.492,-64 254.169,-64 254.169,-0 362.492,-0 362.492,-64\"/>\n",
       "<text text-anchor=\"middle\" x=\"308.331\" y=\"-48.8\" font-family=\"Times,serif\" font-size=\"14.00\">gini = 0.4955</text>\n",
       "<text text-anchor=\"middle\" x=\"308.331\" y=\"-34.8\" font-family=\"Times,serif\" font-size=\"14.00\">samples = 126</text>\n",
       "<text text-anchor=\"middle\" x=\"308.331\" y=\"-20.8\" font-family=\"Times,serif\" font-size=\"14.00\">value = [57, 69]</text>\n",
       "<text text-anchor=\"middle\" x=\"308.331\" y=\"-6.8\" font-family=\"Times,serif\" font-size=\"14.00\">class = Survived</text>\n",
       "</g>\n",
       "<!-- 5&#45;&gt;6 -->\n",
       "<g id=\"edge6\" class=\"edge\"><title>5&#45;&gt;6</title>\n",
       "<path fill=\"none\" stroke=\"black\" d=\"M343.319,-99.7956C338.76,-91.0916 333.903,-81.8203 329.305,-73.042\"/>\n",
       "<polygon fill=\"black\" stroke=\"black\" points=\"332.371,-71.3515 324.63,-64.1172 326.17,-74.5995 332.371,-71.3515\"/>\n",
       "</g>\n",
       "<!-- 7 -->\n",
       "<g id=\"node8\" class=\"node\"><title>7</title>\n",
       "<polygon fill=\"#e58139\" fill-opacity=\"0.800000\" stroke=\"black\" points=\"479.369,-64 381.292,-64 381.292,-0 479.369,-0 479.369,-64\"/>\n",
       "<text text-anchor=\"middle\" x=\"430.331\" y=\"-48.8\" font-family=\"Times,serif\" font-size=\"14.00\">gini = 0.2778</text>\n",
       "<text text-anchor=\"middle\" x=\"430.331\" y=\"-34.8\" font-family=\"Times,serif\" font-size=\"14.00\">samples = 18</text>\n",
       "<text text-anchor=\"middle\" x=\"430.331\" y=\"-20.8\" font-family=\"Times,serif\" font-size=\"14.00\">value = [15, 3]</text>\n",
       "<text text-anchor=\"middle\" x=\"430.331\" y=\"-6.8\" font-family=\"Times,serif\" font-size=\"14.00\">class = Died</text>\n",
       "</g>\n",
       "<!-- 5&#45;&gt;7 -->\n",
       "<g id=\"edge7\" class=\"edge\"><title>5&#45;&gt;7</title>\n",
       "<path fill=\"none\" stroke=\"black\" d=\"M387.709,-99.7956C393.321,-91 399.303,-81.625 404.957,-72.765\"/>\n",
       "<polygon fill=\"black\" stroke=\"black\" points=\"408.046,-74.4299 410.475,-64.1172 402.145,-70.6645 408.046,-74.4299\"/>\n",
       "</g>\n",
       "<!-- 9 -->\n",
       "<g id=\"node10\" class=\"node\"><title>9</title>\n",
       "<polygon fill=\"#e58139\" fill-opacity=\"0.415686\" stroke=\"black\" points=\"665.869,-178 560.792,-178 560.792,-100 665.869,-100 665.869,-178\"/>\n",
       "<text text-anchor=\"middle\" x=\"613.331\" y=\"-162.8\" font-family=\"Times,serif\" font-size=\"14.00\">Age &lt;= 7.5</text>\n",
       "<text text-anchor=\"middle\" x=\"613.331\" y=\"-148.8\" font-family=\"Times,serif\" font-size=\"14.00\">gini = 0.4656</text>\n",
       "<text text-anchor=\"middle\" x=\"613.331\" y=\"-134.8\" font-family=\"Times,serif\" font-size=\"14.00\">samples = 122</text>\n",
       "<text text-anchor=\"middle\" x=\"613.331\" y=\"-120.8\" font-family=\"Times,serif\" font-size=\"14.00\">value = [77, 45]</text>\n",
       "<text text-anchor=\"middle\" x=\"613.331\" y=\"-106.8\" font-family=\"Times,serif\" font-size=\"14.00\">class = Died</text>\n",
       "</g>\n",
       "<!-- 8&#45;&gt;9 -->\n",
       "<g id=\"edge9\" class=\"edge\"><title>8&#45;&gt;9</title>\n",
       "<path fill=\"none\" stroke=\"black\" d=\"M613.331,-213.769C613.331,-205.57 613.331,-196.803 613.331,-188.28\"/>\n",
       "<polygon fill=\"black\" stroke=\"black\" points=\"616.831,-188.058 613.331,-178.058 609.831,-188.059 616.831,-188.058\"/>\n",
       "</g>\n",
       "<!-- 12 -->\n",
       "<g id=\"node13\" class=\"node\"><title>12</title>\n",
       "<polygon fill=\"#e58139\" fill-opacity=\"0.835294\" stroke=\"black\" points=\"857.369,-178 745.293,-178 745.293,-100 857.369,-100 857.369,-178\"/>\n",
       "<text text-anchor=\"middle\" x=\"801.331\" y=\"-162.8\" font-family=\"Times,serif\" font-size=\"14.00\">Age &lt;= 0.5</text>\n",
       "<text text-anchor=\"middle\" x=\"801.331\" y=\"-148.8\" font-family=\"Times,serif\" font-size=\"14.00\">gini = 0.2417</text>\n",
       "<text text-anchor=\"middle\" x=\"801.331\" y=\"-134.8\" font-family=\"Times,serif\" font-size=\"14.00\">samples = 455</text>\n",
       "<text text-anchor=\"middle\" x=\"801.331\" y=\"-120.8\" font-family=\"Times,serif\" font-size=\"14.00\">value = [391, 64]</text>\n",
       "<text text-anchor=\"middle\" x=\"801.331\" y=\"-106.8\" font-family=\"Times,serif\" font-size=\"14.00\">class = Died</text>\n",
       "</g>\n",
       "<!-- 8&#45;&gt;12 -->\n",
       "<g id=\"edge12\" class=\"edge\"><title>8&#45;&gt;12</title>\n",
       "<path fill=\"none\" stroke=\"black\" d=\"M673.073,-216.409C693.3,-204.359 715.978,-190.848 736.576,-178.577\"/>\n",
       "<polygon fill=\"black\" stroke=\"black\" points=\"738.463,-181.527 745.263,-173.402 734.881,-175.513 738.463,-181.527\"/>\n",
       "</g>\n",
       "<!-- 10 -->\n",
       "<g id=\"node11\" class=\"node\"><title>10</title>\n",
       "<polygon fill=\"#399de5\" fill-opacity=\"0.039216\" stroke=\"black\" points=\"606.492,-64 498.169,-64 498.169,-0 606.492,-0 606.492,-64\"/>\n",
       "<text text-anchor=\"middle\" x=\"552.331\" y=\"-48.8\" font-family=\"Times,serif\" font-size=\"14.00\">gini = 0.4998</text>\n",
       "<text text-anchor=\"middle\" x=\"552.331\" y=\"-34.8\" font-family=\"Times,serif\" font-size=\"14.00\">samples = 51</text>\n",
       "<text text-anchor=\"middle\" x=\"552.331\" y=\"-20.8\" font-family=\"Times,serif\" font-size=\"14.00\">value = [25, 26]</text>\n",
       "<text text-anchor=\"middle\" x=\"552.331\" y=\"-6.8\" font-family=\"Times,serif\" font-size=\"14.00\">class = Survived</text>\n",
       "</g>\n",
       "<!-- 9&#45;&gt;10 -->\n",
       "<g id=\"edge10\" class=\"edge\"><title>9&#45;&gt;10</title>\n",
       "<path fill=\"none\" stroke=\"black\" d=\"M591.136,-99.7956C586.026,-91 580.579,-81.625 575.432,-72.765\"/>\n",
       "<polygon fill=\"black\" stroke=\"black\" points=\"578.458,-71.0057 570.408,-64.1172 572.405,-74.5221 578.458,-71.0057\"/>\n",
       "</g>\n",
       "<!-- 11 -->\n",
       "<g id=\"node12\" class=\"node\"><title>11</title>\n",
       "<polygon fill=\"#e58139\" fill-opacity=\"0.635294\" stroke=\"black\" points=\"729.869,-64 624.792,-64 624.792,-0 729.869,-0 729.869,-64\"/>\n",
       "<text text-anchor=\"middle\" x=\"677.331\" y=\"-48.8\" font-family=\"Times,serif\" font-size=\"14.00\">gini = 0.392</text>\n",
       "<text text-anchor=\"middle\" x=\"677.331\" y=\"-34.8\" font-family=\"Times,serif\" font-size=\"14.00\">samples = 71</text>\n",
       "<text text-anchor=\"middle\" x=\"677.331\" y=\"-20.8\" font-family=\"Times,serif\" font-size=\"14.00\">value = [52, 19]</text>\n",
       "<text text-anchor=\"middle\" x=\"677.331\" y=\"-6.8\" font-family=\"Times,serif\" font-size=\"14.00\">class = Died</text>\n",
       "</g>\n",
       "<!-- 9&#45;&gt;11 -->\n",
       "<g id=\"edge11\" class=\"edge\"><title>9&#45;&gt;11</title>\n",
       "<path fill=\"none\" stroke=\"black\" d=\"M636.617,-99.7956C641.978,-91 647.692,-81.625 653.093,-72.765\"/>\n",
       "<polygon fill=\"black\" stroke=\"black\" points=\"656.148,-74.4777 658.364,-64.1172 650.171,-70.8344 656.148,-74.4777\"/>\n",
       "</g>\n",
       "<!-- 13 -->\n",
       "<g id=\"node14\" class=\"node\"><title>13</title>\n",
       "<polygon fill=\"#e58139\" fill-opacity=\"0.215686\" stroke=\"black\" points=\"853.869,-64 748.792,-64 748.792,-0 853.869,-0 853.869,-64\"/>\n",
       "<text text-anchor=\"middle\" x=\"801.331\" y=\"-48.8\" font-family=\"Times,serif\" font-size=\"14.00\">gini = 0.4926</text>\n",
       "<text text-anchor=\"middle\" x=\"801.331\" y=\"-34.8\" font-family=\"Times,serif\" font-size=\"14.00\">samples = 41</text>\n",
       "<text text-anchor=\"middle\" x=\"801.331\" y=\"-20.8\" font-family=\"Times,serif\" font-size=\"14.00\">value = [23, 18]</text>\n",
       "<text text-anchor=\"middle\" x=\"801.331\" y=\"-6.8\" font-family=\"Times,serif\" font-size=\"14.00\">class = Died</text>\n",
       "</g>\n",
       "<!-- 12&#45;&gt;13 -->\n",
       "<g id=\"edge13\" class=\"edge\"><title>12&#45;&gt;13</title>\n",
       "<path fill=\"none\" stroke=\"black\" d=\"M801.331,-99.7956C801.331,-91.4581 801.331,-82.6 801.331,-74.1534\"/>\n",
       "<polygon fill=\"black\" stroke=\"black\" points=\"804.831,-74.1171 801.331,-64.1172 797.831,-74.1172 804.831,-74.1171\"/>\n",
       "</g>\n",
       "<!-- 14 -->\n",
       "<g id=\"node15\" class=\"node\"><title>14</title>\n",
       "<polygon fill=\"#e58139\" fill-opacity=\"0.874510\" stroke=\"black\" points=\"984.369,-64 872.293,-64 872.293,-0 984.369,-0 984.369,-64\"/>\n",
       "<text text-anchor=\"middle\" x=\"928.331\" y=\"-48.8\" font-family=\"Times,serif\" font-size=\"14.00\">gini = 0.1975</text>\n",
       "<text text-anchor=\"middle\" x=\"928.331\" y=\"-34.8\" font-family=\"Times,serif\" font-size=\"14.00\">samples = 414</text>\n",
       "<text text-anchor=\"middle\" x=\"928.331\" y=\"-20.8\" font-family=\"Times,serif\" font-size=\"14.00\">value = [368, 46]</text>\n",
       "<text text-anchor=\"middle\" x=\"928.331\" y=\"-6.8\" font-family=\"Times,serif\" font-size=\"14.00\">class = Died</text>\n",
       "</g>\n",
       "<!-- 12&#45;&gt;14 -->\n",
       "<g id=\"edge14\" class=\"edge\"><title>12&#45;&gt;14</title>\n",
       "<path fill=\"none\" stroke=\"black\" d=\"M847.54,-99.7956C859.065,-90.2671 871.412,-80.0585 882.899,-70.5614\"/>\n",
       "<polygon fill=\"black\" stroke=\"black\" points=\"885.217,-73.1866 890.694,-64.1172 880.756,-67.7917 885.217,-73.1866\"/>\n",
       "</g>\n",
       "</g>\n",
       "</svg>\n"
      ],
      "text/plain": [
       "<graphviz.files.Source at 0x117cf9f60>"
      ]
     },
     "execution_count": 67,
     "metadata": {},
     "output_type": "execute_result"
    }
   ],
   "source": [
    "import graphviz \n",
    "dot_data = tree.export_graphviz(clf, feature_names=X_df.columns.values, class_names=[\"Died\", \"Survived\"], filled=True ,out_file=None) \n",
    "graph = graphviz.Source(dot_data) \n",
    "graph.render(\"titanic\") \n",
    "graph"
   ]
  },
  {
   "cell_type": "code",
   "execution_count": null,
   "metadata": {
    "collapsed": true
   },
   "outputs": [],
   "source": []
  },
  {
   "cell_type": "code",
   "execution_count": 68,
   "metadata": {
    "collapsed": true
   },
   "outputs": [],
   "source": [
    "def prepare_submission_with_discretization(version, features_and_id=['Age', 'Sex', 'PassengerId']):\n",
    "    #only change ive made here from prepare_submission is that i discretize\n",
    "    \n",
    "    test_data = pd.read_csv('data/test.csv')\n",
    "\n",
    "    X_test_df = test_data[features_and_id]\n",
    "    X_test_df = X_test_df.set_index('PassengerId')\n",
    "\n",
    "    X_test_df.Sex = X_test_df.Sex.apply(lambda sex: 1 if sex=='male' else 0)\n",
    "    \n",
    "    compensated_age = compensated_age_inner_join(X_test_df)\n",
    "    X_test_df.Age = X_test_df.Age.fillna(compensated_age)\n",
    "    \n",
    "    X_test_df.Age = discretize(X_test_df.Age, quantiles(X_test_df.Age, 7))\n",
    "        \n",
    "\n",
    "    X_test_df['Prediction'] = clf.predict(X_test_df.values)\n",
    "\n",
    "    X_test_df['Prediction'].to_csv('./data/gender_submission_{}.csv'.format(version), index_label=['PassengerId'] ,header=['Survived'])\n"
   ]
  },
  {
   "cell_type": "markdown",
   "metadata": {},
   "source": [
    "Here is an interesting problem. Since the number of unique values for X_test_df.Age is way smaller than for X_df, it can simply not fit into 10 bins. How to overcome this problem? 1) use smaller bins for the X_test, 2) skip discretization.\n",
    "\n",
    "Although one could probably deduce what is right, i'll go ahead and submit both ways just to get an idea."
   ]
  },
  {
   "cell_type": "code",
   "execution_count": 69,
   "metadata": {
    "collapsed": true
   },
   "outputs": [],
   "source": [
    "prepare_submission(2, ['Pclass', 'Sex', 'Age', 'SibSp', 'Parch', 'PassengerId'] )"
   ]
  },
  {
   "cell_type": "code",
   "execution_count": 70,
   "metadata": {
    "collapsed": true
   },
   "outputs": [],
   "source": [
    "prepare_submission_with_discretization(3, ['Pclass', 'Sex', 'Age', 'SibSp', 'Parch', 'PassengerId'] )"
   ]
  },
  {
   "cell_type": "markdown",
   "metadata": {},
   "source": [
    "2 performed:  0.75119, 3 performed: 0.73205."
   ]
  },
  {
   "cell_type": "markdown",
   "metadata": {},
   "source": [
    "## implement k cross fold validation\n",
    "\n",
    "I read about this in Hal Varians' very  interesting paper \"Big Data: New Tricks for Econometrics\". It is a method that is used to help determine (out of the family of models one is considering) what I'll call the complexity parameter.\n",
    "\n",
    "The idea behind K cross fold validation is to slice up the dataset into K different disjoint subsets, then\n",
    "\n",
    "for i= 1..K:\n",
    "     train the family of models with changing complexity parameter (in this case max_depth) using all but the i:th subset  \n",
    "\n",
    "     predict on the i:th subset   \n",
    "\n",
    "take the one that had the best accuracy\n"
   ]
  },
  {
   "cell_type": "code",
   "execution_count": 71,
   "metadata": {
    "collapsed": true
   },
   "outputs": [],
   "source": [
    "def cross_fold_validation(K,X,Y):\n",
    "   #assume X,Y are np.arrays and not pandas-objects, assume they are already shuffled\n",
    "    partition_length = len(X) / K\n",
    "    \n",
    "    for i in range(1, K + 1):\n",
    "        X_single = X[partition_length * (i-1) : partition_length * i ]\n",
    "        Y_single = Y[partition_length * (i-1) : partition_length * i ]\n",
    "        \n",
    "        \n",
    "        if i == 1:\n",
    "            X_rest = X[partition_length * i :]\n",
    "            Y_rest = Y[partition_length * i :]\n",
    "        elif i == K:\n",
    "            X_rest = X[0 : partition_length * (i-1) ]\n",
    "            Y_rest = Y[0 : partition_length * (i-1) ]\n",
    "        else:\n",
    "            X_rest = np.concatenate([X[partition_length * (i-2) : partition_length * (i-1) ], X[partition_length * i :]])\n",
    "            \n",
    "            Y_rest = np.concatenate([Y[partition_length * (i-2) : partition_length * (i-1) ], Y[partition_length * i :]])            \n",
    "        #print(X_single) \n",
    "        #print (X_rest)\n",
    "        \n",
    "        #print(Y_single)\n",
    "        #print(Y_rest)\n",
    "        #print(\">>>\")\n",
    "        \n",
    "        clf = tree.DecisionTreeClassifier(max_depth = i + 1 )\n",
    "\n",
    "        clf = clf.fit(X_rest, Y_rest)\n",
    "       \n",
    "        print(i + 1, clf.score(X_single, Y_single) )\n",
    "        #clf.predict(X_single, Y_single)\n",
    "        \n",
    "        \n",
    "    \n",
    "    \n",
    "    \n",
    "    "
   ]
  },
  {
   "cell_type": "code",
   "execution_count": 72,
   "metadata": {},
   "outputs": [
    {
     "name": "stdout",
     "output_type": "stream",
     "text": [
      "2 0.719101123596\n",
      "3 0.797752808989\n",
      "4 0.76404494382\n",
      "5 0.808988764045\n",
      "6 0.775280898876\n",
      "7 0.797752808989\n",
      "8 0.719101123596\n",
      "9 0.752808988764\n",
      "10 0.775280898876\n",
      "11 0.788888888889\n"
     ]
    },
    {
     "name": "stderr",
     "output_type": "stream",
     "text": [
      "/Users/gk/anaconda3/lib/python3.5/site-packages/ipykernel/__main__.py:6: VisibleDeprecationWarning: using a non-integer number instead of an integer will result in an error in the future\n",
      "/Users/gk/anaconda3/lib/python3.5/site-packages/ipykernel/__main__.py:7: VisibleDeprecationWarning: using a non-integer number instead of an integer will result in an error in the future\n",
      "/Users/gk/anaconda3/lib/python3.5/site-packages/ipykernel/__main__.py:11: VisibleDeprecationWarning: using a non-integer number instead of an integer will result in an error in the future\n",
      "/Users/gk/anaconda3/lib/python3.5/site-packages/ipykernel/__main__.py:12: VisibleDeprecationWarning: using a non-integer number instead of an integer will result in an error in the future\n",
      "/Users/gk/anaconda3/lib/python3.5/site-packages/ipykernel/__main__.py:17: VisibleDeprecationWarning: using a non-integer number instead of an integer will result in an error in the future\n",
      "/Users/gk/anaconda3/lib/python3.5/site-packages/ipykernel/__main__.py:19: VisibleDeprecationWarning: using a non-integer number instead of an integer will result in an error in the future\n",
      "/Users/gk/anaconda3/lib/python3.5/site-packages/ipykernel/__main__.py:14: VisibleDeprecationWarning: using a non-integer number instead of an integer will result in an error in the future\n",
      "/Users/gk/anaconda3/lib/python3.5/site-packages/ipykernel/__main__.py:15: VisibleDeprecationWarning: using a non-integer number instead of an integer will result in an error in the future\n"
     ]
    }
   ],
   "source": [
    "cross_fold_validation(10, X_df.values, Y_df.values)"
   ]
  },
  {
   "cell_type": "markdown",
   "metadata": {},
   "source": [
    "So the cross fold validation suggests we should use 5 as the max_depth. lets see how it performs on the testset"
   ]
  },
  {
   "cell_type": "code",
   "execution_count": 73,
   "metadata": {
    "collapsed": true
   },
   "outputs": [],
   "source": [
    "clf = tree.DecisionTreeClassifier(max_depth = 5)\n",
    "\n",
    "clf = clf.fit(X_df.values, Y_df.values)"
   ]
  },
  {
   "cell_type": "code",
   "execution_count": 74,
   "metadata": {
    "collapsed": true
   },
   "outputs": [],
   "source": [
    "prepare_submission(4, ['Pclass', 'Sex', 'Age', 'SibSp', 'Parch', 'PassengerId'] )\n",
    "prepare_submission_with_discretization(5, ['Pclass', 'Sex', 'Age', 'SibSp', 'Parch', 'PassengerId'] )"
   ]
  },
  {
   "cell_type": "code",
   "execution_count": null,
   "metadata": {
    "collapsed": true
   },
   "outputs": [],
   "source": []
  },
  {
   "cell_type": "markdown",
   "metadata": {},
   "source": [
    "Unfortunately, it did not improve on the test set (V4: 0.73205, V5: 0.74641\n",
    "). Might have been bad luck."
   ]
  },
  {
   "cell_type": "markdown",
   "metadata": {},
   "source": [
    "### Implement a bootstrap function\n",
    "\n",
    "bootstrapping is essential for the bagging teq.\n",
    "\n",
    "with bagging we want to:\n",
    "\n",
    "for i=1..K: \n",
    "\n",
    "    bootstrap the data,\n",
    "    \n",
    "    train the classifier on the bootstrapped_data\n",
    "    \n",
    "use majority vote to determine the classification   "
   ]
  },
  {
   "cell_type": "code",
   "execution_count": 75,
   "metadata": {
    "collapsed": true
   },
   "outputs": [],
   "source": [
    "def bootstrap(X, Y):\n",
    "    \n",
    "    indexes = np.random.randint(len(X), size=len(X))\n",
    "    X_new = np.zeros(X.shape)\n",
    "    Y_new = np.zeros(Y.shape)\n",
    "    index_new = 0\n",
    "    \n",
    "    for index in indexes:\n",
    "        X_row = X[index]\n",
    "        Y_row = Y[index]\n",
    "        X_new[index_new] = X_row\n",
    "        Y_new[index_new] = Y_row\n",
    "        index_new += 1\n",
    "    \n",
    "    return X_new, Y_new\n",
    "    #"
   ]
  },
  {
   "cell_type": "code",
   "execution_count": 76,
   "metadata": {},
   "outputs": [
    {
     "data": {
      "text/plain": [
       "(array([[ 7.,  8.,  9.],\n",
       "        [ 4.,  5.,  6.],\n",
       "        [ 4.,  5.,  6.]]), array([ 3.,  2.,  2.]))"
      ]
     },
     "execution_count": 76,
     "metadata": {},
     "output_type": "execute_result"
    }
   ],
   "source": [
    "bootstrap(np.array([[1,2,3],[4,5,6],[7,8,9]]), np.array([1,2,3]))"
   ]
  },
  {
   "cell_type": "code",
   "execution_count": 77,
   "metadata": {
    "collapsed": true
   },
   "outputs": [],
   "source": [
    "def bagging_clf(K, X, Y):\n",
    "    \n",
    "    clf_bagged = []\n",
    "    for i in range(1, K + 1):\n",
    "        X_bs, Y_bs = bootstrap(X, Y)\n",
    "        \n",
    "        clf = tree.DecisionTreeClassifier(max_depth = 2)\n",
    "\n",
    "        clf = clf.fit(X_bs, Y_bs)\n",
    "        \n",
    "        clf_bagged.append(clf)\n",
    "    \n",
    "    return clf_bagged\n",
    "    "
   ]
  },
  {
   "cell_type": "code",
   "execution_count": 78,
   "metadata": {
    "collapsed": true
   },
   "outputs": [],
   "source": [
    "clf_bagged = bagging_clf(5, X_df.values, Y_df.values)"
   ]
  },
  {
   "cell_type": "code",
   "execution_count": 79,
   "metadata": {},
   "outputs": [
    {
     "data": {
      "text/plain": [
       "[DecisionTreeClassifier(class_weight=None, criterion='gini', max_depth=2,\n",
       "             max_features=None, max_leaf_nodes=None,\n",
       "             min_impurity_split=1e-07, min_samples_leaf=1,\n",
       "             min_samples_split=2, min_weight_fraction_leaf=0.0,\n",
       "             presort=False, random_state=None, splitter='best'),\n",
       " DecisionTreeClassifier(class_weight=None, criterion='gini', max_depth=2,\n",
       "             max_features=None, max_leaf_nodes=None,\n",
       "             min_impurity_split=1e-07, min_samples_leaf=1,\n",
       "             min_samples_split=2, min_weight_fraction_leaf=0.0,\n",
       "             presort=False, random_state=None, splitter='best'),\n",
       " DecisionTreeClassifier(class_weight=None, criterion='gini', max_depth=2,\n",
       "             max_features=None, max_leaf_nodes=None,\n",
       "             min_impurity_split=1e-07, min_samples_leaf=1,\n",
       "             min_samples_split=2, min_weight_fraction_leaf=0.0,\n",
       "             presort=False, random_state=None, splitter='best'),\n",
       " DecisionTreeClassifier(class_weight=None, criterion='gini', max_depth=2,\n",
       "             max_features=None, max_leaf_nodes=None,\n",
       "             min_impurity_split=1e-07, min_samples_leaf=1,\n",
       "             min_samples_split=2, min_weight_fraction_leaf=0.0,\n",
       "             presort=False, random_state=None, splitter='best'),\n",
       " DecisionTreeClassifier(class_weight=None, criterion='gini', max_depth=2,\n",
       "             max_features=None, max_leaf_nodes=None,\n",
       "             min_impurity_split=1e-07, min_samples_leaf=1,\n",
       "             min_samples_split=2, min_weight_fraction_leaf=0.0,\n",
       "             presort=False, random_state=None, splitter='best')]"
      ]
     },
     "execution_count": 79,
     "metadata": {},
     "output_type": "execute_result"
    }
   ],
   "source": [
    "clf_bagged"
   ]
  },
  {
   "cell_type": "code",
   "execution_count": 80,
   "metadata": {
    "collapsed": true
   },
   "outputs": [],
   "source": [
    "def bagging_clf_voter(clf_bagged, X_test):\n",
    "    \n",
    "    clf_predictions =  np.array(list(map(lambda clf: clf.predict(X_test).tolist(), clf_bagged)))    \n",
    "    #the to lst casts are done in order to easily access the columns to do the majority voting system\n",
    "    \n",
    "    bagging_clf_voted = []\n",
    "    \n",
    "    for index in range(len(X_test)):\n",
    "        X_row_predictions = clf_predictions[0:, index]\n",
    "        #so for a given X row, it is a array with the differents clfs's predictions\n",
    "        \n",
    "        X_row_predictions_majority = max(set(X_row_predictions), key = list(X_row_predictions).count)\n",
    "        \n",
    "        bagging_clf_voted.append(X_row_predictions_majority)\n",
    "    \n",
    "    return np.array(bagging_clf_voted, dtype=int)\n",
    "    "
   ]
  },
  {
   "cell_type": "code",
   "execution_count": 81,
   "metadata": {
    "collapsed": true
   },
   "outputs": [],
   "source": [
    "test_data = pd.read_csv('data/test.csv')\n",
    "\n",
    "X_test_df = test_data[['Pclass', 'Sex', 'Age', 'SibSp', 'Parch', 'PassengerId']]\n",
    "X_test_df = X_test_df.set_index('PassengerId')\n",
    "\n",
    "X_test_df.Sex = X_test_df.Sex.apply(lambda sex: 1 if sex=='male' else 0)\n",
    "    \n",
    "compensated_age = compensated_age_inner_join(X_test_df)\n",
    "X_test_df.Age = X_test_df.Age.fillna(compensated_age)\n",
    "    \n",
    "X_test_df.Age = discretize(X_test_df.Age, quantiles(X_test_df.Age, 7))\n",
    "        \n",
    "\n",
    "X_test_df['Prediction'] = bagging_clf_voter(clf_bagged, X_test_df.values)\n",
    "\n",
    "X_test_df['Prediction'].to_csv('./data/gender_submission_{}.csv'.format(6), index_label=['PassengerId'] ,header=['Survived'])\n"
   ]
  },
  {
   "cell_type": "markdown",
   "metadata": {},
   "source": [
    "bagging, after using k-fold validation gave accuracy 0.76555 (a improvement from k-fold validation)"
   ]
  },
  {
   "cell_type": "code",
   "execution_count": null,
   "metadata": {
    "collapsed": true
   },
   "outputs": [],
   "source": []
  },
  {
   "cell_type": "markdown",
   "metadata": {},
   "source": []
  },
  {
   "cell_type": "markdown",
   "metadata": {},
   "source": [
    "### Random Forest"
   ]
  },
  {
   "cell_type": "code",
   "execution_count": 82,
   "metadata": {},
   "outputs": [
    {
     "name": "stderr",
     "output_type": "stream",
     "text": [
      "/Users/gk/anaconda3/lib/python3.5/site-packages/ipykernel/__main__.py:5: DataConversionWarning: A column-vector y was passed when a 1d array was expected. Please change the shape of y to (n_samples,), for example using ravel().\n"
     ]
    },
    {
     "data": {
      "text/plain": [
       "RandomForestClassifier(bootstrap=True, class_weight=None, criterion='gini',\n",
       "            max_depth=None, max_features='auto', max_leaf_nodes=None,\n",
       "            min_impurity_split=1e-07, min_samples_leaf=1,\n",
       "            min_samples_split=2, min_weight_fraction_leaf=0.0,\n",
       "            n_estimators=100, n_jobs=1, oob_score=False, random_state=None,\n",
       "            verbose=0, warm_start=False)"
      ]
     },
     "execution_count": 82,
     "metadata": {},
     "output_type": "execute_result"
    }
   ],
   "source": [
    "from sklearn.ensemble import RandomForestClassifier\n",
    "\n",
    "#randomforest will use bootstrap by default\n",
    "clf = RandomForestClassifier(n_estimators=100)\n",
    "clf.fit(X_df.values, Y_df.values)\n"
   ]
  },
  {
   "cell_type": "code",
   "execution_count": 83,
   "metadata": {
    "collapsed": true
   },
   "outputs": [],
   "source": [
    "prepare_submission(7, ['Pclass', 'Sex', 'Age', 'SibSp', 'Parch', 'PassengerId'] )\n",
    "prepare_submission_with_discretization(8, ['Pclass', 'Sex', 'Age', 'SibSp', 'Parch', 'PassengerId'] )"
   ]
  },
  {
   "cell_type": "markdown",
   "metadata": {},
   "source": [
    "performance 7: 0.74641 , 8: 0.73205."
   ]
  },
  {
   "cell_type": "markdown",
   "metadata": {},
   "source": [
    "### Learning Curve\n",
    "now i will play around with sklearns learning-curves, for practice' sake"
   ]
  },
  {
   "cell_type": "code",
   "execution_count": null,
   "metadata": {
    "collapsed": true
   },
   "outputs": [],
   "source": []
  },
  {
   "cell_type": "code",
   "execution_count": 84,
   "metadata": {},
   "outputs": [
    {
     "data": {
      "image/png": "[encoded data removed]",
      "text/plain": [
       "<matplotlib.figure.Figure at 0x1183ec978>"
      ]
     },
     "metadata": {},
     "output_type": "display_data"
    }
   ],
   "source": [
    "X_df_tr = X_df[90:]\n",
    "X_df_cv = X_df[0:90]\n",
    "\n",
    "Y_df_tr = Y_df[90:]\n",
    "Y_df_cv = Y_df[0:90]\n",
    "\n",
    "from sklearn.model_selection import cross_val_score, learning_curve, validation_curve\n",
    "import matplotlib.pyplot as plt\n",
    "#this function is taken from sk-learn\n",
    "\n",
    "def plot_learning_curve(estimator, title, X, y, ylim=None, cv=None,\n",
    "                        n_jobs=1, train_sizes=np.linspace(.1, 1.0, 5)):\n",
    "    \n",
    "    plt.figure()\n",
    "    plt.title(title)\n",
    "    if ylim is not None:\n",
    "        plt.ylim(*ylim)\n",
    "    plt.xlabel(\"Training examples\")\n",
    "    plt.ylabel(\"Score\")\n",
    "    train_sizes, train_scores, test_scores = learning_curve(\n",
    "        estimator, X, y, cv=cv, n_jobs=n_jobs, train_sizes=train_sizes)\n",
    "    train_scores_mean = np.mean(train_scores, axis=1)\n",
    "    train_scores_std = np.std(train_scores, axis=1)\n",
    "    test_scores_mean = np.mean(test_scores, axis=1)\n",
    "    test_scores_std = np.std(test_scores, axis=1)\n",
    "    plt.grid()\n",
    "\n",
    "    plt.fill_between(train_sizes, train_scores_mean - train_scores_std,\n",
    "                     train_scores_mean + train_scores_std, alpha=0.1,\n",
    "                     color=\"r\")\n",
    "    plt.fill_between(train_sizes, test_scores_mean - test_scores_std,\n",
    "                     test_scores_mean + test_scores_std, alpha=0.1, color=\"g\")\n",
    "    plt.plot(train_sizes, train_scores_mean, 'o-', color=\"r\",\n",
    "             label=\"Training score\")\n",
    "    plt.plot(train_sizes, test_scores_mean, 'o-', color=\"g\",\n",
    "             label=\"Cross-validation score\")\n",
    "\n",
    "    plt.legend(loc=\"best\")\n",
    "    return plt\n",
    "\n",
    "\n",
    "plot_learning_curve(RandomForestClassifier(n_estimators=100), \"learning curve titanic\", X_df.values, Y_df.values.reshape(891,), ylim=None, cv=None, n_jobs=1, train_sizes=np.linspace(.1, 1.0, 5))\n",
    "#this took a long time. the Y values need to come in in shape form (something, ) and not (something, 1)\n",
    "plt.show()"
   ]
  },
  {
   "cell_type": "code",
   "execution_count": 85,
   "metadata": {},
   "outputs": [
    {
     "data": {
      "image/png": "[encoded data removed]",
      "text/plain": [
       "<matplotlib.figure.Figure at 0x1147da748>"
      ]
     },
     "metadata": {},
     "output_type": "display_data"
    }
   ],
   "source": [
    "def plot_curve(ticks, train_scores, test_scores):\n",
    "    train_scores_mean = np.mean(train_scores, axis=1)\n",
    "    train_scores_std = np.std(train_scores, axis=1)\n",
    "    test_scores_mean = np.mean(test_scores, axis=1)\n",
    "    test_scores_std = np.std(test_scores, axis=1)\n",
    "\n",
    "    plt.figure()\n",
    "    plt.fill_between(ticks, \n",
    "                     train_scores_mean - train_scores_std, \n",
    "                     train_scores_mean + train_scores_std, alpha=0.1, color=\"b\")\n",
    "    plt.fill_between(ticks, \n",
    "                     test_scores_mean - test_scores_std, \n",
    "                     test_scores_mean + test_scores_std, alpha=0.1, color=\"r\")\n",
    "    plt.plot(ticks, train_scores_mean, 'b-', label='Training score')\n",
    "    plt.plot(ticks, test_scores_mean, 'r-', label='CV score')\n",
    "    plt.legend()\n",
    "    return plt.gca()\n",
    "\n",
    "# Utility to plot the learning curve of a classifier for training set X and target y.\n",
    "def plot_learning_curve(clf, X, y, scoring='accuracy'):\n",
    "    ax = plot_curve(*learning_curve(clf, X, y, cv=num_folds, scoring=scoring, \n",
    "                                    train_sizes=np.linspace(0.1,1,10), n_jobs=-1))\n",
    "    ax.set_title('Learning curve: {}'.format(clf.__class__.__name__))\n",
    "    ax.set_xlabel('Training size')\n",
    "    ax.set_ylabel(scoring)\n",
    "    \n",
    "num_folds = 7    \n",
    "plot_learning_curve(RandomForestClassifier(n_estimators=100), X_df.values, Y_df.values.reshape(891,))   \n",
    "plt.show()"
   ]
  },
  {
   "cell_type": "markdown",
   "metadata": {},
   "source": [
    "It looks like the out of sample accuracy does not increase with training examples here. I'll try overfitting more (the in sample accuracy is not decreasing either ) to see if the out of sample accuracy increases. So my hypothesis is that the algorithm has not learned all there is to learn from the given training examples."
   ]
  },
  {
   "cell_type": "code",
   "execution_count": null,
   "metadata": {},
   "outputs": [],
   "source": []
  },
  {
   "cell_type": "markdown",
   "metadata": {},
   "source": [
    "## TODOS and ideas\n",
    "\n",
    "implement k kross fold validation\n",
    "\n",
    "handle missing values\n",
    "\n",
    "do bagging : https://en.wikipedia.org/wiki/Bootstrap_aggregating\n",
    "        \n",
    "do a random forest\n",
    "\n",
    "do discretization of data\n",
    "\n",
    "use learning curves for evaluation\n",
    " - need to make a additional test set for this.\n",
    " \n",
    "lasso?\n",
    "baysian "
   ]
  },
  {
   "cell_type": "code",
   "execution_count": null,
   "metadata": {
    "collapsed": true
   },
   "outputs": [],
   "source": []
  }
 ],
 "metadata": {
  "anaconda-cloud": {},
  "kernelspec": {
   "display_name": "Python [conda root]",
   "language": "python",
   "name": "conda-root-py"
  },
  "language_info": {
   "codemirror_mode": {
    "name": "ipython",
    "version": 3
   },
   "file_extension": ".py",
   "mimetype": "text/x-python",
   "name": "python",
   "nbconvert_exporter": "python",
   "pygments_lexer": "ipython3",
   "version": "3.5.2"
  }
 },
 "nbformat": 4,
 "nbformat_minor": 1
}
