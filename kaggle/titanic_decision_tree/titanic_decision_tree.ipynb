{
 "cells": [
  {
   "cell_type": "code",
   "execution_count": 305,
   "metadata": {
    "collapsed": true
   },
   "outputs": [],
   "source": [
    "#setup kaggle cli by using \n",
    "#kg config -g -u $USER -p $PASSWoRD -c titanic\n",
    "#kg download"
   ]
  },
  {
   "cell_type": "code",
   "execution_count": 306,
   "metadata": {
    "collapsed": true
   },
   "outputs": [],
   "source": [
    "import pandas as pd"
   ]
  },
  {
   "cell_type": "code",
   "execution_count": 418,
   "metadata": {
    "collapsed": true
   },
   "outputs": [],
   "source": [
    "data = pd.read_csv('data/train.csv')"
   ]
  },
  {
   "cell_type": "code",
   "execution_count": 308,
   "metadata": {},
   "outputs": [
    {
     "data": {
      "text/html": [
       "<div>\n",
       "<table border=\"1\" class=\"dataframe\">\n",
       "  <thead>\n",
       "    <tr style=\"text-align: right;\">\n",
       "      <th></th>\n",
       "      <th>PassengerId</th>\n",
       "      <th>Survived</th>\n",
       "      <th>Pclass</th>\n",
       "      <th>Name</th>\n",
       "      <th>Sex</th>\n",
       "      <th>Age</th>\n",
       "      <th>SibSp</th>\n",
       "      <th>Parch</th>\n",
       "      <th>Ticket</th>\n",
       "      <th>Fare</th>\n",
       "      <th>Cabin</th>\n",
       "      <th>Embarked</th>\n",
       "    </tr>\n",
       "  </thead>\n",
       "  <tbody>\n",
       "    <tr>\n",
       "      <th>0</th>\n",
       "      <td>1</td>\n",
       "      <td>0</td>\n",
       "      <td>3</td>\n",
       "      <td>Braund, Mr. Owen Harris</td>\n",
       "      <td>male</td>\n",
       "      <td>22.0</td>\n",
       "      <td>1</td>\n",
       "      <td>0</td>\n",
       "      <td>A/5 21171</td>\n",
       "      <td>7.2500</td>\n",
       "      <td>NaN</td>\n",
       "      <td>S</td>\n",
       "    </tr>\n",
       "    <tr>\n",
       "      <th>1</th>\n",
       "      <td>2</td>\n",
       "      <td>1</td>\n",
       "      <td>1</td>\n",
       "      <td>Cumings, Mrs. John Bradley (Florence Briggs Th...</td>\n",
       "      <td>female</td>\n",
       "      <td>38.0</td>\n",
       "      <td>1</td>\n",
       "      <td>0</td>\n",
       "      <td>PC 17599</td>\n",
       "      <td>71.2833</td>\n",
       "      <td>C85</td>\n",
       "      <td>C</td>\n",
       "    </tr>\n",
       "    <tr>\n",
       "      <th>2</th>\n",
       "      <td>3</td>\n",
       "      <td>1</td>\n",
       "      <td>3</td>\n",
       "      <td>Heikkinen, Miss. Laina</td>\n",
       "      <td>female</td>\n",
       "      <td>26.0</td>\n",
       "      <td>0</td>\n",
       "      <td>0</td>\n",
       "      <td>STON/O2. 3101282</td>\n",
       "      <td>7.9250</td>\n",
       "      <td>NaN</td>\n",
       "      <td>S</td>\n",
       "    </tr>\n",
       "    <tr>\n",
       "      <th>3</th>\n",
       "      <td>4</td>\n",
       "      <td>1</td>\n",
       "      <td>1</td>\n",
       "      <td>Futrelle, Mrs. Jacques Heath (Lily May Peel)</td>\n",
       "      <td>female</td>\n",
       "      <td>35.0</td>\n",
       "      <td>1</td>\n",
       "      <td>0</td>\n",
       "      <td>113803</td>\n",
       "      <td>53.1000</td>\n",
       "      <td>C123</td>\n",
       "      <td>S</td>\n",
       "    </tr>\n",
       "    <tr>\n",
       "      <th>4</th>\n",
       "      <td>5</td>\n",
       "      <td>0</td>\n",
       "      <td>3</td>\n",
       "      <td>Allen, Mr. William Henry</td>\n",
       "      <td>male</td>\n",
       "      <td>35.0</td>\n",
       "      <td>0</td>\n",
       "      <td>0</td>\n",
       "      <td>373450</td>\n",
       "      <td>8.0500</td>\n",
       "      <td>NaN</td>\n",
       "      <td>S</td>\n",
       "    </tr>\n",
       "  </tbody>\n",
       "</table>\n",
       "</div>"
      ],
      "text/plain": [
       "   PassengerId  Survived  Pclass  \\\n",
       "0            1         0       3   \n",
       "1            2         1       1   \n",
       "2            3         1       3   \n",
       "3            4         1       1   \n",
       "4            5         0       3   \n",
       "\n",
       "                                                Name     Sex   Age  SibSp  \\\n",
       "0                            Braund, Mr. Owen Harris    male  22.0      1   \n",
       "1  Cumings, Mrs. John Bradley (Florence Briggs Th...  female  38.0      1   \n",
       "2                             Heikkinen, Miss. Laina  female  26.0      0   \n",
       "3       Futrelle, Mrs. Jacques Heath (Lily May Peel)  female  35.0      1   \n",
       "4                           Allen, Mr. William Henry    male  35.0      0   \n",
       "\n",
       "   Parch            Ticket     Fare Cabin Embarked  \n",
       "0      0         A/5 21171   7.2500   NaN        S  \n",
       "1      0          PC 17599  71.2833   C85        C  \n",
       "2      0  STON/O2. 3101282   7.9250   NaN        S  \n",
       "3      0            113803  53.1000  C123        S  \n",
       "4      0            373450   8.0500   NaN        S  "
      ]
     },
     "execution_count": 308,
     "metadata": {},
     "output_type": "execute_result"
    }
   ],
   "source": [
    "data.head()"
   ]
  },
  {
   "cell_type": "code",
   "execution_count": 309,
   "metadata": {},
   "outputs": [],
   "source": [
    "X_df = data[['Age', 'Sex', 'PassengerId']]\n",
    "Y_df = data[ ['Survived', 'PassengerId']]"
   ]
  },
  {
   "cell_type": "code",
   "execution_count": 310,
   "metadata": {},
   "outputs": [],
   "source": [
    "X_df = X_df.set_index('PassengerId')\n",
    "Y_df = Y_df.set_index('PassengerId')"
   ]
  },
  {
   "cell_type": "code",
   "execution_count": 311,
   "metadata": {},
   "outputs": [
    {
     "data": {
      "text/html": [
       "<div>\n",
       "<table border=\"1\" class=\"dataframe\">\n",
       "  <thead>\n",
       "    <tr style=\"text-align: right;\">\n",
       "      <th></th>\n",
       "      <th>Age</th>\n",
       "      <th>Sex</th>\n",
       "    </tr>\n",
       "    <tr>\n",
       "      <th>PassengerId</th>\n",
       "      <th></th>\n",
       "      <th></th>\n",
       "    </tr>\n",
       "  </thead>\n",
       "  <tbody>\n",
       "    <tr>\n",
       "      <th>1</th>\n",
       "      <td>22.0</td>\n",
       "      <td>male</td>\n",
       "    </tr>\n",
       "    <tr>\n",
       "      <th>2</th>\n",
       "      <td>38.0</td>\n",
       "      <td>female</td>\n",
       "    </tr>\n",
       "    <tr>\n",
       "      <th>3</th>\n",
       "      <td>26.0</td>\n",
       "      <td>female</td>\n",
       "    </tr>\n",
       "    <tr>\n",
       "      <th>4</th>\n",
       "      <td>35.0</td>\n",
       "      <td>female</td>\n",
       "    </tr>\n",
       "    <tr>\n",
       "      <th>5</th>\n",
       "      <td>35.0</td>\n",
       "      <td>male</td>\n",
       "    </tr>\n",
       "  </tbody>\n",
       "</table>\n",
       "</div>"
      ],
      "text/plain": [
       "              Age     Sex\n",
       "PassengerId              \n",
       "1            22.0    male\n",
       "2            38.0  female\n",
       "3            26.0  female\n",
       "4            35.0  female\n",
       "5            35.0    male"
      ]
     },
     "execution_count": 311,
     "metadata": {},
     "output_type": "execute_result"
    }
   ],
   "source": [
    "X_df.head()\n",
    "#consider throwing out those that miss AGE (are equal to NaN)"
   ]
  },
  {
   "cell_type": "code",
   "execution_count": 312,
   "metadata": {},
   "outputs": [
    {
     "data": {
      "text/html": [
       "<div>\n",
       "<table border=\"1\" class=\"dataframe\">\n",
       "  <thead>\n",
       "    <tr style=\"text-align: right;\">\n",
       "      <th></th>\n",
       "      <th>Survived</th>\n",
       "    </tr>\n",
       "    <tr>\n",
       "      <th>PassengerId</th>\n",
       "      <th></th>\n",
       "    </tr>\n",
       "  </thead>\n",
       "  <tbody>\n",
       "    <tr>\n",
       "      <th>1</th>\n",
       "      <td>0</td>\n",
       "    </tr>\n",
       "    <tr>\n",
       "      <th>2</th>\n",
       "      <td>1</td>\n",
       "    </tr>\n",
       "    <tr>\n",
       "      <th>3</th>\n",
       "      <td>1</td>\n",
       "    </tr>\n",
       "    <tr>\n",
       "      <th>4</th>\n",
       "      <td>1</td>\n",
       "    </tr>\n",
       "    <tr>\n",
       "      <th>5</th>\n",
       "      <td>0</td>\n",
       "    </tr>\n",
       "  </tbody>\n",
       "</table>\n",
       "</div>"
      ],
      "text/plain": [
       "             Survived\n",
       "PassengerId          \n",
       "1                   0\n",
       "2                   1\n",
       "3                   1\n",
       "4                   1\n",
       "5                   0"
      ]
     },
     "execution_count": 312,
     "metadata": {},
     "output_type": "execute_result"
    }
   ],
   "source": [
    "Y_df.head()"
   ]
  },
  {
   "cell_type": "markdown",
   "metadata": {},
   "source": [
    "Goal is to create a decision tree based off questions:    is  Age > x and Sex === y\n",
    "\n",
    "1) create a question class with signature (question_type, x) => question in natural lang\n",
    "\n",
    "\n",
    "2) create a function that inputs the records (rows) and computes impurity at a node\n",
    "3 create a function  (node1,node2, question)  => information_gain\n",
    "\n",
    "then a function that trains the tree\n",
    "\n",
    "question\n",
    "\n",
    "partition (question, dataset) => dataset1 dataset2\n",
    "\n",
    "gini: rows => gini measure\n",
    "\n",
    "info_gain: (false_rows, left_rows_ gini_impurity at begining row) => info_gain\n",
    "\n",
    "find best split\n",
    "\n",
    " "
   ]
  },
  {
   "cell_type": "code",
   "execution_count": 313,
   "metadata": {
    "collapsed": true
   },
   "outputs": [],
   "source": [
    "class Question:\n",
    "\n",
    "    def __init__(self, question_type, value):\n",
    "        self.question_type = question_type\n",
    "       \n",
    "        self.value = value\n",
    "        \n",
    "\n",
    "    def __repr__(self):\n",
    "        \n",
    "        if self.question_type ==\"Age\" :\n",
    "            return \"Age >= {} ?\".format(self.value)\n",
    "        elif self.question_type == \"Sex\":\n",
    "            return \"Sex == {} ?\".format(self.value)\n",
    "        \n",
    "    def match(self, passenger):\n",
    "        #passenger will be a DataFrame row\n",
    "        if self.question_type ==\"Age\" :\n",
    "            return passenger.Age >= self.value\n",
    "        elif self.question_type == \"Sex\":\n",
    "            return self.value == passenger.Sex"
   ]
  },
  {
   "cell_type": "markdown",
   "metadata": {},
   "source": [
    "Some demos below to see that it works as intended."
   ]
  },
  {
   "cell_type": "code",
   "execution_count": 314,
   "metadata": {
    "collapsed": true
   },
   "outputs": [],
   "source": [
    "q_age = Question(\"Age\",1)"
   ]
  },
  {
   "cell_type": "code",
   "execution_count": 315,
   "metadata": {},
   "outputs": [
    {
     "data": {
      "text/plain": [
       "Age >= 1 ?"
      ]
     },
     "execution_count": 315,
     "metadata": {},
     "output_type": "execute_result"
    }
   ],
   "source": [
    "q_age"
   ]
  },
  {
   "cell_type": "code",
   "execution_count": 316,
   "metadata": {
    "collapsed": true
   },
   "outputs": [],
   "source": [
    "q_sex = Question(\"Sex\", \"male\")"
   ]
  },
  {
   "cell_type": "code",
   "execution_count": 317,
   "metadata": {},
   "outputs": [
    {
     "data": {
      "text/plain": [
       "Sex == male ?"
      ]
     },
     "execution_count": 317,
     "metadata": {},
     "output_type": "execute_result"
    }
   ],
   "source": [
    "q_sex"
   ]
  },
  {
   "cell_type": "code",
   "execution_count": 318,
   "metadata": {
    "collapsed": true
   },
   "outputs": [],
   "source": [
    "passenger = X_df.ix[1]"
   ]
  },
  {
   "cell_type": "code",
   "execution_count": 319,
   "metadata": {},
   "outputs": [
    {
     "data": {
      "text/plain": [
       "Age      22\n",
       "Sex    male\n",
       "Name: 1, dtype: object"
      ]
     },
     "execution_count": 319,
     "metadata": {},
     "output_type": "execute_result"
    }
   ],
   "source": [
    "passenger"
   ]
  },
  {
   "cell_type": "code",
   "execution_count": 320,
   "metadata": {},
   "outputs": [
    {
     "data": {
      "text/plain": [
       "True"
      ]
     },
     "execution_count": 320,
     "metadata": {},
     "output_type": "execute_result"
    }
   ],
   "source": [
    "q_age.match(passenger)"
   ]
  },
  {
   "cell_type": "code",
   "execution_count": 321,
   "metadata": {},
   "outputs": [
    {
     "data": {
      "text/plain": [
       "False"
      ]
     },
     "execution_count": 321,
     "metadata": {},
     "output_type": "execute_result"
    }
   ],
   "source": [
    "q_age2 = Question(\"Age\",23)\n",
    "q_age2.match(passenger)"
   ]
  },
  {
   "cell_type": "code",
   "execution_count": 322,
   "metadata": {},
   "outputs": [
    {
     "data": {
      "text/plain": [
       "True"
      ]
     },
     "execution_count": 322,
     "metadata": {},
     "output_type": "execute_result"
    }
   ],
   "source": [
    "q_sex.match(passenger)"
   ]
  },
  {
   "cell_type": "code",
   "execution_count": 323,
   "metadata": {},
   "outputs": [
    {
     "data": {
      "text/plain": [
       "Survived    549\n",
       "dtype: int64"
      ]
     },
     "execution_count": 323,
     "metadata": {},
     "output_type": "execute_result"
    }
   ],
   "source": [
    "Y_df[Y_df==0].count()"
   ]
  },
  {
   "cell_type": "code",
   "execution_count": 198,
   "metadata": {
    "collapsed": true
   },
   "outputs": [],
   "source": [
    "def gini_impurity_function(Y_df):\n",
    "    unique_values = Y_df.Survived.unique()\n",
    "    #will be 0 (died) or 1 (survived)  \n",
    "    died_count = Y_df[Y_df==0].count()\n",
    "    survived_count = Y_df[Y_df==1].count()\n",
    "    total_count = Y_df.count()\n",
    "    \n",
    "    result = 1 - (survived_count/total_count)**2 - (died_count/total_count)**2\n",
    "    return result[0]\n",
    "    "
   ]
  },
  {
   "cell_type": "code",
   "execution_count": 331,
   "metadata": {},
   "outputs": [
    {
     "data": {
      "text/plain": [
       "0.47301295786144276"
      ]
     },
     "execution_count": 331,
     "metadata": {},
     "output_type": "execute_result"
    }
   ],
   "source": [
    "gini_impurity_function(Y_df)"
   ]
  },
  {
   "cell_type": "code",
   "execution_count": 332,
   "metadata": {},
   "outputs": [
    {
     "data": {
      "text/plain": [
       "0.0"
      ]
     },
     "execution_count": 332,
     "metadata": {},
     "output_type": "execute_result"
    }
   ],
   "source": [
    "gini_impurity_function(Y_df[Y_df==1])"
   ]
  },
  {
   "cell_type": "markdown",
   "metadata": {},
   "source": [
    "Seems like it works."
   ]
  },
  {
   "cell_type": "markdown",
   "metadata": {},
   "source": [
    "Now, for a given question, find the passengers for which that question is true and then false"
   ]
  },
  {
   "cell_type": "code",
   "execution_count": 333,
   "metadata": {},
   "outputs": [],
   "source": [
    "def partitioner(question, X_df):\n",
    "    \n",
    "    true_passengers = []\n",
    "    false_passengers = []\n",
    "    \n",
    "    \n",
    "    for passenger in X_df.itertuples():\n",
    "        if question.match(passenger):\n",
    "            true_passengers.append(passenger[0])\n",
    "            #print(question ,passenger)\n",
    "        else:\n",
    "            #print(\"did not match\", passenger)\n",
    "            false_passengers.append(passenger[0])\n",
    "            \n",
    "            \n",
    "    #turn arrays (that contain ID_s into DF's)        \n",
    "    true_passengers = pd.DataFrame(data={\"PassengerId\": true_passengers})        \n",
    "    false_passengers = pd.DataFrame(data={\"PassengerId\": false_passengers})\n",
    "    \n",
    "    true_passengers_df = X_df.merge(true_passengers, how='inner', left_index=True, right_on='PassengerId').set_index('PassengerId')\n",
    "    false_passengers_df = X_df.merge(false_passengers, how='inner', left_index=True, right_on='PassengerId').set_index('PassengerId')        \n",
    "    return true_passengers_df, false_passengers_df        "
   ]
  },
  {
   "cell_type": "code",
   "execution_count": 334,
   "metadata": {},
   "outputs": [],
   "source": [
    "true_passengers_df, false_passengers_df = partitioner(q_age2, X_df)"
   ]
  },
  {
   "cell_type": "code",
   "execution_count": 335,
   "metadata": {},
   "outputs": [
    {
     "data": {
      "text/html": [
       "<div>\n",
       "<table border=\"1\" class=\"dataframe\">\n",
       "  <thead>\n",
       "    <tr style=\"text-align: right;\">\n",
       "      <th></th>\n",
       "      <th>Age</th>\n",
       "      <th>Sex</th>\n",
       "    </tr>\n",
       "    <tr>\n",
       "      <th>PassengerId</th>\n",
       "      <th></th>\n",
       "      <th></th>\n",
       "    </tr>\n",
       "  </thead>\n",
       "  <tbody>\n",
       "    <tr>\n",
       "      <th>2</th>\n",
       "      <td>38.0</td>\n",
       "      <td>female</td>\n",
       "    </tr>\n",
       "    <tr>\n",
       "      <th>3</th>\n",
       "      <td>26.0</td>\n",
       "      <td>female</td>\n",
       "    </tr>\n",
       "    <tr>\n",
       "      <th>4</th>\n",
       "      <td>35.0</td>\n",
       "      <td>female</td>\n",
       "    </tr>\n",
       "    <tr>\n",
       "      <th>5</th>\n",
       "      <td>35.0</td>\n",
       "      <td>male</td>\n",
       "    </tr>\n",
       "    <tr>\n",
       "      <th>7</th>\n",
       "      <td>54.0</td>\n",
       "      <td>male</td>\n",
       "    </tr>\n",
       "  </tbody>\n",
       "</table>\n",
       "</div>"
      ],
      "text/plain": [
       "              Age     Sex\n",
       "PassengerId              \n",
       "2            38.0  female\n",
       "3            26.0  female\n",
       "4            35.0  female\n",
       "5            35.0    male\n",
       "7            54.0    male"
      ]
     },
     "execution_count": 335,
     "metadata": {},
     "output_type": "execute_result"
    }
   ],
   "source": [
    "true_passengers_df.head()"
   ]
  },
  {
   "cell_type": "code",
   "execution_count": 189,
   "metadata": {},
   "outputs": [
    {
     "data": {
      "text/plain": [
       "891"
      ]
     },
     "execution_count": 189,
     "metadata": {},
     "output_type": "execute_result"
    }
   ],
   "source": []
  },
  {
   "cell_type": "code",
   "execution_count": null,
   "metadata": {},
   "outputs": [],
   "source": []
  },
  {
   "cell_type": "code",
   "execution_count": 336,
   "metadata": {},
   "outputs": [],
   "source": [
    "def find_best_split(X_df, Y_df ):\n",
    "    \n",
    "      #plan here: \n",
    "    #1) ask all possible questions\n",
    "    #2) find out which one gives the best information gain.\n",
    "    \n",
    "    \n",
    "    ages = X_df.Age.unique()\n",
    "    sexes = X_df.Sex.unique()\n",
    "    \n",
    "    gini_impurity = gini_impurity_function(Y_df)\n",
    "    \n",
    "    information_gain_age_max = 0\n",
    "    information_gain_sex_max = 0\n",
    "    \n",
    "    age_question_max = ages[0]\n",
    "    sex_question_max = sexes[0]\n",
    "    \n",
    "    for age in ages:\n",
    "        age_question = Question(\"Age\", age)\n",
    "        \n",
    "        true_passengers_df, false_passengers_df = partitioner(age_question, X_df)\n",
    "        \n",
    "        if len(true_passengers_df)==0 or len(false_passengers_df) ==0 :\n",
    "            continue\n",
    "        \n",
    "        Y_df_of_true_passengers = Y_df.merge(true_passengers_df, how='inner', left_index=True, right_index=True)['Survived'].to_frame()\n",
    "        #now need to do\n",
    "        Y_df_of_false_passengers = Y_df.merge(false_passengers_df, how='inner', left_index=True, right_index=True)['Survived'].to_frame()\n",
    "        \n",
    "        true_passengers_fraction = len(true_passengers_df) / (len(true_passengers_df) + len(false_passengers_df))\n",
    "        \n",
    "        gini_impurity_post_split = true_passengers_fraction * gini_impurity_function(Y_df_of_true_passengers ) + (1 - true_passengers_fraction) * gini_impurity_function(Y_df_of_false_passengers )\n",
    "        \n",
    "        information_gain_age = gini_impurity - gini_impurity_post_split\n",
    "        \n",
    "        if  information_gain_age > information_gain_age_max:\n",
    "            information_gain_age_max = information_gain_age\n",
    "            age_question_max = age_question\n",
    "            \n",
    "    #for sex        \n",
    "    for sex in sexes:\n",
    "        sex_question = Question(\"Sex\", sex)\n",
    "        \n",
    "        true_passengers_df, false_passengers_df = partitioner(sex_question, X_df)\n",
    "        \n",
    "        if len(true_passengers_df)==0 or len(false_passengers_df) ==0 :\n",
    "            continue\n",
    "        \n",
    "        Y_df_of_true_passengers = Y_df.merge(true_passengers_df, how='inner', left_index=True, right_index=True)['Survived'].to_frame()\n",
    "        #now need to do\n",
    "        Y_df_of_false_passengers = Y_df.merge(false_passengers_df, how='inner', left_index=True, right_index=True)['Survived'].to_frame()\n",
    "        \n",
    "        true_passengers_fraction = len(true_passengers_df) / (len(true_passengers_df) + len(false_passengers_df))\n",
    "        \n",
    "        gini_impurity_post_split = true_passengers_fraction * gini_impurity_function(Y_df_of_true_passengers ) + (1 - true_passengers_fraction) * gini_impurity_function(Y_df_of_false_passengers )\n",
    "        \n",
    "        information_gain_sex = gini_impurity - gini_impurity_post_split\n",
    "        \n",
    "        if information_gain_sex > information_gain_sex_max:\n",
    "            information_gain_sex_max = information_gain_sex \n",
    "            sex_question_max = sex_question\n",
    "    \n",
    "    \n",
    "    #compare and return best question.\n",
    "    \n",
    "    if information_gain_sex_max > information_gain_age_max:\n",
    "        return information_gain_sex_max, sex_question_max\n",
    "    else: \n",
    "        return information_gain_age_max, age_question_max\n",
    "        \n",
    "        \n",
    "    \n",
    "    #return information_gain_age_max, age_question_max, information_gain_sex_max, sex_question_max      \n",
    "\n",
    "  "
   ]
  },
  {
   "cell_type": "code",
   "execution_count": null,
   "metadata": {},
   "outputs": [],
   "source": []
  },
  {
   "cell_type": "code",
   "execution_count": 337,
   "metadata": {},
   "outputs": [],
   "source": [
    "information_gain, question = find_best_split(X_df, Y_df)"
   ]
  },
  {
   "cell_type": "code",
   "execution_count": 338,
   "metadata": {},
   "outputs": [
    {
     "data": {
      "text/plain": [
       "Sex == male ?"
      ]
     },
     "execution_count": 338,
     "metadata": {},
     "output_type": "execute_result"
    }
   ],
   "source": [
    "question"
   ]
  },
  {
   "cell_type": "code",
   "execution_count": 339,
   "metadata": {},
   "outputs": [
    {
     "data": {
      "text/plain": [
       "0.13964795747285236"
      ]
     },
     "execution_count": 339,
     "metadata": {},
     "output_type": "execute_result"
    }
   ],
   "source": [
    "information_gain"
   ]
  },
  {
   "cell_type": "markdown",
   "metadata": {},
   "source": [
    "Since most information is gained from the sex question this question will be the first one asked.\n",
    "\n",
    "Also makes sense that sex should be a big contributor to who gets to live and who gets to die. No room for the disposable man on the life boats."
   ]
  },
  {
   "cell_type": "code",
   "execution_count": null,
   "metadata": {},
   "outputs": [],
   "source": []
  },
  {
   "cell_type": "code",
   "execution_count": 340,
   "metadata": {},
   "outputs": [],
   "source": [
    "class Leaf:\n",
    "\n",
    "    def __init__(self, question):\n",
    "        self.question = question"
   ]
  },
  {
   "cell_type": "code",
   "execution_count": 341,
   "metadata": {
    "collapsed": true
   },
   "outputs": [],
   "source": [
    "class Node:\n",
    "    # node will have a question, and the partition that arive from divindg on that partition.\n",
    "    def __init__(self, question, true_passengers, false_passengers):\n",
    "        self.question = question\n",
    "        self.true_passengers = true_passengers\n",
    "        self.false_passengers = false_passengers"
   ]
  },
  {
   "cell_type": "code",
   "execution_count": 342,
   "metadata": {
    "collapsed": true
   },
   "outputs": [],
   "source": [
    "def train_tree(X_df, Y_df):\n",
    "    \n",
    "    information_gain, question = find_best_split(X_df, Y_df)\n",
    "    print(question, information_gain)\n",
    "    \n",
    "    if information_gain == 0:\n",
    "         return Leaf(question)\n",
    "        \n",
    "        \n",
    "        \n",
    "    true_passengers_df, false_passengers_df = partitioner(question, X_df)\n",
    "    \n",
    "    Y_df_of_true_passengers = Y_df.merge(true_passengers_df, how='inner', left_index=True, right_index=True)['Survived'].to_frame()\n",
    "        \n",
    "    Y_df_of_false_passengers = Y_df.merge(false_passengers_df, how='inner', left_index=True, right_index=True)['Survived'].to_frame()\n",
    "    \n",
    "    train_tree(true_passengers_df, Y_df_of_true_passengers)\n",
    "    \n",
    "    train_tree(false_passengers_df, Y_df_of_false_passengers)\n",
    "    \n",
    "    return Node(question, true_passengers_df, false_passengers_df)"
   ]
  },
  {
   "cell_type": "code",
   "execution_count": 343,
   "metadata": {},
   "outputs": [
    {
     "name": "stdout",
     "output_type": "stream",
     "text": [
      "Sex == male ? 0.139647957473\n",
      "Age >= 80.0 ? 0.00228427082051\n",
      "80.0 0\n",
      "Age >= 0.42 ? 0.00187562446474\n",
      "Age >= 7.0 ? 0.0240545577551\n",
      "Age >= 25.0 ? 0.00269327692059\n",
      "Age >= 54.0 ? 0.00402639108571\n",
      "Age >= 64.0 ? 0.00694444444444\n",
      "66.0 0\n",
      "Age >= 56.0 ? 0.0128676470588\n",
      "Age >= 62.0 ? 0.0105453946284\n",
      "62.0 0\n",
      "Age >= 57.0 ? 0.0197897340754\n",
      "Age >= 60.0 ? 0.0137741046832\n",
      "Age >= 61.0 ? 0.0555555555556\n",
      "61.0 0\n",
      "60.0 0\n",
      "59.0 0\n",
      "56.0 0\n",
      "54.0 0\n",
      "Age >= 28.0 ? 0.00277561926008\n",
      "Age >= 48.0 ? 0.00434835849309\n",
      "Age >= 50.0 ? 0.0592592592593\n",
      "Age >= 52.0 ? 0.00181818181818\n",
      "52.0 0\n",
      "Age >= 51.0 ? 0.000550964187328\n",
      "51.0 0\n",
      "50.0 0\n",
      "Age >= 49.0 ? 0.00493827160494\n",
      "49.0 0\n",
      "48.0 0\n",
      "Age >= 45.5 ? 0.00472627474382\n",
      "46.0 0\n",
      "Age >= 31.0 ? 0.00409187758264\n",
      "Age >= 32.5 ? 0.0146022167021\n",
      "Age >= 34.0 ? 0.00731778759564\n",
      "Age >= 45.0 ? 0.00229645843051\n",
      "45.0 0\n",
      "Age >= 36.5 ? 0.00338735882137\n",
      "Age >= 42.0 ? 0.00312937181664\n",
      "Age >= 43.0 ? 0.0177900892582\n",
      "Age >= 44.0 ? 0.0123456790123\n",
      "44.0 0\n",
      "43.0 0\n",
      "42.0 0\n",
      "Age >= 40.5 ? 0.00493313292481\n",
      "40.5 0\n",
      "Age >= 37.0 ? 0.00168829798459\n",
      "Age >= 39.0 ? 0.00114757037834\n",
      "Age >= 40.0 ? 0.00015873015873\n",
      "40.0 0\n",
      "39.0 0\n",
      "Age >= 38.0 ? 0.000550964187328\n",
      "38.0 0\n",
      "37.0 0\n",
      "36.5 0\n",
      "Age >= 35.0 ? 0.00562941319698\n",
      "Age >= 36.0 ? 0.000533333333333\n",
      "36.0 0\n",
      "35.0 0\n",
      "Age >= 34.5 ? 0.00505050505051\n",
      "34.5 0\n",
      "34.0 0\n",
      "33.0 0\n",
      "Age >= 32.0 ? 0.0133333333333\n",
      "32.0 0\n",
      "31.0 0\n",
      "Age >= 30.0 ? 0.00309343434343\n",
      "Age >= 30.5 ? 0.000634920634921\n",
      "30.5 0\n",
      "30.0 0\n",
      "Age >= 29.0 ? 0.00816557180194\n",
      "29.0 0\n",
      "Age >= 28.5 ? 0.00222222222222\n",
      "28.5 0\n",
      "28.0 0\n",
      "Age >= 27.0 ? 0.0302517489838\n",
      "27.0 0\n",
      "Age >= 26.0 ? 3.55754778232e-05\n",
      "26.0 0\n",
      "25.0 0\n",
      "Age >= 14.0 ? 0.0142317984608\n",
      "Age >= 20.5 ? 0.00152437907601\n",
      "Age >= 21.0 ? 0.000158495874154\n",
      "Age >= 24.5 ? 0.000166885704153\n",
      "24.5 0\n",
      "Age >= 23.0 ? 0.00015081563558\n",
      "Age >= 23.5 ? 0.000533333333333\n",
      "Age >= 24.0 ? 0.000634920634921\n",
      "24.0 0\n",
      "23.5 0\n",
      "23.0 0\n",
      "Age >= 22.0 ? 3.0637254902e-05\n",
      "22.0 0\n",
      "21.0 0\n",
      "20.5 0\n",
      "Age >= 20.0 ? 0.00579881656805\n",
      "20.0 0\n",
      "Age >= 16.0 ? 0.00113210964859\n",
      "Age >= 19.0 ? 9.55396422338e-05\n",
      "19.0 0\n",
      "Age >= 18.0 ? 0.00056920764517\n",
      "18.0 0\n",
      "Age >= 17.0 ? 0.00128266794933\n",
      "17.0 0\n",
      "16.0 0\n",
      "15.0 0\n",
      "Age >= 12.0 ? 0.0631163708087\n",
      "12.0 0\n",
      "Age >= 8.0 ? 0.0444444444444\n",
      "Age >= 10.0 ? 0.03\n",
      "Age >= 11.0 ? 0.0416666666667\n",
      "11.0 0\n",
      "10.0 0\n",
      "9.0 0\n",
      "7.0 0\n",
      "Age >= 1.0 ? 0.0584795321637\n",
      "Age >= 3.0 ? 0.0325638658049\n",
      "Age >= 4.0 ? 0.12\n",
      "Age >= 6.0 ? 0.1\n",
      "6.0 0\n",
      "4.0 0\n",
      "3.0 0\n",
      "Age >= 2.0 ? 0.0604938271605\n",
      "2.0 0\n",
      "1.0 0\n",
      "0.83 0\n",
      "nan 0\n",
      "Age >= 13.0 ? 0.00669687540216\n",
      "Age >= 49.0 ? 0.00454832476854\n",
      "Age >= 58.0 ? 0.00571895424837\n",
      "58.0 0\n",
      "Age >= 57.0 ? 0.0973183391003\n",
      "57.0 0\n",
      "Age >= 51.0 ? 0.0100446428571\n",
      "55.0 0\n",
      "Age >= 50.0 ? 0.0163265306122\n",
      "50.0 0\n",
      "49.0 0\n",
      "Age >= 43.0 ? 0.00539645407443\n",
      "Age >= 48.0 ? 0.0161032738887\n",
      "48.0 0\n",
      "Age >= 45.0 ? 0.00473372781065\n",
      "47.0 0\n",
      "Age >= 44.0 ? 0.0133333333333\n",
      "44.0 0\n",
      "43.0 0\n",
      "Age >= 32.5 ? 0.00552565350784\n",
      "Age >= 37.0 ? 0.0391849288735\n",
      "Age >= 38.0 ? 0.0432\n",
      "Age >= 42.0 ? 0.0178571428571\n",
      "42.0 0\n",
      "Age >= 41.0 ? 0.0216086434574\n",
      "41.0 0\n",
      "Age >= 40.0 ? 0.00513788403062\n",
      "40.0 0\n",
      "Age >= 39.0 ? 0.00881542699725\n",
      "39.0 0\n",
      "38.0 0\n",
      "37.0 0\n",
      "35.0 0\n",
      "Age >= 25.0 ? 0.00333620302468\n",
      "Age >= 26.0 ? 0.0181795291452\n",
      "Age >= 30.5 ? 0.00462982015721\n",
      "Age >= 31.0 ? 0.0809917355372\n",
      "Age >= 32.0 ? 0.000952380952381\n",
      "32.0 0\n",
      "31.0 0\n",
      "30.5 0\n",
      "Age >= 27.0 ? 0.00725806451613\n",
      "Age >= 30.0 ? 0.00212846466749\n",
      "30.0 0\n",
      "Age >= 28.0 ? 0.00595238095238\n",
      "29.0 0\n",
      "27.0 0\n",
      "26.0 0\n",
      "25.0 0\n",
      "Age >= 22.0 ? 0.00658229890064\n",
      "Age >= 24.0 ? 0.00132339437152\n",
      "24.0 0\n",
      "Age >= 23.0 ? 0.000461361014994\n",
      "23.0 0\n",
      "22.0 0\n",
      "Age >= 20.0 ? 0.0343179976454\n",
      "Age >= 21.0 ? 0.112874779541\n",
      "21.0 0\n",
      "20.0 0\n",
      "Age >= 19.0 ? 0.0170362358031\n",
      "19.0 0\n",
      "Age >= 18.0 ? 0.0204849498328\n",
      "18.0 0\n",
      "Age >= 15.0 ? 0.0109370780448\n",
      "Age >= 16.0 ? 0.0104166666667\n",
      "17.0 0\n",
      "15.0 0\n",
      "Age >= 14.5 ? 0.170068027211\n",
      "14.5 0\n",
      "Age >= 14.0 ? 0.0277777777778\n",
      "14.0 0\n",
      "13.0 0\n",
      "Age >= 9.0 ? 0.063597739915\n",
      "9.0 0\n",
      "Age >= 4.0 ? 0.0111576934522\n",
      "Age >= 6.0 ? 0.0734693877551\n",
      "Age >= 8.0 ? 0.0133333333333\n",
      "8.0 0\n",
      "Age >= 7.0 ? 0.111111111111\n",
      "7.0 0\n",
      "6.0 0\n",
      "4.0 0\n",
      "Age >= 2.0 ? 0.023046818229\n",
      "Age >= 3.0 ? 0.0104166666667\n",
      "3.0 0\n",
      "2.0 0\n",
      "Age >= 0.75 ? 0.013426482459\n",
      "1.0 0\n",
      "nan 0\n"
     ]
    }
   ],
   "source": [
    "last_node = train_tree(X_df, Y_df)"
   ]
  },
  {
   "cell_type": "raw",
   "metadata": {},
   "source": [
    "last_node.question"
   ]
  },
  {
   "cell_type": "code",
   "execution_count": 269,
   "metadata": {},
   "outputs": [
    {
     "data": {
      "text/plain": [
       "Sex == male ?"
      ]
     },
     "execution_count": 269,
     "metadata": {},
     "output_type": "execute_result"
    }
   ],
   "source": [
    "last_node.question"
   ]
  },
  {
   "cell_type": "markdown",
   "metadata": {},
   "source": [
    "# Implementation using Sklearn "
   ]
  },
  {
   "cell_type": "code",
   "execution_count": 355,
   "metadata": {
    "collapsed": true
   },
   "outputs": [],
   "source": [
    "from sklearn import tree"
   ]
  },
  {
   "cell_type": "code",
   "execution_count": 356,
   "metadata": {},
   "outputs": [],
   "source": [
    "X_df_copy = X_df.copy()\n",
    "X_df_copy.Sex = X_df.Sex.apply(lambda sex: 1 if sex=='male' else 0)"
   ]
  },
  {
   "cell_type": "code",
   "execution_count": 357,
   "metadata": {},
   "outputs": [
    {
     "data": {
      "text/plain": [
       "False"
      ]
     },
     "execution_count": 357,
     "metadata": {},
     "output_type": "execute_result"
    }
   ],
   "source": [
    "import numpy as np\n",
    "np.isnan(2)"
   ]
  },
  {
   "cell_type": "code",
   "execution_count": 358,
   "metadata": {},
   "outputs": [],
   "source": [
    "X_df_copy = X_df_copy[np.isnan(X_df_copy.Age)==False]"
   ]
  },
  {
   "cell_type": "code",
   "execution_count": 359,
   "metadata": {
    "collapsed": true
   },
   "outputs": [],
   "source": [
    "Y_df_copy = Y_df.merge(X_df_copy, how='inner', left_index=True, right_index=True)['Survived'].to_frame()"
   ]
  },
  {
   "cell_type": "code",
   "execution_count": 364,
   "metadata": {},
   "outputs": [],
   "source": [
    "clf = tree.DecisionTreeClassifier(max_depth = 2)\n",
    "#setting max_depth equal to the number of features. 1) to prevent overfitting, 2) to get a easy interpretation\n",
    "clf = clf.fit(X_df_copy.values, Y_df_copy.values)"
   ]
  },
  {
   "cell_type": "code",
   "execution_count": 376,
   "metadata": {},
   "outputs": [
    {
     "data": {
      "text/plain": [
       "'titanic.pdf'"
      ]
     },
     "execution_count": 376,
     "metadata": {},
     "output_type": "execute_result"
    }
   ],
   "source": [
    "import graphviz \n",
    "dot_data = tree.export_graphviz(clf, feature_names=[\"Age\", \"Sex\"], class_names=[\"Died\", \"Survived\"], filled=True ,out_file=None) \n",
    "graph = graphviz.Source(dot_data) \n",
    "graph.render(\"titanic\") \n"
   ]
  },
  {
   "cell_type": "code",
   "execution_count": 362,
   "metadata": {},
   "outputs": [
    {
     "data": {
      "text/plain": [
       "<714x221 sparse matrix of type '<class 'numpy.int64'>'\n",
       "\twith 7684 stored elements in Compressed Sparse Row format>"
      ]
     },
     "execution_count": 362,
     "metadata": {},
     "output_type": "execute_result"
    }
   ],
   "source": [
    "clf.decision_path(X_df_copy.values)"
   ]
  },
  {
   "cell_type": "code",
   "execution_count": 377,
   "metadata": {},
   "outputs": [
    {
     "data": {
      "image/svg+xml": [
       "<?xml version=\"1.0\" encoding=\"UTF-8\" standalone=\"no\"?>\n",
       "<!DOCTYPE svg PUBLIC \"-//W3C//DTD SVG 1.1//EN\"\n",
       " \"http://www.w3.org/Graphics/SVG/1.1/DTD/svg11.dtd\">\n",
       "<!-- Generated by graphviz version 2.38.0 (20140413.2041)\n",
       " -->\n",
       "<!-- Title: Tree Pages: 1 -->\n",
       "<svg width=\"507pt\" height=\"300pt\"\n",
       " viewBox=\"0.00 0.00 506.60 300.00\" xmlns=\"http://www.w3.org/2000/svg\" xmlns:xlink=\"http://www.w3.org/1999/xlink\">\n",
       "<g id=\"graph0\" class=\"graph\" transform=\"scale(1 1) rotate(0) translate(4 296)\">\n",
       "<title>Tree</title>\n",
       "<polygon fill=\"white\" stroke=\"none\" points=\"-4,4 -4,-296 502.599,-296 502.599,4 -4,4\"/>\n",
       "<!-- 0 -->\n",
       "<g id=\"node1\" class=\"node\"><title>0</title>\n",
       "<polygon fill=\"#e58139\" fill-opacity=\"0.317647\" stroke=\"black\" points=\"306.869,-292 187.793,-292 187.793,-214 306.869,-214 306.869,-292\"/>\n",
       "<text text-anchor=\"middle\" x=\"247.331\" y=\"-276.8\" font-family=\"Times,serif\" font-size=\"14.00\">Sex &lt;= 0.5</text>\n",
       "<text text-anchor=\"middle\" x=\"247.331\" y=\"-262.8\" font-family=\"Times,serif\" font-size=\"14.00\">gini = 0.4824</text>\n",
       "<text text-anchor=\"middle\" x=\"247.331\" y=\"-248.8\" font-family=\"Times,serif\" font-size=\"14.00\">samples = 714</text>\n",
       "<text text-anchor=\"middle\" x=\"247.331\" y=\"-234.8\" font-family=\"Times,serif\" font-size=\"14.00\">value = [424, 290]</text>\n",
       "<text text-anchor=\"middle\" x=\"247.331\" y=\"-220.8\" font-family=\"Times,serif\" font-size=\"14.00\">class = Died</text>\n",
       "</g>\n",
       "<!-- 1 -->\n",
       "<g id=\"node2\" class=\"node\"><title>1</title>\n",
       "<polygon fill=\"#399de5\" fill-opacity=\"0.674510\" stroke=\"black\" points=\"238.369,-178 126.293,-178 126.293,-100 238.369,-100 238.369,-178\"/>\n",
       "<text text-anchor=\"middle\" x=\"182.331\" y=\"-162.8\" font-family=\"Times,serif\" font-size=\"14.00\">Age &lt;= 12.0</text>\n",
       "<text text-anchor=\"middle\" x=\"182.331\" y=\"-148.8\" font-family=\"Times,serif\" font-size=\"14.00\">gini = 0.3702</text>\n",
       "<text text-anchor=\"middle\" x=\"182.331\" y=\"-134.8\" font-family=\"Times,serif\" font-size=\"14.00\">samples = 261</text>\n",
       "<text text-anchor=\"middle\" x=\"182.331\" y=\"-120.8\" font-family=\"Times,serif\" font-size=\"14.00\">value = [64, 197]</text>\n",
       "<text text-anchor=\"middle\" x=\"182.331\" y=\"-106.8\" font-family=\"Times,serif\" font-size=\"14.00\">class = Survived</text>\n",
       "</g>\n",
       "<!-- 0&#45;&gt;1 -->\n",
       "<g id=\"edge1\" class=\"edge\"><title>0&#45;&gt;1</title>\n",
       "<path fill=\"none\" stroke=\"black\" d=\"M225.143,-213.769C220.123,-205.119 214.737,-195.838 209.536,-186.877\"/>\n",
       "<polygon fill=\"black\" stroke=\"black\" points=\"212.465,-184.951 204.418,-178.058 206.41,-188.464 212.465,-184.951\"/>\n",
       "<text text-anchor=\"middle\" x=\"198.002\" y=\"-198.021\" font-family=\"Times,serif\" font-size=\"14.00\">True</text>\n",
       "</g>\n",
       "<!-- 4 -->\n",
       "<g id=\"node5\" class=\"node\"><title>4</title>\n",
       "<polygon fill=\"#e58139\" fill-opacity=\"0.741176\" stroke=\"black\" points=\"369.369,-178 257.293,-178 257.293,-100 369.369,-100 369.369,-178\"/>\n",
       "<text text-anchor=\"middle\" x=\"313.331\" y=\"-162.8\" font-family=\"Times,serif\" font-size=\"14.00\">Age &lt;= 6.5</text>\n",
       "<text text-anchor=\"middle\" x=\"313.331\" y=\"-148.8\" font-family=\"Times,serif\" font-size=\"14.00\">gini = 0.3263</text>\n",
       "<text text-anchor=\"middle\" x=\"313.331\" y=\"-134.8\" font-family=\"Times,serif\" font-size=\"14.00\">samples = 453</text>\n",
       "<text text-anchor=\"middle\" x=\"313.331\" y=\"-120.8\" font-family=\"Times,serif\" font-size=\"14.00\">value = [360, 93]</text>\n",
       "<text text-anchor=\"middle\" x=\"313.331\" y=\"-106.8\" font-family=\"Times,serif\" font-size=\"14.00\">class = Died</text>\n",
       "</g>\n",
       "<!-- 0&#45;&gt;4 -->\n",
       "<g id=\"edge4\" class=\"edge\"><title>0&#45;&gt;4</title>\n",
       "<path fill=\"none\" stroke=\"black\" d=\"M269.859,-213.769C274.957,-205.119 280.426,-195.838 285.706,-186.877\"/>\n",
       "<polygon fill=\"black\" stroke=\"black\" points=\"288.842,-188.451 290.903,-178.058 282.811,-184.897 288.842,-188.451\"/>\n",
       "<text text-anchor=\"middle\" x=\"297.158\" y=\"-198.063\" font-family=\"Times,serif\" font-size=\"14.00\">False</text>\n",
       "</g>\n",
       "<!-- 2 -->\n",
       "<g id=\"node3\" class=\"node\"><title>2</title>\n",
       "<polygon fill=\"#399de5\" fill-opacity=\"0.317647\" stroke=\"black\" points=\"108.492,-64 0.168907,-64 0.168907,-0 108.492,-0 108.492,-64\"/>\n",
       "<text text-anchor=\"middle\" x=\"54.3306\" y=\"-48.8\" font-family=\"Times,serif\" font-size=\"14.00\">gini = 0.4824</text>\n",
       "<text text-anchor=\"middle\" x=\"54.3306\" y=\"-34.8\" font-family=\"Times,serif\" font-size=\"14.00\">samples = 32</text>\n",
       "<text text-anchor=\"middle\" x=\"54.3306\" y=\"-20.8\" font-family=\"Times,serif\" font-size=\"14.00\">value = [13, 19]</text>\n",
       "<text text-anchor=\"middle\" x=\"54.3306\" y=\"-6.8\" font-family=\"Times,serif\" font-size=\"14.00\">class = Survived</text>\n",
       "</g>\n",
       "<!-- 1&#45;&gt;2 -->\n",
       "<g id=\"edge2\" class=\"edge\"><title>1&#45;&gt;2</title>\n",
       "<path fill=\"none\" stroke=\"black\" d=\"M135.758,-99.7956C124.142,-90.2671 111.697,-80.0585 100.12,-70.5614\"/>\n",
       "<polygon fill=\"black\" stroke=\"black\" points=\"102.215,-67.7534 92.2639,-64.1172 97.7756,-73.1655 102.215,-67.7534\"/>\n",
       "</g>\n",
       "<!-- 3 -->\n",
       "<g id=\"node4\" class=\"node\"><title>3</title>\n",
       "<polygon fill=\"#399de5\" fill-opacity=\"0.713725\" stroke=\"black\" points=\"239.369,-64 127.293,-64 127.293,-0 239.369,-0 239.369,-64\"/>\n",
       "<text text-anchor=\"middle\" x=\"183.331\" y=\"-48.8\" font-family=\"Times,serif\" font-size=\"14.00\">gini = 0.3462</text>\n",
       "<text text-anchor=\"middle\" x=\"183.331\" y=\"-34.8\" font-family=\"Times,serif\" font-size=\"14.00\">samples = 229</text>\n",
       "<text text-anchor=\"middle\" x=\"183.331\" y=\"-20.8\" font-family=\"Times,serif\" font-size=\"14.00\">value = [51, 178]</text>\n",
       "<text text-anchor=\"middle\" x=\"183.331\" y=\"-6.8\" font-family=\"Times,serif\" font-size=\"14.00\">class = Survived</text>\n",
       "</g>\n",
       "<!-- 1&#45;&gt;3 -->\n",
       "<g id=\"edge3\" class=\"edge\"><title>1&#45;&gt;3</title>\n",
       "<path fill=\"none\" stroke=\"black\" d=\"M182.694,-99.7956C182.774,-91.4581 182.858,-82.6 182.939,-74.1534\"/>\n",
       "<polygon fill=\"black\" stroke=\"black\" points=\"186.439,-74.1501 183.034,-64.1172 179.439,-74.0834 186.439,-74.1501\"/>\n",
       "</g>\n",
       "<!-- 5 -->\n",
       "<g id=\"node6\" class=\"node\"><title>5</title>\n",
       "<polygon fill=\"#399de5\" fill-opacity=\"0.498039\" stroke=\"black\" points=\"367.492,-64 259.169,-64 259.169,-0 367.492,-0 367.492,-64\"/>\n",
       "<text text-anchor=\"middle\" x=\"313.331\" y=\"-48.8\" font-family=\"Times,serif\" font-size=\"14.00\">gini = 0.4444</text>\n",
       "<text text-anchor=\"middle\" x=\"313.331\" y=\"-34.8\" font-family=\"Times,serif\" font-size=\"14.00\">samples = 24</text>\n",
       "<text text-anchor=\"middle\" x=\"313.331\" y=\"-20.8\" font-family=\"Times,serif\" font-size=\"14.00\">value = [8, 16]</text>\n",
       "<text text-anchor=\"middle\" x=\"313.331\" y=\"-6.8\" font-family=\"Times,serif\" font-size=\"14.00\">class = Survived</text>\n",
       "</g>\n",
       "<!-- 4&#45;&gt;5 -->\n",
       "<g id=\"edge5\" class=\"edge\"><title>4&#45;&gt;5</title>\n",
       "<path fill=\"none\" stroke=\"black\" d=\"M313.331,-99.7956C313.331,-91.4581 313.331,-82.6 313.331,-74.1534\"/>\n",
       "<polygon fill=\"black\" stroke=\"black\" points=\"316.831,-74.1171 313.331,-64.1172 309.831,-74.1172 316.831,-74.1171\"/>\n",
       "</g>\n",
       "<!-- 6 -->\n",
       "<g id=\"node7\" class=\"node\"><title>6</title>\n",
       "<polygon fill=\"#e58139\" fill-opacity=\"0.780392\" stroke=\"black\" points=\"498.369,-64 386.293,-64 386.293,-0 498.369,-0 498.369,-64\"/>\n",
       "<text text-anchor=\"middle\" x=\"442.331\" y=\"-48.8\" font-family=\"Times,serif\" font-size=\"14.00\">gini = 0.2945</text>\n",
       "<text text-anchor=\"middle\" x=\"442.331\" y=\"-34.8\" font-family=\"Times,serif\" font-size=\"14.00\">samples = 429</text>\n",
       "<text text-anchor=\"middle\" x=\"442.331\" y=\"-20.8\" font-family=\"Times,serif\" font-size=\"14.00\">value = [352, 77]</text>\n",
       "<text text-anchor=\"middle\" x=\"442.331\" y=\"-6.8\" font-family=\"Times,serif\" font-size=\"14.00\">class = Died</text>\n",
       "</g>\n",
       "<!-- 4&#45;&gt;6 -->\n",
       "<g id=\"edge6\" class=\"edge\"><title>4&#45;&gt;6</title>\n",
       "<path fill=\"none\" stroke=\"black\" d=\"M360.267,-99.7956C371.974,-90.2671 384.516,-80.0585 396.184,-70.5614\"/>\n",
       "<polygon fill=\"black\" stroke=\"black\" points=\"398.555,-73.1444 404.101,-64.1172 394.136,-67.7154 398.555,-73.1444\"/>\n",
       "</g>\n",
       "</g>\n",
       "</svg>\n"
      ],
      "text/plain": [
       "<graphviz.files.Source at 0x1033d2940>"
      ]
     },
     "execution_count": 377,
     "metadata": {},
     "output_type": "execute_result"
    }
   ],
   "source": [
    "graph"
   ]
  },
  {
   "cell_type": "markdown",
   "metadata": {},
   "source": []
  },
  {
   "cell_type": "markdown",
   "metadata": {},
   "source": [
    "### Interpretation"
   ]
  },
  {
   "cell_type": "code",
   "execution_count": null,
   "metadata": {},
   "outputs": [],
   "source": []
  },
  {
   "cell_type": "code",
   "execution_count": null,
   "metadata": {},
   "outputs": [],
   "source": []
  },
  {
   "cell_type": "markdown",
   "metadata": {},
   "source": [
    "For Males it will predict: If age is under 6.5, then live, else die"
   ]
  },
  {
   "cell_type": "code",
   "execution_count": 380,
   "metadata": {},
   "outputs": [
    {
     "data": {
      "text/plain": [
       "array([1])"
      ]
     },
     "execution_count": 380,
     "metadata": {},
     "output_type": "execute_result"
    }
   ],
   "source": [
    "clf.predict([[6.5, 1]])"
   ]
  },
  {
   "cell_type": "code",
   "execution_count": 381,
   "metadata": {},
   "outputs": [
    {
     "data": {
      "text/plain": [
       "array([0])"
      ]
     },
     "execution_count": 381,
     "metadata": {},
     "output_type": "execute_result"
    }
   ],
   "source": [
    "clf.predict([[7, 1]])"
   ]
  },
  {
   "cell_type": "markdown",
   "metadata": {},
   "source": [
    "For Females it will predict: live, for all ages"
   ]
  },
  {
   "cell_type": "code",
   "execution_count": 383,
   "metadata": {},
   "outputs": [
    {
     "data": {
      "text/plain": [
       "array([1])"
      ]
     },
     "execution_count": 383,
     "metadata": {},
     "output_type": "execute_result"
    }
   ],
   "source": [
    "clf.predict([[12, 0]])"
   ]
  },
  {
   "cell_type": "code",
   "execution_count": 386,
   "metadata": {},
   "outputs": [
    {
     "data": {
      "text/plain": [
       "array([1])"
      ]
     },
     "execution_count": 386,
     "metadata": {},
     "output_type": "execute_result"
    }
   ],
   "source": [
    "clf.predict([[122, 0]])"
   ]
  },
  {
   "cell_type": "markdown",
   "metadata": {},
   "source": [
    "This makes sense as 'Women and children first' was a policy for access to the life boats (Only source I have for this is the movie).\n",
    "\n",
    "value represent the quantity of how many people died and lived, respectively, at each node of the tree.\n"
   ]
  },
  {
   "cell_type": "markdown",
   "metadata": {},
   "source": [
    "TODO:\n",
    "    \n",
    "    1) import the test set and get a accuracy measure.\n",
    "    2)  use more feature and repeat the proccess.\n",
    "    \n",
    "    \n",
    "    \n",
    "    \n",
    "    "
   ]
  },
  {
   "cell_type": "code",
   "execution_count": 417,
   "metadata": {},
   "outputs": [
    {
     "data": {
      "text/html": [
       "<div>\n",
       "<table border=\"1\" class=\"dataframe\">\n",
       "  <thead>\n",
       "    <tr style=\"text-align: right;\">\n",
       "      <th></th>\n",
       "      <th>Age</th>\n",
       "      <th>Sex</th>\n",
       "    </tr>\n",
       "    <tr>\n",
       "      <th>PassengerId</th>\n",
       "      <th></th>\n",
       "      <th></th>\n",
       "    </tr>\n",
       "  </thead>\n",
       "  <tbody>\n",
       "    <tr>\n",
       "      <th>892</th>\n",
       "      <td>34.5</td>\n",
       "      <td>1</td>\n",
       "    </tr>\n",
       "    <tr>\n",
       "      <th>893</th>\n",
       "      <td>47.0</td>\n",
       "      <td>0</td>\n",
       "    </tr>\n",
       "    <tr>\n",
       "      <th>894</th>\n",
       "      <td>62.0</td>\n",
       "      <td>1</td>\n",
       "    </tr>\n",
       "    <tr>\n",
       "      <th>895</th>\n",
       "      <td>27.0</td>\n",
       "      <td>1</td>\n",
       "    </tr>\n",
       "    <tr>\n",
       "      <th>896</th>\n",
       "      <td>22.0</td>\n",
       "      <td>0</td>\n",
       "    </tr>\n",
       "  </tbody>\n",
       "</table>\n",
       "</div>"
      ],
      "text/plain": [
       "              Age  Sex\n",
       "PassengerId           \n",
       "892          34.5    1\n",
       "893          47.0    0\n",
       "894          62.0    1\n",
       "895          27.0    1\n",
       "896          22.0    0"
      ]
     },
     "execution_count": 417,
     "metadata": {},
     "output_type": "execute_result"
    }
   ],
   "source": [
    "test_data = pd.read_csv('data/test.csv')\n",
    "\n",
    "X_test_df = test_data[['Age', 'Sex', 'PassengerId']]\n",
    "X_test_df = X_test_df.set_index('PassengerId')\n",
    "\n",
    "X_test_df.Sex = X_test_df.Sex.apply(lambda sex: 1 if sex=='male' else 0)\n",
    "\n",
    "#X_test_df = X_test_df[np.isnan(X_test_df.Age)==False]\n",
    "X_test_df.Age = X_test_df.Age.apply(lambda age: 10 if np.isnan(age) else age)\n",
    "\n",
    "X_test_df.head()\n"
   ]
  },
  {
   "cell_type": "markdown",
   "metadata": {},
   "source": [
    "Predictions need to be in format :\n",
    "\n",
    "PassengerId,Survived \n",
    "\n",
    "892,0"
   ]
  },
  {
   "cell_type": "code",
   "execution_count": 405,
   "metadata": {},
   "outputs": [],
   "source": [
    "X_test_df['Prediction'] = clf.predict(X_test_df.values)"
   ]
  },
  {
   "cell_type": "code",
   "execution_count": 414,
   "metadata": {},
   "outputs": [],
   "source": [
    "X_test_df['Prediction'].to_csv('./data/gender_submission.csv', index_label=['PassengerId'] ,header=['Survived'])"
   ]
  },
  {
   "cell_type": "markdown",
   "metadata": {},
   "source": [
    "kg submit gender_submission.csv -u $user -p $password -c titanic\n",
    "\n",
    "this submission gave a accuracy of 0.75598 and placement 6897 / 8368. Fairly decent accuracy I think on such a simple procedure.\n",
    "\n",
    "Next I'll try with more features, but same depth.\n",
    "\n",
    "## More features\n",
    "\n"
   ]
  },
  {
   "cell_type": "code",
   "execution_count": 419,
   "metadata": {},
   "outputs": [],
   "source": [
    "\n",
    "Y_df_2 = data[ ['Survived', 'PassengerId']]\n",
    "Y_df_2 = Y_df_2.set_index('PassengerId')\n",
    "\n"
   ]
  },
  {
   "cell_type": "code",
   "execution_count": 479,
   "metadata": {},
   "outputs": [
    {
     "data": {
      "text/plain": [
       "array(['PassengerId', 'Pclass', 'Name', 'Sex', 'Age', 'SibSp', 'Parch',\n",
       "       'Ticket', 'Fare', 'Cabin', 'Embarked'], dtype=object)"
      ]
     },
     "execution_count": 479,
     "metadata": {},
     "output_type": "execute_result"
    }
   ],
   "source": [
    "#data[ not 'Surviv\n",
    "X_df_2_columns = data.columns.values \n",
    "#remove('Survived')\n",
    "X_df_2_columns = np.delete(X_df_2_columns, 1)\n",
    "X_df_2_columns"
   ]
  },
  {
   "cell_type": "markdown",
   "metadata": {},
   "source": [
    "Remove features I think are irrelevant. Description of the features below.\n",
    "\n",
    "\n",
    "\n",
    "pclass\tTicket class\t1 = 1st, 2 = 2nd, 3 = 3rd\n",
    "sex\tSex\t\n",
    "Age\tAge in years\t\n",
    "sibsp\t# of siblings / spouses aboard the Titanic\t\n",
    "parch\t# of parents / children aboard the Titanic\t\n",
    "ticket\tTicket number\t\n",
    "fare\tPassenger fare\t\n",
    "cabin\tCabin number\t\n",
    "embarked\tPort of Embarkation"
   ]
  },
  {
   "cell_type": "code",
   "execution_count": 480,
   "metadata": {},
   "outputs": [
    {
     "data": {
      "text/plain": [
       "array(['PassengerId', 'Pclass', 'Sex', 'Age', 'SibSp', 'Parch'], dtype=object)"
      ]
     },
     "execution_count": 480,
     "metadata": {},
     "output_type": "execute_result"
    }
   ],
   "source": [
    "#remove('Name')\n",
    "X_df_2_columns = np.delete(X_df_2_columns, 2)\n",
    "#remove('Ticket')\n",
    "X_df_2_columns = np.delete(X_df_2_columns, 6)\n",
    "#remove('Fare')\n",
    "X_df_2_columns = np.delete(X_df_2_columns, 6)\n",
    "#remove('Cabin')\n",
    "X_df_2_columns = np.delete(X_df_2_columns, 6)\n",
    "#remove('Embarked') \n",
    "X_df_2_columns = np.delete(X_df_2_columns, 6)\n",
    "X_df_2_columns"
   ]
  },
  {
   "cell_type": "markdown",
   "metadata": {},
   "source": [
    "I think that pclass will be an important feature.\n",
    "\n",
    "\n",
    "sibsp and parch are likely correlated. Is this a problem with decision trees?"
   ]
  },
  {
   "cell_type": "code",
   "execution_count": 510,
   "metadata": {
    "collapsed": true
   },
   "outputs": [],
   "source": [
    "X_df_2 = data[X_df_2_columns]\n",
    "X_df_2 = X_df_2.set_index('PassengerId')\n",
    "\n",
    "#want to train the dataset on data that is not missing\n",
    "\n",
    "X_df_2_copy = X_df_2.copy()\n",
    "X_df_2_copy = X_df_2_copy[np.isnan(X_df_2_copy.Age) == False]\n",
    "\n",
    "Y_df_2_copy = Y_df.merge(X_df_2_copy, how='inner', left_index=True, right_index=True)['Survived'].to_frame()"
   ]
  },
  {
   "cell_type": "code",
   "execution_count": 511,
   "metadata": {},
   "outputs": [
    {
     "data": {
      "text/html": [
       "<div>\n",
       "<table border=\"1\" class=\"dataframe\">\n",
       "  <thead>\n",
       "    <tr style=\"text-align: right;\">\n",
       "      <th></th>\n",
       "      <th>Pclass</th>\n",
       "      <th>Sex</th>\n",
       "      <th>Age</th>\n",
       "      <th>SibSp</th>\n",
       "      <th>Parch</th>\n",
       "    </tr>\n",
       "    <tr>\n",
       "      <th>PassengerId</th>\n",
       "      <th></th>\n",
       "      <th></th>\n",
       "      <th></th>\n",
       "      <th></th>\n",
       "      <th></th>\n",
       "    </tr>\n",
       "  </thead>\n",
       "  <tbody>\n",
       "    <tr>\n",
       "      <th>1</th>\n",
       "      <td>3</td>\n",
       "      <td>male</td>\n",
       "      <td>22.0</td>\n",
       "      <td>1</td>\n",
       "      <td>0</td>\n",
       "    </tr>\n",
       "    <tr>\n",
       "      <th>2</th>\n",
       "      <td>1</td>\n",
       "      <td>female</td>\n",
       "      <td>38.0</td>\n",
       "      <td>1</td>\n",
       "      <td>0</td>\n",
       "    </tr>\n",
       "    <tr>\n",
       "      <th>3</th>\n",
       "      <td>3</td>\n",
       "      <td>female</td>\n",
       "      <td>26.0</td>\n",
       "      <td>0</td>\n",
       "      <td>0</td>\n",
       "    </tr>\n",
       "    <tr>\n",
       "      <th>4</th>\n",
       "      <td>1</td>\n",
       "      <td>female</td>\n",
       "      <td>35.0</td>\n",
       "      <td>1</td>\n",
       "      <td>0</td>\n",
       "    </tr>\n",
       "    <tr>\n",
       "      <th>5</th>\n",
       "      <td>3</td>\n",
       "      <td>male</td>\n",
       "      <td>35.0</td>\n",
       "      <td>0</td>\n",
       "      <td>0</td>\n",
       "    </tr>\n",
       "  </tbody>\n",
       "</table>\n",
       "</div>"
      ],
      "text/plain": [
       "             Pclass     Sex   Age  SibSp  Parch\n",
       "PassengerId                                    \n",
       "1                 3    male  22.0      1      0\n",
       "2                 1  female  38.0      1      0\n",
       "3                 3  female  26.0      0      0\n",
       "4                 1  female  35.0      1      0\n",
       "5                 3    male  35.0      0      0"
      ]
     },
     "execution_count": 511,
     "metadata": {},
     "output_type": "execute_result"
    }
   ],
   "source": [
    "X_df_2.head()"
   ]
  },
  {
   "cell_type": "markdown",
   "metadata": {},
   "source": [
    "Now encode male and then cabin\n",
    "\n",
    "About missing values..\n",
    "can handle it in many ways, i'll use a lazy method for now and consider the missing values to be in itself a value.\n",
    "\n"
   ]
  },
  {
   "cell_type": "code",
   "execution_count": 512,
   "metadata": {},
   "outputs": [],
   "source": [
    "X_df_2.Age = X_df_2.Age.apply(lambda age: 10 if np.isnan(age) == True else age )\n",
    "X_df_2.Sex = X_df_2.Sex.apply(lambda sex: 1 if sex =='male' else 0)"
   ]
  },
  {
   "cell_type": "code",
   "execution_count": 516,
   "metadata": {},
   "outputs": [],
   "source": [
    "clf_2 = tree.DecisionTreeClassifier(max_depth = len(X_df_2.columns))\n",
    "\n",
    "clf_2 = clf_2.fit(X_df_2.values, Y_df_2.values)"
   ]
  },
  {
   "cell_type": "code",
   "execution_count": 517,
   "metadata": {},
   "outputs": [
    {
     "data": {
      "image/svg+xml": [
       "<?xml version=\"1.0\" encoding=\"UTF-8\" standalone=\"no\"?>\n",
       "<!DOCTYPE svg PUBLIC \"-//W3C//DTD SVG 1.1//EN\"\n",
       " \"http://www.w3.org/Graphics/SVG/1.1/DTD/svg11.dtd\">\n",
       "<!-- Generated by graphviz version 2.38.0 (20140413.2041)\n",
       " -->\n",
       "<!-- Title: Tree Pages: 1 -->\n",
       "<svg width=\"2386pt\" height=\"642pt\"\n",
       " viewBox=\"0.00 0.00 2386.04 642.00\" xmlns=\"http://www.w3.org/2000/svg\" xmlns:xlink=\"http://www.w3.org/1999/xlink\">\n",
       "<g id=\"graph0\" class=\"graph\" transform=\"scale(1 1) rotate(0) translate(4 638)\">\n",
       "<title>Tree</title>\n",
       "<polygon fill=\"white\" stroke=\"none\" points=\"-4,4 -4,-638 2382.04,-638 2382.04,4 -4,4\"/>\n",
       "<!-- 0 -->\n",
       "<g id=\"node1\" class=\"node\"><title>0</title>\n",
       "<polygon fill=\"#e58139\" fill-opacity=\"0.376471\" stroke=\"black\" points=\"1097.31,-634 978.231,-634 978.231,-556 1097.31,-556 1097.31,-634\"/>\n",
       "<text text-anchor=\"middle\" x=\"1037.77\" y=\"-618.8\" font-family=\"Times,serif\" font-size=\"14.00\">Sex &lt;= 0.5</text>\n",
       "<text text-anchor=\"middle\" x=\"1037.77\" y=\"-604.8\" font-family=\"Times,serif\" font-size=\"14.00\">gini = 0.473</text>\n",
       "<text text-anchor=\"middle\" x=\"1037.77\" y=\"-590.8\" font-family=\"Times,serif\" font-size=\"14.00\">samples = 891</text>\n",
       "<text text-anchor=\"middle\" x=\"1037.77\" y=\"-576.8\" font-family=\"Times,serif\" font-size=\"14.00\">value = [549, 342]</text>\n",
       "<text text-anchor=\"middle\" x=\"1037.77\" y=\"-562.8\" font-family=\"Times,serif\" font-size=\"14.00\">class = Died</text>\n",
       "</g>\n",
       "<!-- 1 -->\n",
       "<g id=\"node2\" class=\"node\"><title>1</title>\n",
       "<polygon fill=\"#399de5\" fill-opacity=\"0.650980\" stroke=\"black\" points=\"985.807,-520 873.73,-520 873.73,-442 985.807,-442 985.807,-520\"/>\n",
       "<text text-anchor=\"middle\" x=\"929.769\" y=\"-504.8\" font-family=\"Times,serif\" font-size=\"14.00\">Pclass &lt;= 2.5</text>\n",
       "<text text-anchor=\"middle\" x=\"929.769\" y=\"-490.8\" font-family=\"Times,serif\" font-size=\"14.00\">gini = 0.3828</text>\n",
       "<text text-anchor=\"middle\" x=\"929.769\" y=\"-476.8\" font-family=\"Times,serif\" font-size=\"14.00\">samples = 314</text>\n",
       "<text text-anchor=\"middle\" x=\"929.769\" y=\"-462.8\" font-family=\"Times,serif\" font-size=\"14.00\">value = [81, 233]</text>\n",
       "<text text-anchor=\"middle\" x=\"929.769\" y=\"-448.8\" font-family=\"Times,serif\" font-size=\"14.00\">class = Survived</text>\n",
       "</g>\n",
       "<!-- 0&#45;&gt;1 -->\n",
       "<g id=\"edge1\" class=\"edge\"><title>0&#45;&gt;1</title>\n",
       "<path fill=\"none\" stroke=\"black\" d=\"M1000.9,-555.769C992.128,-546.669 982.679,-536.87 973.624,-527.48\"/>\n",
       "<polygon fill=\"black\" stroke=\"black\" points=\"975.929,-524.827 966.468,-520.058 970.89,-529.686 975.929,-524.827\"/>\n",
       "<text text-anchor=\"middle\" x=\"966.013\" y=\"-540.854\" font-family=\"Times,serif\" font-size=\"14.00\">True</text>\n",
       "</g>\n",
       "<!-- 24 -->\n",
       "<g id=\"node25\" class=\"node\"><title>24</title>\n",
       "<polygon fill=\"#e58139\" fill-opacity=\"0.768627\" stroke=\"black\" points=\"1205.31,-520 1086.23,-520 1086.23,-442 1205.31,-442 1205.31,-520\"/>\n",
       "<text text-anchor=\"middle\" x=\"1145.77\" y=\"-504.8\" font-family=\"Times,serif\" font-size=\"14.00\">Age &lt;= 6.5</text>\n",
       "<text text-anchor=\"middle\" x=\"1145.77\" y=\"-490.8\" font-family=\"Times,serif\" font-size=\"14.00\">gini = 0.3064</text>\n",
       "<text text-anchor=\"middle\" x=\"1145.77\" y=\"-476.8\" font-family=\"Times,serif\" font-size=\"14.00\">samples = 577</text>\n",
       "<text text-anchor=\"middle\" x=\"1145.77\" y=\"-462.8\" font-family=\"Times,serif\" font-size=\"14.00\">value = [468, 109]</text>\n",
       "<text text-anchor=\"middle\" x=\"1145.77\" y=\"-448.8\" font-family=\"Times,serif\" font-size=\"14.00\">class = Died</text>\n",
       "</g>\n",
       "<!-- 0&#45;&gt;24 -->\n",
       "<g id=\"edge24\" class=\"edge\"><title>0&#45;&gt;24</title>\n",
       "<path fill=\"none\" stroke=\"black\" d=\"M1074.63,-555.769C1083.41,-546.669 1092.86,-536.87 1101.91,-527.48\"/>\n",
       "<polygon fill=\"black\" stroke=\"black\" points=\"1104.65,-529.686 1109.07,-520.058 1099.61,-524.827 1104.65,-529.686\"/>\n",
       "<text text-anchor=\"middle\" x=\"1109.52\" y=\"-540.854\" font-family=\"Times,serif\" font-size=\"14.00\">False</text>\n",
       "</g>\n",
       "<!-- 2 -->\n",
       "<g id=\"node3\" class=\"node\"><title>2</title>\n",
       "<polygon fill=\"#399de5\" fill-opacity=\"0.945098\" stroke=\"black\" points=\"408.93,-406 300.607,-406 300.607,-328 408.93,-328 408.93,-406\"/>\n",
       "<text text-anchor=\"middle\" x=\"354.769\" y=\"-390.8\" font-family=\"Times,serif\" font-size=\"14.00\">Age &lt;= 2.5</text>\n",
       "<text text-anchor=\"middle\" x=\"354.769\" y=\"-376.8\" font-family=\"Times,serif\" font-size=\"14.00\">gini = 0.1003</text>\n",
       "<text text-anchor=\"middle\" x=\"354.769\" y=\"-362.8\" font-family=\"Times,serif\" font-size=\"14.00\">samples = 170</text>\n",
       "<text text-anchor=\"middle\" x=\"354.769\" y=\"-348.8\" font-family=\"Times,serif\" font-size=\"14.00\">value = [9, 161]</text>\n",
       "<text text-anchor=\"middle\" x=\"354.769\" y=\"-334.8\" font-family=\"Times,serif\" font-size=\"14.00\">class = Survived</text>\n",
       "</g>\n",
       "<!-- 1&#45;&gt;2 -->\n",
       "<g id=\"edge2\" class=\"edge\"><title>1&#45;&gt;2</title>\n",
       "<path fill=\"none\" stroke=\"black\" d=\"M873.588,-469.057C766.196,-448.139 532.394,-402.598 419.002,-380.511\"/>\n",
       "<polygon fill=\"black\" stroke=\"black\" points=\"419.555,-377.054 409.07,-378.577 418.217,-383.924 419.555,-377.054\"/>\n",
       "</g>\n",
       "<!-- 11 -->\n",
       "<g id=\"node12\" class=\"node\"><title>11</title>\n",
       "<polygon fill=\"none\" stroke=\"black\" points=\"982.307,-406 877.23,-406 877.23,-328 982.307,-328 982.307,-406\"/>\n",
       "<text text-anchor=\"middle\" x=\"929.769\" y=\"-390.8\" font-family=\"Times,serif\" font-size=\"14.00\">SibSp &lt;= 2.5</text>\n",
       "<text text-anchor=\"middle\" x=\"929.769\" y=\"-376.8\" font-family=\"Times,serif\" font-size=\"14.00\">gini = 0.5</text>\n",
       "<text text-anchor=\"middle\" x=\"929.769\" y=\"-362.8\" font-family=\"Times,serif\" font-size=\"14.00\">samples = 144</text>\n",
       "<text text-anchor=\"middle\" x=\"929.769\" y=\"-348.8\" font-family=\"Times,serif\" font-size=\"14.00\">value = [72, 72]</text>\n",
       "<text text-anchor=\"middle\" x=\"929.769\" y=\"-334.8\" font-family=\"Times,serif\" font-size=\"14.00\">class = Died</text>\n",
       "</g>\n",
       "<!-- 1&#45;&gt;11 -->\n",
       "<g id=\"edge11\" class=\"edge\"><title>1&#45;&gt;11</title>\n",
       "<path fill=\"none\" stroke=\"black\" d=\"M929.769,-441.769C929.769,-433.57 929.769,-424.803 929.769,-416.28\"/>\n",
       "<polygon fill=\"black\" stroke=\"black\" points=\"933.269,-416.058 929.769,-406.058 926.269,-416.059 933.269,-416.058\"/>\n",
       "</g>\n",
       "<!-- 3 -->\n",
       "<g id=\"node4\" class=\"node\"><title>3</title>\n",
       "<polygon fill=\"none\" stroke=\"black\" points=\"209.307,-292 118.23,-292 118.23,-214 209.307,-214 209.307,-292\"/>\n",
       "<text text-anchor=\"middle\" x=\"163.769\" y=\"-276.8\" font-family=\"Times,serif\" font-size=\"14.00\">Pclass &lt;= 1.5</text>\n",
       "<text text-anchor=\"middle\" x=\"163.769\" y=\"-262.8\" font-family=\"Times,serif\" font-size=\"14.00\">gini = 0.5</text>\n",
       "<text text-anchor=\"middle\" x=\"163.769\" y=\"-248.8\" font-family=\"Times,serif\" font-size=\"14.00\">samples = 2</text>\n",
       "<text text-anchor=\"middle\" x=\"163.769\" y=\"-234.8\" font-family=\"Times,serif\" font-size=\"14.00\">value = [1, 1]</text>\n",
       "<text text-anchor=\"middle\" x=\"163.769\" y=\"-220.8\" font-family=\"Times,serif\" font-size=\"14.00\">class = Died</text>\n",
       "</g>\n",
       "<!-- 2&#45;&gt;3 -->\n",
       "<g id=\"edge3\" class=\"edge\"><title>2&#45;&gt;3</title>\n",
       "<path fill=\"none\" stroke=\"black\" d=\"M300.547,-334.205C274.797,-319.106 244.09,-301.099 218.301,-285.977\"/>\n",
       "<polygon fill=\"black\" stroke=\"black\" points=\"219.797,-282.797 209.4,-280.758 216.256,-288.835 219.797,-282.797\"/>\n",
       "</g>\n",
       "<!-- 6 -->\n",
       "<g id=\"node7\" class=\"node\"><title>6</title>\n",
       "<polygon fill=\"#399de5\" fill-opacity=\"0.949020\" stroke=\"black\" points=\"408.93,-292 300.607,-292 300.607,-214 408.93,-214 408.93,-292\"/>\n",
       "<text text-anchor=\"middle\" x=\"354.769\" y=\"-276.8\" font-family=\"Times,serif\" font-size=\"14.00\">Age &lt;= 23.5</text>\n",
       "<text text-anchor=\"middle\" x=\"354.769\" y=\"-262.8\" font-family=\"Times,serif\" font-size=\"14.00\">gini = 0.0907</text>\n",
       "<text text-anchor=\"middle\" x=\"354.769\" y=\"-248.8\" font-family=\"Times,serif\" font-size=\"14.00\">samples = 168</text>\n",
       "<text text-anchor=\"middle\" x=\"354.769\" y=\"-234.8\" font-family=\"Times,serif\" font-size=\"14.00\">value = [8, 160]</text>\n",
       "<text text-anchor=\"middle\" x=\"354.769\" y=\"-220.8\" font-family=\"Times,serif\" font-size=\"14.00\">class = Survived</text>\n",
       "</g>\n",
       "<!-- 2&#45;&gt;6 -->\n",
       "<g id=\"edge6\" class=\"edge\"><title>2&#45;&gt;6</title>\n",
       "<path fill=\"none\" stroke=\"black\" d=\"M354.769,-327.769C354.769,-319.57 354.769,-310.803 354.769,-302.28\"/>\n",
       "<polygon fill=\"black\" stroke=\"black\" points=\"358.269,-302.058 354.769,-292.058 351.269,-302.059 358.269,-302.058\"/>\n",
       "</g>\n",
       "<!-- 4 -->\n",
       "<g id=\"node5\" class=\"node\"><title>4</title>\n",
       "<polygon fill=\"#e58139\" stroke=\"black\" points=\"91.3068,-171 0.230281,-171 0.230281,-107 91.3068,-107 91.3068,-171\"/>\n",
       "<text text-anchor=\"middle\" x=\"45.7686\" y=\"-155.8\" font-family=\"Times,serif\" font-size=\"14.00\">gini = 0.0</text>\n",
       "<text text-anchor=\"middle\" x=\"45.7686\" y=\"-141.8\" font-family=\"Times,serif\" font-size=\"14.00\">samples = 1</text>\n",
       "<text text-anchor=\"middle\" x=\"45.7686\" y=\"-127.8\" font-family=\"Times,serif\" font-size=\"14.00\">value = [1, 0]</text>\n",
       "<text text-anchor=\"middle\" x=\"45.7686\" y=\"-113.8\" font-family=\"Times,serif\" font-size=\"14.00\">class = Died</text>\n",
       "</g>\n",
       "<!-- 3&#45;&gt;4 -->\n",
       "<g id=\"edge4\" class=\"edge\"><title>3&#45;&gt;4</title>\n",
       "<path fill=\"none\" stroke=\"black\" d=\"M123.49,-213.769C111.326,-202.224 97.9778,-189.555 85.8284,-178.023\"/>\n",
       "<polygon fill=\"black\" stroke=\"black\" points=\"88.1024,-175.356 78.4398,-171.01 83.2834,-180.433 88.1024,-175.356\"/>\n",
       "</g>\n",
       "<!-- 5 -->\n",
       "<g id=\"node6\" class=\"node\"><title>5</title>\n",
       "<polygon fill=\"#399de5\" stroke=\"black\" points=\"217.93,-171 109.607,-171 109.607,-107 217.93,-107 217.93,-171\"/>\n",
       "<text text-anchor=\"middle\" x=\"163.769\" y=\"-155.8\" font-family=\"Times,serif\" font-size=\"14.00\">gini = 0.0</text>\n",
       "<text text-anchor=\"middle\" x=\"163.769\" y=\"-141.8\" font-family=\"Times,serif\" font-size=\"14.00\">samples = 1</text>\n",
       "<text text-anchor=\"middle\" x=\"163.769\" y=\"-127.8\" font-family=\"Times,serif\" font-size=\"14.00\">value = [0, 1]</text>\n",
       "<text text-anchor=\"middle\" x=\"163.769\" y=\"-113.8\" font-family=\"Times,serif\" font-size=\"14.00\">class = Survived</text>\n",
       "</g>\n",
       "<!-- 3&#45;&gt;5 -->\n",
       "<g id=\"edge5\" class=\"edge\"><title>3&#45;&gt;5</title>\n",
       "<path fill=\"none\" stroke=\"black\" d=\"M163.769,-213.769C163.769,-203.313 163.769,-191.935 163.769,-181.315\"/>\n",
       "<polygon fill=\"black\" stroke=\"black\" points=\"167.269,-181.01 163.769,-171.01 160.269,-181.01 167.269,-181.01\"/>\n",
       "</g>\n",
       "<!-- 7 -->\n",
       "<g id=\"node8\" class=\"node\"><title>7</title>\n",
       "<polygon fill=\"#399de5\" stroke=\"black\" points=\"344.93,-171 236.607,-171 236.607,-107 344.93,-107 344.93,-171\"/>\n",
       "<text text-anchor=\"middle\" x=\"290.769\" y=\"-155.8\" font-family=\"Times,serif\" font-size=\"14.00\">gini = 0.0</text>\n",
       "<text text-anchor=\"middle\" x=\"290.769\" y=\"-141.8\" font-family=\"Times,serif\" font-size=\"14.00\">samples = 51</text>\n",
       "<text text-anchor=\"middle\" x=\"290.769\" y=\"-127.8\" font-family=\"Times,serif\" font-size=\"14.00\">value = [0, 51]</text>\n",
       "<text text-anchor=\"middle\" x=\"290.769\" y=\"-113.8\" font-family=\"Times,serif\" font-size=\"14.00\">class = Survived</text>\n",
       "</g>\n",
       "<!-- 6&#45;&gt;7 -->\n",
       "<g id=\"edge7\" class=\"edge\"><title>6&#45;&gt;7</title>\n",
       "<path fill=\"none\" stroke=\"black\" d=\"M332.922,-213.769C326.699,-202.877 319.903,-190.985 313.621,-179.992\"/>\n",
       "<polygon fill=\"black\" stroke=\"black\" points=\"316.489,-177.956 308.489,-171.01 310.411,-181.429 316.489,-177.956\"/>\n",
       "</g>\n",
       "<!-- 8 -->\n",
       "<g id=\"node9\" class=\"node\"><title>8</title>\n",
       "<polygon fill=\"#399de5\" fill-opacity=\"0.925490\" stroke=\"black\" points=\"471.93,-178 363.607,-178 363.607,-100 471.93,-100 471.93,-178\"/>\n",
       "<text text-anchor=\"middle\" x=\"417.769\" y=\"-162.8\" font-family=\"Times,serif\" font-size=\"14.00\">Age &lt;= 27.5</text>\n",
       "<text text-anchor=\"middle\" x=\"417.769\" y=\"-148.8\" font-family=\"Times,serif\" font-size=\"14.00\">gini = 0.1274</text>\n",
       "<text text-anchor=\"middle\" x=\"417.769\" y=\"-134.8\" font-family=\"Times,serif\" font-size=\"14.00\">samples = 117</text>\n",
       "<text text-anchor=\"middle\" x=\"417.769\" y=\"-120.8\" font-family=\"Times,serif\" font-size=\"14.00\">value = [8, 109]</text>\n",
       "<text text-anchor=\"middle\" x=\"417.769\" y=\"-106.8\" font-family=\"Times,serif\" font-size=\"14.00\">class = Survived</text>\n",
       "</g>\n",
       "<!-- 6&#45;&gt;8 -->\n",
       "<g id=\"edge8\" class=\"edge\"><title>6&#45;&gt;8</title>\n",
       "<path fill=\"none\" stroke=\"black\" d=\"M376.273,-213.769C381.139,-205.119 386.36,-195.838 391.4,-186.877\"/>\n",
       "<polygon fill=\"black\" stroke=\"black\" points=\"394.509,-188.49 396.361,-178.058 388.407,-185.058 394.509,-188.49\"/>\n",
       "</g>\n",
       "<!-- 9 -->\n",
       "<g id=\"node10\" class=\"node\"><title>9</title>\n",
       "<polygon fill=\"#399de5\" fill-opacity=\"0.749020\" stroke=\"black\" points=\"344.93,-64 236.607,-64 236.607,-0 344.93,-0 344.93,-64\"/>\n",
       "<text text-anchor=\"middle\" x=\"290.769\" y=\"-48.8\" font-family=\"Times,serif\" font-size=\"14.00\">gini = 0.32</text>\n",
       "<text text-anchor=\"middle\" x=\"290.769\" y=\"-34.8\" font-family=\"Times,serif\" font-size=\"14.00\">samples = 20</text>\n",
       "<text text-anchor=\"middle\" x=\"290.769\" y=\"-20.8\" font-family=\"Times,serif\" font-size=\"14.00\">value = [4, 16]</text>\n",
       "<text text-anchor=\"middle\" x=\"290.769\" y=\"-6.8\" font-family=\"Times,serif\" font-size=\"14.00\">class = Survived</text>\n",
       "</g>\n",
       "<!-- 8&#45;&gt;9 -->\n",
       "<g id=\"edge9\" class=\"edge\"><title>8&#45;&gt;9</title>\n",
       "<path fill=\"none\" stroke=\"black\" d=\"M371.559,-99.7956C360.034,-90.2671 347.687,-80.0585 336.2,-70.5614\"/>\n",
       "<polygon fill=\"black\" stroke=\"black\" points=\"338.343,-67.7917 328.406,-64.1172 333.882,-73.1866 338.343,-67.7917\"/>\n",
       "</g>\n",
       "<!-- 10 -->\n",
       "<g id=\"node11\" class=\"node\"><title>10</title>\n",
       "<polygon fill=\"#399de5\" fill-opacity=\"0.956863\" stroke=\"black\" points=\"471.93,-64 363.607,-64 363.607,-0 471.93,-0 471.93,-64\"/>\n",
       "<text text-anchor=\"middle\" x=\"417.769\" y=\"-48.8\" font-family=\"Times,serif\" font-size=\"14.00\">gini = 0.0791</text>\n",
       "<text text-anchor=\"middle\" x=\"417.769\" y=\"-34.8\" font-family=\"Times,serif\" font-size=\"14.00\">samples = 97</text>\n",
       "<text text-anchor=\"middle\" x=\"417.769\" y=\"-20.8\" font-family=\"Times,serif\" font-size=\"14.00\">value = [4, 93]</text>\n",
       "<text text-anchor=\"middle\" x=\"417.769\" y=\"-6.8\" font-family=\"Times,serif\" font-size=\"14.00\">class = Survived</text>\n",
       "</g>\n",
       "<!-- 8&#45;&gt;10 -->\n",
       "<g id=\"edge10\" class=\"edge\"><title>8&#45;&gt;10</title>\n",
       "<path fill=\"none\" stroke=\"black\" d=\"M417.769,-99.7956C417.769,-91.4581 417.769,-82.6 417.769,-74.1534\"/>\n",
       "<polygon fill=\"black\" stroke=\"black\" points=\"421.269,-74.1171 417.769,-64.1172 414.269,-74.1172 421.269,-74.1171\"/>\n",
       "</g>\n",
       "<!-- 12 -->\n",
       "<g id=\"node13\" class=\"node\"><title>12</title>\n",
       "<polygon fill=\"#399de5\" fill-opacity=\"0.172549\" stroke=\"black\" points=\"900.93,-292 792.607,-292 792.607,-214 900.93,-214 900.93,-292\"/>\n",
       "<text text-anchor=\"middle\" x=\"846.769\" y=\"-276.8\" font-family=\"Times,serif\" font-size=\"14.00\">Age &lt;= 27.5</text>\n",
       "<text text-anchor=\"middle\" x=\"846.769\" y=\"-262.8\" font-family=\"Times,serif\" font-size=\"14.00\">gini = 0.4955</text>\n",
       "<text text-anchor=\"middle\" x=\"846.769\" y=\"-248.8\" font-family=\"Times,serif\" font-size=\"14.00\">samples = 126</text>\n",
       "<text text-anchor=\"middle\" x=\"846.769\" y=\"-234.8\" font-family=\"Times,serif\" font-size=\"14.00\">value = [57, 69]</text>\n",
       "<text text-anchor=\"middle\" x=\"846.769\" y=\"-220.8\" font-family=\"Times,serif\" font-size=\"14.00\">class = Survived</text>\n",
       "</g>\n",
       "<!-- 11&#45;&gt;12 -->\n",
       "<g id=\"edge12\" class=\"edge\"><title>11&#45;&gt;12</title>\n",
       "<path fill=\"none\" stroke=\"black\" d=\"M901.437,-327.769C894.893,-318.939 887.862,-309.451 881.093,-300.318\"/>\n",
       "<polygon fill=\"black\" stroke=\"black\" points=\"883.739,-298.009 874.973,-292.058 878.115,-302.177 883.739,-298.009\"/>\n",
       "</g>\n",
       "<!-- 19 -->\n",
       "<g id=\"node20\" class=\"node\"><title>19</title>\n",
       "<polygon fill=\"#e58139\" fill-opacity=\"0.800000\" stroke=\"black\" points=\"1063.81,-292 965.73,-292 965.73,-214 1063.81,-214 1063.81,-292\"/>\n",
       "<text text-anchor=\"middle\" x=\"1014.77\" y=\"-276.8\" font-family=\"Times,serif\" font-size=\"14.00\">Age &lt;= 16.5</text>\n",
       "<text text-anchor=\"middle\" x=\"1014.77\" y=\"-262.8\" font-family=\"Times,serif\" font-size=\"14.00\">gini = 0.2778</text>\n",
       "<text text-anchor=\"middle\" x=\"1014.77\" y=\"-248.8\" font-family=\"Times,serif\" font-size=\"14.00\">samples = 18</text>\n",
       "<text text-anchor=\"middle\" x=\"1014.77\" y=\"-234.8\" font-family=\"Times,serif\" font-size=\"14.00\">value = [15, 3]</text>\n",
       "<text text-anchor=\"middle\" x=\"1014.77\" y=\"-220.8\" font-family=\"Times,serif\" font-size=\"14.00\">class = Died</text>\n",
       "</g>\n",
       "<!-- 11&#45;&gt;19 -->\n",
       "<g id=\"edge19\" class=\"edge\"><title>11&#45;&gt;19</title>\n",
       "<path fill=\"none\" stroke=\"black\" d=\"M958.783,-327.769C965.553,-318.849 972.832,-309.257 979.829,-300.038\"/>\n",
       "<polygon fill=\"black\" stroke=\"black\" points=\"982.627,-302.14 985.885,-292.058 977.051,-297.908 982.627,-302.14\"/>\n",
       "</g>\n",
       "<!-- 13 -->\n",
       "<g id=\"node14\" class=\"node\"><title>13</title>\n",
       "<polygon fill=\"#399de5\" fill-opacity=\"0.427451\" stroke=\"black\" points=\"725.93,-178 617.607,-178 617.607,-100 725.93,-100 725.93,-178\"/>\n",
       "<text text-anchor=\"middle\" x=\"671.769\" y=\"-162.8\" font-family=\"Times,serif\" font-size=\"14.00\">Age &lt;= 7.0</text>\n",
       "<text text-anchor=\"middle\" x=\"671.769\" y=\"-148.8\" font-family=\"Times,serif\" font-size=\"14.00\">gini = 0.4633</text>\n",
       "<text text-anchor=\"middle\" x=\"671.769\" y=\"-134.8\" font-family=\"Times,serif\" font-size=\"14.00\">samples = 96</text>\n",
       "<text text-anchor=\"middle\" x=\"671.769\" y=\"-120.8\" font-family=\"Times,serif\" font-size=\"14.00\">value = [35, 61]</text>\n",
       "<text text-anchor=\"middle\" x=\"671.769\" y=\"-106.8\" font-family=\"Times,serif\" font-size=\"14.00\">class = Survived</text>\n",
       "</g>\n",
       "<!-- 12&#45;&gt;13 -->\n",
       "<g id=\"edge13\" class=\"edge\"><title>12&#45;&gt;13</title>\n",
       "<path fill=\"none\" stroke=\"black\" d=\"M792.357,-217.176C774.085,-205.482 753.555,-192.343 734.686,-180.267\"/>\n",
       "<polygon fill=\"black\" stroke=\"black\" points=\"736.456,-177.245 726.147,-174.802 732.683,-183.141 736.456,-177.245\"/>\n",
       "</g>\n",
       "<!-- 16 -->\n",
       "<g id=\"node17\" class=\"node\"><title>16</title>\n",
       "<polygon fill=\"#e58139\" fill-opacity=\"0.635294\" stroke=\"black\" points=\"895.807,-178 797.73,-178 797.73,-100 895.807,-100 895.807,-178\"/>\n",
       "<text text-anchor=\"middle\" x=\"846.769\" y=\"-162.8\" font-family=\"Times,serif\" font-size=\"14.00\">Age &lt;= 38.5</text>\n",
       "<text text-anchor=\"middle\" x=\"846.769\" y=\"-148.8\" font-family=\"Times,serif\" font-size=\"14.00\">gini = 0.3911</text>\n",
       "<text text-anchor=\"middle\" x=\"846.769\" y=\"-134.8\" font-family=\"Times,serif\" font-size=\"14.00\">samples = 30</text>\n",
       "<text text-anchor=\"middle\" x=\"846.769\" y=\"-120.8\" font-family=\"Times,serif\" font-size=\"14.00\">value = [22, 8]</text>\n",
       "<text text-anchor=\"middle\" x=\"846.769\" y=\"-106.8\" font-family=\"Times,serif\" font-size=\"14.00\">class = Died</text>\n",
       "</g>\n",
       "<!-- 12&#45;&gt;16 -->\n",
       "<g id=\"edge16\" class=\"edge\"><title>12&#45;&gt;16</title>\n",
       "<path fill=\"none\" stroke=\"black\" d=\"M846.769,-213.769C846.769,-205.57 846.769,-196.803 846.769,-188.28\"/>\n",
       "<polygon fill=\"black\" stroke=\"black\" points=\"850.269,-188.058 846.769,-178.058 843.269,-188.059 850.269,-188.058\"/>\n",
       "</g>\n",
       "<!-- 14 -->\n",
       "<g id=\"node15\" class=\"node\"><title>14</title>\n",
       "<polygon fill=\"#399de5\" fill-opacity=\"0.901961\" stroke=\"black\" points=\"598.93,-64 490.607,-64 490.607,-0 598.93,-0 598.93,-64\"/>\n",
       "<text text-anchor=\"middle\" x=\"544.769\" y=\"-48.8\" font-family=\"Times,serif\" font-size=\"14.00\">gini = 0.1653</text>\n",
       "<text text-anchor=\"middle\" x=\"544.769\" y=\"-34.8\" font-family=\"Times,serif\" font-size=\"14.00\">samples = 11</text>\n",
       "<text text-anchor=\"middle\" x=\"544.769\" y=\"-20.8\" font-family=\"Times,serif\" font-size=\"14.00\">value = [1, 10]</text>\n",
       "<text text-anchor=\"middle\" x=\"544.769\" y=\"-6.8\" font-family=\"Times,serif\" font-size=\"14.00\">class = Survived</text>\n",
       "</g>\n",
       "<!-- 13&#45;&gt;14 -->\n",
       "<g id=\"edge14\" class=\"edge\"><title>13&#45;&gt;14</title>\n",
       "<path fill=\"none\" stroke=\"black\" d=\"M625.559,-99.7956C614.034,-90.2671 601.687,-80.0585 590.2,-70.5614\"/>\n",
       "<polygon fill=\"black\" stroke=\"black\" points=\"592.343,-67.7917 582.406,-64.1172 587.882,-73.1866 592.343,-67.7917\"/>\n",
       "</g>\n",
       "<!-- 15 -->\n",
       "<g id=\"node16\" class=\"node\"><title>15</title>\n",
       "<polygon fill=\"#399de5\" fill-opacity=\"0.333333\" stroke=\"black\" points=\"725.93,-64 617.607,-64 617.607,-0 725.93,-0 725.93,-64\"/>\n",
       "<text text-anchor=\"middle\" x=\"671.769\" y=\"-48.8\" font-family=\"Times,serif\" font-size=\"14.00\">gini = 0.48</text>\n",
       "<text text-anchor=\"middle\" x=\"671.769\" y=\"-34.8\" font-family=\"Times,serif\" font-size=\"14.00\">samples = 85</text>\n",
       "<text text-anchor=\"middle\" x=\"671.769\" y=\"-20.8\" font-family=\"Times,serif\" font-size=\"14.00\">value = [34, 51]</text>\n",
       "<text text-anchor=\"middle\" x=\"671.769\" y=\"-6.8\" font-family=\"Times,serif\" font-size=\"14.00\">class = Survived</text>\n",
       "</g>\n",
       "<!-- 13&#45;&gt;15 -->\n",
       "<g id=\"edge15\" class=\"edge\"><title>13&#45;&gt;15</title>\n",
       "<path fill=\"none\" stroke=\"black\" d=\"M671.769,-99.7956C671.769,-91.4581 671.769,-82.6 671.769,-74.1534\"/>\n",
       "<polygon fill=\"black\" stroke=\"black\" points=\"675.269,-74.1171 671.769,-64.1172 668.269,-74.1172 675.269,-74.1171\"/>\n",
       "</g>\n",
       "<!-- 17 -->\n",
       "<g id=\"node18\" class=\"node\"><title>17</title>\n",
       "<polygon fill=\"#e58139\" fill-opacity=\"0.364706\" stroke=\"black\" points=\"841.793,-64 743.744,-64 743.744,-0 841.793,-0 841.793,-64\"/>\n",
       "<text text-anchor=\"middle\" x=\"792.769\" y=\"-48.8\" font-family=\"Times,serif\" font-size=\"14.00\">gini = 0.4753</text>\n",
       "<text text-anchor=\"middle\" x=\"792.769\" y=\"-34.8\" font-family=\"Times,serif\" font-size=\"14.00\">samples = 18</text>\n",
       "<text text-anchor=\"middle\" x=\"792.769\" y=\"-20.8\" font-family=\"Times,serif\" font-size=\"14.00\">value = [11, 7]</text>\n",
       "<text text-anchor=\"middle\" x=\"792.769\" y=\"-6.8\" font-family=\"Times,serif\" font-size=\"14.00\">class = Died</text>\n",
       "</g>\n",
       "<!-- 16&#45;&gt;17 -->\n",
       "<g id=\"edge17\" class=\"edge\"><title>16&#45;&gt;17</title>\n",
       "<path fill=\"none\" stroke=\"black\" d=\"M827.121,-99.7956C822.644,-91.0916 817.876,-81.8203 813.362,-73.042\"/>\n",
       "<polygon fill=\"black\" stroke=\"black\" points=\"816.458,-71.4093 808.772,-64.1172 810.233,-74.6108 816.458,-71.4093\"/>\n",
       "</g>\n",
       "<!-- 18 -->\n",
       "<g id=\"node19\" class=\"node\"><title>18</title>\n",
       "<polygon fill=\"#e58139\" fill-opacity=\"0.909804\" stroke=\"black\" points=\"957.793,-64 859.744,-64 859.744,-0 957.793,-0 957.793,-64\"/>\n",
       "<text text-anchor=\"middle\" x=\"908.769\" y=\"-48.8\" font-family=\"Times,serif\" font-size=\"14.00\">gini = 0.1528</text>\n",
       "<text text-anchor=\"middle\" x=\"908.769\" y=\"-34.8\" font-family=\"Times,serif\" font-size=\"14.00\">samples = 12</text>\n",
       "<text text-anchor=\"middle\" x=\"908.769\" y=\"-20.8\" font-family=\"Times,serif\" font-size=\"14.00\">value = [11, 1]</text>\n",
       "<text text-anchor=\"middle\" x=\"908.769\" y=\"-6.8\" font-family=\"Times,serif\" font-size=\"14.00\">class = Died</text>\n",
       "</g>\n",
       "<!-- 16&#45;&gt;18 -->\n",
       "<g id=\"edge18\" class=\"edge\"><title>16&#45;&gt;18</title>\n",
       "<path fill=\"none\" stroke=\"black\" d=\"M869.327,-99.7956C874.521,-91 880.057,-81.625 885.288,-72.765\"/>\n",
       "<polygon fill=\"black\" stroke=\"black\" points=\"888.324,-74.5077 890.395,-64.1172 882.296,-70.9485 888.324,-74.5077\"/>\n",
       "</g>\n",
       "<!-- 20 -->\n",
       "<g id=\"node21\" class=\"node\"><title>20</title>\n",
       "<polygon fill=\"#e58139\" fill-opacity=\"0.933333\" stroke=\"black\" points=\"1063.81,-178 965.73,-178 965.73,-100 1063.81,-100 1063.81,-178\"/>\n",
       "<text text-anchor=\"middle\" x=\"1014.77\" y=\"-162.8\" font-family=\"Times,serif\" font-size=\"14.00\">Age &lt;= 5.5</text>\n",
       "<text text-anchor=\"middle\" x=\"1014.77\" y=\"-148.8\" font-family=\"Times,serif\" font-size=\"14.00\">gini = 0.1172</text>\n",
       "<text text-anchor=\"middle\" x=\"1014.77\" y=\"-134.8\" font-family=\"Times,serif\" font-size=\"14.00\">samples = 16</text>\n",
       "<text text-anchor=\"middle\" x=\"1014.77\" y=\"-120.8\" font-family=\"Times,serif\" font-size=\"14.00\">value = [15, 1]</text>\n",
       "<text text-anchor=\"middle\" x=\"1014.77\" y=\"-106.8\" font-family=\"Times,serif\" font-size=\"14.00\">class = Died</text>\n",
       "</g>\n",
       "<!-- 19&#45;&gt;20 -->\n",
       "<g id=\"edge20\" class=\"edge\"><title>19&#45;&gt;20</title>\n",
       "<path fill=\"none\" stroke=\"black\" d=\"M1014.77,-213.769C1014.77,-205.57 1014.77,-196.803 1014.77,-188.28\"/>\n",
       "<polygon fill=\"black\" stroke=\"black\" points=\"1018.27,-188.058 1014.77,-178.058 1011.27,-188.059 1018.27,-188.058\"/>\n",
       "</g>\n",
       "<!-- 23 -->\n",
       "<g id=\"node24\" class=\"node\"><title>23</title>\n",
       "<polygon fill=\"#399de5\" stroke=\"black\" points=\"1190.93,-171 1082.61,-171 1082.61,-107 1190.93,-107 1190.93,-171\"/>\n",
       "<text text-anchor=\"middle\" x=\"1136.77\" y=\"-155.8\" font-family=\"Times,serif\" font-size=\"14.00\">gini = 0.0</text>\n",
       "<text text-anchor=\"middle\" x=\"1136.77\" y=\"-141.8\" font-family=\"Times,serif\" font-size=\"14.00\">samples = 2</text>\n",
       "<text text-anchor=\"middle\" x=\"1136.77\" y=\"-127.8\" font-family=\"Times,serif\" font-size=\"14.00\">value = [0, 2]</text>\n",
       "<text text-anchor=\"middle\" x=\"1136.77\" y=\"-113.8\" font-family=\"Times,serif\" font-size=\"14.00\">class = Survived</text>\n",
       "</g>\n",
       "<!-- 19&#45;&gt;23 -->\n",
       "<g id=\"edge23\" class=\"edge\"><title>19&#45;&gt;23</title>\n",
       "<path fill=\"none\" stroke=\"black\" d=\"M1056.41,-213.769C1068.99,-202.224 1082.79,-189.555 1095.35,-178.023\"/>\n",
       "<polygon fill=\"black\" stroke=\"black\" points=\"1097.99,-180.351 1102.99,-171.01 1093.26,-175.194 1097.99,-180.351\"/>\n",
       "</g>\n",
       "<!-- 21 -->\n",
       "<g id=\"node22\" class=\"node\"><title>21</title>\n",
       "<polygon fill=\"#e58139\" fill-opacity=\"0.666667\" stroke=\"black\" points=\"1067.31,-64 976.23,-64 976.23,-0 1067.31,-0 1067.31,-64\"/>\n",
       "<text text-anchor=\"middle\" x=\"1021.77\" y=\"-48.8\" font-family=\"Times,serif\" font-size=\"14.00\">gini = 0.375</text>\n",
       "<text text-anchor=\"middle\" x=\"1021.77\" y=\"-34.8\" font-family=\"Times,serif\" font-size=\"14.00\">samples = 4</text>\n",
       "<text text-anchor=\"middle\" x=\"1021.77\" y=\"-20.8\" font-family=\"Times,serif\" font-size=\"14.00\">value = [3, 1]</text>\n",
       "<text text-anchor=\"middle\" x=\"1021.77\" y=\"-6.8\" font-family=\"Times,serif\" font-size=\"14.00\">class = Died</text>\n",
       "</g>\n",
       "<!-- 20&#45;&gt;21 -->\n",
       "<g id=\"edge21\" class=\"edge\"><title>20&#45;&gt;21</title>\n",
       "<path fill=\"none\" stroke=\"black\" d=\"M1017.32,-99.7956C1017.87,-91.4581 1018.46,-82.6 1019.02,-74.1534\"/>\n",
       "<polygon fill=\"black\" stroke=\"black\" points=\"1022.52,-74.3279 1019.69,-64.1172 1015.54,-73.8622 1022.52,-74.3279\"/>\n",
       "</g>\n",
       "<!-- 22 -->\n",
       "<g id=\"node23\" class=\"node\"><title>22</title>\n",
       "<polygon fill=\"#e58139\" stroke=\"black\" points=\"1183.81,-64 1085.73,-64 1085.73,-0 1183.81,-0 1183.81,-64\"/>\n",
       "<text text-anchor=\"middle\" x=\"1134.77\" y=\"-48.8\" font-family=\"Times,serif\" font-size=\"14.00\">gini = 0.0</text>\n",
       "<text text-anchor=\"middle\" x=\"1134.77\" y=\"-34.8\" font-family=\"Times,serif\" font-size=\"14.00\">samples = 12</text>\n",
       "<text text-anchor=\"middle\" x=\"1134.77\" y=\"-20.8\" font-family=\"Times,serif\" font-size=\"14.00\">value = [12, 0]</text>\n",
       "<text text-anchor=\"middle\" x=\"1134.77\" y=\"-6.8\" font-family=\"Times,serif\" font-size=\"14.00\">class = Died</text>\n",
       "</g>\n",
       "<!-- 20&#45;&gt;22 -->\n",
       "<g id=\"edge22\" class=\"edge\"><title>20&#45;&gt;22</title>\n",
       "<path fill=\"none\" stroke=\"black\" d=\"M1058.43,-99.7956C1069.22,-90.3587 1080.76,-80.2547 1091.53,-70.8355\"/>\n",
       "<polygon fill=\"black\" stroke=\"black\" points=\"1093.99,-73.3363 1099.21,-64.1172 1089.38,-68.0682 1093.99,-73.3363\"/>\n",
       "</g>\n",
       "<!-- 25 -->\n",
       "<g id=\"node26\" class=\"node\"><title>25</title>\n",
       "<polygon fill=\"#399de5\" fill-opacity=\"0.498039\" stroke=\"black\" points=\"1199.93,-406 1091.61,-406 1091.61,-328 1199.93,-328 1199.93,-406\"/>\n",
       "<text text-anchor=\"middle\" x=\"1145.77\" y=\"-390.8\" font-family=\"Times,serif\" font-size=\"14.00\">SibSp &lt;= 2.5</text>\n",
       "<text text-anchor=\"middle\" x=\"1145.77\" y=\"-376.8\" font-family=\"Times,serif\" font-size=\"14.00\">gini = 0.4444</text>\n",
       "<text text-anchor=\"middle\" x=\"1145.77\" y=\"-362.8\" font-family=\"Times,serif\" font-size=\"14.00\">samples = 24</text>\n",
       "<text text-anchor=\"middle\" x=\"1145.77\" y=\"-348.8\" font-family=\"Times,serif\" font-size=\"14.00\">value = [8, 16]</text>\n",
       "<text text-anchor=\"middle\" x=\"1145.77\" y=\"-334.8\" font-family=\"Times,serif\" font-size=\"14.00\">class = Survived</text>\n",
       "</g>\n",
       "<!-- 24&#45;&gt;25 -->\n",
       "<g id=\"edge25\" class=\"edge\"><title>24&#45;&gt;25</title>\n",
       "<path fill=\"none\" stroke=\"black\" d=\"M1145.77,-441.769C1145.77,-433.57 1145.77,-424.803 1145.77,-416.28\"/>\n",
       "<polygon fill=\"black\" stroke=\"black\" points=\"1149.27,-416.058 1145.77,-406.058 1142.27,-416.059 1149.27,-416.058\"/>\n",
       "</g>\n",
       "<!-- 32 -->\n",
       "<g id=\"node33\" class=\"node\"><title>32</title>\n",
       "<polygon fill=\"#e58139\" fill-opacity=\"0.796078\" stroke=\"black\" points=\"1713.81,-406 1601.73,-406 1601.73,-328 1713.81,-328 1713.81,-406\"/>\n",
       "<text text-anchor=\"middle\" x=\"1657.77\" y=\"-390.8\" font-family=\"Times,serif\" font-size=\"14.00\">Pclass &lt;= 1.5</text>\n",
       "<text text-anchor=\"middle\" x=\"1657.77\" y=\"-376.8\" font-family=\"Times,serif\" font-size=\"14.00\">gini = 0.2798</text>\n",
       "<text text-anchor=\"middle\" x=\"1657.77\" y=\"-362.8\" font-family=\"Times,serif\" font-size=\"14.00\">samples = 553</text>\n",
       "<text text-anchor=\"middle\" x=\"1657.77\" y=\"-348.8\" font-family=\"Times,serif\" font-size=\"14.00\">value = [460, 93]</text>\n",
       "<text text-anchor=\"middle\" x=\"1657.77\" y=\"-334.8\" font-family=\"Times,serif\" font-size=\"14.00\">class = Died</text>\n",
       "</g>\n",
       "<!-- 24&#45;&gt;32 -->\n",
       "<g id=\"edge32\" class=\"edge\"><title>24&#45;&gt;32</title>\n",
       "<path fill=\"none\" stroke=\"black\" d=\"M1205.5,-466.933C1301.9,-445.845 1491.1,-404.458 1591.51,-382.493\"/>\n",
       "<polygon fill=\"black\" stroke=\"black\" points=\"1592.52,-385.857 1601.54,-380.3 1591.02,-379.018 1592.52,-385.857\"/>\n",
       "</g>\n",
       "<!-- 26 -->\n",
       "<g id=\"node27\" class=\"node\"><title>26</title>\n",
       "<polygon fill=\"#399de5\" stroke=\"black\" points=\"1196.93,-285 1088.61,-285 1088.61,-221 1196.93,-221 1196.93,-285\"/>\n",
       "<text text-anchor=\"middle\" x=\"1142.77\" y=\"-269.8\" font-family=\"Times,serif\" font-size=\"14.00\">gini = 0.0</text>\n",
       "<text text-anchor=\"middle\" x=\"1142.77\" y=\"-255.8\" font-family=\"Times,serif\" font-size=\"14.00\">samples = 15</text>\n",
       "<text text-anchor=\"middle\" x=\"1142.77\" y=\"-241.8\" font-family=\"Times,serif\" font-size=\"14.00\">value = [0, 15]</text>\n",
       "<text text-anchor=\"middle\" x=\"1142.77\" y=\"-227.8\" font-family=\"Times,serif\" font-size=\"14.00\">class = Survived</text>\n",
       "</g>\n",
       "<!-- 25&#45;&gt;26 -->\n",
       "<g id=\"edge26\" class=\"edge\"><title>25&#45;&gt;26</title>\n",
       "<path fill=\"none\" stroke=\"black\" d=\"M1144.74,-327.769C1144.46,-317.313 1144.16,-305.935 1143.88,-295.315\"/>\n",
       "<polygon fill=\"black\" stroke=\"black\" points=\"1147.37,-294.913 1143.6,-285.01 1140.37,-295.1 1147.37,-294.913\"/>\n",
       "</g>\n",
       "<!-- 27 -->\n",
       "<g id=\"node28\" class=\"node\"><title>27</title>\n",
       "<polygon fill=\"#e58139\" fill-opacity=\"0.874510\" stroke=\"black\" points=\"1306.31,-292 1215.23,-292 1215.23,-214 1306.31,-214 1306.31,-292\"/>\n",
       "<text text-anchor=\"middle\" x=\"1260.77\" y=\"-276.8\" font-family=\"Times,serif\" font-size=\"14.00\">Parch &lt;= 1.5</text>\n",
       "<text text-anchor=\"middle\" x=\"1260.77\" y=\"-262.8\" font-family=\"Times,serif\" font-size=\"14.00\">gini = 0.1975</text>\n",
       "<text text-anchor=\"middle\" x=\"1260.77\" y=\"-248.8\" font-family=\"Times,serif\" font-size=\"14.00\">samples = 9</text>\n",
       "<text text-anchor=\"middle\" x=\"1260.77\" y=\"-234.8\" font-family=\"Times,serif\" font-size=\"14.00\">value = [8, 1]</text>\n",
       "<text text-anchor=\"middle\" x=\"1260.77\" y=\"-220.8\" font-family=\"Times,serif\" font-size=\"14.00\">class = Died</text>\n",
       "</g>\n",
       "<!-- 25&#45;&gt;27 -->\n",
       "<g id=\"edge27\" class=\"edge\"><title>25&#45;&gt;27</title>\n",
       "<path fill=\"none\" stroke=\"black\" d=\"M1185.02,-327.769C1194.46,-318.579 1204.63,-308.676 1214.36,-299.201\"/>\n",
       "<polygon fill=\"black\" stroke=\"black\" points=\"1216.97,-301.543 1221.69,-292.058 1212.08,-296.528 1216.97,-301.543\"/>\n",
       "</g>\n",
       "<!-- 28 -->\n",
       "<g id=\"node29\" class=\"node\"><title>28</title>\n",
       "<polygon fill=\"#e58139\" stroke=\"black\" points=\"1300.31,-171 1209.23,-171 1209.23,-107 1300.31,-107 1300.31,-171\"/>\n",
       "<text text-anchor=\"middle\" x=\"1254.77\" y=\"-155.8\" font-family=\"Times,serif\" font-size=\"14.00\">gini = 0.0</text>\n",
       "<text text-anchor=\"middle\" x=\"1254.77\" y=\"-141.8\" font-family=\"Times,serif\" font-size=\"14.00\">samples = 5</text>\n",
       "<text text-anchor=\"middle\" x=\"1254.77\" y=\"-127.8\" font-family=\"Times,serif\" font-size=\"14.00\">value = [5, 0]</text>\n",
       "<text text-anchor=\"middle\" x=\"1254.77\" y=\"-113.8\" font-family=\"Times,serif\" font-size=\"14.00\">class = Died</text>\n",
       "</g>\n",
       "<!-- 27&#45;&gt;28 -->\n",
       "<g id=\"edge28\" class=\"edge\"><title>27&#45;&gt;28</title>\n",
       "<path fill=\"none\" stroke=\"black\" d=\"M1258.72,-213.769C1258.16,-203.313 1257.55,-191.935 1256.98,-181.315\"/>\n",
       "<polygon fill=\"black\" stroke=\"black\" points=\"1260.46,-180.808 1256.43,-171.01 1253.47,-181.183 1260.46,-180.808\"/>\n",
       "</g>\n",
       "<!-- 29 -->\n",
       "<g id=\"node30\" class=\"node\"><title>29</title>\n",
       "<polygon fill=\"#e58139\" fill-opacity=\"0.666667\" stroke=\"black\" points=\"1410.31,-178 1319.23,-178 1319.23,-100 1410.31,-100 1410.31,-178\"/>\n",
       "<text text-anchor=\"middle\" x=\"1364.77\" y=\"-162.8\" font-family=\"Times,serif\" font-size=\"14.00\">Age &lt;= 3.5</text>\n",
       "<text text-anchor=\"middle\" x=\"1364.77\" y=\"-148.8\" font-family=\"Times,serif\" font-size=\"14.00\">gini = 0.375</text>\n",
       "<text text-anchor=\"middle\" x=\"1364.77\" y=\"-134.8\" font-family=\"Times,serif\" font-size=\"14.00\">samples = 4</text>\n",
       "<text text-anchor=\"middle\" x=\"1364.77\" y=\"-120.8\" font-family=\"Times,serif\" font-size=\"14.00\">value = [3, 1]</text>\n",
       "<text text-anchor=\"middle\" x=\"1364.77\" y=\"-106.8\" font-family=\"Times,serif\" font-size=\"14.00\">class = Died</text>\n",
       "</g>\n",
       "<!-- 27&#45;&gt;29 -->\n",
       "<g id=\"edge29\" class=\"edge\"><title>27&#45;&gt;29</title>\n",
       "<path fill=\"none\" stroke=\"black\" d=\"M1296.27,-213.769C1304.72,-204.669 1313.82,-194.87 1322.54,-185.48\"/>\n",
       "<polygon fill=\"black\" stroke=\"black\" points=\"1325.19,-187.768 1329.43,-178.058 1320.06,-183.005 1325.19,-187.768\"/>\n",
       "</g>\n",
       "<!-- 30 -->\n",
       "<g id=\"node31\" class=\"node\"><title>30</title>\n",
       "<polygon fill=\"none\" stroke=\"black\" points=\"1300.31,-64 1209.23,-64 1209.23,-0 1300.31,-0 1300.31,-64\"/>\n",
       "<text text-anchor=\"middle\" x=\"1254.77\" y=\"-48.8\" font-family=\"Times,serif\" font-size=\"14.00\">gini = 0.5</text>\n",
       "<text text-anchor=\"middle\" x=\"1254.77\" y=\"-34.8\" font-family=\"Times,serif\" font-size=\"14.00\">samples = 2</text>\n",
       "<text text-anchor=\"middle\" x=\"1254.77\" y=\"-20.8\" font-family=\"Times,serif\" font-size=\"14.00\">value = [1, 1]</text>\n",
       "<text text-anchor=\"middle\" x=\"1254.77\" y=\"-6.8\" font-family=\"Times,serif\" font-size=\"14.00\">class = Died</text>\n",
       "</g>\n",
       "<!-- 29&#45;&gt;30 -->\n",
       "<g id=\"edge30\" class=\"edge\"><title>29&#45;&gt;30</title>\n",
       "<path fill=\"none\" stroke=\"black\" d=\"M1324.74,-99.7956C1314.95,-90.4503 1304.48,-80.4509 1294.69,-71.11\"/>\n",
       "<polygon fill=\"black\" stroke=\"black\" points=\"1297.02,-68.4902 1287.37,-64.1172 1292.18,-73.5537 1297.02,-68.4902\"/>\n",
       "</g>\n",
       "<!-- 31 -->\n",
       "<g id=\"node32\" class=\"node\"><title>31</title>\n",
       "<polygon fill=\"#e58139\" stroke=\"black\" points=\"1410.31,-64 1319.23,-64 1319.23,-0 1410.31,-0 1410.31,-64\"/>\n",
       "<text text-anchor=\"middle\" x=\"1364.77\" y=\"-48.8\" font-family=\"Times,serif\" font-size=\"14.00\">gini = 0.0</text>\n",
       "<text text-anchor=\"middle\" x=\"1364.77\" y=\"-34.8\" font-family=\"Times,serif\" font-size=\"14.00\">samples = 2</text>\n",
       "<text text-anchor=\"middle\" x=\"1364.77\" y=\"-20.8\" font-family=\"Times,serif\" font-size=\"14.00\">value = [2, 0]</text>\n",
       "<text text-anchor=\"middle\" x=\"1364.77\" y=\"-6.8\" font-family=\"Times,serif\" font-size=\"14.00\">class = Died</text>\n",
       "</g>\n",
       "<!-- 29&#45;&gt;31 -->\n",
       "<g id=\"edge31\" class=\"edge\"><title>29&#45;&gt;31</title>\n",
       "<path fill=\"none\" stroke=\"black\" d=\"M1364.77,-99.7956C1364.77,-91.4581 1364.77,-82.6 1364.77,-74.1534\"/>\n",
       "<polygon fill=\"black\" stroke=\"black\" points=\"1368.27,-74.1171 1364.77,-64.1172 1361.27,-74.1172 1368.27,-74.1171\"/>\n",
       "</g>\n",
       "<!-- 33 -->\n",
       "<g id=\"node34\" class=\"node\"><title>33</title>\n",
       "<polygon fill=\"#e58139\" fill-opacity=\"0.443137\" stroke=\"black\" points=\"1710.31,-292 1605.23,-292 1605.23,-214 1710.31,-214 1710.31,-292\"/>\n",
       "<text text-anchor=\"middle\" x=\"1657.77\" y=\"-276.8\" font-family=\"Times,serif\" font-size=\"14.00\">Age &lt;= 53.0</text>\n",
       "<text text-anchor=\"middle\" x=\"1657.77\" y=\"-262.8\" font-family=\"Times,serif\" font-size=\"14.00\">gini = 0.4599</text>\n",
       "<text text-anchor=\"middle\" x=\"1657.77\" y=\"-248.8\" font-family=\"Times,serif\" font-size=\"14.00\">samples = 120</text>\n",
       "<text text-anchor=\"middle\" x=\"1657.77\" y=\"-234.8\" font-family=\"Times,serif\" font-size=\"14.00\">value = [77, 43]</text>\n",
       "<text text-anchor=\"middle\" x=\"1657.77\" y=\"-220.8\" font-family=\"Times,serif\" font-size=\"14.00\">class = Died</text>\n",
       "</g>\n",
       "<!-- 32&#45;&gt;33 -->\n",
       "<g id=\"edge33\" class=\"edge\"><title>32&#45;&gt;33</title>\n",
       "<path fill=\"none\" stroke=\"black\" d=\"M1657.77,-327.769C1657.77,-319.57 1657.77,-310.803 1657.77,-302.28\"/>\n",
       "<polygon fill=\"black\" stroke=\"black\" points=\"1661.27,-302.058 1657.77,-292.058 1654.27,-302.059 1661.27,-302.058\"/>\n",
       "</g>\n",
       "<!-- 40 -->\n",
       "<g id=\"node41\" class=\"node\"><title>40</title>\n",
       "<polygon fill=\"#e58139\" fill-opacity=\"0.870588\" stroke=\"black\" points=\"2081.81,-292 1969.73,-292 1969.73,-214 2081.81,-214 2081.81,-292\"/>\n",
       "<text text-anchor=\"middle\" x=\"2025.77\" y=\"-276.8\" font-family=\"Times,serif\" font-size=\"14.00\">Age &lt;= 9.5</text>\n",
       "<text text-anchor=\"middle\" x=\"2025.77\" y=\"-262.8\" font-family=\"Times,serif\" font-size=\"14.00\">gini = 0.2043</text>\n",
       "<text text-anchor=\"middle\" x=\"2025.77\" y=\"-248.8\" font-family=\"Times,serif\" font-size=\"14.00\">samples = 433</text>\n",
       "<text text-anchor=\"middle\" x=\"2025.77\" y=\"-234.8\" font-family=\"Times,serif\" font-size=\"14.00\">value = [383, 50]</text>\n",
       "<text text-anchor=\"middle\" x=\"2025.77\" y=\"-220.8\" font-family=\"Times,serif\" font-size=\"14.00\">class = Died</text>\n",
       "</g>\n",
       "<!-- 32&#45;&gt;40 -->\n",
       "<g id=\"edge40\" class=\"edge\"><title>32&#45;&gt;40</title>\n",
       "<path fill=\"none\" stroke=\"black\" d=\"M1714.06,-348.868C1780.21,-328.735 1889.82,-295.377 1959.87,-274.056\"/>\n",
       "<polygon fill=\"black\" stroke=\"black\" points=\"1960.94,-277.39 1969.48,-271.13 1958.9,-270.694 1960.94,-277.39\"/>\n",
       "</g>\n",
       "<!-- 34 -->\n",
       "<g id=\"node35\" class=\"node\"><title>34</title>\n",
       "<polygon fill=\"#e58139\" fill-opacity=\"0.309804\" stroke=\"black\" points=\"1650.31,-178 1545.23,-178 1545.23,-100 1650.31,-100 1650.31,-178\"/>\n",
       "<text text-anchor=\"middle\" x=\"1597.77\" y=\"-162.8\" font-family=\"Times,serif\" font-size=\"14.00\">Age &lt;= 24.5</text>\n",
       "<text text-anchor=\"middle\" x=\"1597.77\" y=\"-148.8\" font-family=\"Times,serif\" font-size=\"14.00\">gini = 0.4831</text>\n",
       "<text text-anchor=\"middle\" x=\"1597.77\" y=\"-134.8\" font-family=\"Times,serif\" font-size=\"14.00\">samples = 98</text>\n",
       "<text text-anchor=\"middle\" x=\"1597.77\" y=\"-120.8\" font-family=\"Times,serif\" font-size=\"14.00\">value = [58, 40]</text>\n",
       "<text text-anchor=\"middle\" x=\"1597.77\" y=\"-106.8\" font-family=\"Times,serif\" font-size=\"14.00\">class = Died</text>\n",
       "</g>\n",
       "<!-- 33&#45;&gt;34 -->\n",
       "<g id=\"edge34\" class=\"edge\"><title>33&#45;&gt;34</title>\n",
       "<path fill=\"none\" stroke=\"black\" d=\"M1637.29,-213.769C1632.65,-205.119 1627.68,-195.838 1622.88,-186.877\"/>\n",
       "<polygon fill=\"black\" stroke=\"black\" points=\"1625.96,-185.221 1618.16,-178.058 1619.79,-188.526 1625.96,-185.221\"/>\n",
       "</g>\n",
       "<!-- 37 -->\n",
       "<g id=\"node38\" class=\"node\"><title>37</title>\n",
       "<polygon fill=\"#e58139\" fill-opacity=\"0.843137\" stroke=\"black\" points=\"1766.81,-178 1668.73,-178 1668.73,-100 1766.81,-100 1766.81,-178\"/>\n",
       "<text text-anchor=\"middle\" x=\"1717.77\" y=\"-162.8\" font-family=\"Times,serif\" font-size=\"14.00\">Age &lt;= 75.5</text>\n",
       "<text text-anchor=\"middle\" x=\"1717.77\" y=\"-148.8\" font-family=\"Times,serif\" font-size=\"14.00\">gini = 0.2355</text>\n",
       "<text text-anchor=\"middle\" x=\"1717.77\" y=\"-134.8\" font-family=\"Times,serif\" font-size=\"14.00\">samples = 22</text>\n",
       "<text text-anchor=\"middle\" x=\"1717.77\" y=\"-120.8\" font-family=\"Times,serif\" font-size=\"14.00\">value = [19, 3]</text>\n",
       "<text text-anchor=\"middle\" x=\"1717.77\" y=\"-106.8\" font-family=\"Times,serif\" font-size=\"14.00\">class = Died</text>\n",
       "</g>\n",
       "<!-- 33&#45;&gt;37 -->\n",
       "<g id=\"edge37\" class=\"edge\"><title>33&#45;&gt;37</title>\n",
       "<path fill=\"none\" stroke=\"black\" d=\"M1678.25,-213.769C1682.88,-205.119 1687.86,-195.838 1692.66,-186.877\"/>\n",
       "<polygon fill=\"black\" stroke=\"black\" points=\"1695.74,-188.526 1697.38,-178.058 1689.57,-185.221 1695.74,-188.526\"/>\n",
       "</g>\n",
       "<!-- 35 -->\n",
       "<g id=\"node36\" class=\"node\"><title>35</title>\n",
       "<polygon fill=\"#e58139\" fill-opacity=\"0.650980\" stroke=\"black\" points=\"1526.81,-64 1428.73,-64 1428.73,-0 1526.81,-0 1526.81,-64\"/>\n",
       "<text text-anchor=\"middle\" x=\"1477.77\" y=\"-48.8\" font-family=\"Times,serif\" font-size=\"14.00\">gini = 0.3829</text>\n",
       "<text text-anchor=\"middle\" x=\"1477.77\" y=\"-34.8\" font-family=\"Times,serif\" font-size=\"14.00\">samples = 31</text>\n",
       "<text text-anchor=\"middle\" x=\"1477.77\" y=\"-20.8\" font-family=\"Times,serif\" font-size=\"14.00\">value = [23, 8]</text>\n",
       "<text text-anchor=\"middle\" x=\"1477.77\" y=\"-6.8\" font-family=\"Times,serif\" font-size=\"14.00\">class = Died</text>\n",
       "</g>\n",
       "<!-- 34&#45;&gt;35 -->\n",
       "<g id=\"edge35\" class=\"edge\"><title>34&#45;&gt;35</title>\n",
       "<path fill=\"none\" stroke=\"black\" d=\"M1554.11,-99.7956C1543.32,-90.3587 1531.77,-80.2547 1521.01,-70.8355\"/>\n",
       "<polygon fill=\"black\" stroke=\"black\" points=\"1523.16,-68.0682 1513.33,-64.1172 1518.55,-73.3363 1523.16,-68.0682\"/>\n",
       "</g>\n",
       "<!-- 36 -->\n",
       "<g id=\"node37\" class=\"node\"><title>36</title>\n",
       "<polygon fill=\"#e58139\" fill-opacity=\"0.086275\" stroke=\"black\" points=\"1650.31,-64 1545.23,-64 1545.23,-0 1650.31,-0 1650.31,-64\"/>\n",
       "<text text-anchor=\"middle\" x=\"1597.77\" y=\"-48.8\" font-family=\"Times,serif\" font-size=\"14.00\">gini = 0.499</text>\n",
       "<text text-anchor=\"middle\" x=\"1597.77\" y=\"-34.8\" font-family=\"Times,serif\" font-size=\"14.00\">samples = 67</text>\n",
       "<text text-anchor=\"middle\" x=\"1597.77\" y=\"-20.8\" font-family=\"Times,serif\" font-size=\"14.00\">value = [35, 32]</text>\n",
       "<text text-anchor=\"middle\" x=\"1597.77\" y=\"-6.8\" font-family=\"Times,serif\" font-size=\"14.00\">class = Died</text>\n",
       "</g>\n",
       "<!-- 34&#45;&gt;36 -->\n",
       "<g id=\"edge36\" class=\"edge\"><title>34&#45;&gt;36</title>\n",
       "<path fill=\"none\" stroke=\"black\" d=\"M1597.77,-99.7956C1597.77,-91.4581 1597.77,-82.6 1597.77,-74.1534\"/>\n",
       "<polygon fill=\"black\" stroke=\"black\" points=\"1601.27,-74.1171 1597.77,-64.1172 1594.27,-74.1172 1601.27,-74.1171\"/>\n",
       "</g>\n",
       "<!-- 38 -->\n",
       "<g id=\"node39\" class=\"node\"><title>38</title>\n",
       "<polygon fill=\"#e58139\" fill-opacity=\"0.894118\" stroke=\"black\" points=\"1766.81,-64 1668.73,-64 1668.73,-0 1766.81,-0 1766.81,-64\"/>\n",
       "<text text-anchor=\"middle\" x=\"1717.77\" y=\"-48.8\" font-family=\"Times,serif\" font-size=\"14.00\">gini = 0.1723</text>\n",
       "<text text-anchor=\"middle\" x=\"1717.77\" y=\"-34.8\" font-family=\"Times,serif\" font-size=\"14.00\">samples = 21</text>\n",
       "<text text-anchor=\"middle\" x=\"1717.77\" y=\"-20.8\" font-family=\"Times,serif\" font-size=\"14.00\">value = [19, 2]</text>\n",
       "<text text-anchor=\"middle\" x=\"1717.77\" y=\"-6.8\" font-family=\"Times,serif\" font-size=\"14.00\">class = Died</text>\n",
       "</g>\n",
       "<!-- 37&#45;&gt;38 -->\n",
       "<g id=\"edge38\" class=\"edge\"><title>37&#45;&gt;38</title>\n",
       "<path fill=\"none\" stroke=\"black\" d=\"M1717.77,-99.7956C1717.77,-91.4581 1717.77,-82.6 1717.77,-74.1534\"/>\n",
       "<polygon fill=\"black\" stroke=\"black\" points=\"1721.27,-74.1171 1717.77,-64.1172 1714.27,-74.1172 1721.27,-74.1171\"/>\n",
       "</g>\n",
       "<!-- 39 -->\n",
       "<g id=\"node40\" class=\"node\"><title>39</title>\n",
       "<polygon fill=\"#399de5\" stroke=\"black\" points=\"1893.93,-64 1785.61,-64 1785.61,-0 1893.93,-0 1893.93,-64\"/>\n",
       "<text text-anchor=\"middle\" x=\"1839.77\" y=\"-48.8\" font-family=\"Times,serif\" font-size=\"14.00\">gini = 0.0</text>\n",
       "<text text-anchor=\"middle\" x=\"1839.77\" y=\"-34.8\" font-family=\"Times,serif\" font-size=\"14.00\">samples = 1</text>\n",
       "<text text-anchor=\"middle\" x=\"1839.77\" y=\"-20.8\" font-family=\"Times,serif\" font-size=\"14.00\">value = [0, 1]</text>\n",
       "<text text-anchor=\"middle\" x=\"1839.77\" y=\"-6.8\" font-family=\"Times,serif\" font-size=\"14.00\">class = Survived</text>\n",
       "</g>\n",
       "<!-- 37&#45;&gt;39 -->\n",
       "<g id=\"edge39\" class=\"edge\"><title>37&#45;&gt;39</title>\n",
       "<path fill=\"none\" stroke=\"black\" d=\"M1762.16,-99.7956C1773.12,-90.3587 1784.86,-80.2547 1795.81,-70.8355\"/>\n",
       "<polygon fill=\"black\" stroke=\"black\" points=\"1798.32,-73.2933 1803.61,-64.1172 1793.75,-67.9877 1798.32,-73.2933\"/>\n",
       "</g>\n",
       "<!-- 41 -->\n",
       "<g id=\"node42\" class=\"node\"><title>41</title>\n",
       "<polygon fill=\"#e58139\" fill-opacity=\"0.400000\" stroke=\"black\" points=\"2071.31,-178 1980.23,-178 1980.23,-100 2071.31,-100 2071.31,-178\"/>\n",
       "<text text-anchor=\"middle\" x=\"2025.77\" y=\"-162.8\" font-family=\"Times,serif\" font-size=\"14.00\">SibSp &lt;= 2.5</text>\n",
       "<text text-anchor=\"middle\" x=\"2025.77\" y=\"-148.8\" font-family=\"Times,serif\" font-size=\"14.00\">gini = 0.4688</text>\n",
       "<text text-anchor=\"middle\" x=\"2025.77\" y=\"-134.8\" font-family=\"Times,serif\" font-size=\"14.00\">samples = 8</text>\n",
       "<text text-anchor=\"middle\" x=\"2025.77\" y=\"-120.8\" font-family=\"Times,serif\" font-size=\"14.00\">value = [5, 3]</text>\n",
       "<text text-anchor=\"middle\" x=\"2025.77\" y=\"-106.8\" font-family=\"Times,serif\" font-size=\"14.00\">class = Died</text>\n",
       "</g>\n",
       "<!-- 40&#45;&gt;41 -->\n",
       "<g id=\"edge41\" class=\"edge\"><title>40&#45;&gt;41</title>\n",
       "<path fill=\"none\" stroke=\"black\" d=\"M2025.77,-213.769C2025.77,-205.57 2025.77,-196.803 2025.77,-188.28\"/>\n",
       "<polygon fill=\"black\" stroke=\"black\" points=\"2029.27,-188.058 2025.77,-178.058 2022.27,-188.059 2029.27,-188.058\"/>\n",
       "</g>\n",
       "<!-- 44 -->\n",
       "<g id=\"node45\" class=\"node\"><title>44</title>\n",
       "<polygon fill=\"#e58139\" fill-opacity=\"0.874510\" stroke=\"black\" points=\"2260.81,-178 2148.73,-178 2148.73,-100 2260.81,-100 2260.81,-178\"/>\n",
       "<text text-anchor=\"middle\" x=\"2204.77\" y=\"-162.8\" font-family=\"Times,serif\" font-size=\"14.00\">Age &lt;= 32.25</text>\n",
       "<text text-anchor=\"middle\" x=\"2204.77\" y=\"-148.8\" font-family=\"Times,serif\" font-size=\"14.00\">gini = 0.1967</text>\n",
       "<text text-anchor=\"middle\" x=\"2204.77\" y=\"-134.8\" font-family=\"Times,serif\" font-size=\"14.00\">samples = 425</text>\n",
       "<text text-anchor=\"middle\" x=\"2204.77\" y=\"-120.8\" font-family=\"Times,serif\" font-size=\"14.00\">value = [378, 47]</text>\n",
       "<text text-anchor=\"middle\" x=\"2204.77\" y=\"-106.8\" font-family=\"Times,serif\" font-size=\"14.00\">class = Died</text>\n",
       "</g>\n",
       "<!-- 40&#45;&gt;44 -->\n",
       "<g id=\"edge44\" class=\"edge\"><title>40&#45;&gt;44</title>\n",
       "<path fill=\"none\" stroke=\"black\" d=\"M2081.91,-216.87C2100.32,-205.354 2120.92,-192.464 2139.91,-180.579\"/>\n",
       "<polygon fill=\"black\" stroke=\"black\" points=\"2141.89,-183.469 2148.51,-175.198 2138.18,-177.535 2141.89,-183.469\"/>\n",
       "</g>\n",
       "<!-- 42 -->\n",
       "<g id=\"node43\" class=\"node\"><title>42</title>\n",
       "<polygon fill=\"#399de5\" stroke=\"black\" points=\"2020.93,-64 1912.61,-64 1912.61,-0 2020.93,-0 2020.93,-64\"/>\n",
       "<text text-anchor=\"middle\" x=\"1966.77\" y=\"-48.8\" font-family=\"Times,serif\" font-size=\"14.00\">gini = 0.0</text>\n",
       "<text text-anchor=\"middle\" x=\"1966.77\" y=\"-34.8\" font-family=\"Times,serif\" font-size=\"14.00\">samples = 3</text>\n",
       "<text text-anchor=\"middle\" x=\"1966.77\" y=\"-20.8\" font-family=\"Times,serif\" font-size=\"14.00\">value = [0, 3]</text>\n",
       "<text text-anchor=\"middle\" x=\"1966.77\" y=\"-6.8\" font-family=\"Times,serif\" font-size=\"14.00\">class = Survived</text>\n",
       "</g>\n",
       "<!-- 41&#45;&gt;42 -->\n",
       "<g id=\"edge42\" class=\"edge\"><title>41&#45;&gt;42</title>\n",
       "<path fill=\"none\" stroke=\"black\" d=\"M2004.3,-99.7956C1999.41,-91.0916 1994.2,-81.8203 1989.27,-73.042\"/>\n",
       "<polygon fill=\"black\" stroke=\"black\" points=\"1992.2,-71.1206 1984.25,-64.1172 1986.1,-74.5497 1992.2,-71.1206\"/>\n",
       "</g>\n",
       "<!-- 43 -->\n",
       "<g id=\"node44\" class=\"node\"><title>43</title>\n",
       "<polygon fill=\"#e58139\" stroke=\"black\" points=\"2130.31,-64 2039.23,-64 2039.23,-0 2130.31,-0 2130.31,-64\"/>\n",
       "<text text-anchor=\"middle\" x=\"2084.77\" y=\"-48.8\" font-family=\"Times,serif\" font-size=\"14.00\">gini = 0.0</text>\n",
       "<text text-anchor=\"middle\" x=\"2084.77\" y=\"-34.8\" font-family=\"Times,serif\" font-size=\"14.00\">samples = 5</text>\n",
       "<text text-anchor=\"middle\" x=\"2084.77\" y=\"-20.8\" font-family=\"Times,serif\" font-size=\"14.00\">value = [5, 0]</text>\n",
       "<text text-anchor=\"middle\" x=\"2084.77\" y=\"-6.8\" font-family=\"Times,serif\" font-size=\"14.00\">class = Died</text>\n",
       "</g>\n",
       "<!-- 41&#45;&gt;43 -->\n",
       "<g id=\"edge43\" class=\"edge\"><title>41&#45;&gt;43</title>\n",
       "<path fill=\"none\" stroke=\"black\" d=\"M2047.24,-99.7956C2052.13,-91.0916 2057.34,-81.8203 2062.27,-73.042\"/>\n",
       "<polygon fill=\"black\" stroke=\"black\" points=\"2065.44,-74.5497 2067.28,-64.1172 2059.33,-71.1206 2065.44,-74.5497\"/>\n",
       "</g>\n",
       "<!-- 45 -->\n",
       "<g id=\"node46\" class=\"node\"><title>45</title>\n",
       "<polygon fill=\"#e58139\" fill-opacity=\"0.854902\" stroke=\"black\" points=\"2260.81,-64 2148.73,-64 2148.73,-0 2260.81,-0 2260.81,-64\"/>\n",
       "<text text-anchor=\"middle\" x=\"2204.77\" y=\"-48.8\" font-family=\"Times,serif\" font-size=\"14.00\">gini = 0.2234</text>\n",
       "<text text-anchor=\"middle\" x=\"2204.77\" y=\"-34.8\" font-family=\"Times,serif\" font-size=\"14.00\">samples = 320</text>\n",
       "<text text-anchor=\"middle\" x=\"2204.77\" y=\"-20.8\" font-family=\"Times,serif\" font-size=\"14.00\">value = [279, 41]</text>\n",
       "<text text-anchor=\"middle\" x=\"2204.77\" y=\"-6.8\" font-family=\"Times,serif\" font-size=\"14.00\">class = Died</text>\n",
       "</g>\n",
       "<!-- 44&#45;&gt;45 -->\n",
       "<g id=\"edge45\" class=\"edge\"><title>44&#45;&gt;45</title>\n",
       "<path fill=\"none\" stroke=\"black\" d=\"M2204.77,-99.7956C2204.77,-91.4581 2204.77,-82.6 2204.77,-74.1534\"/>\n",
       "<polygon fill=\"black\" stroke=\"black\" points=\"2208.27,-74.1171 2204.77,-64.1172 2201.27,-74.1172 2208.27,-74.1171\"/>\n",
       "</g>\n",
       "<!-- 46 -->\n",
       "<g id=\"node47\" class=\"node\"><title>46</title>\n",
       "<polygon fill=\"#e58139\" fill-opacity=\"0.941176\" stroke=\"black\" points=\"2377.81,-64 2279.73,-64 2279.73,-0 2377.81,-0 2377.81,-64\"/>\n",
       "<text text-anchor=\"middle\" x=\"2328.77\" y=\"-48.8\" font-family=\"Times,serif\" font-size=\"14.00\">gini = 0.1078</text>\n",
       "<text text-anchor=\"middle\" x=\"2328.77\" y=\"-34.8\" font-family=\"Times,serif\" font-size=\"14.00\">samples = 105</text>\n",
       "<text text-anchor=\"middle\" x=\"2328.77\" y=\"-20.8\" font-family=\"Times,serif\" font-size=\"14.00\">value = [99, 6]</text>\n",
       "<text text-anchor=\"middle\" x=\"2328.77\" y=\"-6.8\" font-family=\"Times,serif\" font-size=\"14.00\">class = Died</text>\n",
       "</g>\n",
       "<!-- 44&#45;&gt;46 -->\n",
       "<g id=\"edge46\" class=\"edge\"><title>44&#45;&gt;46</title>\n",
       "<path fill=\"none\" stroke=\"black\" d=\"M2249.89,-99.7956C2261.03,-90.3587 2272.96,-80.2547 2284.09,-70.8355\"/>\n",
       "<polygon fill=\"black\" stroke=\"black\" points=\"2286.65,-73.2504 2292.02,-64.1172 2282.13,-67.9083 2286.65,-73.2504\"/>\n",
       "</g>\n",
       "</g>\n",
       "</svg>\n"
      ],
      "text/plain": [
       "<graphviz.files.Source at 0x1156caf28>"
      ]
     },
     "execution_count": 517,
     "metadata": {},
     "output_type": "execute_result"
    }
   ],
   "source": [
    "import graphviz \n",
    "dot_data = tree.export_graphviz(clf_2, feature_names=X_df_2.columns.values, class_names=[\"Died\", \"Survived\"], filled=True ,out_file=None) \n",
    "graph = graphviz.Source(dot_data) \n",
    "graph.render(\"titanic\") \n",
    "graph"
   ]
  },
  {
   "cell_type": "code",
   "execution_count": null,
   "metadata": {},
   "outputs": [],
   "source": []
  },
  {
   "cell_type": "code",
   "execution_count": 518,
   "metadata": {},
   "outputs": [],
   "source": [
    "test_data = pd.read_csv('data/test.csv')\n",
    "\n",
    "X_test_df = test_data[['Pclass', 'Sex', 'Age', 'SibSp', 'Parch', 'PassengerId']]\n",
    "X_test_df = X_test_df.set_index('PassengerId')\n",
    "\n",
    "X_test_df.Sex = X_test_df.Sex.apply(lambda sex: 1 if sex=='male' else 0)\n",
    "\n",
    "X_test_df.Age = X_test_df.Age.apply(lambda age: 10 if np.isnan(age) else age)\n",
    "\n",
    "\n",
    "X_test_df['Prediction'] = clf_2.predict(X_test_df.values)\n",
    "\n",
    "X_test_df['Prediction'].to_csv('./data/gender_submission_2.csv', index_label=['PassengerId'] ,header=['Survived'])"
   ]
  },
  {
   "cell_type": "code",
   "execution_count": null,
   "metadata": {},
   "outputs": [],
   "source": []
  },
  {
   "cell_type": "code",
   "execution_count": null,
   "metadata": {
    "collapsed": true
   },
   "outputs": [],
   "source": [
    "implement k kross fold validation\n",
    "\n",
    "handle missing values\n",
    "\n",
    "do bagging : https://en.wikipedia.org/wiki/Bootstrap_aggregating\n",
    "        \n",
    "do a random forest\n",
    "\n",
    "lasso?\n",
    "baysian "
   ]
  },
  {
   "cell_type": "markdown",
   "metadata": {},
   "source": [
    "## implement k cross fold validation\n",
    "\n",
    "I read about this in Hal Varians' very  interesting paper \"Big Data: New Tricks for Econometrics\":  http://people.ischool.berkeley.edu/~hal/Papers/2013/ml.pdf. It is a method that is used to help determine (out of the family of models one is considering) what I'll call the complexity parameter.\n",
    "\n",
    "The idea behind K cross fold validation is to slice up the dataset into K different disjoint subsets, then\n",
    "\n",
    "for i= 1..K:\n",
    "     train the family of models with changing complexity parameter (in this case max_depth) using all but the i:th subset  \n",
    "\n",
    "     predict on the i:th subset   \n",
    "\n",
    "take the one that had the best accuracy\n"
   ]
  },
  {
   "cell_type": "code",
   "execution_count": 581,
   "metadata": {},
   "outputs": [],
   "source": [
    "def cross_fold_validation(K,X,Y):\n",
    "   #assume X,Y are np.arrays and not pandas-objects, assume they are already shuffled\n",
    "    partition_length = len(X) / K\n",
    "    \n",
    "    for i in range(1, K + 1):\n",
    "        X_single = X[partition_length * (i-1) : partition_length * i ]\n",
    "        Y_single = Y[partition_length * (i-1) : partition_length * i ]\n",
    "        \n",
    "        \n",
    "        if i == 1:\n",
    "            X_rest = X[partition_length * i :]\n",
    "            Y_rest = Y[partition_length * i :]\n",
    "        elif i == K:\n",
    "            X_rest = X[0 : partition_length * (i-1) ]\n",
    "            Y_rest = Y[0 : partition_length * (i-1) ]\n",
    "        else:\n",
    "            X_rest = np.concatenate([X[partition_length * (i-2) : partition_length * (i-1) ], X[partition_length * i :]])\n",
    "            \n",
    "            Y_rest = np.concatenate([Y[partition_length * (i-2) : partition_length * (i-1) ], Y[partition_length * i :]])            \n",
    "        #print(X_single) \n",
    "        #print (X_rest)\n",
    "        \n",
    "        #print(Y_single)\n",
    "        #print(Y_rest)\n",
    "        #print(\">>>\")\n",
    "        \n",
    "        clf = tree.DecisionTreeClassifier(max_depth = i + 1 )\n",
    "\n",
    "        clf = clf.fit(X_rest, Y_rest)\n",
    "       \n",
    "        print(i , clf.score(X_single, Y_single) )\n",
    "        #clf.predict(X_single, Y_single)\n",
    "        \n",
    "        \n",
    "    \n",
    "    \n",
    "    \n",
    "    "
   ]
  },
  {
   "cell_type": "code",
   "execution_count": 584,
   "metadata": {},
   "outputs": [
    {
     "name": "stdout",
     "output_type": "stream",
     "text": [
      "1 0.696629213483\n",
      "2 0.831460674157\n",
      "3 0.775280898876\n",
      "4 0.786516853933\n",
      "5 0.820224719101\n",
      "6 0.797752808989\n",
      "7 0.730337078652\n",
      "8 0.707865168539\n",
      "9 0.887640449438\n",
      "10 0.844444444444\n"
     ]
    },
    {
     "name": "stderr",
     "output_type": "stream",
     "text": [
      "/Users/gk/anaconda3/lib/python3.5/site-packages/ipykernel/__main__.py:6: VisibleDeprecationWarning: using a non-integer number instead of an integer will result in an error in the future\n",
      "/Users/gk/anaconda3/lib/python3.5/site-packages/ipykernel/__main__.py:7: VisibleDeprecationWarning: using a non-integer number instead of an integer will result in an error in the future\n",
      "/Users/gk/anaconda3/lib/python3.5/site-packages/ipykernel/__main__.py:11: VisibleDeprecationWarning: using a non-integer number instead of an integer will result in an error in the future\n",
      "/Users/gk/anaconda3/lib/python3.5/site-packages/ipykernel/__main__.py:12: VisibleDeprecationWarning: using a non-integer number instead of an integer will result in an error in the future\n",
      "/Users/gk/anaconda3/lib/python3.5/site-packages/ipykernel/__main__.py:17: VisibleDeprecationWarning: using a non-integer number instead of an integer will result in an error in the future\n",
      "/Users/gk/anaconda3/lib/python3.5/site-packages/ipykernel/__main__.py:19: VisibleDeprecationWarning: using a non-integer number instead of an integer will result in an error in the future\n",
      "/Users/gk/anaconda3/lib/python3.5/site-packages/ipykernel/__main__.py:14: VisibleDeprecationWarning: using a non-integer number instead of an integer will result in an error in the future\n",
      "/Users/gk/anaconda3/lib/python3.5/site-packages/ipykernel/__main__.py:15: VisibleDeprecationWarning: using a non-integer number instead of an integer will result in an error in the future\n"
     ]
    }
   ],
   "source": [
    "cross_fold_validation(10, X_df_2.values, Y_df_2.values)"
   ]
  },
  {
   "cell_type": "markdown",
   "metadata": {},
   "source": [
    "So the cross fold validation suggests we should use 9+1 as the max_depth. lets see how it performs on the testset"
   ]
  },
  {
   "cell_type": "code",
   "execution_count": 586,
   "metadata": {},
   "outputs": [],
   "source": [
    "clf_3 = tree.DecisionTreeClassifier(max_depth = 9 + 1 )\n",
    "\n",
    "clf_3 = clf_3.fit(X_df_2.values, Y_df_2.values)"
   ]
  },
  {
   "cell_type": "code",
   "execution_count": 593,
   "metadata": {},
   "outputs": [],
   "source": [
    "test_data = pd.read_csv('data/test.csv')\n",
    "\n",
    "X_test_df = test_data[['Pclass', 'Sex', 'Age', 'SibSp', 'Parch', 'PassengerId']]\n",
    "X_test_df = X_test_df.set_index('PassengerId')\n",
    "\n",
    "X_test_df.Sex = X_test_df.Sex.apply(lambda sex: 1 if sex=='male' else 0)\n",
    "\n",
    "X_test_df.Age = X_test_df.Age.apply(lambda age: 10 if np.isnan(age) else age)\n",
    "\n",
    "X_test_df['Prediction_3'] = clf_3.predict(X_test_df.values)\n",
    "\n",
    "X_test_df['Prediction_3'].to_csv('./data/gender_submission_3.csv', index_label=['PassengerId'] ,header=['Survived'])"
   ]
  },
  {
   "cell_type": "markdown",
   "metadata": {},
   "source": [
    "Unfortunately, it did not improve on the test set (it got 0.71291). Might have been bad luck."
   ]
  },
  {
   "cell_type": "markdown",
   "metadata": {},
   "source": [
    "### Implement a bootstrap function\n",
    "\n",
    "bootstrapping is essential for the bagging teq.\n",
    "\n",
    "with bagging we want to:\n",
    "\n",
    "for i=1..K: \n",
    "\n",
    "    bootstrap the data,\n",
    "    \n",
    "    train the classifier on the bootstrapped_data\n",
    "    \n",
    "use majority vote to determine the classification   "
   ]
  },
  {
   "cell_type": "code",
   "execution_count": 621,
   "metadata": {},
   "outputs": [],
   "source": [
    "def bootstrap(X, Y):\n",
    "    \n",
    "    indexes = np.random.randint(len(X), size=len(X))\n",
    "    X_new = np.zeros(X.shape)\n",
    "    Y_new = np.zeros(Y.shape)\n",
    "    index_new = 0\n",
    "    \n",
    "    for index in indexes:\n",
    "        X_row = X[index]\n",
    "        Y_row = Y[index]\n",
    "        X_new[index_new] = X_row\n",
    "        Y_new[index_new] = Y_row\n",
    "        index_new += 1\n",
    "    \n",
    "    return X_new, Y_new\n",
    "    #"
   ]
  },
  {
   "cell_type": "code",
   "execution_count": 622,
   "metadata": {},
   "outputs": [
    {
     "data": {
      "text/plain": [
       "(array([[ 4.,  5.,  6.],\n",
       "        [ 4.,  5.,  6.],\n",
       "        [ 1.,  2.,  3.]]), array([ 2.,  2.,  1.]))"
      ]
     },
     "execution_count": 622,
     "metadata": {},
     "output_type": "execute_result"
    }
   ],
   "source": [
    "bootstrap(np.array([[1,2,3],[4,5,6],[7,8,9]]), np.array([1,2,3]))"
   ]
  },
  {
   "cell_type": "code",
   "execution_count": 623,
   "metadata": {},
   "outputs": [],
   "source": [
    "def bagging_clf(K, X, Y):\n",
    "    \n",
    "    clf_bagged = []\n",
    "    for i in range(1, K + 1):\n",
    "        X_bs, Y_bs = bootstrap(X, Y)\n",
    "        \n",
    "        clf = tree.DecisionTreeClassifier(max_depth = 2)\n",
    "\n",
    "        clf = clf.fit(X_bs, Y_bs)\n",
    "        \n",
    "        clf_bagged.append(clf)\n",
    "    \n",
    "    return clf_bagged\n",
    "    "
   ]
  },
  {
   "cell_type": "code",
   "execution_count": 631,
   "metadata": {},
   "outputs": [],
   "source": [
    "clf_bagged = bagging_clf(5, X_df_2.values, Y_df_2.values)"
   ]
  },
  {
   "cell_type": "code",
   "execution_count": 632,
   "metadata": {},
   "outputs": [
    {
     "data": {
      "text/plain": [
       "[DecisionTreeClassifier(class_weight=None, criterion='gini', max_depth=2,\n",
       "             max_features=None, max_leaf_nodes=None,\n",
       "             min_impurity_split=1e-07, min_samples_leaf=1,\n",
       "             min_samples_split=2, min_weight_fraction_leaf=0.0,\n",
       "             presort=False, random_state=None, splitter='best'),\n",
       " DecisionTreeClassifier(class_weight=None, criterion='gini', max_depth=2,\n",
       "             max_features=None, max_leaf_nodes=None,\n",
       "             min_impurity_split=1e-07, min_samples_leaf=1,\n",
       "             min_samples_split=2, min_weight_fraction_leaf=0.0,\n",
       "             presort=False, random_state=None, splitter='best'),\n",
       " DecisionTreeClassifier(class_weight=None, criterion='gini', max_depth=2,\n",
       "             max_features=None, max_leaf_nodes=None,\n",
       "             min_impurity_split=1e-07, min_samples_leaf=1,\n",
       "             min_samples_split=2, min_weight_fraction_leaf=0.0,\n",
       "             presort=False, random_state=None, splitter='best'),\n",
       " DecisionTreeClassifier(class_weight=None, criterion='gini', max_depth=2,\n",
       "             max_features=None, max_leaf_nodes=None,\n",
       "             min_impurity_split=1e-07, min_samples_leaf=1,\n",
       "             min_samples_split=2, min_weight_fraction_leaf=0.0,\n",
       "             presort=False, random_state=None, splitter='best'),\n",
       " DecisionTreeClassifier(class_weight=None, criterion='gini', max_depth=2,\n",
       "             max_features=None, max_leaf_nodes=None,\n",
       "             min_impurity_split=1e-07, min_samples_leaf=1,\n",
       "             min_samples_split=2, min_weight_fraction_leaf=0.0,\n",
       "             presort=False, random_state=None, splitter='best')]"
      ]
     },
     "execution_count": 632,
     "metadata": {},
     "output_type": "execute_result"
    }
   ],
   "source": [
    "clf_bagged"
   ]
  },
  {
   "cell_type": "code",
   "execution_count": 694,
   "metadata": {},
   "outputs": [],
   "source": [
    "def bagging_clf_voter(clf_bagged, X_test):\n",
    "    \n",
    "    clf_predictions =  np.array(list(map(lambda clf: clf.predict(X_test).tolist(), clf_bagged)))    \n",
    "    #the to lst casts are done in order to easily access the columns to do the majority voting system\n",
    "    \n",
    "    bagging_clf_voted = []\n",
    "    \n",
    "    for index in range(len(X_test)):\n",
    "        X_row_predictions = clf_predictions[0:, index]\n",
    "        #so for a given X row, it is a array with the differents clfs's predictions\n",
    "        \n",
    "        X_row_predictions_majority = max(set(X_row_predictions), key = list(X_row_predictions).count)\n",
    "        \n",
    "        bagging_clf_voted.append(X_row_predictions_majority)\n",
    "    \n",
    "    return np.array(bagging_clf_voted, dtype=int)\n",
    "    "
   ]
  },
  {
   "cell_type": "code",
   "execution_count": 695,
   "metadata": {
    "collapsed": true
   },
   "outputs": [],
   "source": [
    "\n",
    "X_test_df = test_data[['Pclass', 'Sex', 'Age', 'SibSp', 'Parch', 'PassengerId']]\n",
    "X_test_df = X_test_df.set_index('PassengerId')\n",
    "\n",
    "X_test_df.Sex = X_test_df.Sex.apply(lambda sex: 1 if sex=='male' else 0)\n",
    "\n",
    "X_test_df.Age = X_test_df.Age.apply(lambda age: 10 if np.isnan(age) else age)"
   ]
  },
  {
   "cell_type": "code",
   "execution_count": 696,
   "metadata": {},
   "outputs": [],
   "source": [
    "bagging_clf_voted = bagging_clf_voter(clf_bagged, X_test_df.values)"
   ]
  },
  {
   "cell_type": "code",
   "execution_count": 697,
   "metadata": {},
   "outputs": [],
   "source": [
    "X_test_df['Prediction_4'] = bagging_clf_voted\n",
    "\n",
    "X_test_df['Prediction_4'].to_csv('./data/gender_submission_4.csv', index_label=['PassengerId'] ,header=['Survived'])"
   ]
  },
  {
   "cell_type": "markdown",
   "metadata": {},
   "source": [
    "Bagging, keepting max depth at 2, performed 0.75598 on the testset. pretty good."
   ]
  },
  {
   "cell_type": "code",
   "execution_count": null,
   "metadata": {},
   "outputs": [],
   "source": []
  },
  {
   "cell_type": "code",
   "execution_count": 693,
   "metadata": {},
   "outputs": [
    {
     "data": {
      "text/plain": [
       "array([0, 1, 0, 0, 1, 0, 1, 0, 1, 0, 0, 0, 1, 0, 1, 1, 0, 0, 1, 1, 0, 0, 1,\n",
       "       0, 1, 0, 1, 0, 0, 0, 0, 0, 1, 1, 0, 0, 1, 1, 0, 0, 0, 0, 0, 1, 1, 0,\n",
       "       0, 0, 1, 1, 0, 0, 1, 1, 0, 0, 0, 0, 0, 1, 0, 0, 0, 1, 0, 1, 1, 0, 0,\n",
       "       1, 1, 0, 1, 0, 1, 0, 0, 1, 0, 1, 1, 0, 0, 0, 0, 0, 1, 1, 1, 1, 1, 0,\n",
       "       1, 0, 0, 0, 1, 0, 1, 0, 1, 0, 0, 0, 1, 0, 0, 0, 0, 0, 0, 1, 1, 1, 1,\n",
       "       0, 0, 1, 0, 1, 1, 0, 1, 0, 0, 1, 0, 1, 0, 0, 0, 0, 1, 0, 0, 0, 0, 0,\n",
       "       1, 0, 1, 1, 0, 0, 0, 0, 0, 0, 0, 0, 1, 0, 0, 1, 0, 0, 1, 1, 0, 1, 1,\n",
       "       0, 1, 0, 0, 1, 0, 0, 1, 1, 0, 0, 0, 0, 0, 1, 1, 0, 1, 1, 0, 0, 1, 0,\n",
       "       1, 0, 1, 0, 1, 0, 0, 0, 0, 0, 0, 0, 1, 1, 0, 1, 1, 1, 0, 1, 0, 0, 1,\n",
       "       0, 1, 0, 0, 0, 0, 1, 1, 0, 1, 0, 1, 0, 1, 0, 1, 0, 1, 1, 0, 1, 0, 0,\n",
       "       0, 1, 0, 0, 0, 0, 0, 0, 1, 1, 1, 1, 0, 0, 0, 0, 1, 0, 1, 1, 1, 0, 0,\n",
       "       0, 0, 0, 0, 0, 1, 0, 0, 0, 1, 1, 0, 0, 0, 0, 1, 0, 0, 0, 1, 1, 0, 1,\n",
       "       0, 0, 0, 0, 1, 1, 1, 1, 1, 0, 0, 0, 0, 0, 0, 1, 0, 0, 0, 0, 1, 0, 0,\n",
       "       0, 0, 0, 0, 0, 1, 1, 0, 1, 0, 1, 0, 0, 0, 1, 1, 1, 0, 0, 0, 0, 0, 0,\n",
       "       0, 0, 1, 0, 1, 0, 0, 0, 1, 0, 0, 1, 0, 0, 0, 0, 0, 0, 0, 0, 0, 1, 0,\n",
       "       1, 0, 1, 0, 1, 1, 0, 0, 0, 1, 0, 1, 0, 0, 1, 0, 1, 1, 0, 1, 1, 0, 1,\n",
       "       1, 0, 0, 1, 0, 0, 1, 1, 1, 0, 0, 1, 0, 0, 1, 1, 0, 1, 0, 0, 0, 1, 0,\n",
       "       1, 0, 0, 0, 1, 0, 1, 0, 0, 1, 0, 1, 0, 0, 0, 0, 0, 1, 1, 1, 1, 1, 0,\n",
       "       1, 0, 0, 0])"
      ]
     },
     "execution_count": 693,
     "metadata": {},
     "output_type": "execute_result"
    }
   ],
   "source": [
    "np.array(bagging_clf_voted, dtype=int)"
   ]
  },
  {
   "cell_type": "code",
   "execution_count": null,
   "metadata": {
    "collapsed": true
   },
   "outputs": [],
   "source": []
  }
 ],
 "metadata": {
  "anaconda-cloud": {},
  "kernelspec": {
   "display_name": "Python [conda root]",
   "language": "python",
   "name": "conda-root-py"
  },
  "language_info": {
   "codemirror_mode": {
    "name": "ipython",
    "version": 3
   },
   "file_extension": ".py",
   "mimetype": "text/x-python",
   "name": "python",
   "nbconvert_exporter": "python",
   "pygments_lexer": "ipython3",
   "version": "3.5.2"
  }
 },
 "nbformat": 4,
 "nbformat_minor": 1
}
