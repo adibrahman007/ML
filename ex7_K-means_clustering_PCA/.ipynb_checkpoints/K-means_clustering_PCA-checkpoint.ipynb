{
 "cells": [
  {
   "cell_type": "markdown",
   "metadata": {
    "collapsed": false
   },
   "source": [
    "# 1 K-means Clustering"
   ]
  },
  {
   "cell_type": "code",
   "execution_count": 1,
   "metadata": {
    "collapsed": false
   },
   "outputs": [],
   "source": [
    "import numpy as np\n",
    "import matplotlib.pyplot as plt\n",
    "import pandas as pd\n",
    "import scipy.io \n",
    "import scipy.misc "
   ]
  },
  {
   "cell_type": "code",
   "execution_count": 2,
   "metadata": {
    "collapsed": false
   },
   "outputs": [],
   "source": [
    "data = 'ex7data2.mat'\n",
    "mat = scipy.io.loadmat(data)\n",
    "\n",
    "X= mat['X']"
   ]
  },
  {
   "cell_type": "code",
   "execution_count": null,
   "metadata": {
    "collapsed": false
   },
   "outputs": [],
   "source": []
  },
  {
   "cell_type": "code",
   "execution_count": 3,
   "metadata": {
    "collapsed": true
   },
   "outputs": [],
   "source": [
    "#\n",
    "def plot(X, show=False):\n",
    "        \n",
    "    \n",
    "    \n",
    "    \n",
    "           \n",
    "    if show==True:\n",
    "        plt.scatter(X[:,0], X[:,1], label='data', color='red')\n",
    "        plt.legend() \n",
    "        plt.show()\n",
    "    else:\n",
    "        plt.scatter(X[:,0], X[:,1])"
   ]
  },
  {
   "cell_type": "code",
   "execution_count": 4,
   "metadata": {
    "collapsed": false
   },
   "outputs": [
    {
     "data": {
      "image/png": "[encoded data removed]",
      "text/plain": [
       "<matplotlib.figure.Figure at 0x11485ec88>"
      ]
     },
     "metadata": {},
     "output_type": "display_data"
    }
   ],
   "source": [
    "plot(X, show=True)"
   ]
  },
  {
   "cell_type": "markdown",
   "metadata": {},
   "source": [
    "\"The K-means\n",
    "algorithm will always converge to some final set of means for the centroids.\n",
    "Note that the converged solution may not always be ideal and depends on the\n",
    "initial setting of the centroids. Therefore, in practice the K-means algorithm\n",
    "is usually run a few times with different random initializations.\" - pdf"
   ]
  },
  {
   "cell_type": "code",
   "execution_count": null,
   "metadata": {
    "collapsed": false
   },
   "outputs": [],
   "source": []
  },
  {
   "cell_type": "markdown",
   "metadata": {},
   "source": [
    "# 1.1.1 Finding closest centroids"
   ]
  },
  {
   "cell_type": "code",
   "execution_count": null,
   "metadata": {
    "collapsed": true
   },
   "outputs": [],
   "source": [
    "\n",
    "            "
   ]
  },
  {
   "cell_type": "code",
   "execution_count": 5,
   "metadata": {
    "collapsed": true
   },
   "outputs": [],
   "source": [
    "def closest_centroids(X,centroids_matrix):\n",
    "    \n",
    "    #plan: 1) how many training examples to each centroids?\n",
    "    m=len(X)\n",
    "    #im assuming K will be in the namespace when this gets called by K_means\n",
    "    \n",
    "    matrix=np.zeros((m,len(centroids_matrix)), dtype=float)\n",
    "    #this is an m x whatever matrix that i will populate with the norms, then i will use this object to assign it to centroids\n",
    "    \n",
    "    for i in range(len(centroids_matrix)):    \n",
    "        centroid=centroids_matrix[i]\n",
    "        #centroids should come in as row-wise in a matrix.\n",
    "        \n",
    "        for j in range(m):\n",
    "            x=X[j]\n",
    "            norm_squared=np.dot((x-centroid).T, x-centroid)\n",
    "            #might as well use norm squared as it will give me same points as just the norm\n",
    "            \n",
    "            #print(matrix[j:i])\n",
    "            #print(norm_squared)\n",
    "            matrix[j,i]=norm_squared\n",
    "            #obs notice j,i as opposed to i,j\n",
    "            \n",
    "    #now matrix rows are elements on the norms for every centroid        \n",
    "            \n",
    "    #for every row, check which element is the lowest. the column index that locates it is the cluster that it will get assigned to.\n",
    "    \n",
    "    c=[]\n",
    "    #this will be the index that collects which centroid it is closest to c[i]=j , means training ex i is closest to cluster j. \n",
    "    for row in matrix:\n",
    "        min_centroids=np.argmin(row)\n",
    "        c.append(min_centroids)\n",
    "        \n",
    "    \n",
    "    return c      "
   ]
  },
  {
   "cell_type": "code",
   "execution_count": 6,
   "metadata": {
    "collapsed": false
   },
   "outputs": [],
   "source": [
    "centroids=np.array([[1,1],[1,1]], dtype=float)"
   ]
  },
  {
   "cell_type": "code",
   "execution_count": 7,
   "metadata": {
    "collapsed": false
   },
   "outputs": [],
   "source": [
    "initial_centroids = np.array([[3,3],[6,2],[8,5]])"
   ]
  },
  {
   "cell_type": "markdown",
   "metadata": {},
   "source": [
    "\"you should see the output [1 3 2]\n",
    "corresponding to the centroid assignments for the first 3 examples.\" -pdf in our version it outsputs -1 on each elements due to starting counting at zero."
   ]
  },
  {
   "cell_type": "code",
   "execution_count": 8,
   "metadata": {
    "collapsed": false
   },
   "outputs": [
    {
     "data": {
      "text/plain": [
       "[0, 2, 1]"
      ]
     },
     "execution_count": 8,
     "metadata": {},
     "output_type": "execute_result"
    }
   ],
   "source": [
    "closest_centroids(X, initial_centroids)[0:3]"
   ]
  },
  {
   "cell_type": "markdown",
   "metadata": {},
   "source": [
    "### 1.1.2 Computing centroid means"
   ]
  },
  {
   "cell_type": "code",
   "execution_count": 106,
   "metadata": {
    "collapsed": true
   },
   "outputs": [],
   "source": [
    "def compute_centroids(X, centroids_matrix,K):\n",
    "    \n",
    "    c=closest_centroids(X, centroids_matrix)\n",
    "    \n",
    "    #plan of attack: \n",
    "    \n",
    "    #K is assumed to exist in the namespace by virtue of being called by K_means(X,K), so the range of c is 0..K-1 (inc)\n",
    "    #NOTE UPDATE: the thing about the namespace is false in Python.\n",
    "    #for every value 0..K-1, find the elements that belongs to it,\n",
    "    # then compute the avg of these\n",
    "    \n",
    "    updated_centroids_matrix=np.zeros(centroids_matrix.shape)\n",
    "    \n",
    "    member_sum=0 #\n",
    "    members=0\n",
    "    for i in range(K):\n",
    "        \n",
    "        for j in range(len(c)):\n",
    "            \n",
    "            if c[j]==i:\n",
    "                x=X[j]\n",
    "                member_sum+=x\n",
    "                members+=1\n",
    "                \n",
    "        if members==0:\n",
    "            avg_vector=np.zeros(X[0].shape)\n",
    "        else:\n",
    "            avg_vector=member_sum/members\n",
    "            \n",
    "        member_sum=0\n",
    "        members=0\n",
    "        #reset above after checking i in 0..K-1\n",
    "        \n",
    "        updated_centroids_matrix[i]=avg_vector\n",
    "        \n",
    "    return updated_centroids_matrix    "
   ]
  },
  {
   "cell_type": "code",
   "execution_count": null,
   "metadata": {
    "collapsed": false
   },
   "outputs": [],
   "source": []
  },
  {
   "cell_type": "code",
   "execution_count": 107,
   "metadata": {
    "collapsed": false
   },
   "outputs": [],
   "source": [
    "def K_means(X, K):\n",
    "    \n",
    "    #initalize clusters\n",
    "    X_row_len=X.shape[1]\n",
    "    \n",
    "    centroids_matrix=(X.max()-X.min() ) * np.random.random_sample((K, X_row_len))-X.min()\n",
    "    \n",
    "    \n",
    "    \n",
    "    #until convergence:\n",
    "    # i'll be lazy and assume converge after n=10 iterations, to follow the pdf.\n",
    "    for i in range(100):\n",
    "        \n",
    "        #print(centroids_matrix)\n",
    "        #c=closest_centroids(X, centroids_matrix)\n",
    "        \n",
    "        centroids_matrix=compute_centroids(X, centroids_matrix,K=K)\n",
    "        \n",
    "    return centroids_matrix    \n",
    "    "
   ]
  },
  {
   "cell_type": "code",
   "execution_count": null,
   "metadata": {
    "collapsed": false
   },
   "outputs": [],
   "source": []
  },
  {
   "cell_type": "code",
   "execution_count": 120,
   "metadata": {
    "collapsed": false
   },
   "outputs": [],
   "source": [
    "centroids_matrix=K_means(X,K=3)"
   ]
  },
  {
   "cell_type": "code",
   "execution_count": 121,
   "metadata": {
    "collapsed": false
   },
   "outputs": [
    {
     "data": {
      "text/plain": [
       "array([[ 6.03366736,  3.00052511],\n",
       "       [ 3.04367119,  1.01541041],\n",
       "       [ 1.95399466,  5.02557006]])"
      ]
     },
     "execution_count": 121,
     "metadata": {},
     "output_type": "execute_result"
    }
   ],
   "source": [
    "centroids_matrix"
   ]
  },
  {
   "cell_type": "code",
   "execution_count": 122,
   "metadata": {
    "collapsed": true
   },
   "outputs": [],
   "source": [
    "plot(X)"
   ]
  },
  {
   "cell_type": "code",
   "execution_count": 123,
   "metadata": {
    "collapsed": false
   },
   "outputs": [],
   "source": [
    "#centroids_matrix=(X.max()-X.min() ) * np.random.random_sample((3, 2))-X.min()"
   ]
  },
  {
   "cell_type": "code",
   "execution_count": 124,
   "metadata": {
    "collapsed": false
   },
   "outputs": [
    {
     "data": {
      "image/png": "[encoded data removed]",
      "text/plain": [
       "<matplotlib.figure.Figure at 0x116cc2cf8>"
      ]
     },
     "metadata": {},
     "output_type": "display_data"
    }
   ],
   "source": [
    "plot(centroids_matrix,show=True)"
   ]
  },
  {
   "cell_type": "code",
   "execution_count": null,
   "metadata": {
    "collapsed": true
   },
   "outputs": [],
   "source": []
  }
 ],
 "metadata": {
  "anaconda-cloud": {},
  "kernelspec": {
   "display_name": "Python [conda root]",
   "language": "python",
   "name": "conda-root-py"
  },
  "language_info": {
   "codemirror_mode": {
    "name": "ipython",
    "version": 3
   },
   "file_extension": ".py",
   "mimetype": "text/x-python",
   "name": "python",
   "nbconvert_exporter": "python",
   "pygments_lexer": "ipython3",
   "version": "3.5.2"
  }
 },
 "nbformat": 4,
 "nbformat_minor": 1
}
