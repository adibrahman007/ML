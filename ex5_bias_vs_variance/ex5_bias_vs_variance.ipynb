{
 "cells": [
  {
   "cell_type": "markdown",
   "metadata": {},
   "source": [
    "### Programming Exercise 5: Regularized Linear Regression and Bias v.s. Variance"
   ]
  },
  {
   "cell_type": "markdown",
   "metadata": {},
   "source": [
    "In the first half of the exercise, you will implement regularized linear regression\n",
    "to predict the amount of water flowing out of a dam using the change\n",
    "of water level in a reservoir."
   ]
  },
  {
   "cell_type": "code",
   "execution_count": 1,
   "metadata": {
    "collapsed": true
   },
   "outputs": [],
   "source": [
    "\n",
    "import numpy as np\n",
    "import matplotlib.pyplot as plt\n",
    "import pandas as pd\n",
    "import scipy.io \n",
    "import scipy.misc \n",
    "import matplotlib.cm as cm \n",
    "import random \n",
    "from scipy.special import expit as sigmoid\n",
    "#sigmoid will be vectorized"
   ]
  },
  {
   "cell_type": "code",
   "execution_count": 2,
   "metadata": {
    "collapsed": false
   },
   "outputs": [],
   "source": [
    "data = 'ex5data1.mat'\n",
    "mat = scipy.io.loadmat(data)\n",
    "\n",
    "X, Y,Xval,Yval,Xtest,Ytest= mat['X'], mat['y'],mat['Xval'],mat['yval'],mat['Xtest'],mat['ytest']\n",
    "\n",
    "Y=np.reshape(Y,12)\n",
    "Yval=np.reshape(Yval,len(Yval))\n",
    "Ytest=np.reshape(Ytest,len(Ytest))"
   ]
  },
  {
   "cell_type": "code",
   "execution_count": null,
   "metadata": {
    "collapsed": false
   },
   "outputs": [],
   "source": []
  },
  {
   "cell_type": "markdown",
   "metadata": {},
   "source": [
    "#### 1.1 Visualizing the dataset"
   ]
  },
  {
   "cell_type": "code",
   "execution_count": 3,
   "metadata": {
    "collapsed": false
   },
   "outputs": [
    {
     "data": {
      "image/png": "[encoded data removed]",
      "text/plain": [
       "<matplotlib.figure.Figure at 0x113f3b978>"
      ]
     },
     "metadata": {},
     "output_type": "display_data"
    }
   ],
   "source": [
    "plt.scatter(X,Y.T, label='Loaded from file!')\n",
    "plt.title('imported without pandas \\nCheck it out')\n",
    "plt.legend(bbox_to_anchor=(2, 1))\n",
    "\n",
    "plt.show()"
   ]
  },
  {
   "cell_type": "code",
   "execution_count": 4,
   "metadata": {
    "collapsed": false
   },
   "outputs": [],
   "source": [
    "X =     np.insert(X    ,0,1,axis=1)\n",
    "Xval =  np.insert(Xval ,0,1,axis=1)\n",
    "Xtest = np.insert(Xtest,0,1,axis=1)"
   ]
  },
  {
   "cell_type": "markdown",
   "metadata": {},
   "source": [
    "#### 1.2 Regularized linear regression cost function"
   ]
  },
  {
   "cell_type": "code",
   "execution_count": 89,
   "metadata": {
    "collapsed": true
   },
   "outputs": [],
   "source": [
    "def cost_function_lin_reg(theta_array, X,Y,l=0):\n",
    "    \n",
    "    #if type(Y)==np.float64:\n",
    "    #    m=1\n",
    "        \n",
    "    #    return ((np.dot(X,theta_array)-Y)**2 +l*np.dot(theta_array[1:],theta_array[1:].T))/(m*2) \n",
    "    #else:    \n",
    "    \n",
    "    m=len(Y)\n",
    "        \n",
    "    \n",
    "    cost=(sum((np.dot(X,theta_array)-Y)**2)+l*np.dot(theta_array[1:],theta_array[1:].T))/(m*2)\n",
    "    \n",
    "    \n",
    "\n",
    "    return cost"
   ]
  },
  {
   "cell_type": "code",
   "execution_count": 18,
   "metadata": {
    "collapsed": true
   },
   "outputs": [],
   "source": [
    "theta_array=np.array([1,1])"
   ]
  },
  {
   "cell_type": "code",
   "execution_count": 19,
   "metadata": {
    "collapsed": false
   },
   "outputs": [
    {
     "data": {
      "text/plain": [
       "303.99319222026429"
      ]
     },
     "execution_count": 19,
     "metadata": {},
     "output_type": "execute_result"
    }
   ],
   "source": [
    "cost_function_lin_reg(theta_array,X,Y,l=1)"
   ]
  },
  {
   "cell_type": "markdown",
   "metadata": {},
   "source": [
    "When you are finished, the next part of ex5.m will run your cost function\n",
    "using theta initialized at [1; 1]. You should expect to see an output of\n",
    "303.993."
   ]
  },
  {
   "cell_type": "markdown",
   "metadata": {},
   "source": [
    "#### 1.3 Regularized linear regression gradient"
   ]
  },
  {
   "cell_type": "code",
   "execution_count": 52,
   "metadata": {
    "collapsed": false
   },
   "outputs": [],
   "source": [
    "def gradient_function(theta_array,X,Y, l=0):\n",
    "\n",
    "    common_term_for_derivatives_list=[]\n",
    "    \n",
    "      \n",
    "    m=len(Y)\n",
    "        \n",
    "    for i in range(0,len(Y)):\n",
    "        #X[i] i:th row of X\n",
    "        h_theta=np.dot(theta_array,X[i])\n",
    "\n",
    "        #do some work on the gradient\n",
    "        common_term_for_derivatives=(h_theta-Y[i])\n",
    "        common_term_for_derivatives_list.append(common_term_for_derivatives)\n",
    "        #\n",
    "\n",
    "    #gradient\n",
    "    gradient=[]\n",
    "    #datastructure change so that we can use dot prodcut\n",
    "    common_term_for_derivatives_array=np.array(common_term_for_derivatives_list)\n",
    "    #import pdb; pdb.set_trace()\n",
    "    for j in range(0, len(theta_array)):\n",
    "        #Note that you should not regularize the parameter theta_array[0]!! hence the if-else clausul below\n",
    "        if j==0:\n",
    "            derivative=np.dot(common_term_for_derivatives_array,X[:,j])/m\n",
    "            \n",
    "        else:\n",
    "            derivative=np.dot(common_term_for_derivatives_array,X[:,j])/m +(l/m)*theta_array[j]\n",
    "\n",
    "        gradient.append(derivative)\n",
    "\n",
    "    gradient=np.array(gradient)\n",
    "\n",
    "    return gradient"
   ]
  },
  {
   "cell_type": "code",
   "execution_count": 21,
   "metadata": {
    "collapsed": false
   },
   "outputs": [
    {
     "data": {
      "text/plain": [
       "array([ -15.30301567,  598.25074417])"
      ]
     },
     "execution_count": 21,
     "metadata": {},
     "output_type": "execute_result"
    }
   ],
   "source": [
    "gradient_function(theta_array,X,Y,l=1)"
   ]
  },
  {
   "cell_type": "markdown",
   "metadata": {},
   "source": [
    "will run your gradient function using theta initialized at [1; 1].\n",
    "You should expect to see a gradient of [-15.30; 598.250]."
   ]
  },
  {
   "cell_type": "markdown",
   "metadata": {},
   "source": [
    "#### 1.4 Fitting linear regression"
   ]
  },
  {
   "cell_type": "code",
   "execution_count": 164,
   "metadata": {
    "collapsed": false
   },
   "outputs": [],
   "source": [
    "theta_array=np.array([1,1], dtype=float)"
   ]
  },
  {
   "cell_type": "code",
   "execution_count": 141,
   "metadata": {
    "collapsed": false
   },
   "outputs": [],
   "source": [
    "def gradient_descent(theta_array, X, Y,alpha=0.01, treshold=0.001,l=0):\n",
    "\n",
    "        cost=cost_function_lin_reg(theta_array,X,Y,l)\n",
    "        gradient=gradient_function(theta_array,X,Y,l)\n",
    "        counter=0\n",
    "        cost_old=treshold+1\n",
    "        cost_list=[]\n",
    "        #making a copy of theta array so not to modify the inital one during descent\n",
    "        theta_array_copy=np.copy(theta_array)\n",
    "        while abs(cost-cost_old)>treshold and counter <10000:\n",
    "        \n",
    "            counter=counter+1\n",
    "            cost_list.append(cost)\n",
    "            cost_old=cost\n",
    "            \n",
    "            \n",
    "            gradient=gradient_function(theta_array_copy,X,Y)\n",
    "            \n",
    "            gradient_length=len(gradient)\n",
    "                \n",
    "            for i in range(0, gradient_length ):\n",
    "                #import pdb; pdb.set_trace()\n",
    "                theta_array_copy[i]=theta_array_copy[i]-alpha*gradient[i]\n",
    "            \n",
    "            cost=cost_function_lin_reg(theta_array_copy, X, Y)\n",
    "        print('it took {counter} iterations'.format(counter=counter))\n",
    "\n",
    "        return theta_array_copy, cost, cost_list "
   ]
  },
  {
   "cell_type": "code",
   "execution_count": 165,
   "metadata": {
    "collapsed": false
   },
   "outputs": [
    {
     "name": "stdout",
     "output_type": "stream",
     "text": [
      "it took 1448 iterations\n"
     ]
    }
   ],
   "source": [
    "theta_array_opti,cost,cost_list=gradient_descent(theta_array,X,Y, alpha=0.002)"
   ]
  },
  {
   "cell_type": "code",
   "execution_count": 166,
   "metadata": {
    "collapsed": false
   },
   "outputs": [
    {
     "data": {
      "text/plain": [
       "array([ 12.36069615,   0.36341786])"
      ]
     },
     "execution_count": 166,
     "metadata": {},
     "output_type": "execute_result"
    }
   ],
   "source": [
    "theta_array_opti"
   ]
  },
  {
   "cell_type": "code",
   "execution_count": 167,
   "metadata": {
    "collapsed": false
   },
   "outputs": [
    {
     "data": {
      "text/plain": [
       "22.630266470372579"
      ]
     },
     "execution_count": 167,
     "metadata": {},
     "output_type": "execute_result"
    }
   ],
   "source": [
    "cost"
   ]
  },
  {
   "cell_type": "code",
   "execution_count": 168,
   "metadata": {
    "collapsed": false
   },
   "outputs": [
    {
     "data": {
      "image/png": "[encoded data removed]",
      "text/plain": [
       "<matplotlib.figure.Figure at 0x118180f28>"
      ]
     },
     "metadata": {},
     "output_type": "display_data"
    }
   ],
   "source": [
    "theta0=theta_array_opti[0]\n",
    "theta1=theta_array_opti[1]\n",
    "import math\n",
    "x=range(-50, 50)\n",
    "y=[]\n",
    "for i in x:\n",
    "    y.append(theta0+theta1*i)\n",
    "\n",
    "#similiar code to plot2\n",
    "plt.scatter(X[:,1:],Y.T, label='Loaded from file!')\n",
    "plt.legend(bbox_to_anchor=(2, 1))\n",
    "plt.xlabel('waterflow')\n",
    "plt.ylabel('waterlevel')\n",
    "plt.title('regression in one varibel \\n by use of batch gradient descent ')\n",
    "\n",
    "#regression plot\n",
    "theta0_rounded=math.ceil(theta0*100)/100\n",
    "theta1_rounded=math.ceil(theta1*100)/100\n",
    "plt.plot(x,y, label='flow={theta0} + {theta1}*level'.format(theta0=theta0_rounded, theta1=theta1_rounded))\n",
    "plt.legend(bbox_to_anchor=(2, 1))  # location. damn that took time.\n",
    "plt.show()"
   ]
  },
  {
   "cell_type": "markdown",
   "metadata": {},
   "source": [
    "#### 2 Bias-variance"
   ]
  },
  {
   "cell_type": "code",
   "execution_count": 71,
   "metadata": {
    "collapsed": false
   },
   "outputs": [],
   "source": [
    "    \n",
    "        "
   ]
  },
  {
   "cell_type": "code",
   "execution_count": 190,
   "metadata": {
    "collapsed": false
   },
   "outputs": [],
   "source": [
    "def learning_curve2(theta_array, X,Y,Xval,Yval, l=0):\n",
    "    \n",
    "    #more inefficient but i ran into problems on the first\n",
    "    cost_lst=[]\n",
    "    cost_lst_val=[]\n",
    "    \n",
    "    cost=0\n",
    "    cost_val=0\n",
    "    \n",
    "    for i in range(1,len(X)+1):\n",
    "        \n",
    "    \n",
    "        theta_array_opti=gradient_descent(theta_array,X[0:i],Y[0:i], alpha=0.0002)\n",
    "        theta_array=theta_array_opti[0] #get rid of the gorilla holding the banana and keep the banana\n",
    "        \n",
    "        cost=cost_function_lin_reg(theta_array,X[0:i],Y[0:i],l)\n",
    "        cost_lst.append(cost)\n",
    "        \n",
    "        cost_val=cost_function_lin_reg(theta_array,Xval,Yval,l)\n",
    "        cost_lst_val.append(cost_val)\n",
    "        \n",
    "        \n",
    "        \n",
    "        \n",
    "        #import pdb;pdb.set_trace()\n",
    "        \n",
    "        \n",
    "    #for i in range(1,len(Xval)+1):\n",
    "        \n",
    "        #theta_array_opti_val=gradient_descent(theta_array,Xval[0:i],Yval[0:i],alpha=0.0002)\n",
    "        #theta_array_opti_val=theta_array_opti_val[0]\n",
    "        \n",
    "       \n",
    "        \n",
    "    return cost_lst,cost_lst_val    "
   ]
  },
  {
   "cell_type": "code",
   "execution_count": 191,
   "metadata": {
    "collapsed": false
   },
   "outputs": [
    {
     "name": "stdout",
     "output_type": "stream",
     "text": [
      "it took 93 iterations\n",
      "it took 21 iterations\n",
      "it took 8879 iterations\n",
      "it took 763 iterations\n",
      "it took 3962 iterations\n",
      "it took 9 iterations\n",
      "it took 11 iterations\n",
      "it took 10 iterations\n",
      "it took 5 iterations\n",
      "it took 15 iterations\n",
      "it took 11 iterations\n",
      "it took 5 iterations\n"
     ]
    }
   ],
   "source": [
    "cost_lst,cost_lst_val=learning_curve2(theta_array, X,Y,Xval,Yval, l=0)"
   ]
  },
  {
   "cell_type": "code",
   "execution_count": 193,
   "metadata": {
    "collapsed": false
   },
   "outputs": [
    {
     "data": {
      "text/plain": [
       "[167.339354552641,\n",
       " 156.64475994242352,\n",
       " 48.381342713776462,\n",
       " 56.325460105968595,\n",
       " 32.339864200852141,\n",
       " 33.325683856757863,\n",
       " 32.119647608861996,\n",
       " 31.150806376314726,\n",
       " 30.989165023212202,\n",
       " 29.19086259389546,\n",
       " 28.938457262722473,\n",
       " 28.88690995477134]"
      ]
     },
     "execution_count": 193,
     "metadata": {},
     "output_type": "execute_result"
    }
   ],
   "source": [
    "cost_lst_val"
   ]
  },
  {
   "cell_type": "code",
   "execution_count": 194,
   "metadata": {
    "collapsed": false
   },
   "outputs": [
    {
     "data": {
      "image/png": "[encoded data removed]",
      "text/plain": [
       "<matplotlib.figure.Figure at 0x1176a24a8>"
      ]
     },
     "metadata": {},
     "output_type": "display_data"
    }
   ],
   "source": [
    "plt.plot(range(12),cost_lst, label='trainingset')\n",
    "plt.plot(range(12),cost_lst_val[0:12], label='crossvalidation')\n",
    "plt.legend(bbox_to_anchor=(2, 1))  \n",
    "axes = plt.gca()\n",
    "#axes.set_xlim([xmin,xmax])\n",
    "axes.set_ylim([0,180])\n",
    "axes.set_xlim([0,12])\n",
    "plt.show()"
   ]
  },
  {
   "cell_type": "code",
   "execution_count": null,
   "metadata": {
    "collapsed": false
   },
   "outputs": [],
   "source": []
  },
  {
   "cell_type": "code",
   "execution_count": null,
   "metadata": {
    "collapsed": false
   },
   "outputs": [],
   "source": []
  },
  {
   "cell_type": "code",
   "execution_count": null,
   "metadata": {
    "collapsed": false
   },
   "outputs": [],
   "source": []
  },
  {
   "cell_type": "code",
   "execution_count": null,
   "metadata": {
    "collapsed": true
   },
   "outputs": [],
   "source": []
  }
 ],
 "metadata": {
  "anaconda-cloud": {},
  "kernelspec": {
   "display_name": "Python [conda root]",
   "language": "python",
   "name": "conda-root-py"
  },
  "language_info": {
   "codemirror_mode": {
    "name": "ipython",
    "version": 3
   },
   "file_extension": ".py",
   "mimetype": "text/x-python",
   "name": "python",
   "nbconvert_exporter": "python",
   "pygments_lexer": "ipython3",
   "version": "3.5.2"
  }
 },
 "nbformat": 4,
 "nbformat_minor": 1
}
