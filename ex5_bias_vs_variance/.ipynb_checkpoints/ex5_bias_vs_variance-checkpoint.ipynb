{
 "cells": [
  {
   "cell_type": "markdown",
   "metadata": {},
   "source": [
    "### Programming Exercise 5: Regularized Linear Regression and Bias v.s. Variance"
   ]
  },
  {
   "cell_type": "markdown",
   "metadata": {},
   "source": [
    "In the first half of the exercise, you will implement regularized linear regression\n",
    "to predict the amount of water flowing out of a dam using the change\n",
    "of water level in a reservoir."
   ]
  },
  {
   "cell_type": "code",
   "execution_count": 1,
   "metadata": {
    "collapsed": true
   },
   "outputs": [],
   "source": [
    "\n",
    "import numpy as np\n",
    "import matplotlib.pyplot as plt\n",
    "import pandas as pd\n",
    "import scipy.io \n",
    "import scipy.misc \n",
    "import matplotlib.cm as cm \n",
    "import random \n",
    "from scipy.special import expit as sigmoid\n",
    "#sigmoid will be vectorized"
   ]
  },
  {
   "cell_type": "code",
   "execution_count": 5,
   "metadata": {
    "collapsed": false
   },
   "outputs": [],
   "source": [
    "data = 'ex5data1.mat'\n",
    "mat = scipy.io.loadmat(data)\n",
    "\n",
    "X, Y,Xval,Yval,Xtest,Ytest= mat['X'], mat['y'],mat['Xval'],mat['yval'],mat['Xtest'],mat['ytest']\n",
    "\n",
    "Y=np.reshape(Y,12)"
   ]
  },
  {
   "cell_type": "markdown",
   "metadata": {},
   "source": [
    "#### 1.1 Visualizing the dataset"
   ]
  },
  {
   "cell_type": "code",
   "execution_count": 6,
   "metadata": {
    "collapsed": false
   },
   "outputs": [
    {
     "data": {
      "image/png": "[encoded data removed]",
      "text/plain": [
       "<matplotlib.figure.Figure at 0x114834940>"
      ]
     },
     "metadata": {},
     "output_type": "display_data"
    }
   ],
   "source": [
    "plt.scatter(X,Y.T, label='Loaded from file!')\n",
    "plt.title('imported without pandas \\nCheck it out')\n",
    "plt.legend(bbox_to_anchor=(2, 1))\n",
    "\n",
    "plt.show()"
   ]
  },
  {
   "cell_type": "code",
   "execution_count": 7,
   "metadata": {
    "collapsed": false
   },
   "outputs": [],
   "source": [
    "X =     np.insert(X    ,0,1,axis=1)\n",
    "Xval =  np.insert(Xval ,0,1,axis=1)\n",
    "Xtest = np.insert(Xtest,0,1,axis=1)"
   ]
  },
  {
   "cell_type": "markdown",
   "metadata": {},
   "source": [
    "#### 1.2 Regularized linear regression cost function"
   ]
  },
  {
   "cell_type": "code",
   "execution_count": 8,
   "metadata": {
    "collapsed": true
   },
   "outputs": [],
   "source": [
    "def cost_function_lin_reg(theta_array, X,Y,l=0):\n",
    "    m=len(Y)\n",
    "    \n",
    "    cost=(sum((np.dot(X,theta_array)-Y)**2)+l*np.dot(theta_array[1:],theta_array[1:].T))          /(m*2) \n",
    "\n",
    "    return cost"
   ]
  },
  {
   "cell_type": "code",
   "execution_count": 20,
   "metadata": {
    "collapsed": true
   },
   "outputs": [],
   "source": [
    "theta_array=np.array([1,1])"
   ]
  },
  {
   "cell_type": "code",
   "execution_count": 10,
   "metadata": {
    "collapsed": false
   },
   "outputs": [
    {
     "data": {
      "text/plain": [
       "303.99319222026429"
      ]
     },
     "execution_count": 10,
     "metadata": {},
     "output_type": "execute_result"
    }
   ],
   "source": [
    "cost_function_lin_reg(theta_array,X,Y,l=1)"
   ]
  },
  {
   "cell_type": "markdown",
   "metadata": {},
   "source": [
    "When you are finished, the next part of ex5.m will run your cost function\n",
    "using theta initialized at [1; 1]. You should expect to see an output of\n",
    "303.993."
   ]
  },
  {
   "cell_type": "markdown",
   "metadata": {},
   "source": [
    "#### 1.3 Regularized linear regression gradient"
   ]
  },
  {
   "cell_type": "code",
   "execution_count": 11,
   "metadata": {
    "collapsed": false
   },
   "outputs": [],
   "source": [
    "def gradient_function(theta_array,X,Y, l=0):\n",
    "\n",
    "    common_term_for_derivatives_list=[]\n",
    "    m=len(Y)\n",
    "    for i in range(0,len(Y)):\n",
    "        #X[i] i:th row of X\n",
    "        h_theta=np.dot(theta_array,X[i])\n",
    "\n",
    "        #do some work on the gradient\n",
    "        common_term_for_derivatives=(h_theta-Y[i])\n",
    "        common_term_for_derivatives_list.append(common_term_for_derivatives)\n",
    "        #\n",
    "\n",
    "    #gradient\n",
    "    gradient=[]\n",
    "    #datastructure change so that we can use dot prodcut\n",
    "    common_term_for_derivatives_array=np.array(common_term_for_derivatives_list)\n",
    "    #import pdb; pdb.set_trace()\n",
    "    for j in range(0, len(theta_array)):\n",
    "        #Note that you should not regularize the parameter theta_array[0]!! hence the if-else clausul below\n",
    "        if j==0:\n",
    "            derivative=np.dot(common_term_for_derivatives_array,X[:,j])/m\n",
    "            \n",
    "        else:\n",
    "            derivative=np.dot(common_term_for_derivatives_array,X[:,j])/m +(l/m)*theta_array[j]\n",
    "\n",
    "        gradient.append(derivative)\n",
    "\n",
    "    gradient=np.array(gradient)\n",
    "\n",
    "    return gradient"
   ]
  },
  {
   "cell_type": "code",
   "execution_count": 12,
   "metadata": {
    "collapsed": false
   },
   "outputs": [
    {
     "data": {
      "text/plain": [
       "array([ -15.30301567,  598.25074417])"
      ]
     },
     "execution_count": 12,
     "metadata": {},
     "output_type": "execute_result"
    }
   ],
   "source": [
    "gradient_function(theta_array,X,Y,l=1)"
   ]
  },
  {
   "cell_type": "markdown",
   "metadata": {},
   "source": [
    "will run your gradient function using theta initialized at [1; 1].\n",
    "You should expect to see a gradient of [-15.30; 598.250]."
   ]
  },
  {
   "cell_type": "markdown",
   "metadata": {},
   "source": [
    "#### 1.4 Fitting linear regression"
   ]
  },
  {
   "cell_type": "code",
   "execution_count": 28,
   "metadata": {
    "collapsed": false
   },
   "outputs": [],
   "source": [
    "theta_array=np.array([1,1], dtype=float)"
   ]
  },
  {
   "cell_type": "code",
   "execution_count": 29,
   "metadata": {
    "collapsed": false
   },
   "outputs": [],
   "source": [
    "def gradient_descent(theta_array, X, Y,alpha=0.01, treshold=0.01,l=0):\n",
    "\n",
    "        cost=cost_function_lin_reg(theta_array,X,Y,l)\n",
    "        gradient=gradient_function(theta_array,X,Y,l)\n",
    "        counter=0\n",
    "        cost_old=treshold+1\n",
    "        cost_list=[]\n",
    "        while abs(cost-cost_old)>treshold and counter <10000:\n",
    "        \n",
    "            counter=counter+1\n",
    "            cost_list.append(cost)\n",
    "            cost_old=cost\n",
    "            \n",
    "\n",
    "            gradient=gradient_function(theta_array,X,Y)\n",
    "            \n",
    "            for i in range(0, len(gradient)):\n",
    "                #import pdb; pdb.set_trace()\n",
    "                theta_array[i]=theta_array[i]-alpha*gradient[i]\n",
    "            \n",
    "            cost=cost_function_lin_reg(theta_array, X, Y)\n",
    "        print('it took {counter} iterations'.format(counter=counter))\n",
    "\n",
    "        return theta_array, cost, cost_list "
   ]
  },
  {
   "cell_type": "code",
   "execution_count": 30,
   "metadata": {
    "collapsed": false
   },
   "outputs": [
    {
     "name": "stdout",
     "output_type": "stream",
     "text": [
      "it took 855 iterations\n"
     ]
    }
   ],
   "source": [
    "theta_array_opti,cost,cost_list=gradient_descent(theta_array,X,Y, alpha=0.002)"
   ]
  },
  {
   "cell_type": "code",
   "execution_count": 31,
   "metadata": {
    "collapsed": false
   },
   "outputs": [
    {
     "data": {
      "text/plain": [
       "array([ 10.78907363,   0.35399218])"
      ]
     },
     "execution_count": 31,
     "metadata": {},
     "output_type": "execute_result"
    }
   ],
   "source": [
    "theta_array_opti"
   ]
  },
  {
   "cell_type": "code",
   "execution_count": 32,
   "metadata": {
    "collapsed": false
   },
   "outputs": [
    {
     "data": {
      "text/plain": [
       "24.935719055808605"
      ]
     },
     "execution_count": 32,
     "metadata": {},
     "output_type": "execute_result"
    }
   ],
   "source": [
    "cost"
   ]
  },
  {
   "cell_type": "code",
   "execution_count": 35,
   "metadata": {
    "collapsed": false
   },
   "outputs": [
    {
     "data": {
      "image/png": "[encoded data removed]",
      "text/plain": [
       "<matplotlib.figure.Figure at 0x11768e7f0>"
      ]
     },
     "metadata": {},
     "output_type": "display_data"
    }
   ],
   "source": [
    "theta0=theta_array_opti[0]\n",
    "theta1=theta_array_opti[1]\n",
    "import math\n",
    "x=range(-50, 50)\n",
    "y=[]\n",
    "for i in x:\n",
    "    y.append(theta0+theta1*i)\n",
    "\n",
    "#similiar code to plot2\n",
    "plt.scatter(X[:,1:],Y.T, label='Loaded from file!')\n",
    "plt.legend(bbox_to_anchor=(2, 1))\n",
    "plt.xlabel('population')\n",
    "plt.ylabel('profit')\n",
    "plt.title('regression in one varibel \\n by use of batch gradient descent ')\n",
    "\n",
    "#regression plot\n",
    "theta0_rounded=math.ceil(theta0*100)/100\n",
    "theta1_rounded=math.ceil(theta1*100)/100\n",
    "plt.plot(x,y, label='profit(pop)={theta0} + {theta1}*pop'.format(theta0=theta0_rounded, theta1=theta1_rounded))\n",
    "plt.legend(bbox_to_anchor=(2, 1))  # location. damn that took time.\n",
    "plt.show()"
   ]
  },
  {
   "cell_type": "code",
   "execution_count": null,
   "metadata": {
    "collapsed": true
   },
   "outputs": [],
   "source": []
  }
 ],
 "metadata": {
  "anaconda-cloud": {},
  "kernelspec": {
   "display_name": "Python [conda root]",
   "language": "python",
   "name": "conda-root-py"
  }
 },
 "nbformat": 4,
 "nbformat_minor": 1
}
